{
 "cells": [
  {
   "cell_type": "code",
   "execution_count": 1,
   "metadata": {},
   "outputs": [
    {
     "ename": "ArgumentError",
     "evalue": "ArgumentError: Package DecisionProgramming not found in current path.\n- Run `import Pkg; Pkg.add(\"DecisionProgramming\")` to install the DecisionProgramming package.",
     "output_type": "error",
     "traceback": [
      "ArgumentError: Package DecisionProgramming not found in current path.\n",
      "- Run `import Pkg; Pkg.add(\"DecisionProgramming\")` to install the DecisionProgramming package.\n",
      "\n",
      "Stacktrace:\n",
      "  [1] macro expansion\n",
      "    @ ./loading.jl:1595 [inlined]\n",
      "  [2] macro expansion\n",
      "    @ ./lock.jl:267 [inlined]\n",
      "  [3] require(into::Module, mod::Symbol)\n",
      "    @ Base ./loading.jl:1576\n",
      "  [4] eval\n",
      "    @ ./boot.jl:370 [inlined]\n",
      "  [5] include_string(mapexpr::typeof(REPL.softscope), mod::Module, code::String, filename::String)\n",
      "    @ Base ./loading.jl:1864\n",
      "  [6] #invokelatest#2\n",
      "    @ ./essentials.jl:816 [inlined]\n",
      "  [7] invokelatest\n",
      "    @ ./essentials.jl:813 [inlined]\n",
      "  [8] (::VSCodeServer.var\"#198#199\"{VSCodeServer.NotebookRunCellArguments, String})()\n",
      "    @ VSCodeServer ~/.vscode/extensions/julialang.language-julia-1.47.2/scripts/packages/VSCodeServer/src/serve_notebook.jl:19\n",
      "  [9] withpath(f::VSCodeServer.var\"#198#199\"{VSCodeServer.NotebookRunCellArguments, String}, path::String)\n",
      "    @ VSCodeServer ~/.vscode/extensions/julialang.language-julia-1.47.2/scripts/packages/VSCodeServer/src/repl.jl:249\n",
      " [10] notebook_runcell_request(conn::VSCodeServer.JSONRPC.JSONRPCEndpoint{Base.PipeEndpoint, Base.PipeEndpoint}, params::VSCodeServer.NotebookRunCellArguments)\n",
      "    @ VSCodeServer ~/.vscode/extensions/julialang.language-julia-1.47.2/scripts/packages/VSCodeServer/src/serve_notebook.jl:13\n",
      " [11] dispatch_msg(x::VSCodeServer.JSONRPC.JSONRPCEndpoint{Base.PipeEndpoint, Base.PipeEndpoint}, dispatcher::VSCodeServer.JSONRPC.MsgDispatcher, msg::Dict{String, Any})\n",
      "    @ VSCodeServer.JSONRPC ~/.vscode/extensions/julialang.language-julia-1.47.2/scripts/packages/JSONRPC/src/typed.jl:67\n",
      " [12] serve_notebook(pipename::String, outputchannel_logger::Base.CoreLogging.SimpleLogger; crashreporting_pipename::String)\n",
      "    @ VSCodeServer ~/.vscode/extensions/julialang.language-julia-1.47.2/scripts/packages/VSCodeServer/src/serve_notebook.jl:139\n",
      " [13] top-level scope\n",
      "    @ ~/.vscode/extensions/julialang.language-julia-1.47.2/scripts/notebook/notebook.jl:32"
     ]
    }
   ],
   "source": [
    "using JuMP\n",
    "using DecisionProgramming"
   ]
  },
  {
   "cell_type": "code",
   "execution_count": 2,
   "metadata": {},
   "outputs": [
    {
     "ename": "UndefVarError",
     "evalue": "UndefVarError: `InfluenceDiagram` not defined",
     "output_type": "error",
     "traceback": [
      "UndefVarError: `InfluenceDiagram` not defined\n",
      "\n",
      "Stacktrace:\n",
      " [1] top-level scope\n",
      "   @ ~/Dropbox (Aalto)/Aalto/Courses/Optimisation under Uncertainty/WOI_UFSCar2023/notebooks/lecture_4/pig-farm.ipynb:2"
     ]
    }
   ],
   "source": [
    "N = 4\n",
    "diagram = InfluenceDiagram()\n",
    "\n",
    "add_node!(diagram, ChanceNode(\"h1\", [], [\"ill\", \"healthy\"])) # creates initial health state with no information state\n",
    "\n",
    "for i in 1:N-1\n",
    "    add_node!(diagram, ChanceNode(\"t$i\", [\"h$i\"], [\"positive\", \"negative\"])) # test result\n",
    "    add_node!(diagram, DecisionNode(\"d$i\", [\"t$i\"], [\"treat\", \"not treat\"])) # treatment decision\n",
    "    add_node!(diagram, ValueNode(\"u$i\", [\"d$i\"])) # test cost\n",
    "    add_node!(diagram, ChanceNode(\"h$(i+1)\", [\"h$i\", \"d$i\"], [\"ill\", \"healthy\"])) # health state in next period\n",
    "end \n",
    "\n",
    "add_node!(diagram, ValueNode(\"u$N\", [\"h$N\"])) # value node with market value\n",
    "\n",
    "generate_arcs!(diagram)\n",
    "\n",
    "diagram"
   ]
  },
  {
   "cell_type": "code",
   "execution_count": 3,
   "metadata": {},
   "outputs": [
    {
     "ename": "UndefVarError",
     "evalue": "UndefVarError: `diagram` not defined",
     "output_type": "error",
     "traceback": [
      "UndefVarError: `diagram` not defined\n",
      "\n",
      "Stacktrace:\n",
      " [1] top-level scope\n",
      "   @ ~/Dropbox (Aalto)/Aalto/Courses/Optimisation under Uncertainty/WOI_UFSCar2023/notebooks/lecture_4/pig-farm.ipynb:1"
     ]
    }
   ],
   "source": [
    "add_probabilities!(diagram, \"h1\", [0.1, 0.9]) # initial health state probability\n",
    "\n",
    "# probablity matrix specifying health conditions given previous health and treatment decision\n",
    "X_h = ProbabilityMatrix(diagram, \"h2\")\n",
    "X_h[\"healthy\", \"not treat\", :] = [0.2, 0.8]\n",
    "X_h[\"healthy\", \"treat\", :] = [0.1, 0.9]\n",
    "X_h[\"ill\", \"not treat\", :] = [0.9, 0.1]\n",
    "X_h[\"ill\", \"treat\", :] = [0.5, 0.5]\n",
    "\n",
    "X_h"
   ]
  },
  {
   "cell_type": "code",
   "execution_count": 4,
   "metadata": {},
   "outputs": [
    {
     "ename": "UndefVarError",
     "evalue": "UndefVarError: `ProbabilityMatrix` not defined",
     "output_type": "error",
     "traceback": [
      "UndefVarError: `ProbabilityMatrix` not defined\n",
      "\n",
      "Stacktrace:\n",
      " [1] top-level scope\n",
      "   @ ~/Dropbox (Aalto)/Aalto/Courses/Optimisation under Uncertainty/WOI_UFSCar2023/notebooks/lecture_4/pig-farm.ipynb:1"
     ]
    }
   ],
   "source": [
    "X_t = ProbabilityMatrix(diagram, \"t1\")\n",
    "X_t[\"ill\", \"positive\"] = 0.8\n",
    "X_t[\"ill\", \"negative\"] = 0.2\n",
    "X_t[\"healthy\", \"negative\"] = 0.9\n",
    "X_t[\"healthy\", \"positive\"] = 0.1\n",
    "\n",
    "X_t"
   ]
  },
  {
   "cell_type": "code",
   "execution_count": 5,
   "metadata": {},
   "outputs": [
    {
     "ename": "UndefVarError",
     "evalue": "UndefVarError: `diagram` not defined",
     "output_type": "error",
     "traceback": [
      "UndefVarError: `diagram` not defined\n",
      "\n",
      "Stacktrace:\n",
      " [1] top-level scope\n",
      "   @ ~/Dropbox (Aalto)/Aalto/Courses/Optimisation under Uncertainty/WOI_UFSCar2023/notebooks/lecture_4/pig-farm.ipynb:2"
     ]
    }
   ],
   "source": [
    "for i in 1:N-1\n",
    "    add_probabilities!(diagram, \"t$i\", X_t)\n",
    "    add_probabilities!(diagram, \"h$(i+1)\", X_h)\n",
    "end"
   ]
  },
  {
   "cell_type": "code",
   "execution_count": 6,
   "metadata": {},
   "outputs": [
    {
     "ename": "UndefVarError",
     "evalue": "UndefVarError: `diagram` not defined",
     "output_type": "error",
     "traceback": [
      "UndefVarError: `diagram` not defined\n",
      "\n",
      "Stacktrace:\n",
      " [1] top-level scope\n",
      "   @ ~/Dropbox (Aalto)/Aalto/Courses/Optimisation under Uncertainty/WOI_UFSCar2023/notebooks/lecture_4/pig-farm.ipynb:2"
     ]
    }
   ],
   "source": [
    "for i in 1:N-1\n",
    "    add_utilities!(diagram, \"u$i\", [-100.0, 0.0])\n",
    "end\n",
    "\n",
    "add_utilities!(diagram, \"u$N\", [300.0, 1000.0]);"
   ]
  },
  {
   "cell_type": "code",
   "execution_count": 7,
   "metadata": {},
   "outputs": [
    {
     "ename": "UndefVarError",
     "evalue": "UndefVarError: `generate_diagram!` not defined",
     "output_type": "error",
     "traceback": [
      "UndefVarError: `generate_diagram!` not defined\n",
      "\n",
      "Stacktrace:\n",
      " [1] top-level scope\n",
      "   @ ~/Dropbox (Aalto)/Aalto/Courses/Optimisation under Uncertainty/WOI_UFSCar2023/notebooks/lecture_4/pig-farm.ipynb:1"
     ]
    }
   ],
   "source": [
    "generate_diagram!(diagram, positive_path_utility=true);"
   ]
  },
  {
   "cell_type": "code",
   "execution_count": 8,
   "metadata": {},
   "outputs": [
    {
     "ename": "ArgumentError",
     "evalue": "ArgumentError: Package Cbc not found in current path.\n- Run `import Pkg; Pkg.add(\"Cbc\")` to install the Cbc package.",
     "output_type": "error",
     "traceback": [
      "ArgumentError: Package Cbc not found in current path.\n",
      "- Run `import Pkg; Pkg.add(\"Cbc\")` to install the Cbc package.\n",
      "\n",
      "Stacktrace:\n",
      "  [1] macro expansion\n",
      "    @ ./loading.jl:1595 [inlined]\n",
      "  [2] macro expansion\n",
      "    @ ./lock.jl:267 [inlined]\n",
      "  [3] require(into::Module, mod::Symbol)\n",
      "    @ Base ./loading.jl:1576\n",
      "  [4] eval\n",
      "    @ ./boot.jl:370 [inlined]\n",
      "  [5] include_string(mapexpr::typeof(REPL.softscope), mod::Module, code::String, filename::String)\n",
      "    @ Base ./loading.jl:1864\n",
      "  [6] #invokelatest#2\n",
      "    @ ./essentials.jl:816 [inlined]\n",
      "  [7] invokelatest\n",
      "    @ ./essentials.jl:813 [inlined]\n",
      "  [8] (::VSCodeServer.var\"#198#199\"{VSCodeServer.NotebookRunCellArguments, String})()\n",
      "    @ VSCodeServer ~/.vscode/extensions/julialang.language-julia-1.47.2/scripts/packages/VSCodeServer/src/serve_notebook.jl:19\n",
      "  [9] withpath(f::VSCodeServer.var\"#198#199\"{VSCodeServer.NotebookRunCellArguments, String}, path::String)\n",
      "    @ VSCodeServer ~/.vscode/extensions/julialang.language-julia-1.47.2/scripts/packages/VSCodeServer/src/repl.jl:249\n",
      " [10] notebook_runcell_request(conn::VSCodeServer.JSONRPC.JSONRPCEndpoint{Base.PipeEndpoint, Base.PipeEndpoint}, params::VSCodeServer.NotebookRunCellArguments)\n",
      "    @ VSCodeServer ~/.vscode/extensions/julialang.language-julia-1.47.2/scripts/packages/VSCodeServer/src/serve_notebook.jl:13\n",
      " [11] dispatch_msg(x::VSCodeServer.JSONRPC.JSONRPCEndpoint{Base.PipeEndpoint, Base.PipeEndpoint}, dispatcher::VSCodeServer.JSONRPC.MsgDispatcher, msg::Dict{String, Any})\n",
      "    @ VSCodeServer.JSONRPC ~/.vscode/extensions/julialang.language-julia-1.47.2/scripts/packages/JSONRPC/src/typed.jl:67\n",
      " [12] serve_notebook(pipename::String, outputchannel_logger::Base.CoreLogging.SimpleLogger; crashreporting_pipename::String)\n",
      "    @ VSCodeServer ~/.vscode/extensions/julialang.language-julia-1.47.2/scripts/packages/VSCodeServer/src/serve_notebook.jl:139\n",
      " [13] top-level scope\n",
      "    @ ~/.vscode/extensions/julialang.language-julia-1.47.2/scripts/notebook/notebook.jl:32"
     ]
    }
   ],
   "source": [
    "using Cbc\n",
    "using Gurobi\n",
    "using HiGHS\n",
    "\n",
    "SOLVER = Gurobi\n",
    "\n",
    "model = Model(SOLVER.Optimizer)\n",
    "\n",
    "z = DecisionVariables(model, diagram)\n",
    "x_s = PathCompatibilityVariables(model, diagram, z, probability_cut = false)\n",
    "\n",
    "expected_profit = expected_value(model, diagram, x_s)\n",
    "@objective(model, Max, expected_profit)\n",
    "\n",
    "model"
   ]
  },
  {
   "cell_type": "code",
   "execution_count": 9,
   "metadata": {},
   "outputs": [
    {
     "ename": "UndefVarError",
     "evalue": "UndefVarError: `model` not defined",
     "output_type": "error",
     "traceback": [
      "UndefVarError: `model` not defined\n",
      "\n",
      "Stacktrace:\n",
      " [1] top-level scope\n",
      "   @ ~/Dropbox (Aalto)/Aalto/Courses/Optimisation under Uncertainty/WOI_UFSCar2023/notebooks/lecture_4/pig-farm.ipynb:1"
     ]
    }
   ],
   "source": [
    "optimize!(model)"
   ]
  },
  {
   "cell_type": "code",
   "execution_count": 10,
   "metadata": {},
   "outputs": [
    {
     "ename": "UndefVarError",
     "evalue": "UndefVarError: `DecisionStrategy` not defined",
     "output_type": "error",
     "traceback": [
      "UndefVarError: `DecisionStrategy` not defined\n",
      "\n",
      "Stacktrace:\n",
      " [1] top-level scope\n",
      "   @ ~/Dropbox (Aalto)/Aalto/Courses/Optimisation under Uncertainty/WOI_UFSCar2023/notebooks/lecture_4/pig-farm.ipynb:2"
     ]
    }
   ],
   "source": [
    "# Retriving solution elements\n",
    "Z = DecisionStrategy(z)\n",
    "S_probabilities = StateProbabilities(diagram, Z)\n",
    "U_distribution = UtilityDistribution(diagram, Z);\n",
    "\n",
    "print_decision_strategy(diagram, Z, S_probabilities)"
   ]
  },
  {
   "cell_type": "code",
   "execution_count": 11,
   "metadata": {},
   "outputs": [
    {
     "ename": "UndefVarError",
     "evalue": "UndefVarError: `print_utility_distribution` not defined",
     "output_type": "error",
     "traceback": [
      "UndefVarError: `print_utility_distribution` not defined\n",
      "\n",
      "Stacktrace:\n",
      " [1] top-level scope\n",
      "   @ ~/Dropbox (Aalto)/Aalto/Courses/Optimisation under Uncertainty/WOI_UFSCar2023/notebooks/lecture_4/pig-farm.ipynb:1"
     ]
    }
   ],
   "source": [
    "print_utility_distribution(U_distribution)\n",
    "print_statistics(U_distribution)"
   ]
  },
  {
   "cell_type": "code",
   "execution_count": 12,
   "metadata": {},
   "outputs": [
    {
     "ename": "UndefVarError",
     "evalue": "UndefVarError: `U_distribution` not defined",
     "output_type": "error",
     "traceback": [
      "UndefVarError: `U_distribution` not defined\n",
      "\n",
      "Stacktrace:\n",
      " [1] top-level scope\n",
      "   @ ~/Dropbox (Aalto)/Aalto/Courses/Optimisation under Uncertainty/WOI_UFSCar2023/notebooks/lecture_4/pig-farm.ipynb:2"
     ]
    }
   ],
   "source": [
    "using Plots\n",
    "p_cumulative = [sum(U_distribution.p[1:i]) for i = 1:length(U_distribution.p)]\n",
    "scatter(U_distribution.u, p_cumulative,\n",
    "    label = false,\n",
    "    xaxis = (\"Market value\", 0:100:1000),\n",
    "    yaxis = (\"Probability\", 0.0:0.1:1.0),\n",
    "    title = \"Revenue curve\" \n",
    "    )\n"
   ]
  }
 ],
 "metadata": {
  "kernelspec": {
   "display_name": "Julia 1.9.0",
   "language": "julia",
   "name": "julia-1.9"
  },
  "language_info": {
   "file_extension": ".jl",
   "mimetype": "application/julia",
   "name": "julia",
   "version": "1.9.0"
  },
  "orig_nbformat": 4
 },
 "nbformat": 4,
 "nbformat_minor": 2
}
