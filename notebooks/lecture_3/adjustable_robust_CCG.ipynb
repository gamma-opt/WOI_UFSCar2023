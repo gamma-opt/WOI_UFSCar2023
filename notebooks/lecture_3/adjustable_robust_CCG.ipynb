{
 "cells": [
  {
   "cell_type": "code",
   "execution_count": 10,
   "metadata": {},
   "outputs": [
    {
     "name": "stdout",
     "output_type": "stream",
     "text": [
      "Set parameter Username\n",
      "Academic license - for non-commercial use only - expires 2023-10-03\n"
     ]
    },
    {
     "name": "stderr",
     "output_type": "stream",
     "text": [
      "WARNING: redefinition of constant GRB_ENV. This may fail, cause incorrect answers, or produce other errors.\n"
     ]
    },
    {
     "data": {
      "text/plain": [
       "TaskLocalRNG()"
      ]
     },
     "metadata": {},
     "output_type": "display_data"
    }
   ],
   "source": [
    "using Gurobi\n",
    "const GRB_ENV = Gurobi.Env()\n",
    "myGurobi = ()->Gurobi.Optimizer(GRB_ENV)\n",
    "using JuMP\n",
    "using BilevelJuMP\n",
    "using Plots\n",
    "using LinearAlgebra\n",
    "using Random\n",
    "Random.seed!(1234)"
   ]
  },
  {
   "cell_type": "markdown",
   "metadata": {},
   "source": [
    "# Example 5 - Adaptive robust and column-and-constraint generation\n",
    "\n",
    "We now consider a version of the location allocation problem were we are placing supply points under demand uncertainty, whilst also defining its capacity.\n",
    "\n",
    "Let:\n",
    "\n",
    "- $x_{i}$: 1 if facility is located at $i \\in I$, 0 otherwise.\n",
    "- $y_{i}$: capacity allocated for facility $i \\in I$\n",
    "- $w_{k,j,s}$: flow between facility $i \\in I$ and client $j \\in J$ in scenario $s \\in S$\n",
    "- $z_{j,s}$: shortage in location $j \\in J$ in scenario $s \\in S$\n",
    "- $N$: maximum number of servers\n",
    "- $O_i$: cost of locating facility at $i \\in I$\n",
    "- $V_i$: unit capacity cost for the facility located at $i \\in I$\n",
    "- $T_{i,j}$: unti transportation cost from $i \\in I$ to $j \\in J$\n",
    "- $U$: unmet demand penalty cost\n",
    "- $D_{j,s}$: demand at client $j \\in J$, in scenario $s \\in S$\n",
    "\n",
    "The problem can be stated as follows:\n",
    "\n",
    "\\begin{align*}\n",
    "    \\min~&  \\sum_{i \\in I} (O_{i}x_i + V_iy_i) + \\sum_{s}P_s\\left(\\sum_{i \\in I, j \\in J} T_{i,j}w_{i,j,s} + \\sum_{j \\in J} U z_{j,s}\\right) \\\\\n",
    "    \\text{s.t.:~} &\\sum_{i \\in I} x_i \\le N \\\\\n",
    "    & \\sum_{j \\in J} w_{i,j,s}  \\le y_i, \\ \\forall i \\in I, s \\in S \\\\\n",
    "    & \\sum_{j \\in J} w_{i,j,s}  \\le Mx_i, \\ \\forall i \\in I, s \\in S \\\\\n",
    "    & \\sum_{j \\in J} w_{i,j,s}  \\ge D_{j,s} - z_{j,s}, \\ \\forall j \\in J, s \\in S \\\\\n",
    "    & x_i \\in \\{0,1\\}, \\ \\forall i \\in I \\\\\n",
    "    & z_{j,s} \\ge 0, \\ \\forall j \\in J, s \\in S \\\\\n",
    "    & w_{i,j,s} \\ge 0, \\ \\forall i \\in I, j \\in J, s \\in S.  \n",
    "\\end{align*}\n"
   ]
  },
  {
   "cell_type": "markdown",
   "metadata": {},
   "source": [
    "Once again, let us first define some auxiliary functions that we need for generating instances."
   ]
  },
  {
   "cell_type": "code",
   "execution_count": 11,
   "metadata": {},
   "outputs": [],
   "source": [
    "struct Instance\n",
    "    # sets\n",
    "    I  # Set of facilities\n",
    "    J  # Set of clients\n",
    "    S  # Set of scenarios\n",
    "    # Parameters \n",
    "    N  # Maximum number of facilities\n",
    "    P  # Probabilities of scenarios s ∈ S \n",
    "    O  # Cost of opening facility at i ∈ I\n",
    "    V  # Variable capacity cost  \n",
    "    U  # Cost of unmet demand at j ∈ J\n",
    "    T  # Transportation cost from i ∈ I to j ∈ J\n",
    "    D  # Demand in location j ∈ J\n",
    "    bigM  # BigM for capacity constraint\n",
    "    D_average   # average demand\n",
    "    D_deviation # max deviation\n",
    "    loc_i # Coordinates of facilities i ∈ I\n",
    "    loc_j # Coordinates of clients j ∈ J\n",
    "end\n",
    "\n",
    "#=\n",
    "generate_instance(TotalServers, TotalClients, TotalScenarios):\n",
    "- inputs:\n",
    "    1. TotalServers: cardinality of set I\n",
    "    2. TotalClients: cardinality of set J\n",
    "    3. TotalScenarios: cardinality of set S\n",
    "-outputs\n",
    "    1. Instance: an instance for the problem (::Instance)\n",
    "=#\n",
    "function generate_instance(TotalServers, TotalClients, TotalScenarios)\n",
    "    I = 1:TotalServers\n",
    "    J = 1:TotalClients\n",
    "    S = 1:TotalScenarios\n",
    "\n",
    "    # Parameters\n",
    "    N = ceil(0.5 * TotalServers)           # Half (rounded up) of all servers can be used\n",
    "    P = [1/TotalScenarios for s in S]      # All scenarios have equal probability\n",
    "    O = [rand(40:80) for i in I]           # Fixed cost for locating facility\n",
    "    V = [rand(1:10) for i in I]            # Variable capacity cost   \n",
    "    U = 500                                # High cost for unmet demand\n",
    "    loc_i = [(rand(), rand()) for i in I]  # Random 2D-coordinates for clients (coordinates are represented by a tuple)\n",
    "    loc_j = [(rand(), rand()) for j in J]  # Random 2D-coordinates for servers\n",
    "    \n",
    "    # The transportation cost is the Euclidean distance between the server i and client j\n",
    "    T = ceil.(10 .* [sqrt((loc_i[i][1]-loc_j[j][1])^2+(loc_i[i][2]-loc_j[j][2])^2) for i in I, j in J])\n",
    "    \n",
    "    D_average = [rand(10:50) for j in J]   # Random demand average for each client           \n",
    "    D_deviation = [Int(ceil(0.5 * D_average[j])) for j in J]\n",
    "    D = [max(ceil(D_average[j] + rand(-D_deviation[j]:D_deviation[j])), 0) for j in J, s in S] # Random demand deviation per scenario\n",
    "    max_D, index = findmax(D, dims=2)  # finds maximum among columns\n",
    "    bigM = sum(max_D)                  # capacity big M\n",
    "    \n",
    "    return Instance(I, J, S, N, P, O, V, U, T, D, bigM, D_average, D_deviation, loc_i, loc_j)\n",
    "end  \n",
    "\n",
    "#=\n",
    "unroll_instance(instance::Instance):\n",
    "- inputs:\n",
    "    1. Instance: an instance\n",
    "-output:\n",
    "    1. I: set I\n",
    "    2. J: set J\n",
    "    3. S: set S\n",
    "    4. N: max servers\n",
    "    5. P: Probabilities\n",
    "    6. O: Location cost\n",
    "    7. V: Capacity cost\n",
    "    8. U: Unmet demand cost\n",
    "    9. T: Transportation cost\n",
    "    10 D: Demand\n",
    "    11. bigM: bigM value\n",
    "    12. D_average: average demand value used in uncertainty set \n",
    "    13. D_deviation: deviation used in the uncertainty set    \n",
    "=#\n",
    "function unroll_instance(instance::Instance)\n",
    "    I = instance.I \n",
    "    J = instance.J\n",
    "    S = instance.S\n",
    "    N = instance.N\n",
    "    P = instance.P\n",
    "    O = instance.O\n",
    "    V = instance.V\n",
    "    U = instance.U\n",
    "    T = instance.T\n",
    "    D = instance.D\n",
    "    bigM = instance.bigM\n",
    "    D_average = instance.D_average\n",
    "    D_deviation = instance.D_deviation\n",
    "\n",
    "    return I, J, S, N, P, O, V, U, T, D, bigM, D_average, D_deviation\n",
    "end;"
   ]
  },
  {
   "cell_type": "markdown",
   "metadata": {},
   "source": [
    "Let us generate an instance we can solve rather instantaneously. We consider 5 candidate locations, 20 clients and 50 scenarios."
   ]
  },
  {
   "cell_type": "code",
   "execution_count": 12,
   "metadata": {},
   "outputs": [],
   "source": [
    "TotalFacilities = 10\n",
    "TotalClients = 20\n",
    "TotalScenarios = 50\n",
    "\n",
    "# Solving the full space problem for reference\n",
    "instance = generate_instance(TotalFacilities, TotalClients, TotalScenarios);"
   ]
  },
  {
   "cell_type": "markdown",
   "metadata": {},
   "source": [
    "Below we define the functions to genereta the model. We generate the common structure first and then use two otehr functions to add the 2SSP and minimax structures"
   ]
  },
  {
   "cell_type": "code",
   "execution_count": 13,
   "metadata": {},
   "outputs": [
    {
     "data": {
      "text/plain": [
       "generate_full_problem_body (generic function with 1 method)"
      ]
     },
     "metadata": {},
     "output_type": "display_data"
    }
   ],
   "source": [
    "#=\n",
    "generate_full_problem_body(instance::Instance):\n",
    "- inputs\n",
    "    1. instance: problem instance (::Instance)\n",
    "-outputs\n",
    "    1. JuMP model with common structure (::JuMPModel)\n",
    "=#\n",
    "function generate_full_problem_body(instance::Instance)\n",
    "    \n",
    "    I, J, S, N, P, O, V, U, T, D, bigM = unroll_instance(instance)\n",
    "\n",
    "    # Initialize model\n",
    "    m = Model(myGurobi)\n",
    "    set_silent(m)\n",
    "    \n",
    "    # Decision variables\n",
    "    @variable(m, x[I], Bin)     # 1 if facility is located at i ∈ I, 0 otherwise.\n",
    "    @variable(m, y[I] >= 0)     # Capacity decided for facility i ∈ I\n",
    "    @variable(m, w[I,J,S] >= 0) # Flow between facility i ∈ I and client j ∈ J in scenario s ∈ S\n",
    "    @variable(m, z[J,S] >= 0)   # Shortage in location j ∈ J in scenario s ∈ S\n",
    "\n",
    "    # Constraints\n",
    "    # Maximum number of servers\n",
    "    @constraint(m, numServers,\n",
    "        sum(x[i] for i in I) <= N\n",
    "    )\n",
    "    \n",
    "    # Capacity limits: cannot deliver more than capacity decided, \n",
    "    #   and only if facility was located\n",
    "    @constraint(m, capBal[i in I, s in S],\n",
    "        sum(w[i,j,s] for j in J) <=  y[i]\n",
    "    )\n",
    "\n",
    "    @constraint(m, capLoc[i in I, s in S], \n",
    "        sum(w[i,j,s] for j in J) <= x[i] * bigM\n",
    "    )\n",
    "    \n",
    "    # Demand balance: Demand of active clients must be fulfilled\n",
    "    @constraint(m, demBal[j in J, s in S],\n",
    "        sum(w[i,j,s] for i in I) >= D[j,s] - z[j,s]\n",
    "    )\n",
    "    \n",
    "    return m  # Return the generated model\n",
    "end"
   ]
  },
  {
   "cell_type": "markdown",
   "metadata": {},
   "source": [
    "The distinct structures are essentially modifications in the objective function, with respective additional variable for the minimax model"
   ]
  },
  {
   "cell_type": "code",
   "execution_count": 14,
   "metadata": {},
   "outputs": [
    {
     "data": {
      "text/plain": [
       "generate_minimax! (generic function with 1 method)"
      ]
     },
     "metadata": {},
     "output_type": "display_data"
    }
   ],
   "source": [
    "#=\n",
    "generate_2SSP_model!(instance, m):\n",
    "- inputs\n",
    "    1. instance: problem instance (::Instance) \n",
    "    2. m: JuMP model with common structure generated\n",
    "- outputs\n",
    "    1. m: model augmented with 2SSP structure\n",
    "=#\n",
    "function generate_2SSP_model!(instance, m)\n",
    "    I, J, S, N, P, O, V, U, T, D, bigM = unroll_instance(instance)\n",
    "    x = m[:x]\n",
    "    y = m[:y]\n",
    "    w = m[:w]\n",
    "    z = m[:z]\n",
    "\n",
    "    # The two-stage objective function\n",
    "    FirstStage = @expression(m, \n",
    "        sum(O[i] * x[i] + V[i] * y[i] for i in I) \n",
    "    )\n",
    "\n",
    "    SecondStage = @expression(m, \n",
    "        sum(P[s] * (\n",
    "                sum(T[i,j] * w[i,j,s] for i in I, j in J)\n",
    "                + sum(U * z[j,s] for j in J)) \n",
    "        for s in S)\n",
    "    )\n",
    "    \n",
    "    @objective(m, Min, FirstStage + SecondStage)\n",
    "\n",
    "    return m\n",
    "end\n",
    "\n",
    "#=\n",
    "generate_minimax!(instance, m):\n",
    "- inputs\n",
    "    1. instance: problem instance (::Instance) \n",
    "    2. m: JuMP model with common structure generated\n",
    "- outputs\n",
    "    1. m: model augmented with minimax structure\n",
    "=#\n",
    "function generate_minimax!(instance, m)\n",
    "    I, J, S, N, P, O, V, U, T, D, bigM = unroll_instance(instance)\n",
    "    x = m[:x]\n",
    "    y = m[:y]\n",
    "    w = m[:w]\n",
    "    z = m[:z]\n",
    "    \n",
    "    @variable(m, θ >= 0)\n",
    "\n",
    "    FirstStage = @expression(m, \n",
    "        sum(O[i] * x[i] + V[i] * y[i] for i in I) \n",
    "    )\n",
    "\n",
    "    @constraint(m, Minimax[s in S], \n",
    "        θ >= sum(T[i,j] * w[i,j,s] for i in I, j in J) + sum(U * z[j,s] for j in J)\n",
    "    )   \n",
    "\n",
    "    @objective(m, Min, FirstStage + θ)\n",
    "\n",
    "    return m\n",
    "end"
   ]
  },
  {
   "cell_type": "markdown",
   "metadata": {},
   "source": [
    "We can now solve both and compare their solutions."
   ]
  },
  {
   "cell_type": "code",
   "execution_count": 15,
   "metadata": {},
   "outputs": [],
   "source": [
    "# Solving 2SSP\n",
    "model1 = generate_full_problem_body(instance)\n",
    "expected_value_model = generate_2SSP_model!(instance, model1)\n",
    "optimize!(expected_value_model)\n",
    "\n",
    "# Solving the minimax\n",
    "model2 = generate_full_problem_body(instance)\n",
    "minimax_model = generate_minimax!(instance, model2)\n",
    "optimize!(minimax_model)"
   ]
  },
  {
   "cell_type": "code",
   "execution_count": 16,
   "metadata": {},
   "outputs": [
    {
     "name": "stdout",
     "output_type": "stream",
     "text": [
      "2SSP:\n",
      "   x = [0, 0, 1, 1, 0, 0, 0, 0, 0, 0]\n",
      "   y = [0.0, 0.0, 566.0, 259.0, 0.0, 0.0, 0.0, 0.0, 0.0, 0.0]\n",
      " \n",
      "Minmax:\n",
      "   x = [0, 0, 1, 1, 0, 0, 0, 0, 0, 0]\n",
      "   y = [0.0, 0.0, 506.0, 319.0, 0.0, 0.0, 0.0, 0.0, 0.0, 0.0]\n"
     ]
    }
   ],
   "source": [
    "## Comparing solutions\n",
    "x_exp = Int.(round.(value.(expected_value_model[:x]).data))\n",
    "y_exp = value.(expected_value_model[:y])\n",
    "obj_exp = objective_value(expected_value_model)\n",
    "\n",
    "x_minmax = Int.(round.(value.(minimax_model[:x]).data))\n",
    "y_minmax = value.(minimax_model[:y])\n",
    "obj_minmax = objective_value(minimax_model)\n",
    "\n",
    "println(\"2SSP:\")\n",
    "println(\"   x = \", [x_exp[i] for i in instance.I])\n",
    "println(\"   y = \", [y_exp[i] for i in instance.I])\n",
    "println(\" \")\n",
    "println(\"Minmax:\")\n",
    "println(\"   x = \", [x_minmax[i] for i in instance.I])\n",
    "println(\"   y = \", [y_minmax[i] for i in instance.I])"
   ]
  },
  {
   "cell_type": "code",
   "execution_count": 17,
   "metadata": {},
   "outputs": [
    {
     "data": {
      "text/plain": [
       "solve_main (generic function with 1 method)"
      ]
     },
     "metadata": {},
     "output_type": "display_data"
    }
   ],
   "source": [
    "#=\n",
    "generate_main(instance):\n",
    "- Inputs\n",
    "    1. instance: problem instance (::Instance) \n",
    "- Outputs\n",
    "    1. main: main problem structure (::JuMPModel)\n",
    "=#\n",
    "function generate_main(instance)\n",
    "    \n",
    "    I, J, S, N, P, O, V, U, T, D, bigM = unroll_instance(instance)\n",
    "    \n",
    "    main = Model(myGurobi)\n",
    "    set_silent(main)\n",
    "    \n",
    "    @variable(main, x[I], Bin)\n",
    "    @variable(main, 0 <= y[I] <= bigM)\n",
    "    @variable(main, θ)\n",
    "\n",
    "    @constraint(main, sum(x[i] for i in I) <= N)\n",
    "    \n",
    "    @objective(main, Min, sum(O[i] * x[i] + V[i] * y[i] for i in I) + θ)\n",
    "    \n",
    "    return main  \n",
    "end\n",
    "\n",
    "#=\n",
    "add_columns_and_constraints(instance, main, d_bar, iter):\n",
    "- Inputs\n",
    "    1. instance: problem instance (::Instance) \n",
    "    2. main: main problem in its current version (::JuMPModel)\n",
    "    3. d_bar: demand realisation being used\n",
    "    4. iter: iteration counter\n",
    "- Outputs\n",
    "    1. main: updated main problem structure (::JuMPModel)\n",
    "=#\n",
    "function add_columns_and_constraints(instance, main, d_bar, iter)   \n",
    "    \n",
    "    I, J, S, K, P, O, V, U, T, D, bigM = unroll_instance(instance)\n",
    "    \n",
    "    x = main[:x]\n",
    "    y = main[:y]\n",
    "    θ = main[:θ] \n",
    "    \n",
    "    # Adding new variables to the main model. We are registering new variable sets at each iteration,\n",
    "    # which requires the name of the variable to be passed as a Symbol.\n",
    "    main[Symbol(\"w_$(iter)\")] = @variable(main, [I,J], lower_bound = 0.0, base_name = \"w_$(iter)\")\n",
    "    main[Symbol(\"z_$(iter)\")] = @variable(main, [J], lower_bound = 0.0, base_name = \"z_$(iter)\")\n",
    "    \n",
    "    # For a cleaner code, we allocate to local variables \n",
    "    w = main[Symbol(\"w_$(iter)\")]\n",
    "    z = main[Symbol(\"z_$(iter)\")]\n",
    "    \n",
    "    @constraint(main, \n",
    "        θ >= sum(T[i,j] * w[i,j] for i in I, j in J) + sum(U * z[j] for j in J) \n",
    "    )\n",
    "    \n",
    "    @constraint(main, [i in I],\n",
    "        sum(w[i,j] for j in J) <=  y[i]\n",
    "    )\n",
    "\n",
    "    @constraint(main, [i in I], \n",
    "        sum(w[i,j] for j in J) <= x[i] * bigM\n",
    "    )\n",
    "    \n",
    "    @constraint(main, [j in J],\n",
    "        sum(w[i,j] for i in I) >= d_bar[j] - z[j]\n",
    "    )\n",
    "      \n",
    "    return main\n",
    "end  \n",
    "\n",
    "#=\n",
    "solve_main(main):\n",
    "- Inputs    \n",
    "    1. main: main problem in its current version (::JuMPModel)\n",
    "- Outputs\n",
    "    1. x: x variable value   \n",
    "    2. y: y variable value\n",
    "    3. θ: θ variable value\n",
    "    4. obj: objective value\n",
    "=#\n",
    "function solve_main(main)\n",
    "    optimize!(main)\n",
    "    return value.(main[:x]), value.(main[:y]), value(main[:θ]), objective_value(main)    \n",
    "end"
   ]
  },
  {
   "cell_type": "markdown",
   "metadata": {},
   "source": [
    "In this case, we assume that our uncertainty set is a polyhedral set of the form\n",
    "\\begin{equation*}\n",
    "   U = \\{d \\ge 0, g \\ge 0 : d_{j} = D_{j} + g_{j} \\hat{D}_j, \\sum_{j} g_j \\le \\Gamma \\}\n",
    "\\end{equation*}\n",
    "\n",
    "With that, our subproblem takes the form:\n",
    "\n",
    "\\begin{align*}\n",
    "   Q(x, y) = \\max_{d, g} \\min_{w,z} & \\sum_{i \\in I, j \\in J} T_{ij} w_{ij} + \\sum_{j \\in J} Uz_j : u_i\\\\\n",
    "   & \\sum_{j \\in J} w_{ij} \\le y_{i}, \\forall i \\in I : q_i\\\\\n",
    "   & \\sum_{j \\in J} Mx_i, \\forall i \\in I : r_j\\\\\n",
    "   & \\sum_{i} w_{ij} \\ge d_j - z_j, \\forall j \\in J \\\\\n",
    "   & d_{j} = D_{j} + g_{j} \\hat{D}_j, \\ \\forall j \\in J \\\\\n",
    "   & \\sum_{j} g_j \\le \\Gamma \\\\\n",
    "   & w_{ij} \\ge 0, \\ \\forall i \\in I, j \\in J \\\\\n",
    "   & z_j \\ge 0, \\ \\forall j \\in J.\n",
    "\\end{align*}\n",
    "\n",
    "Notice that $Q(x, y)$ is a bilevel problem and, like such, requires an appropriate treatment. Let us now explore a few options.\n",
    "\n",
    "\n",
    "### Primal-dual approach\n",
    "\n",
    "First, lets use a primal-dual approach, meaning that, since the inner problem is convex, we can pose its optimality conditions (primal and dual feasibility) to the outer problem. This leads to the following equivalent subproblem\n",
    "\n",
    "\\begin{align*}\n",
    "   \\max_{d,r,u,q} & \\sum_{j \\in J} d_jr_j + \\sum_{i\\in I} Mx_iq_i + \\sum_{i \\in I} + \\sum_{i \\in I}y_iu_i \\\\\n",
    "   & u_ + q_i + r_j \\le T_{ij}, \\ \\forall i \\in I, j \\in J \\\\\n",
    "   & r_j \\le U, \\ \\forall j \\in J \\\\\n",
    "   & u_i, q_i \\le 0, \\ \\forall i \\in I \\\\\n",
    "   & r_j \\ge 0, \\ \\forall j \\in J.\n",
    "\\end{align*}\n",
    "\n",
    "Notice the maximisation of the term $d_jr_j$ which is a convex quadratic term, making the problem nonconvex. The function `generate_and_solve_dualized_subproblem` implements the solution of this subproblem."
   ]
  },
  {
   "cell_type": "code",
   "execution_count": 18,
   "metadata": {},
   "outputs": [
    {
     "data": {
      "text/plain": [
       "generate_and_solve_dualized_subproblem (generic function with 1 method)"
      ]
     },
     "metadata": {},
     "output_type": "display_data"
    }
   ],
   "source": [
    "#=\n",
    "generate_and_solve_dualized_subproblem(instance, x_bar, y_bar, Γ):\n",
    "- inputs\n",
    "   instance: problem instance (::Instance) \n",
    "   2. x_bar: x variable solution passed to the subproblem\n",
    "   3. y_bar: y variable solution passed to the subproblem\n",
    "   4. Γ: budget of uncertainty\n",
    "- outputs\n",
    "   1. d_bar: value of d variable\n",
    "   2. opt_value: subproblem optimal value \n",
    "=#\n",
    "function generate_and_solve_dualized_subproblem(instance, x_bar, y_bar, Γ)\n",
    "    \n",
    "    I, J, S, N, P, O, V, U, T, D, bigM, D_average, D_deviation = unroll_instance(instance)\n",
    "     \n",
    "    sub_dual = Model(myGurobi)\n",
    "    set_optimizer_attribute(sub_dual, \"NonConvex\", 2) # Call spatial BB solver\n",
    " \n",
    "    set_silent(sub_dual)\n",
    "     \n",
    "    @variable(sub_dual, u[I] <= 0)\n",
    "    @variable(sub_dual, q[I] <= 0)\n",
    "    @variable(sub_dual, r[J] >= 0)\n",
    "    @variable(sub_dual, 0 <= g[J] <= 1)\n",
    "    @variable(sub_dual, d[J] >= 0)\n",
    " \n",
    "    @constraint(sub_dual, [i in I, j in J], \n",
    "       u[i] + q[i] + r[j] <= T[i,j]\n",
    "    )\n",
    "    @constraint(sub_dual, [j in J], \n",
    "       r[j] <= U\n",
    "    )\n",
    " \n",
    "    # Uncertainty set\n",
    "    @constraint(sub_dual, [j in J],\n",
    "       d[j] == D_average[j] + g[j] * D_deviation[j]\n",
    "    )\n",
    " \n",
    "    @constraint(sub_dual, [j in J],\n",
    "       sum(g[j] for j in J) <= Γ\n",
    "    )\n",
    " \n",
    "    @objective(sub_dual, Max,  \n",
    "       sum(bigM * x_bar[i] * q[i] for i in I) +\n",
    "       sum(y_bar[i] * u[i] for i in I) +\n",
    "       sum(d[j] * r[j] for j in J) \n",
    "    )   \n",
    "    \n",
    "    optimize!(sub_dual)\n",
    "     \n",
    "    d_bar = value.(sub_dual[:d])                     \n",
    "    opt_value = objective_value(sub_dual)\n",
    "     \n",
    "    return d_bar, opt_value\n",
    " end"
   ]
  },
  {
   "cell_type": "markdown",
   "metadata": {},
   "source": [
    "### Linearised primal-dual\n",
    "\n",
    "Sometimes, it is possible to consider uncertainty sets with binary variables. In the case of our uncertainty set, we can restate it as\n",
    "\n",
    "\\begin{equation*}\n",
    "   U = \\{d \\ge 0, g \\in \\{0,1\\} : d_{j} = D_{j} + g_{j} \\hat{D}_j, \\sum_{j} g_j \\le \\Gamma \\}\n",
    "\\end{equation*}\n",
    "\n",
    "assuming $\\Gamma$ as integer.\n",
    "\n",
    "This means we can:\n",
    "1. Substitute $d_j$ with $D_j + g_j \\hat{D}_j$ in the objective function\n",
    "2. Employ the exact linearisation on the product $g_jr_j$. Let $b_j$ replace $g_jr_j$. We also need the constraints:\n",
    "\n",
    "\\begin{align*}\n",
    "   & b_j \\le g_j U \\\\\n",
    "   & w_j \\le r_j \\\\\n",
    "   & w_j \\ge r_j - U(1 - g_j)\n",
    "\\end{align*}\n",
    "\n",
    "The last constraint can be dropped becase we are maximising on $w$ with a postive conefficient in the objective function.\n",
    "\n",
    "Function `generate_and_solve_linearized_subproblem` implements this version of the subproblem, whic can be solved as a MIP."
   ]
  },
  {
   "cell_type": "code",
   "execution_count": 19,
   "metadata": {},
   "outputs": [
    {
     "data": {
      "text/plain": [
       "generate_and_solve_linearized_subproblem (generic function with 1 method)"
      ]
     },
     "metadata": {},
     "output_type": "display_data"
    }
   ],
   "source": [
    "#=\n",
    "generate_and_solve_linearized_subproblem(instance, x_bar, y_bar, Γ):\n",
    "- inputs\n",
    "   1. instance: problem instance (::Instance) \n",
    "   2. x_bar: x variable solution passed to the subproblem\n",
    "   3. y_bar: y variable solution passed to the subproblem\n",
    "   4. Γ: budget of uncertainty\n",
    "- outputs\n",
    "   1. d_bar: value of d variable\n",
    "   2. opt_value: subproblem optimal value \n",
    "=#\n",
    " function generate_and_solve_linearized_subproblem(instance, x_bar, y_bar, Γ)\n",
    "     \n",
    "   I, J, S, N, P, O, V, U, T, D, bigM, D_average, D_deviation = unroll_instance(instance)\n",
    "      \n",
    "   sub_dual = Model(myGurobi) \n",
    "   set_silent(sub_dual)\n",
    "   \n",
    "   @variable(sub_dual, u[I] <= 0)\n",
    "   @variable(sub_dual, q[I] <= 0)\n",
    "   @variable(sub_dual, r[J] >= 0)\n",
    "   @variable(sub_dual, g[J], Bin)\n",
    "   @variable(sub_dual, b[J] >= 0)\n",
    "  \n",
    "   @constraint(sub_dual, [i in I, j in J], \n",
    "      u[i] + q[i] + r[j] <= T[i,j]\n",
    "   )\n",
    "   @constraint(sub_dual, [j in J], r[j] <= U)\n",
    "   @constraint(sub_dual, [j in J], sum(g[j] for j in J) <= Γ)\n",
    "   @constraint(sub_dual, [j in J], b[j] <= r[j])\n",
    "   @constraint(sub_dual, [j in J], b[j] <= U * g[j])\n",
    "\n",
    "   @objective(sub_dual, Max,  \n",
    "      sum(bigM * x_bar[i] * q[i] for i in I) +\n",
    "      sum(y_bar[i] * u[i] for i in I) +\n",
    "      sum(D_average[j] * r[j] + D_deviation[j] * b[j] for j in J) \n",
    "   )   \n",
    "   \n",
    "   optimize!(sub_dual)\n",
    "   \n",
    "   d_bar = [D_average[j] + value(g[j]) * D_deviation[j] for j in J]                 \n",
    "   opt_value = objective_value(sub_dual)\n",
    "   \n",
    "   return d_bar, opt_value\n",
    "  end"
   ]
  },
  {
   "cell_type": "markdown",
   "metadata": {},
   "source": [
    "### Bilevel problem perspective\n",
    "\n",
    "Let us reorganise the structure of the problem to expose its bilevel structure.\n",
    "\n",
    "\\begin{align*}\n",
    "   Q(x, y) = \\max_{d, g} & \\sum_{i \\in I, j \\in J} T_{ij} w_{ij} + \\sum_{j \\in J} Uz_j \\\\\n",
    "   & d_{j} = D_{j} + g_{j} \\hat{D}_j, \\ \\forall j \\in J \\\\\n",
    "   & \\sum_{j} g_j \\le \\Gamma \\\\\n",
    "   & d_j \\ge 0, \\ \\forall j \\in J \\\\\n",
    "   & g_j \\ge 0, \\ \\forall j \\in J \\\\\n",
    "   & \\quad \\min_{w,z} \\sum_{i \\in I, j \\in J} T_{ij} w_{ij} + \\sum_{j \\in J} Uz_j \\\\\n",
    "   & \\quad \\sum_{j \\in J} w_{ij} \\le y_{i}, \\forall i \\in I \\\\\n",
    "   & \\quad \\sum_{j \\in J} Mx_i, \\forall i \\in I \\\\\n",
    "   & \\quad \\sum_{i} w_{ij} \\ge d_j - z_j, \\forall j \\in J \\\\\n",
    "   & \\quad w_{ij} \\ge 0, \\ \\forall i \\in I, j \\in J \\\\\n",
    "   & \\quad z_j \\ge 0, \\ \\forall j \\in J.\n",
    "\\end{align*}\n",
    "\n",
    "Then we can pose it appropriately defining the upper and lower level terms and choosing an appropriate reformulation method."
   ]
  },
  {
   "cell_type": "code",
   "execution_count": 20,
   "metadata": {},
   "outputs": [
    {
     "data": {
      "text/plain": [
       "generate_and_solve_bilevel_subproblem (generic function with 1 method)"
      ]
     },
     "metadata": {},
     "output_type": "display_data"
    }
   ],
   "source": [
    "#=\n",
    "generate_and_solve_bilevel_subproblem(instance, x_bar, y_bar, Γ):\n",
    "- inputs\n",
    "   1. instance: problem instance (::Instance) \n",
    "   2. x_bar: x variable solution passed to the subproblem\n",
    "   3. y_bar: y variable solution passed to the subproblem\n",
    "   4. Γ: budget of uncertainty\n",
    "- outputs\n",
    "   1. d_bar: value of d variable\n",
    "   2. opt_value: subproblem optimal value \n",
    "=#\n",
    "function generate_and_solve_bilevel_subproblem(instance, x_bar, y_bar, Γ)\n",
    "   \n",
    "   I, J, S, K, P, O, V, U, T, D, bigM, D_average, D_deviation = unroll_instance(instance)\n",
    "   \n",
    "   sub_dual = BilevelModel(myGurobi, mode = BilevelJuMP.SOS1Mode()) \n",
    "   set_silent(sub_dual)\n",
    "   \n",
    "   @variable(Upper(sub_dual), d[J] >= 0)\n",
    "   @variable(Upper(sub_dual), 0 <= g[J] <= 1)\n",
    "   @variable(Lower(sub_dual), w[I,J] >= 0)\n",
    "   @variable(Lower(sub_dual), z[J] >= 0)\n",
    "\n",
    "   @constraint(Lower(sub_dual), capBal[i in I],\n",
    "      sum(w[i,j] for j in J) <=  y_bar[i]\n",
    "   )\n",
    "\n",
    "   @constraint(Lower(sub_dual), capLoc[i in I], \n",
    "      sum(w[i,j] for j in J) <= x_bar[i] * bigM\n",
    "   )\n",
    "   \n",
    "   @constraint(Lower(sub_dual), demBal[j in J],\n",
    "      sum(w[i,j] for i in I) >= d[j] - z[j]\n",
    "   )\n",
    "\n",
    "   # Uncertainty set\n",
    "   @constraint(Upper(sub_dual), [j in J],\n",
    "      d[j] == D_average[j] + g[j] * D_deviation[j]\n",
    "   )\n",
    "\n",
    "   @constraint(Upper(sub_dual), [j in J], sum(g[j] for j in J) <= Γ)\n",
    "\n",
    "   @objective(Lower(sub_dual), Min, \n",
    "      sum(T[i,j] * w[i,j] for i in I, j in J) + sum(U * z[j] for j in J)\n",
    "   ) \n",
    "\n",
    "   @objective(Upper(sub_dual), Max, \n",
    "      sum(T[i,j] * w[i,j] for i in I, j in J) + sum(U * z[j] for j in J)\n",
    "   ) \n",
    "   \n",
    "   optimize!(sub_dual)\n",
    "   \n",
    "   d_bar = [value(d[j]) for j in J]                 \n",
    "   opt_value = objective_value(sub_dual)\n",
    "   \n",
    "   return d_bar, opt_value\n",
    "end"
   ]
  },
  {
   "cell_type": "markdown",
   "metadata": {},
   "source": [
    "We are ready to pose the CCG methods, which is implemented in the function `cc_decomposition`"
   ]
  },
  {
   "cell_type": "code",
   "execution_count": 21,
   "metadata": {},
   "outputs": [
    {
     "data": {
      "text/plain": [
       "ccg_decomposition (generic function with 1 method)"
      ]
     },
     "metadata": {},
     "output_type": "display_data"
    }
   ],
   "source": [
    "#=\n",
    "ccg_decomposition(ins; max_iter = 10, Γ = 10, sub_method = :linear): \n",
    "- inputs\n",
    "    1. ins: problem instance (::Instance) \n",
    "    2. max_iter: maximum number of iterations\n",
    "    3. Γ: budget of uncertainty\n",
    "    4. sub_method: which subproblem solving method\n",
    "=#\n",
    "function ccg_decomposition(ins; max_iter = 10, Γ = 10, sub_method = :linear)\n",
    "    k = 1\n",
    "    ϵ = 1e-4\n",
    "    LB = -Inf\n",
    "    UB = +Inf\n",
    "    gap = +Inf\n",
    "    x_bar = zeros(length(ins.I))\n",
    "    y_bar = zeros(length(ins.J))\n",
    "    \n",
    "    println(\"\\nStarting CCG decomposition...\")\n",
    "    start = time()    \n",
    "    \n",
    "    if sub_method == :linear\n",
    "        d_bar, f_sub = generate_and_solve_linearized_subproblem(ins, x_bar, y_bar, Γ);\n",
    "    elseif sub_method == :dual    \n",
    "        d_bar, f_sub = generate_and_solve_dualized_subproblem(ins, x_bar, y_bar, Γ);\n",
    "    elseif sub_method == :bilevel\n",
    "        d_bar, f_sub = generate_and_solve_bilevel_subproblem(ins, x_bar, y_bar, Γ);\n",
    "    else    \n",
    "        error(\"Invalid subproblem solution method chosen.\")\n",
    "    end\n",
    "\n",
    "    main = generate_main(ins)\n",
    "    main = add_columns_and_constraints(ins, main, d_bar, k) \n",
    "\n",
    "    while k <= max_iter && gap > ϵ\n",
    "        x_bar, y_bar, θ_bar, f_main = solve_main(main);\n",
    "        \n",
    "        if sub_method == :linear\n",
    "            d_bar, f_sub = generate_and_solve_linearized_subproblem(ins, x_bar, y_bar, Γ);\n",
    "        elseif sub_method == :dual    \n",
    "            d_bar, f_sub = generate_and_solve_dualized_subproblem(ins, x_bar, y_bar, Γ);\n",
    "        else # if sub_method == :bilevel\n",
    "            d_bar, f_sub = generate_and_solve_bilevel_subproblem(ins, x_bar, y_bar, Γ);\n",
    "        end\n",
    "        \n",
    "        LB = f_main\n",
    "        UB = min(UB, f_main - θ_bar + f_sub)\n",
    "        gap = abs((UB - LB) / UB)\n",
    "        println(\"Iter $(k): UB: $(round(UB, digits=2)), LB: $(round(LB, digits=2)), gap: $(round(100*gap, digits=2))%\")\n",
    "        \n",
    "        if gap <= ϵ\n",
    "            stop = time()\n",
    "            println(\"\\nOptimal found.\\n Objective value: $(round(UB, digits=2))\\n Total time: $(round(stop-start, digits=2))s\\n gap: $(round(100*gap, digits=2))%\")\n",
    "            return x_bar, y_bar, UB\n",
    "        else    \n",
    "            main = add_columns_and_constraints(ins, main, d_bar, k)\n",
    "            k += 1\n",
    "        end\n",
    "    end\n",
    "    println(\"Maximum number of iterations exceeded.\")\n",
    "end"
   ]
  },
  {
   "cell_type": "code",
   "execution_count": 22,
   "metadata": {},
   "outputs": [
    {
     "name": "stdout",
     "output_type": "stream",
     "text": [
      "\n",
      "Starting CCG decomposition...\n"
     ]
    },
    {
     "name": "stdout",
     "output_type": "stream",
     "text": [
      "Iter 1: UB: 4090.0, LB: 4034.0, gap: 1.37%\n"
     ]
    },
    {
     "name": "stdout",
     "output_type": "stream",
     "text": [
      "Iter 2: UB: 4090.0, LB: 4076.0, gap: 0.34%\n"
     ]
    }
   ],
   "source": [
    "@time x_bar, y_bar, UB = ccg_decomposition(instance, max_iter = 10, Γ = 5, sub_method = :linear)\n",
    "@time x_bar, y_bar, UB = ccg_decomposition(instance, max_iter = 10, Γ = 5, sub_method = :dual)\n",
    "@time x_bar, y_bar, UB = ccg_decomposition(instance, max_iter = 10, Γ = 5, sub_method = :bilevel);"
   ]
  },
  {
   "cell_type": "code",
   "execution_count": null,
   "metadata": {},
   "outputs": [],
   "source": [
    "UB_k = []\n",
    "for i in 1:25\n",
    "    ⋅, ⋅, UB = cc_decomposition(instance, max_iter = 5, Γ = i,)\n",
    "    push!(UB_k, UB)\n",
    "end\n",
    "\n",
    "plot(UB_k, \n",
    "    label = \"obj. value\",\n",
    "    xlabel = \"Γ\")"
   ]
  }
 ],
 "metadata": {
  "kernelspec": {
   "display_name": "Julia 1.9.0",
   "language": "julia",
   "name": "julia-1.9"
  },
  "language_info": {
   "file_extension": ".jl",
   "mimetype": "application/julia",
   "name": "julia",
   "version": "1.9.0"
  },
  "orig_nbformat": 4
 },
 "nbformat": 4,
 "nbformat_minor": 2
}
