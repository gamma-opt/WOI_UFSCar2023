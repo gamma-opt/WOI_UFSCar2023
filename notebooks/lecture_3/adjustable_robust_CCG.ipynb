{
 "cells": [
  {
   "cell_type": "code",
   "execution_count": 1,
   "metadata": {},
   "outputs": [
    {
     "name": "stdout",
     "output_type": "stream",
     "text": [
      "Set parameter Username\n",
      "Academic license - for non-commercial use only - expires 2023-10-03\n"
     ]
    },
    {
     "data": {
      "text/plain": [
       "TaskLocalRNG()"
      ]
     },
     "metadata": {},
     "output_type": "display_data"
    }
   ],
   "source": [
    "using Gurobi\n",
    "const GRB_ENV = Gurobi.Env()\n",
    "myGurobi = ()->Gurobi.Optimizer(GRB_ENV)\n",
    "using JuMP\n",
    "using BilevelJuMP\n",
    "using Plots\n",
    "using LinearAlgebra\n",
    "using Random\n",
    "Random.seed!(1234)"
   ]
  },
  {
   "cell_type": "markdown",
   "metadata": {},
   "source": [
    "# Example 5 - Adaptive robust and column-and-constraint generation\n",
    "\n",
    "We now consider a version of the location allocation problem were we are placing supply points under demand uncertainty, whilst also defining its capacity.\n",
    "\n",
    "Let:\n",
    "\n",
    "- $x_{i}$: 1 if facility is located at $i \\in I$, 0 otherwise.\n",
    "- $y_{i}$: capacity allocated for facility $i \\in I$\n",
    "- $w_{k,j,s}$: flow between facility $i \\in I$ and client $j \\in J$ in scenario $s \\in S$\n",
    "- $z_{j,s}$: shortage in location $j \\in J$ in scenario $s \\in S$\n",
    "- $N$: maximum number of servers\n",
    "- $O_i$: cost of locating facility at $i \\in I$\n",
    "- $V_i$: unit capacity cost for the facility located at $i \\in I$\n",
    "- $T_{i,j}$: unti transportation cost from $i \\in I$ to $j \\in J$\n",
    "- $U$: unmet demand penalty cost\n",
    "- $D_{j,s}$: demand at client $j \\in J$, in scenario $s \\in S$\n",
    "\n",
    "The problem can be stated as follows:\n",
    "\n",
    "\\begin{align*}\n",
    "    \\min~&  \\sum_{i \\in I} (O_{i}x_i + V_iy_i) + \\sum_{s}P_s\\left(\\sum_{i \\in I, j \\in J} T_{i,j}w_{i,j,s} + \\sum_{j \\in J} U z_{j,s}\\right) \\\\\n",
    "    \\text{s.t.:~} &\\sum_{i \\in I} x_i \\le N \\\\\n",
    "    & \\sum_{j \\in J} w_{i,j,s}  \\le y_i, \\ \\forall i \\in I, s \\in S \\\\\n",
    "    & \\sum_{j \\in J} w_{i,j,s}  \\le Mx_i, \\ \\forall i \\in I, s \\in S \\\\\n",
    "    & \\sum_{j \\in J} w_{i,j,s}  \\ge D_{j,s} - z_{j,s}, \\ \\forall j \\in J, s \\in S \\\\\n",
    "    & x_i \\in \\{0,1\\}, \\ \\forall i \\in I \\\\\n",
    "    & z_{j,s} \\ge 0, \\ \\forall j \\in J, s \\in S \\\\\n",
    "    & w_{i,j,s} \\ge 0, \\ \\forall i \\in I, j \\in J, s \\in S.  \n",
    "\\end{align*}\n"
   ]
  },
  {
   "cell_type": "markdown",
   "metadata": {},
   "source": [
    "Once again, let us first define some auxiliary functions that we need for generating instances."
   ]
  },
  {
   "cell_type": "code",
   "execution_count": 2,
   "metadata": {},
   "outputs": [],
   "source": [
    "struct Instance\n",
    "    # sets\n",
    "    I  # Set of facilities\n",
    "    J  # Set of clients\n",
    "    S  # Set of scenarios\n",
    "    # Parameters \n",
    "    N  # Maximum number of facilities\n",
    "    P  # Probabilities of scenarios s ∈ S \n",
    "    O  # Cost of opening facility at i ∈ I\n",
    "    V  # Variable capacity cost  \n",
    "    U  # Cost of unmet demand at j ∈ J\n",
    "    T  # Transportation cost from i ∈ I to j ∈ J\n",
    "    D  # Demand in location j ∈ J\n",
    "    bigM  # BigM for capacity constraint\n",
    "    D_average   # average demand\n",
    "    D_deviation # max deviation\n",
    "    loc_i # Coordinates of facilities i ∈ I\n",
    "    loc_j # Coordinates of clients j ∈ J\n",
    "end\n",
    "\n",
    "#=\n",
    "generate_instance(TotalServers, TotalClients, TotalScenarios):\n",
    "- inputs:\n",
    "    1. TotalServers: cardinality of set I\n",
    "    2. TotalClients: cardinality of set J\n",
    "    3. TotalScenarios: cardinality of set S\n",
    "-outputs\n",
    "    1. Instance: an instance for the problem (::Instance)\n",
    "=#\n",
    "function generate_instance(TotalServers, TotalClients, TotalScenarios)\n",
    "    I = 1:TotalServers\n",
    "    J = 1:TotalClients\n",
    "    S = 1:TotalScenarios\n",
    "\n",
    "    # Parameters\n",
    "    N = ceil(0.5 * TotalServers)           # Half (rounded up) of all servers can be used\n",
    "    P = [1/TotalScenarios for s in S]      # All scenarios have equal probability\n",
    "    O = [rand(40:80) for i in I]           # Fixed cost for locating facility\n",
    "    V = [rand(1:10) for i in I]            # Variable capacity cost   \n",
    "    U = 500                                # High cost for unmet demand\n",
    "    loc_i = [(rand(), rand()) for i in I]  # Random 2D-coordinates for clients (coordinates are represented by a tuple)\n",
    "    loc_j = [(rand(), rand()) for j in J]  # Random 2D-coordinates for servers\n",
    "    \n",
    "    # The transportation cost is the Euclidean distance between the server i and client j\n",
    "    T = ceil.(10 .* [sqrt((loc_i[i][1]-loc_j[j][1])^2+(loc_i[i][2]-loc_j[j][2])^2) for i in I, j in J])\n",
    "    \n",
    "    D_average = [rand(10:50) for j in J]   # Random demand average for each client           \n",
    "    D_deviation = [Int(ceil(0.5 * D_average[j])) for j in J]\n",
    "    D = [max(ceil(D_average[j] + rand(-D_deviation[j]:D_deviation[j])), 0) for j in J, s in S] # Random demand deviation per scenario\n",
    "    max_D, index = findmax(D, dims=2)  # finds maximum among columns\n",
    "    bigM = sum(max_D)                  # capacity big M\n",
    "    \n",
    "    return Instance(I, J, S, N, P, O, V, U, T, D, bigM, D_average, D_deviation, loc_i, loc_j)\n",
    "end  \n",
    "\n",
    "#=\n",
    "unroll_instance(instance::Instance):\n",
    "- inputs:\n",
    "    1. Instance: an instance\n",
    "-output:\n",
    "    1. I: set I\n",
    "    2. J: set J\n",
    "    3. S: set S\n",
    "    4. N: max servers\n",
    "    5. P: Probabilities\n",
    "    6. O: Location cost\n",
    "    7. V: Capacity cost\n",
    "    8. U: Unmet demand cost\n",
    "    9. T: Transportation cost\n",
    "    10 D: Demand\n",
    "    11. bigM: bigM value\n",
    "    12. D_average: average demand value used in uncertainty set \n",
    "    13. D_deviation: deviation used in the uncertainty set    \n",
    "=#\n",
    "function unroll_instance(instance::Instance)\n",
    "    I = instance.I \n",
    "    J = instance.J\n",
    "    S = instance.S\n",
    "    N = instance.N\n",
    "    P = instance.P\n",
    "    O = instance.O\n",
    "    V = instance.V\n",
    "    U = instance.U\n",
    "    T = instance.T\n",
    "    D = instance.D\n",
    "    bigM = instance.bigM\n",
    "    D_average = instance.D_average\n",
    "    D_deviation = instance.D_deviation\n",
    "\n",
    "    return I, J, S, N, P, O, V, U, T, D, bigM, D_average, D_deviation\n",
    "end;"
   ]
  },
  {
   "cell_type": "markdown",
   "metadata": {},
   "source": [
    "Let us generate an instance we can solve rather instantaneously. We consider 5 candidate locations, 20 clients and 50 scenarios."
   ]
  },
  {
   "cell_type": "code",
   "execution_count": 3,
   "metadata": {},
   "outputs": [],
   "source": [
    "TotalFacilities = 10\n",
    "TotalClients = 20\n",
    "TotalScenarios = 50\n",
    "\n",
    "# Solving the full space problem for reference\n",
    "instance = generate_instance(TotalFacilities, TotalClients, TotalScenarios);"
   ]
  },
  {
   "cell_type": "markdown",
   "metadata": {},
   "source": [
    "Below we define the functions to genereta the model. We generate the common structure first and then use two otehr functions to add the 2SSP and minimax structures"
   ]
  },
  {
   "cell_type": "code",
   "execution_count": 4,
   "metadata": {},
   "outputs": [
    {
     "data": {
      "text/plain": [
       "generate_full_problem_body (generic function with 1 method)"
      ]
     },
     "metadata": {},
     "output_type": "display_data"
    }
   ],
   "source": [
    "#=\n",
    "generate_full_problem_body(instance::Instance):\n",
    "- inputs\n",
    "    1. instance: problem instance (::Instance)\n",
    "-outputs\n",
    "    1. JuMP model with common structure (::JuMPModel)\n",
    "=#\n",
    "function generate_full_problem_body(instance::Instance)\n",
    "    \n",
    "    I, J, S, N, P, O, V, U, T, D, bigM = unroll_instance(instance)\n",
    "\n",
    "    # Initialize model\n",
    "    m = Model(myGurobi)\n",
    "    set_silent(m)\n",
    "    \n",
    "    # Decision variables\n",
    "    @variable(m, x[I], Bin)     # 1 if facility is located at i ∈ I, 0 otherwise.\n",
    "    @variable(m, y[I] >= 0)     # Capacity decided for facility i ∈ I\n",
    "    @variable(m, w[I,J,S] >= 0) # Flow between facility i ∈ I and client j ∈ J in scenario s ∈ S\n",
    "    @variable(m, z[J,S] >= 0)   # Shortage in location j ∈ J in scenario s ∈ S\n",
    "\n",
    "    # Constraints\n",
    "    # Maximum number of servers\n",
    "    @constraint(m, numServers,\n",
    "        sum(x[i] for i in I) <= N\n",
    "    )\n",
    "    \n",
    "    # Capacity limits: cannot deliver more than capacity decided, \n",
    "    #   and only if facility was located\n",
    "    @constraint(m, capBal[i in I, s in S],\n",
    "        sum(w[i,j,s] for j in J) <=  y[i]\n",
    "    )\n",
    "\n",
    "    @constraint(m, capLoc[i in I, s in S], \n",
    "        sum(w[i,j,s] for j in J) <= x[i] * bigM\n",
    "    )\n",
    "    \n",
    "    # Demand balance: Demand of active clients must be fulfilled\n",
    "    @constraint(m, demBal[j in J, s in S],\n",
    "        sum(w[i,j,s] for i in I) >= D[j,s] - z[j,s]\n",
    "    )\n",
    "    \n",
    "    return m  # Return the generated model\n",
    "end"
   ]
  },
  {
   "cell_type": "markdown",
   "metadata": {},
   "source": [
    "The distinct structures are essentially modifications in the objective function, with respective additional variable for the minimax model"
   ]
  },
  {
   "cell_type": "code",
   "execution_count": 5,
   "metadata": {},
   "outputs": [
    {
     "data": {
      "text/plain": [
       "generate_minimax! (generic function with 1 method)"
      ]
     },
     "metadata": {},
     "output_type": "display_data"
    }
   ],
   "source": [
    "#=\n",
    "generate_2SSP_model!(instance, m):\n",
    "- inputs\n",
    "    1. instance: problem instance (::Instance) \n",
    "    2. m: JuMP model with common structure generated\n",
    "- outputs\n",
    "    1. m: model augmented with 2SSP structure\n",
    "=#\n",
    "function generate_2SSP_model!(instance, m)\n",
    "    I, J, S, N, P, O, V, U, T, D, bigM = unroll_instance(instance)\n",
    "    x = m[:x]\n",
    "    y = m[:y]\n",
    "    w = m[:w]\n",
    "    z = m[:z]\n",
    "\n",
    "    # The two-stage objective function\n",
    "    FirstStage = @expression(m, \n",
    "        sum(O[i] * x[i] + V[i] * y[i] for i in I) \n",
    "    )\n",
    "\n",
    "    SecondStage = @expression(m, \n",
    "        sum(P[s] * (\n",
    "                sum(T[i,j] * w[i,j,s] for i in I, j in J)\n",
    "                + sum(U * z[j,s] for j in J)) \n",
    "        for s in S)\n",
    "    )\n",
    "    \n",
    "    @objective(m, Min, FirstStage + SecondStage)\n",
    "\n",
    "    return m\n",
    "end\n",
    "\n",
    "#=\n",
    "generate_minimax!(instance, m):\n",
    "- inputs\n",
    "    1. instance: problem instance (::Instance) \n",
    "    2. m: JuMP model with common structure generated\n",
    "- outputs\n",
    "    1. m: model augmented with minimax structure\n",
    "=#\n",
    "function generate_minimax!(instance, m)\n",
    "    I, J, S, N, P, O, V, U, T, D, bigM = unroll_instance(instance)\n",
    "    x = m[:x]\n",
    "    y = m[:y]\n",
    "    w = m[:w]\n",
    "    z = m[:z]\n",
    "    \n",
    "    @variable(m, θ >= 0)\n",
    "\n",
    "    FirstStage = @expression(m, \n",
    "        sum(O[i] * x[i] + V[i] * y[i] for i in I) \n",
    "    )\n",
    "\n",
    "    @constraint(m, Minimax[s in S], \n",
    "        θ >= sum(T[i,j] * w[i,j,s] for i in I, j in J) + sum(U * z[j,s] for j in J)\n",
    "    )   \n",
    "\n",
    "    @objective(m, Min, FirstStage + θ)\n",
    "\n",
    "    return m\n",
    "end"
   ]
  },
  {
   "cell_type": "markdown",
   "metadata": {},
   "source": [
    "We can now solve both and compare their solutions."
   ]
  },
  {
   "cell_type": "code",
   "execution_count": 6,
   "metadata": {},
   "outputs": [],
   "source": [
    "# Solving 2SSP\n",
    "model1 = generate_full_problem_body(instance)\n",
    "expected_value_model = generate_2SSP_model!(instance, model1)\n",
    "optimize!(expected_value_model)\n",
    "\n",
    "# Solving the minimax\n",
    "model2 = generate_full_problem_body(instance)\n",
    "minimax_model = generate_minimax!(instance, model2)\n",
    "optimize!(minimax_model)"
   ]
  },
  {
   "cell_type": "code",
   "execution_count": 7,
   "metadata": {},
   "outputs": [
    {
     "name": "stdout",
     "output_type": "stream",
     "text": [
      "2SSP:\n",
      "   x = "
     ]
    },
    {
     "name": "stdout",
     "output_type": "stream",
     "text": [
      "[0, 0, 1, 1, 0, 0, 0, 0, 0, 0]\n",
      "   y = "
     ]
    },
    {
     "name": "stdout",
     "output_type": "stream",
     "text": [
      "[0.0, 0.0, 566.0, 259.0, 0.0, 0.0, 0.0, 0.0, 0.0, 0.0]\n",
      " \n",
      "Minmax:\n",
      "   x = [0, 0, 1, 1, 0, 0, 0, 0, 0, 0]\n",
      "   y = [0.0, 0.0, 506.0, 319.0, 0.0, 0.0, 0.0, 0.0, 0.0, 0.0]\n"
     ]
    }
   ],
   "source": [
    "## Comparing solutions\n",
    "x_exp = Int.(round.(value.(expected_value_model[:x]).data))\n",
    "y_exp = value.(expected_value_model[:y])\n",
    "obj_exp = objective_value(expected_value_model)\n",
    "\n",
    "x_minmax = Int.(round.(value.(minimax_model[:x]).data))\n",
    "y_minmax = value.(minimax_model[:y])\n",
    "obj_minmax = objective_value(minimax_model)\n",
    "\n",
    "println(\"2SSP:\")\n",
    "println(\"   x = \", [x_exp[i] for i in instance.I])\n",
    "println(\"   y = \", [y_exp[i] for i in instance.I])\n",
    "println(\" \")\n",
    "println(\"Minmax:\")\n",
    "println(\"   x = \", [x_minmax[i] for i in instance.I])\n",
    "println(\"   y = \", [y_minmax[i] for i in instance.I])"
   ]
  },
  {
   "cell_type": "code",
   "execution_count": 8,
   "metadata": {},
   "outputs": [
    {
     "data": {
      "text/plain": [
       "solve_main (generic function with 1 method)"
      ]
     },
     "metadata": {},
     "output_type": "display_data"
    }
   ],
   "source": [
    "#=\n",
    "generate_main(instance):\n",
    "- Inputs\n",
    "    1. instance: problem instance (::Instance) \n",
    "- Outputs\n",
    "    1. main: main problem structure (::JuMPModel)\n",
    "=#\n",
    "function generate_main(instance)\n",
    "    \n",
    "    I, J, S, N, P, O, V, U, T, D, bigM = unroll_instance(instance)\n",
    "    \n",
    "    main = Model(myGurobi)\n",
    "    set_silent(main)\n",
    "    \n",
    "    @variable(main, x[I], Bin)\n",
    "    @variable(main, 0 <= y[I] <= bigM)\n",
    "    @variable(main, θ)\n",
    "\n",
    "    @constraint(main, sum(x[i] for i in I) <= N)\n",
    "    \n",
    "    @objective(main, Min, sum(O[i] * x[i] + V[i] * y[i] for i in I) + θ)\n",
    "    \n",
    "    return main  \n",
    "end\n",
    "\n",
    "#=\n",
    "add_columns_and_constraints(instance, main, d_bar, iter):\n",
    "- Inputs\n",
    "    1. instance: problem instance (::Instance) \n",
    "    2. main: main problem in its current version (::JuMPModel)\n",
    "    3. d_bar: demand realisation being used\n",
    "    4. iter: iteration counter\n",
    "- Outputs\n",
    "    1. main: updated main problem structure (::JuMPModel)\n",
    "=#\n",
    "function add_columns_and_constraints(instance, main, d_bar, iter)   \n",
    "    \n",
    "    I, J, S, K, P, O, V, U, T, D, bigM = unroll_instance(instance)\n",
    "    \n",
    "    x = main[:x]\n",
    "    y = main[:y]\n",
    "    θ = main[:θ] \n",
    "    \n",
    "    # Adding new variables to the main model. We are registering new variable sets at each iteration,\n",
    "    # which requires the name of the variable to be passed as a Symbol.\n",
    "    main[Symbol(\"w_$(iter)\")] = @variable(main, [I,J], lower_bound = 0.0, base_name = \"w_$(iter)\")\n",
    "    main[Symbol(\"z_$(iter)\")] = @variable(main, [J], lower_bound = 0.0, base_name = \"z_$(iter)\")\n",
    "    \n",
    "    # For a cleaner code, we allocate to local variables \n",
    "    w = main[Symbol(\"w_$(iter)\")]\n",
    "    z = main[Symbol(\"z_$(iter)\")]\n",
    "    \n",
    "    @constraint(main, \n",
    "        θ >= sum(T[i,j] * w[i,j] for i in I, j in J) + sum(U * z[j] for j in J) \n",
    "    )\n",
    "    \n",
    "    @constraint(main, [i in I],\n",
    "        sum(w[i,j] for j in J) <=  y[i]\n",
    "    )\n",
    "\n",
    "    @constraint(main, [i in I], \n",
    "        sum(w[i,j] for j in J) <= x[i] * bigM\n",
    "    )\n",
    "    \n",
    "    @constraint(main, [j in J],\n",
    "        sum(w[i,j] for i in I) >= d_bar[j] - z[j]\n",
    "    )\n",
    "      \n",
    "    return main\n",
    "end  \n",
    "\n",
    "#=\n",
    "solve_main(main):\n",
    "- Inputs    \n",
    "    1. main: main problem in its current version (::JuMPModel)\n",
    "- Outputs\n",
    "    1. x: x variable value   \n",
    "    2. y: y variable value\n",
    "    3. θ: θ variable value\n",
    "    4. obj: objective value\n",
    "=#\n",
    "function solve_main(main)\n",
    "    optimize!(main)\n",
    "    return value.(main[:x]), value.(main[:y]), value(main[:θ]), objective_value(main)    \n",
    "end"
   ]
  },
  {
   "cell_type": "markdown",
   "metadata": {},
   "source": [
    "In this case, we assume that our uncertainty set is a polyhedral set of the form\n",
    "\\begin{equation*}\n",
    "   U = \\{d \\ge 0, g \\ge 0 : d_{j} = D_{j} + g_{j} \\hat{D}_j, \\sum_{j} g_j \\le \\Gamma \\}\n",
    "\\end{equation*}\n",
    "\n",
    "With that, our subproblem takes the form:\n",
    "\n",
    "\\begin{align*}\n",
    "   Q(x, y) = \\max_{d, g} \\min_{w,z} & \\sum_{i \\in I, j \\in J} T_{ij} w_{ij} + \\sum_{j \\in J} Uz_j : u_i\\\\\n",
    "   & \\sum_{j \\in J} w_{ij} \\le y_{i}, \\forall i \\in I : q_i\\\\\n",
    "   & \\sum_{j \\in J} Mx_i, \\forall i \\in I : r_j\\\\\n",
    "   & \\sum_{i} w_{ij} \\ge d_j - z_j, \\forall j \\in J \\\\\n",
    "   & d_{j} = D_{j} + g_{j} \\hat{D}_j, \\ \\forall j \\in J \\\\\n",
    "   & \\sum_{j} g_j \\le \\Gamma \\\\\n",
    "   & w_{ij} \\ge 0, \\ \\forall i \\in I, j \\in J \\\\\n",
    "   & z_j \\ge 0, \\ \\forall j \\in J.\n",
    "\\end{align*}\n",
    "\n",
    "Notice that $Q(x, y)$ is a bilevel problem and, like such, requires an appropriate treatment. Let us now explore a few options.\n",
    "\n",
    "\n",
    "### Primal-dual approach\n",
    "\n",
    "First, lets use a primal-dual approach, meaning that, since the inner problem is convex, we can pose its optimality conditions (primal and dual feasibility) to the outer problem. This leads to the following equivalent subproblem\n",
    "\n",
    "\\begin{align*}\n",
    "   \\max_{d,r,u,q} & \\sum_{j \\in J} d_jr_j + \\sum_{i\\in I} Mx_iq_i + \\sum_{i \\in I} + \\sum_{i \\in I}y_iu_i \\\\\n",
    "   & u_ + q_i + r_j \\le T_{ij}, \\ \\forall i \\in I, j \\in J \\\\\n",
    "   & r_j \\le U, \\ \\forall j \\in J \\\\\n",
    "   & u_i, q_i \\le 0, \\ \\forall i \\in I \\\\\n",
    "   & r_j \\ge 0, \\ \\forall j \\in J.\n",
    "\\end{align*}\n",
    "\n",
    "Notice the maximisation of the term $d_jr_j$ which is a convex quadratic term, making the problem nonconvex. The function `generate_and_solve_dualized_subproblem` implements the solution of this subproblem."
   ]
  },
  {
   "cell_type": "code",
   "execution_count": 9,
   "metadata": {},
   "outputs": [
    {
     "data": {
      "text/plain": [
       "generate_and_solve_dualized_subproblem (generic function with 1 method)"
      ]
     },
     "metadata": {},
     "output_type": "display_data"
    }
   ],
   "source": [
    "#=\n",
    "generate_and_solve_dualized_subproblem(instance, x_bar, y_bar, Γ):\n",
    "- inputs\n",
    "   instance: problem instance (::Instance) \n",
    "   2. x_bar: x variable solution passed to the subproblem\n",
    "   3. y_bar: y variable solution passed to the subproblem\n",
    "   4. Γ: budget of uncertainty\n",
    "- outputs\n",
    "   1. d_bar: value of d variable\n",
    "   2. opt_value: subproblem optimal value \n",
    "=#\n",
    "function generate_and_solve_dualized_subproblem(instance, x_bar, y_bar, Γ)\n",
    "    \n",
    "    I, J, S, N, P, O, V, U, T, D, bigM, D_average, D_deviation = unroll_instance(instance)\n",
    "     \n",
    "    sub_dual = Model(myGurobi)\n",
    "    set_optimizer_attribute(sub_dual, \"NonConvex\", 2) # Call spatial BB solver\n",
    " \n",
    "    set_silent(sub_dual)\n",
    "     \n",
    "    @variable(sub_dual, u[I] <= 0)\n",
    "    @variable(sub_dual, q[I] <= 0)\n",
    "    @variable(sub_dual, r[J] >= 0)\n",
    "    @variable(sub_dual, 0 <= g[J] <= 1)\n",
    "    @variable(sub_dual, d[J] >= 0)\n",
    " \n",
    "    @constraint(sub_dual, [i in I, j in J], \n",
    "       u[i] + q[i] + r[j] <= T[i,j]\n",
    "    )\n",
    "    @constraint(sub_dual, [j in J], \n",
    "       r[j] <= U\n",
    "    )\n",
    " \n",
    "    # Uncertainty set\n",
    "    @constraint(sub_dual, [j in J],\n",
    "       d[j] == D_average[j] + g[j] * D_deviation[j]\n",
    "    )\n",
    " \n",
    "    @constraint(sub_dual, [j in J],\n",
    "       sum(g[j] for j in J) <= Γ\n",
    "    )\n",
    " \n",
    "    @objective(sub_dual, Max,  \n",
    "       sum(bigM * x_bar[i] * q[i] for i in I) +\n",
    "       sum(y_bar[i] * u[i] for i in I) +\n",
    "       sum(d[j] * r[j] for j in J) \n",
    "    )   \n",
    "    \n",
    "    optimize!(sub_dual)\n",
    "     \n",
    "    d_bar = value.(sub_dual[:d])                     \n",
    "    opt_value = objective_value(sub_dual)\n",
    "     \n",
    "    return d_bar, opt_value\n",
    " end"
   ]
  },
  {
   "cell_type": "markdown",
   "metadata": {},
   "source": [
    "### Linearised primal-dual\n",
    "\n",
    "Sometimes, it is possible to consider uncertainty sets with binary variables. In the case of our uncertainty set, we can restate it as\n",
    "\n",
    "\\begin{equation*}\n",
    "   U = \\{d \\ge 0, g \\in \\{0,1\\} : d_{j} = D_{j} + g_{j} \\hat{D}_j, \\sum_{j} g_j \\le \\Gamma \\}\n",
    "\\end{equation*}\n",
    "\n",
    "assuming $\\Gamma$ as integer.\n",
    "\n",
    "This means we can:\n",
    "1. Substitute $d_j$ with $D_j + g_j \\hat{D}_j$ in the objective function\n",
    "2. Employ the exact linearisation on the product $g_jr_j$. Let $b_j$ replace $g_jr_j$. We also need the constraints:\n",
    "\n",
    "\\begin{align*}\n",
    "   & b_j \\le g_j U \\\\\n",
    "   & w_j \\le r_j \\\\\n",
    "   & w_j \\ge r_j - U(1 - g_j)\n",
    "\\end{align*}\n",
    "\n",
    "The last constraint can be dropped becase we are maximising on $w$ with a postive conefficient in the objective function.\n",
    "\n",
    "Function `generate_and_solve_linearized_subproblem` implements this version of the subproblem, whic can be solved as a MIP."
   ]
  },
  {
   "cell_type": "code",
   "execution_count": 10,
   "metadata": {},
   "outputs": [
    {
     "data": {
      "text/plain": [
       "generate_and_solve_linearized_subproblem (generic function with 1 method)"
      ]
     },
     "metadata": {},
     "output_type": "display_data"
    }
   ],
   "source": [
    "#=\n",
    "generate_and_solve_linearized_subproblem(instance, x_bar, y_bar, Γ):\n",
    "- inputs\n",
    "   1. instance: problem instance (::Instance) \n",
    "   2. x_bar: x variable solution passed to the subproblem\n",
    "   3. y_bar: y variable solution passed to the subproblem\n",
    "   4. Γ: budget of uncertainty\n",
    "- outputs\n",
    "   1. d_bar: value of d variable\n",
    "   2. opt_value: subproblem optimal value \n",
    "=#\n",
    " function generate_and_solve_linearized_subproblem(instance, x_bar, y_bar, Γ)\n",
    "     \n",
    "   I, J, S, N, P, O, V, U, T, D, bigM, D_average, D_deviation = unroll_instance(instance)\n",
    "      \n",
    "   sub_dual = Model(myGurobi) \n",
    "   set_silent(sub_dual)\n",
    "   \n",
    "   @variable(sub_dual, u[I] <= 0)\n",
    "   @variable(sub_dual, q[I] <= 0)\n",
    "   @variable(sub_dual, r[J] >= 0)\n",
    "   @variable(sub_dual, g[J], Bin)\n",
    "   @variable(sub_dual, b[J] >= 0)\n",
    "  \n",
    "   @constraint(sub_dual, [i in I, j in J], \n",
    "      u[i] + q[i] + r[j] <= T[i,j]\n",
    "   )\n",
    "   @constraint(sub_dual, [j in J], r[j] <= U)\n",
    "   @constraint(sub_dual, [j in J], sum(g[j] for j in J) <= Γ)\n",
    "   @constraint(sub_dual, [j in J], b[j] <= r[j])\n",
    "   @constraint(sub_dual, [j in J], b[j] <= U * g[j])\n",
    "\n",
    "   @objective(sub_dual, Max,  \n",
    "      sum(bigM * x_bar[i] * q[i] for i in I) +\n",
    "      sum(y_bar[i] * u[i] for i in I) +\n",
    "      sum(D_average[j] * r[j] + D_deviation[j] * b[j] for j in J) \n",
    "   )   \n",
    "   \n",
    "   optimize!(sub_dual)\n",
    "   \n",
    "   d_bar = [D_average[j] + value(g[j]) * D_deviation[j] for j in J]                 \n",
    "   opt_value = objective_value(sub_dual)\n",
    "   \n",
    "   return d_bar, opt_value\n",
    "  end"
   ]
  },
  {
   "cell_type": "markdown",
   "metadata": {},
   "source": [
    "### Bilevel problem perspective\n",
    "\n",
    "Let us reorganise the structure of the problem to expose its bilevel structure.\n",
    "\n",
    "\\begin{align*}\n",
    "   Q(x, y) = \\max_{d, g} & \\sum_{i \\in I, j \\in J} T_{ij} w_{ij} + \\sum_{j \\in J} Uz_j \\\\\n",
    "   & d_{j} = D_{j} + g_{j} \\hat{D}_j, \\ \\forall j \\in J \\\\\n",
    "   & \\sum_{j} g_j \\le \\Gamma \\\\\n",
    "   & d_j \\ge 0, \\ \\forall j \\in J \\\\\n",
    "   & g_j \\ge 0, \\ \\forall j \\in J \\\\\n",
    "   & \\quad \\min_{w,z} \\sum_{i \\in I, j \\in J} T_{ij} w_{ij} + \\sum_{j \\in J} Uz_j \\\\\n",
    "   & \\quad \\sum_{j \\in J} w_{ij} \\le y_{i}, \\forall i \\in I \\\\\n",
    "   & \\quad \\sum_{j \\in J} Mx_i, \\forall i \\in I \\\\\n",
    "   & \\quad \\sum_{i} w_{ij} \\ge d_j - z_j, \\forall j \\in J \\\\\n",
    "   & \\quad w_{ij} \\ge 0, \\ \\forall i \\in I, j \\in J \\\\\n",
    "   & \\quad z_j \\ge 0, \\ \\forall j \\in J.\n",
    "\\end{align*}\n",
    "\n",
    "Then we can pose it appropriately defining the upper and lower level terms and choosing an appropriate reformulation method."
   ]
  },
  {
   "cell_type": "code",
   "execution_count": 11,
   "metadata": {},
   "outputs": [
    {
     "data": {
      "text/plain": [
       "generate_and_solve_bilevel_subproblem (generic function with 1 method)"
      ]
     },
     "metadata": {},
     "output_type": "display_data"
    }
   ],
   "source": [
    "#=\n",
    "generate_and_solve_bilevel_subproblem(instance, x_bar, y_bar, Γ):\n",
    "- inputs\n",
    "   1. instance: problem instance (::Instance) \n",
    "   2. x_bar: x variable solution passed to the subproblem\n",
    "   3. y_bar: y variable solution passed to the subproblem\n",
    "   4. Γ: budget of uncertainty\n",
    "- outputs\n",
    "   1. d_bar: value of d variable\n",
    "   2. opt_value: subproblem optimal value \n",
    "=#\n",
    "function generate_and_solve_bilevel_subproblem(instance, x_bar, y_bar, Γ)\n",
    "   \n",
    "   I, J, S, K, P, O, V, U, T, D, bigM, D_average, D_deviation = unroll_instance(instance)\n",
    "   \n",
    "   sub_dual = BilevelModel(myGurobi, mode = BilevelJuMP.SOS1Mode()) \n",
    "   # set_silent(sub_dual)\n",
    "   \n",
    "   @variable(Upper(sub_dual), d[J] >= 0)\n",
    "   @variable(Upper(sub_dual), 0 <= g[J] <= 1)\n",
    "   @variable(Lower(sub_dual), w[I,J] >= 0)\n",
    "   @variable(Lower(sub_dual), z[J] >= 0)\n",
    "\n",
    "   @constraint(Lower(sub_dual), capBal[i in I],\n",
    "      sum(w[i,j] for j in J) <=  y_bar[i]\n",
    "   )\n",
    "\n",
    "   @constraint(Lower(sub_dual), capLoc[i in I], \n",
    "      sum(w[i,j] for j in J) <= x_bar[i] * bigM\n",
    "   )\n",
    "   \n",
    "   @constraint(Lower(sub_dual), demBal[j in J],\n",
    "      sum(w[i,j] for i in I) >= d[j] - z[j]\n",
    "   )\n",
    "\n",
    "   # Uncertainty set\n",
    "   @constraint(Upper(sub_dual), [j in J],\n",
    "      d[j] == D_average[j] + g[j] * D_deviation[j]\n",
    "   )\n",
    "\n",
    "   @constraint(Upper(sub_dual), [j in J], sum(g[j] for j in J) <= Γ)\n",
    "\n",
    "   @objective(Lower(sub_dual), Min, \n",
    "      sum(T[i,j] * w[i,j] for i in I, j in J) + sum(U * z[j] for j in J)\n",
    "   ) \n",
    "\n",
    "   @objective(Upper(sub_dual), Max, \n",
    "      sum(T[i,j] * w[i,j] for i in I, j in J) + sum(U * z[j] for j in J)\n",
    "   ) \n",
    "   \n",
    "   optimize!(sub_dual)\n",
    "   \n",
    "   d_bar = [value(d[j]) for j in J]                 \n",
    "   opt_value = objective_value(sub_dual)\n",
    "   \n",
    "   return d_bar, opt_value\n",
    "end"
   ]
  },
  {
   "cell_type": "markdown",
   "metadata": {},
   "source": [
    "We are ready to pose the CCG methods, which is implemented in the function `cc_decomposition`"
   ]
  },
  {
   "cell_type": "code",
   "execution_count": 12,
   "metadata": {},
   "outputs": [
    {
     "data": {
      "text/plain": [
       "ccg_decomposition (generic function with 1 method)"
      ]
     },
     "metadata": {},
     "output_type": "display_data"
    }
   ],
   "source": [
    "#=\n",
    "ccg_decomposition(ins; max_iter = 10, Γ = 10, sub_method = :linear): \n",
    "- inputs\n",
    "    1. ins: problem instance (::Instance) \n",
    "    2. max_iter: maximum number of iterations\n",
    "    3. Γ: budget of uncertainty\n",
    "    4. sub_method: which subproblem solving method\n",
    "=#\n",
    "function ccg_decomposition(ins; max_iter = 10, Γ = 10, sub_method = :linear)\n",
    "    k = 1\n",
    "    ϵ = 1e-4\n",
    "    LB = -Inf\n",
    "    UB = +Inf\n",
    "    gap = +Inf\n",
    "    x_bar = zeros(length(ins.I))\n",
    "    y_bar = zeros(length(ins.J))\n",
    "    \n",
    "    println(\"\\nStarting CCG decomposition...\")\n",
    "    start = time()    \n",
    "    \n",
    "    if sub_method == :linear\n",
    "        d_bar, f_sub = generate_and_solve_linearized_subproblem(ins, x_bar, y_bar, Γ);\n",
    "    elseif sub_method == :dual    \n",
    "        d_bar, f_sub = generate_and_solve_dualized_subproblem(ins, x_bar, y_bar, Γ);\n",
    "    elseif sub_method == :bilevel\n",
    "        d_bar, f_sub = generate_and_solve_bilevel_subproblem(ins, x_bar, y_bar, Γ);\n",
    "    else    \n",
    "        error(\"Invalid subproblem solution method chosen.\")\n",
    "    end\n",
    "\n",
    "    main = generate_main(ins)\n",
    "    main = add_columns_and_constraints(ins, main, d_bar, k) \n",
    "\n",
    "    while k <= max_iter && gap > ϵ\n",
    "        x_bar, y_bar, θ_bar, f_main = solve_main(main);\n",
    "        \n",
    "        if sub_method == :linear\n",
    "            d_bar, f_sub = generate_and_solve_linearized_subproblem(ins, x_bar, y_bar, Γ);\n",
    "        elseif sub_method == :dual    \n",
    "            d_bar, f_sub = generate_and_solve_dualized_subproblem(ins, x_bar, y_bar, Γ);\n",
    "        else # if sub_method == :bilevel\n",
    "            d_bar, f_sub = generate_and_solve_bilevel_subproblem(ins, x_bar, y_bar, Γ);\n",
    "        end\n",
    "        \n",
    "        LB = f_main\n",
    "        UB = min(UB, f_main - θ_bar + f_sub)\n",
    "        gap = abs((UB - LB) / UB)\n",
    "        println(\"Iter $(k): UB: $(round(UB, digits=2)), LB: $(round(LB, digits=2)), gap: $(round(100*gap, digits=2))%\")\n",
    "        \n",
    "        if gap <= ϵ\n",
    "            stop = time()\n",
    "            println(\"\\nOptimal found.\\n Objective value: $(round(UB, digits=2))\\n Total time: $(round(stop-start, digits=2))s\\n gap: $(round(100*gap, digits=2))%\")\n",
    "            return x_bar, y_bar, UB\n",
    "        else    \n",
    "            main = add_columns_and_constraints(ins, main, d_bar, k)\n",
    "            k += 1\n",
    "        end\n",
    "    end\n",
    "    println(\"Maximum number of iterations exceeded.\")\n",
    "end"
   ]
  },
  {
   "cell_type": "code",
   "execution_count": 15,
   "metadata": {},
   "outputs": [
    {
     "name": "stdout",
     "output_type": "stream",
     "text": [
      "\n",
      "Starting CCG decomposition...\n"
     ]
    },
    {
     "name": "stdout",
     "output_type": "stream",
     "text": [
      "Iter 1: UB: 4090.0, LB: 4034.0, gap: 1.37%\n"
     ]
    },
    {
     "name": "stdout",
     "output_type": "stream",
     "text": [
      "Iter 2: UB: 4090.0, LB: 4076.0, gap: 0.34%\n"
     ]
    }
   ],
   "source": [
    "@time x_bar, y_bar, UB = ccg_decomposition(instance, max_iter = 10, Γ = 5, sub_method = :linear)\n",
    "# @time x_bar, y_bar, UB = ccg_decomposition(instance, max_iter = 10, Γ = 5, sub_method = :dual)\n",
    "@time x_bar, y_bar, UB = ccg_decomposition(instance, max_iter = 10, Γ = 5, sub_method = :bilevel);"
   ]
  },
  {
   "cell_type": "code",
   "execution_count": 14,
   "metadata": {},
   "outputs": [
    {
     "name": "stdout",
     "output_type": "stream",
     "text": [
      "\n",
      "Starting CCG decomposition...\n",
      "Iter 1: UB: 3579.0, LB: 3518.0, gap: 1.7%\n",
      "Iter 2: UB: 3575.25, LB: 3533.25, gap: 1.17%\n",
      "Iter 3: UB: 3564.71, LB: 3564.71, gap: 0.0%\n",
      "\n",
      "Optimal found.\n",
      " Objective value: 3564.71\n",
      " Total time: 0.04s\n",
      " gap: 0.0%\n",
      "\n",
      "Starting CCG decomposition...\n",
      "Iter 1: UB: 3789.0, LB: 3710.0, gap: 2.08%\n"
     ]
    },
    {
     "name": "stdout",
     "output_type": "stream",
     "text": [
      "Iter 2: UB: 3725.8, LB: 3725.8, gap: 0.0%\n",
      "\n",
      "Optimal found.\n",
      " Objective value: 3725.8\n",
      " Total time: 0.06s\n",
      " gap: 0.0%\n",
      "\n",
      "Starting CCG decomposition...\n",
      "Iter 1: UB: 3891.0, LB: 3830.0, gap: 1.57%\n"
     ]
    },
    {
     "name": "stdout",
     "output_type": "stream",
     "text": [
      "Iter 2: UB: 3864.25, LB: 3845.25, gap: 0.49%\n",
      "Iter 3: UB: 3859.48, LB: 3859.48, gap: 0.0%\n",
      "\n",
      "Optimal found.\n",
      " Objective value: 3859.48\n",
      " Total time: 0.2s\n",
      " gap: 0.0%\n",
      "\n",
      "Starting CCG decomposition...\n"
     ]
    },
    {
     "name": "stdout",
     "output_type": "stream",
     "text": [
      "Iter 1: UB: 3988.0, LB: 3968.0, gap: 0.5%\n"
     ]
    },
    {
     "name": "stdout",
     "output_type": "stream",
     "text": [
      "Iter 2: UB: 3977.0, LB: 3973.0, gap: 0.1%\n"
     ]
    },
    {
     "name": "stdout",
     "output_type": "stream",
     "text": [
      "Iter 3: UB: 3976.0, LB: 3976.0, gap: 0.0%\n",
      "\n",
      "Optimal found.\n",
      " Objective value: 3976.0\n",
      " Total time: 0.38s\n",
      " gap: 0.0%\n",
      "\n",
      "Starting CCG decomposition...\n"
     ]
    },
    {
     "name": "stdout",
     "output_type": "stream",
     "text": [
      "Iter 1: UB: 4090.0, LB: 4034.0, gap: 1.37%\n"
     ]
    },
    {
     "name": "stdout",
     "output_type": "stream",
     "text": [
      "Iter 2: UB: 4090.0, LB: 4076.0, gap: 0.34%\n"
     ]
    },
    {
     "name": "stdout",
     "output_type": "stream",
     "text": [
      "Iter 3: UB: 4085.21, LB: 4085.21, gap: 0.0%\n",
      "\n",
      "Optimal found.\n",
      " Objective value: 4085.21\n",
      " Total time: 1.45s\n",
      " gap: 0.0%\n",
      "\n",
      "Starting CCG decomposition...\n"
     ]
    },
    {
     "name": "stdout",
     "output_type": "stream",
     "text": [
      "Iter 1: UB: 4201.0, LB: 4097.0, gap: 2.48%\n"
     ]
    },
    {
     "name": "stdout",
     "output_type": "stream",
     "text": [
      "Iter 2: UB: 4201.0, LB: 4175.0, gap: 0.62%\n"
     ]
    },
    {
     "name": "stdout",
     "output_type": "stream",
     "text": [
      "Iter 3: UB: 4201.0, LB: 4188.2, gap: 0.3%\n"
     ]
    },
    {
     "name": "stdout",
     "output_type": "stream",
     "text": [
      "Iter 4: UB: 4188.22, LB: 4188.22, gap: 0.0%\n",
      "\n",
      "Optimal found.\n",
      " Objective value: 4188.22\n",
      " Total time: 2.38s\n",
      " gap: 0.0%\n",
      "\n",
      "Starting CCG decomposition...\n"
     ]
    },
    {
     "name": "stdout",
     "output_type": "stream",
     "text": [
      "Iter 1: UB: 4312.0, LB: 4181.0, gap: 3.04%\n"
     ]
    },
    {
     "name": "stdout",
     "output_type": "stream",
     "text": [
      "Iter 2: UB: 4312.0, LB: 4280.0, gap: 0.74%\n"
     ]
    },
    {
     "name": "stdout",
     "output_type": "stream",
     "text": [
      "Iter 3: UB: 4290.21, LB: 4290.21, gap: 0.0%\n",
      "\n",
      "Optimal found.\n",
      " Objective value: 4290.21\n",
      " Total time: 2.3s\n",
      " gap: 0.0%\n",
      "\n",
      "Starting CCG decomposition...\n"
     ]
    },
    {
     "name": "stdout",
     "output_type": "stream",
     "text": [
      "Iter 1: UB: 4377.0, LB: 4281.0, gap: 2.19%\n"
     ]
    },
    {
     "name": "stdout",
     "output_type": "stream",
     "text": [
      "Iter 2: UB: 4377.0, LB: 4353.0, gap: 0.55%\n"
     ]
    },
    {
     "name": "stdout",
     "output_type": "stream",
     "text": [
      "Iter 3: UB: 4372.67, LB: 4372.67, gap: 0.0%\n",
      "\n",
      "Optimal found.\n",
      " Objective value: 4372.67\n",
      " Total time: 2.42s\n",
      " gap: 0.0%\n",
      "\n",
      "Starting CCG decomposition...\n"
     ]
    },
    {
     "name": "stdout",
     "output_type": "stream",
     "text": [
      "Iter 1: UB: 4460.0, LB: 4357.0, gap: 2.31%\n"
     ]
    },
    {
     "name": "stdout",
     "output_type": "stream",
     "text": [
      "Iter 2: UB: 4460.0, LB: 4434.25, gap: 0.58%\n"
     ]
    },
    {
     "name": "stdout",
     "output_type": "stream",
     "text": [
      "Iter 3: UB: 4452.18, LB: 4452.18, gap: 0.0%\n",
      "\n",
      "Optimal found.\n",
      " Objective value: 4452.18\n",
      " Total time: 2.43s\n",
      " gap: 0.0%\n",
      "\n",
      "Starting CCG decomposition...\n"
     ]
    },
    {
     "name": "stdout",
     "output_type": "stream",
     "text": [
      "Iter 1: UB: 4539.0, LB: 4437.0, gap: 2.25%\n"
     ]
    },
    {
     "name": "stdout",
     "output_type": "stream",
     "text": [
      "Iter 2: UB: 4539.0, LB: 4513.5, gap: 0.56%\n"
     ]
    },
    {
     "name": "stdout",
     "output_type": "stream",
     "text": [
      "Iter 3: UB: 4528.44, LB: 4528.44, gap: 0.0%\n",
      "\n",
      "Optimal found.\n",
      " Objective value: 4528.44\n",
      " Total time: 2.26s\n",
      " gap: 0.0%\n",
      "\n",
      "Starting CCG decomposition...\n"
     ]
    },
    {
     "name": "stdout",
     "output_type": "stream",
     "text": [
      "Iter 1: UB: 4617.0, LB: 4542.0, gap: 1.62%\n"
     ]
    },
    {
     "name": "stdout",
     "output_type": "stream",
     "text": [
      "Iter 2: UB: 4613.25, LB: 4598.25, gap: 0.33%\n"
     ]
    },
    {
     "name": "stdout",
     "output_type": "stream",
     "text": [
      "Iter 3: UB: 4601.98, LB: 4601.98, gap: 0.0%\n",
      "\n",
      "Optimal found.\n",
      " Objective value: 4601.98\n",
      " Total time: 2.13s\n",
      " gap: 0.0%\n",
      "\n",
      "Starting CCG decomposition...\n"
     ]
    },
    {
     "name": "stdout",
     "output_type": "stream",
     "text": [
      "Iter 1: UB: 4677.0, LB: 4587.0, gap: 1.92%\n"
     ]
    },
    {
     "name": "stdout",
     "output_type": "stream",
     "text": [
      "Iter 2: UB: 4677.0, LB: 4654.5, gap: 0.48%\n"
     ]
    },
    {
     "name": "stdout",
     "output_type": "stream",
     "text": [
      "Iter 3: UB: 4677.0, LB: 4669.44, gap: 0.16%\n"
     ]
    },
    {
     "name": "stdout",
     "output_type": "stream",
     "text": [
      "Iter 4: UB: 4669.5, LB: 4669.5, gap: 0.0%\n",
      "\n",
      "Optimal found.\n",
      " Objective value: 4669.5\n",
      " Total time: 2.28s\n",
      " gap: 0.0%\n",
      "\n",
      "Starting CCG decomposition...\n"
     ]
    },
    {
     "name": "stdout",
     "output_type": "stream",
     "text": [
      "Iter 1: UB: 4749.0, LB: 4692.0, gap: 1.2%\n"
     ]
    },
    {
     "name": "stdout",
     "output_type": "stream",
     "text": [
      "Iter 2: UB: 4734.75, LB: 4734.75, gap: 0.0%\n",
      "\n",
      "Optimal found.\n",
      " Objective value: 4734.75\n",
      " Total time: 1.08s\n",
      " gap: 0.0%\n",
      "\n",
      "Starting CCG decomposition...\n"
     ]
    },
    {
     "name": "stdout",
     "output_type": "stream",
     "text": [
      "Iter 1: UB: 4794.0, LB: 4752.0, gap: 0.88%\n"
     ]
    },
    {
     "name": "stdout",
     "output_type": "stream",
     "text": [
      "Iter 2: UB: 4794.0, LB: 4783.5, gap: 0.22%\n"
     ]
    },
    {
     "name": "stdout",
     "output_type": "stream",
     "text": [
      "Iter 3: UB: 4790.97, LB: 4790.97, gap: 0.0%\n",
      "\n",
      "Optimal found.\n",
      " Objective value: 4790.97\n",
      " Total time: 0.5s\n",
      " gap: 0.0%\n",
      "\n",
      "Starting CCG decomposition...\n"
     ]
    },
    {
     "name": "stdout",
     "output_type": "stream",
     "text": [
      "Iter 1: UB: 4853.0, LB: 4817.0, gap: 0.74%\n",
      "Iter 2: UB: 4847.0, LB: 4826.0, gap: 0.43%\n"
     ]
    },
    {
     "name": "stdout",
     "output_type": "stream",
     "text": [
      "Iter 3: UB: 4841.73, LB: 4841.73, gap: 0.0%\n",
      "\n",
      "Optimal found.\n",
      " Objective value: 4841.73\n",
      " Total time: 0.29s\n",
      " gap: 0.0%\n",
      "\n",
      "Starting CCG decomposition...\n",
      "Iter 1: UB: 4892.0, LB: 4865.0, gap: 0.55%\n"
     ]
    },
    {
     "name": "stdout",
     "output_type": "stream",
     "text": [
      "Iter 2: UB: 4892.0, LB: 4885.25, gap: 0.14%\n",
      "Iter 3: UB: 4890.23, LB: 4890.23, gap: 0.0%\n",
      "\n",
      "Optimal found.\n",
      " Objective value: 4890.23\n",
      " Total time: 0.19s\n",
      " gap: 0.0%\n",
      "\n",
      "Starting CCG decomposition...\n"
     ]
    },
    {
     "name": "stdout",
     "output_type": "stream",
     "text": [
      "Iter 1: UB: 4940.0, LB: 4889.0, gap: 1.03%\n",
      "Iter 2: UB: 4939.03, LB: 4930.97, gap: 0.16%\n",
      "Iter 3: UB: 4932.98, LB: 4932.98, gap: 0.0%\n",
      "\n",
      "Optimal found.\n",
      " Objective value: 4932.98\n",
      " Total time: 0.11s\n",
      " gap: 0.0%\n",
      "\n",
      "Starting CCG decomposition...\n",
      "Iter 1: UB: 4973.0, LB: 4922.0, gap: 1.03%\n"
     ]
    },
    {
     "name": "stdout",
     "output_type": "stream",
     "text": [
      "Iter 2: UB: 4964.03, LB: 4963.97, gap: 0.0%\n",
      "\n",
      "Optimal found.\n",
      " Objective value: 4964.03\n",
      " Total time: 0.05s\n",
      " gap: 0.0%\n",
      "\n",
      "Starting CCG decomposition...\n",
      "Iter 1: UB: 4994.0, LB: 4985.0, gap: 0.18%\n",
      "Iter 2: UB: 4991.75, LB: 4991.75, gap: 0.0%\n",
      "\n",
      "Optimal found.\n",
      " Objective value: 4991.75\n",
      " Total time: 0.02s\n",
      " gap: 0.0%\n",
      "\n",
      "Starting CCG decomposition...\n",
      "Iter 1: UB: 5006.0, LB: 5006.0, gap: 0.0%\n",
      "\n",
      "Optimal found.\n",
      " Objective value: 5006.0\n",
      " Total time: 0.01s\n",
      " gap: 0.0%\n",
      "\n",
      "Starting CCG decomposition...\n",
      "Iter 1: UB: 5006.0, LB: 5006.0, gap: 0.0%\n",
      "\n",
      "Optimal found.\n",
      " Objective value: 5006.0\n",
      " Total time: 0.0s\n",
      " gap: 0.0%\n",
      "\n",
      "Starting CCG decomposition...\n",
      "Iter 1: UB: 5006.0, LB: 5006.0, gap: 0.0%\n",
      "\n",
      "Optimal found.\n",
      " Objective value: 5006.0\n",
      " Total time: 0.0s\n",
      " gap: 0.0%\n",
      "\n",
      "Starting CCG decomposition...\n",
      "Iter 1: UB: 5006.0, LB: 5006.0, gap: 0.0%\n",
      "\n",
      "Optimal found.\n",
      " Objective value: 5006.0\n",
      " Total time: 0.0s\n",
      " gap: 0.0%\n",
      "\n",
      "Starting CCG decomposition...\n",
      "Iter 1: UB: 5006.0, LB: 5006.0, gap: 0.0%\n",
      "\n",
      "Optimal found.\n",
      " Objective value: 5006.0\n",
      " Total time: 0.0s\n",
      " gap: 0.0%\n",
      "\n",
      "Starting CCG decomposition...\n",
      "Iter 1: UB: 5006.0, LB: 5006.0, gap: 0.0%\n",
      "\n",
      "Optimal found.\n",
      " Objective value: 5006.0\n",
      " Total time: 0.01s\n",
      " gap: 0.0%\n"
     ]
    },
    {
     "data": {
      "image/png": "[encoded data removed]",
      "image/svg+xml": [
       "<?xml version=\"1.0\" encoding=\"utf-8\"?>\n",
       "<svg xmlns=\"http://www.w3.org/2000/svg\" xmlns:xlink=\"http://www.w3.org/1999/xlink\" width=\"600\" height=\"400\" viewBox=\"0 0 2400 1600\">\n",
       "<defs>\n",
       "  <clipPath id=\"clip190\">\n",
       "    <rect x=\"0\" y=\"0\" width=\"2400\" height=\"1600\"/>\n",
       "  </clipPath>\n",
       "</defs>\n",
       "<path clip-path=\"url(#clip190)\" d=\"M0 1600 L2400 1600 L2400 0 L0 0  Z\" fill=\"#ffffff\" fill-rule=\"evenodd\" fill-opacity=\"1\"/>\n",
       "<defs>\n",
       "  <clipPath id=\"clip191\">\n",
       "    <rect x=\"480\" y=\"0\" width=\"1681\" height=\"1600\"/>\n",
       "  </clipPath>\n",
       "</defs>\n",
       "<path clip-path=\"url(#clip190)\" d=\"M202.177 1423.18 L2352.76 1423.18 L2352.76 47.2441 L202.177 47.2441  Z\" fill=\"#ffffff\" fill-rule=\"evenodd\" fill-opacity=\"1\"/>\n",
       "<defs>\n",
       "  <clipPath id=\"clip192\">\n",
       "    <rect x=\"202\" y=\"47\" width=\"2152\" height=\"1377\"/>\n",
       "  </clipPath>\n",
       "</defs>\n",
       "<polyline clip-path=\"url(#clip192)\" style=\"stroke:#000000; stroke-linecap:round; stroke-linejoin:round; stroke-width:2; stroke-opacity:0.1; fill:none\" points=\"601.184,1423.18 601.184,47.2441 \"/>\n",
       "<polyline clip-path=\"url(#clip192)\" style=\"stroke:#000000; stroke-linecap:round; stroke-linejoin:round; stroke-width:2; stroke-opacity:0.1; fill:none\" points=\"1023.86,1423.18 1023.86,47.2441 \"/>\n",
       "<polyline clip-path=\"url(#clip192)\" style=\"stroke:#000000; stroke-linecap:round; stroke-linejoin:round; stroke-width:2; stroke-opacity:0.1; fill:none\" points=\"1446.54,1423.18 1446.54,47.2441 \"/>\n",
       "<polyline clip-path=\"url(#clip192)\" style=\"stroke:#000000; stroke-linecap:round; stroke-linejoin:round; stroke-width:2; stroke-opacity:0.1; fill:none\" points=\"1869.21,1423.18 1869.21,47.2441 \"/>\n",
       "<polyline clip-path=\"url(#clip192)\" style=\"stroke:#000000; stroke-linecap:round; stroke-linejoin:round; stroke-width:2; stroke-opacity:0.1; fill:none\" points=\"2291.89,1423.18 2291.89,47.2441 \"/>\n",
       "<polyline clip-path=\"url(#clip190)\" style=\"stroke:#000000; stroke-linecap:round; stroke-linejoin:round; stroke-width:4; stroke-opacity:1; fill:none\" points=\"202.177,1423.18 2352.76,1423.18 \"/>\n",
       "<polyline clip-path=\"url(#clip190)\" style=\"stroke:#000000; stroke-linecap:round; stroke-linejoin:round; stroke-width:4; stroke-opacity:1; fill:none\" points=\"601.184,1423.18 601.184,1404.28 \"/>\n",
       "<polyline clip-path=\"url(#clip190)\" style=\"stroke:#000000; stroke-linecap:round; stroke-linejoin:round; stroke-width:4; stroke-opacity:1; fill:none\" points=\"1023.86,1423.18 1023.86,1404.28 \"/>\n",
       "<polyline clip-path=\"url(#clip190)\" style=\"stroke:#000000; stroke-linecap:round; stroke-linejoin:round; stroke-width:4; stroke-opacity:1; fill:none\" points=\"1446.54,1423.18 1446.54,1404.28 \"/>\n",
       "<polyline clip-path=\"url(#clip190)\" style=\"stroke:#000000; stroke-linecap:round; stroke-linejoin:round; stroke-width:4; stroke-opacity:1; fill:none\" points=\"1869.21,1423.18 1869.21,1404.28 \"/>\n",
       "<polyline clip-path=\"url(#clip190)\" style=\"stroke:#000000; stroke-linecap:round; stroke-linejoin:round; stroke-width:4; stroke-opacity:1; fill:none\" points=\"2291.89,1423.18 2291.89,1404.28 \"/>\n",
       "<path clip-path=\"url(#clip190)\" d=\"M591.461 1451.02 L609.818 1451.02 L609.818 1454.96 L595.744 1454.96 L595.744 1463.43 Q596.762 1463.08 597.781 1462.92 Q598.799 1462.73 599.818 1462.73 Q605.605 1462.73 608.984 1465.9 Q612.364 1469.08 612.364 1474.49 Q612.364 1480.07 608.892 1483.17 Q605.42 1486.25 599.1 1486.25 Q596.924 1486.25 594.656 1485.88 Q592.41 1485.51 590.003 1484.77 L590.003 1480.07 Q592.086 1481.2 594.309 1481.76 Q596.531 1482.32 599.008 1482.32 Q603.012 1482.32 605.35 1480.21 Q607.688 1478.1 607.688 1474.49 Q607.688 1470.88 605.35 1468.77 Q603.012 1466.67 599.008 1466.67 Q597.133 1466.67 595.258 1467.08 Q593.406 1467.5 591.461 1468.38 L591.461 1451.02 Z\" fill=\"#000000\" fill-rule=\"nonzero\" fill-opacity=\"1\" /><path clip-path=\"url(#clip190)\" d=\"M998.548 1481.64 L1006.19 1481.64 L1006.19 1455.28 L997.877 1456.95 L997.877 1452.69 L1006.14 1451.02 L1010.82 1451.02 L1010.82 1481.64 L1018.46 1481.64 L1018.46 1485.58 L998.548 1485.58 L998.548 1481.64 Z\" fill=\"#000000\" fill-rule=\"nonzero\" fill-opacity=\"1\" /><path clip-path=\"url(#clip190)\" d=\"M1037.9 1454.1 Q1034.29 1454.1 1032.46 1457.66 Q1030.65 1461.2 1030.65 1468.33 Q1030.65 1475.44 1032.46 1479.01 Q1034.29 1482.55 1037.9 1482.55 Q1041.53 1482.55 1043.34 1479.01 Q1045.17 1475.44 1045.17 1468.33 Q1045.17 1461.2 1043.34 1457.66 Q1041.53 1454.1 1037.9 1454.1 M1037.9 1450.39 Q1043.71 1450.39 1046.77 1455 Q1049.84 1459.58 1049.84 1468.33 Q1049.84 1477.06 1046.77 1481.67 Q1043.71 1486.25 1037.9 1486.25 Q1032.09 1486.25 1029.01 1481.67 Q1025.96 1477.06 1025.96 1468.33 Q1025.96 1459.58 1029.01 1455 Q1032.09 1450.39 1037.9 1450.39 Z\" fill=\"#000000\" fill-rule=\"nonzero\" fill-opacity=\"1\" /><path clip-path=\"url(#clip190)\" d=\"M1421.72 1481.64 L1429.36 1481.64 L1429.36 1455.28 L1421.05 1456.95 L1421.05 1452.69 L1429.31 1451.02 L1433.99 1451.02 L1433.99 1481.64 L1441.63 1481.64 L1441.63 1485.58 L1421.72 1485.58 L1421.72 1481.64 Z\" fill=\"#000000\" fill-rule=\"nonzero\" fill-opacity=\"1\" /><path clip-path=\"url(#clip190)\" d=\"M1451.12 1451.02 L1469.48 1451.02 L1469.48 1454.96 L1455.4 1454.96 L1455.4 1463.43 Q1456.42 1463.08 1457.44 1462.92 Q1458.46 1462.73 1459.48 1462.73 Q1465.26 1462.73 1468.64 1465.9 Q1472.02 1469.08 1472.02 1474.49 Q1472.02 1480.07 1468.55 1483.17 Q1465.08 1486.25 1458.76 1486.25 Q1456.58 1486.25 1454.31 1485.88 Q1452.07 1485.51 1449.66 1484.77 L1449.66 1480.07 Q1451.75 1481.2 1453.97 1481.76 Q1456.19 1482.32 1458.67 1482.32 Q1462.67 1482.32 1465.01 1480.21 Q1467.35 1478.1 1467.35 1474.49 Q1467.35 1470.88 1465.01 1468.77 Q1462.67 1466.67 1458.67 1466.67 Q1456.79 1466.67 1454.92 1467.08 Q1453.06 1467.5 1451.12 1468.38 L1451.12 1451.02 Z\" fill=\"#000000\" fill-rule=\"nonzero\" fill-opacity=\"1\" /><path clip-path=\"url(#clip190)\" d=\"M1847.99 1481.64 L1864.31 1481.64 L1864.31 1485.58 L1842.36 1485.58 L1842.36 1481.64 Q1845.02 1478.89 1849.61 1474.26 Q1854.21 1469.61 1855.39 1468.27 Q1857.64 1465.74 1858.52 1464.01 Q1859.42 1462.25 1859.42 1460.56 Q1859.42 1457.8 1857.48 1456.07 Q1855.56 1454.33 1852.45 1454.33 Q1850.26 1454.33 1847.8 1455.09 Q1845.37 1455.86 1842.59 1457.41 L1842.59 1452.69 Q1845.42 1451.55 1847.87 1450.97 Q1850.32 1450.39 1852.36 1450.39 Q1857.73 1450.39 1860.93 1453.08 Q1864.12 1455.77 1864.12 1460.26 Q1864.12 1462.39 1863.31 1464.31 Q1862.52 1466.2 1860.42 1468.8 Q1859.84 1469.47 1856.74 1472.69 Q1853.64 1475.88 1847.99 1481.64 Z\" fill=\"#000000\" fill-rule=\"nonzero\" fill-opacity=\"1\" /><path clip-path=\"url(#clip190)\" d=\"M1884.12 1454.1 Q1880.51 1454.1 1878.68 1457.66 Q1876.88 1461.2 1876.88 1468.33 Q1876.88 1475.44 1878.68 1479.01 Q1880.51 1482.55 1884.12 1482.55 Q1887.76 1482.55 1889.56 1479.01 Q1891.39 1475.44 1891.39 1468.33 Q1891.39 1461.2 1889.56 1457.66 Q1887.76 1454.1 1884.12 1454.1 M1884.12 1450.39 Q1889.93 1450.39 1892.99 1455 Q1896.07 1459.58 1896.07 1468.33 Q1896.07 1477.06 1892.99 1481.67 Q1889.93 1486.25 1884.12 1486.25 Q1878.31 1486.25 1875.23 1481.67 Q1872.18 1477.06 1872.18 1468.33 Q1872.18 1459.58 1875.23 1455 Q1878.31 1450.39 1884.12 1450.39 Z\" fill=\"#000000\" fill-rule=\"nonzero\" fill-opacity=\"1\" /><path clip-path=\"url(#clip190)\" d=\"M2271.16 1481.64 L2287.48 1481.64 L2287.48 1485.58 L2265.54 1485.58 L2265.54 1481.64 Q2268.2 1478.89 2272.78 1474.26 Q2277.39 1469.61 2278.57 1468.27 Q2280.81 1465.74 2281.69 1464.01 Q2282.6 1462.25 2282.6 1460.56 Q2282.6 1457.8 2280.65 1456.07 Q2278.73 1454.33 2275.63 1454.33 Q2273.43 1454.33 2270.98 1455.09 Q2268.55 1455.86 2265.77 1457.41 L2265.77 1452.69 Q2268.59 1451.55 2271.05 1450.97 Q2273.5 1450.39 2275.54 1450.39 Q2280.91 1450.39 2284.1 1453.08 Q2287.3 1455.77 2287.3 1460.26 Q2287.3 1462.39 2286.49 1464.31 Q2285.7 1466.2 2283.59 1468.8 Q2283.01 1469.47 2279.91 1472.69 Q2276.81 1475.88 2271.16 1481.64 Z\" fill=\"#000000\" fill-rule=\"nonzero\" fill-opacity=\"1\" /><path clip-path=\"url(#clip190)\" d=\"M2297.34 1451.02 L2315.7 1451.02 L2315.7 1454.96 L2301.62 1454.96 L2301.62 1463.43 Q2302.64 1463.08 2303.66 1462.92 Q2304.68 1462.73 2305.7 1462.73 Q2311.49 1462.73 2314.86 1465.9 Q2318.24 1469.08 2318.24 1474.49 Q2318.24 1480.07 2314.77 1483.17 Q2311.3 1486.25 2304.98 1486.25 Q2302.8 1486.25 2300.54 1485.88 Q2298.29 1485.51 2295.88 1484.77 L2295.88 1480.07 Q2297.97 1481.2 2300.19 1481.76 Q2302.41 1482.32 2304.89 1482.32 Q2308.89 1482.32 2311.23 1480.21 Q2313.57 1478.1 2313.57 1474.49 Q2313.57 1470.88 2311.23 1468.77 Q2308.89 1466.67 2304.89 1466.67 Q2303.01 1466.67 2301.14 1467.08 Q2299.29 1467.5 2297.34 1468.38 L2297.34 1451.02 Z\" fill=\"#000000\" fill-rule=\"nonzero\" fill-opacity=\"1\" /><path clip-path=\"url(#clip190)\" d=\"M1262.68 1568.04 L1262.68 1520.52 L1292.25 1520.52 L1292.25 1525.93 L1269.11 1525.93 L1269.11 1568.04 L1262.68 1568.04 Z\" fill=\"#000000\" fill-rule=\"nonzero\" fill-opacity=\"1\" /><polyline clip-path=\"url(#clip192)\" style=\"stroke:#000000; stroke-linecap:round; stroke-linejoin:round; stroke-width:2; stroke-opacity:0.1; fill:none\" points=\"202.177,1352.45 2352.76,1352.45 \"/>\n",
       "<polyline clip-path=\"url(#clip192)\" style=\"stroke:#000000; stroke-linecap:round; stroke-linejoin:round; stroke-width:2; stroke-opacity:0.1; fill:none\" points=\"202.177,1082.27 2352.76,1082.27 \"/>\n",
       "<polyline clip-path=\"url(#clip192)\" style=\"stroke:#000000; stroke-linecap:round; stroke-linejoin:round; stroke-width:2; stroke-opacity:0.1; fill:none\" points=\"202.177,812.083 2352.76,812.083 \"/>\n",
       "<polyline clip-path=\"url(#clip192)\" style=\"stroke:#000000; stroke-linecap:round; stroke-linejoin:round; stroke-width:2; stroke-opacity:0.1; fill:none\" points=\"202.177,541.898 2352.76,541.898 \"/>\n",
       "<polyline clip-path=\"url(#clip192)\" style=\"stroke:#000000; stroke-linecap:round; stroke-linejoin:round; stroke-width:2; stroke-opacity:0.1; fill:none\" points=\"202.177,271.713 2352.76,271.713 \"/>\n",
       "<polyline clip-path=\"url(#clip190)\" style=\"stroke:#000000; stroke-linecap:round; stroke-linejoin:round; stroke-width:4; stroke-opacity:1; fill:none\" points=\"202.177,1423.18 202.177,47.2441 \"/>\n",
       "<polyline clip-path=\"url(#clip190)\" style=\"stroke:#000000; stroke-linecap:round; stroke-linejoin:round; stroke-width:4; stroke-opacity:1; fill:none\" points=\"202.177,1352.45 221.074,1352.45 \"/>\n",
       "<polyline clip-path=\"url(#clip190)\" style=\"stroke:#000000; stroke-linecap:round; stroke-linejoin:round; stroke-width:4; stroke-opacity:1; fill:none\" points=\"202.177,1082.27 221.074,1082.27 \"/>\n",
       "<polyline clip-path=\"url(#clip190)\" style=\"stroke:#000000; stroke-linecap:round; stroke-linejoin:round; stroke-width:4; stroke-opacity:1; fill:none\" points=\"202.177,812.083 221.074,812.083 \"/>\n",
       "<polyline clip-path=\"url(#clip190)\" style=\"stroke:#000000; stroke-linecap:round; stroke-linejoin:round; stroke-width:4; stroke-opacity:1; fill:none\" points=\"202.177,541.898 221.074,541.898 \"/>\n",
       "<polyline clip-path=\"url(#clip190)\" style=\"stroke:#000000; stroke-linecap:round; stroke-linejoin:round; stroke-width:4; stroke-opacity:1; fill:none\" points=\"202.177,271.713 221.074,271.713 \"/>\n",
       "<path clip-path=\"url(#clip190)\" d=\"M67.9133 1351.1 Q71.2698 1351.82 73.1448 1354.09 Q75.0429 1356.35 75.0429 1359.69 Q75.0429 1364.8 71.5244 1367.6 Q68.0059 1370.4 61.5245 1370.4 Q59.3486 1370.4 57.0338 1369.96 Q54.7421 1369.55 52.2884 1368.69 L52.2884 1364.18 Q54.2328 1365.31 56.5477 1365.89 Q58.8625 1366.47 61.3856 1366.47 Q65.7837 1366.47 68.0754 1364.73 Q70.3902 1363 70.3902 1359.69 Q70.3902 1356.63 68.2374 1354.92 Q66.1078 1353.18 62.2884 1353.18 L58.2606 1353.18 L58.2606 1349.34 L62.4735 1349.34 Q65.9226 1349.34 67.7513 1347.97 Q69.58 1346.59 69.58 1343.99 Q69.58 1341.33 67.6819 1339.92 Q65.8069 1338.48 62.2884 1338.48 Q60.3671 1338.48 58.168 1338.9 Q55.969 1339.32 53.3301 1340.2 L53.3301 1336.03 Q55.9921 1335.29 58.3069 1334.92 Q60.6449 1334.55 62.705 1334.55 Q68.0291 1334.55 71.1309 1336.98 Q74.2327 1339.39 74.2327 1343.51 Q74.2327 1346.38 72.5892 1348.37 Q70.9457 1350.34 67.9133 1351.1 Z\" fill=\"#000000\" fill-rule=\"nonzero\" fill-opacity=\"1\" /><path clip-path=\"url(#clip190)\" d=\"M94.4873 1350.59 Q91.3391 1350.59 89.4873 1352.74 Q87.6586 1354.9 87.6586 1358.65 Q87.6586 1362.37 89.4873 1364.55 Q91.3391 1366.7 94.4873 1366.7 Q97.6354 1366.7 99.4641 1364.55 Q101.316 1362.37 101.316 1358.65 Q101.316 1354.9 99.4641 1352.74 Q97.6354 1350.59 94.4873 1350.59 M103.77 1335.94 L103.77 1340.2 Q102.01 1339.36 100.205 1338.92 Q98.4224 1338.48 96.6632 1338.48 Q92.0336 1338.48 89.5799 1341.61 Q87.1493 1344.73 86.8021 1351.05 Q88.1679 1349.04 90.228 1347.97 Q92.2882 1346.89 94.765 1346.89 Q99.9733 1346.89 102.983 1350.06 Q106.015 1353.21 106.015 1358.65 Q106.015 1363.97 102.867 1367.19 Q99.7187 1370.4 94.4873 1370.4 Q88.4919 1370.4 85.3206 1365.82 Q82.1494 1361.21 82.1494 1352.49 Q82.1494 1344.29 86.0382 1339.43 Q89.9271 1334.55 96.478 1334.55 Q98.2372 1334.55 100.02 1334.9 Q101.825 1335.24 103.77 1335.94 Z\" fill=\"#000000\" fill-rule=\"nonzero\" fill-opacity=\"1\" /><path clip-path=\"url(#clip190)\" d=\"M124.07 1338.25 Q120.459 1338.25 118.631 1341.82 Q116.825 1345.36 116.825 1352.49 Q116.825 1359.59 118.631 1363.16 Q120.459 1366.7 124.07 1366.7 Q127.705 1366.7 129.51 1363.16 Q131.339 1359.59 131.339 1352.49 Q131.339 1345.36 129.51 1341.82 Q127.705 1338.25 124.07 1338.25 M124.07 1334.55 Q129.881 1334.55 132.936 1339.15 Q136.015 1343.74 136.015 1352.49 Q136.015 1361.21 132.936 1365.82 Q129.881 1370.4 124.07 1370.4 Q118.26 1370.4 115.182 1365.82 Q112.126 1361.21 112.126 1352.49 Q112.126 1343.74 115.182 1339.15 Q118.26 1334.55 124.07 1334.55 Z\" fill=\"#000000\" fill-rule=\"nonzero\" fill-opacity=\"1\" /><path clip-path=\"url(#clip190)\" d=\"M154.232 1338.25 Q150.621 1338.25 148.793 1341.82 Q146.987 1345.36 146.987 1352.49 Q146.987 1359.59 148.793 1363.16 Q150.621 1366.7 154.232 1366.7 Q157.867 1366.7 159.672 1363.16 Q161.501 1359.59 161.501 1352.49 Q161.501 1345.36 159.672 1341.82 Q157.867 1338.25 154.232 1338.25 M154.232 1334.55 Q160.042 1334.55 163.098 1339.15 Q166.177 1343.74 166.177 1352.49 Q166.177 1361.21 163.098 1365.82 Q160.042 1370.4 154.232 1370.4 Q148.422 1370.4 145.343 1365.82 Q142.288 1361.21 142.288 1352.49 Q142.288 1343.74 145.343 1339.15 Q148.422 1334.55 154.232 1334.55 Z\" fill=\"#000000\" fill-rule=\"nonzero\" fill-opacity=\"1\" /><path clip-path=\"url(#clip190)\" d=\"M67.9133 1080.91 Q71.2698 1081.63 73.1448 1083.9 Q75.0429 1086.17 75.0429 1089.5 Q75.0429 1094.62 71.5244 1097.42 Q68.0059 1100.22 61.5245 1100.22 Q59.3486 1100.22 57.0338 1099.78 Q54.7421 1099.36 52.2884 1098.51 L52.2884 1093.99 Q54.2328 1095.13 56.5477 1095.71 Q58.8625 1096.28 61.3856 1096.28 Q65.7837 1096.28 68.0754 1094.55 Q70.3902 1092.81 70.3902 1089.5 Q70.3902 1086.45 68.2374 1084.73 Q66.1078 1083 62.2884 1083 L58.2606 1083 L58.2606 1079.15 L62.4735 1079.15 Q65.9226 1079.15 67.7513 1077.79 Q69.58 1076.4 69.58 1073.81 Q69.58 1071.15 67.6819 1069.73 Q65.8069 1068.3 62.2884 1068.3 Q60.3671 1068.3 58.168 1068.71 Q55.969 1069.13 53.3301 1070.01 L53.3301 1065.84 Q55.9921 1065.1 58.3069 1064.73 Q60.6449 1064.36 62.705 1064.36 Q68.0291 1064.36 71.1309 1066.79 Q74.2327 1069.2 74.2327 1073.32 Q74.2327 1076.19 72.5892 1078.18 Q70.9457 1080.15 67.9133 1080.91 Z\" fill=\"#000000\" fill-rule=\"nonzero\" fill-opacity=\"1\" /><path clip-path=\"url(#clip190)\" d=\"M84.0475 1098.83 L84.0475 1094.57 Q85.8068 1095.4 87.6123 1095.84 Q89.4178 1096.28 91.1539 1096.28 Q95.7836 1096.28 98.2141 1093.18 Q100.668 1090.06 101.015 1083.71 Q99.6724 1085.71 97.6122 1086.77 Q95.5521 1087.84 93.0521 1087.84 Q87.8669 1087.84 84.8345 1084.71 Q81.8253 1081.56 81.8253 1076.12 Q81.8253 1070.8 84.9734 1067.58 Q88.1216 1064.36 93.353 1064.36 Q99.3483 1064.36 102.496 1068.97 Q105.668 1073.55 105.668 1082.3 Q105.668 1090.47 101.779 1095.36 Q97.9132 1100.22 91.3623 1100.22 Q89.603 1100.22 87.7975 1099.87 Q85.9919 1099.52 84.0475 1098.83 M93.353 1084.18 Q96.5011 1084.18 98.3298 1082.02 Q100.182 1079.87 100.182 1076.12 Q100.182 1072.4 98.3298 1070.24 Q96.5011 1068.07 93.353 1068.07 Q90.2049 1068.07 88.353 1070.24 Q86.5243 1072.4 86.5243 1076.12 Q86.5243 1079.87 88.353 1082.02 Q90.2049 1084.18 93.353 1084.18 Z\" fill=\"#000000\" fill-rule=\"nonzero\" fill-opacity=\"1\" /><path clip-path=\"url(#clip190)\" d=\"M124.07 1068.07 Q120.459 1068.07 118.631 1071.63 Q116.825 1075.17 116.825 1082.3 Q116.825 1089.41 118.631 1092.97 Q120.459 1096.52 124.07 1096.52 Q127.705 1096.52 129.51 1092.97 Q131.339 1089.41 131.339 1082.3 Q131.339 1075.17 129.51 1071.63 Q127.705 1068.07 124.07 1068.07 M124.07 1064.36 Q129.881 1064.36 132.936 1068.97 Q136.015 1073.55 136.015 1082.3 Q136.015 1091.03 132.936 1095.64 Q129.881 1100.22 124.07 1100.22 Q118.26 1100.22 115.182 1095.64 Q112.126 1091.03 112.126 1082.3 Q112.126 1073.55 115.182 1068.97 Q118.26 1064.36 124.07 1064.36 Z\" fill=\"#000000\" fill-rule=\"nonzero\" fill-opacity=\"1\" /><path clip-path=\"url(#clip190)\" d=\"M154.232 1068.07 Q150.621 1068.07 148.793 1071.63 Q146.987 1075.17 146.987 1082.3 Q146.987 1089.41 148.793 1092.97 Q150.621 1096.52 154.232 1096.52 Q157.867 1096.52 159.672 1092.97 Q161.501 1089.41 161.501 1082.3 Q161.501 1075.17 159.672 1071.63 Q157.867 1068.07 154.232 1068.07 M154.232 1064.36 Q160.042 1064.36 163.098 1068.97 Q166.177 1073.55 166.177 1082.3 Q166.177 1091.03 163.098 1095.64 Q160.042 1100.22 154.232 1100.22 Q148.422 1100.22 145.343 1095.64 Q142.288 1091.03 142.288 1082.3 Q142.288 1073.55 145.343 1068.97 Q148.422 1064.36 154.232 1064.36 Z\" fill=\"#000000\" fill-rule=\"nonzero\" fill-opacity=\"1\" /><path clip-path=\"url(#clip190)\" d=\"M66.5939 798.877 L54.7884 817.326 L66.5939 817.326 L66.5939 798.877 M65.367 794.803 L71.2466 794.803 L71.2466 817.326 L76.1772 817.326 L76.1772 821.215 L71.2466 821.215 L71.2466 829.363 L66.5939 829.363 L66.5939 821.215 L50.9921 821.215 L50.9921 816.701 L65.367 794.803 Z\" fill=\"#000000\" fill-rule=\"nonzero\" fill-opacity=\"1\" /><path clip-path=\"url(#clip190)\" d=\"M87.9364 825.428 L104.256 825.428 L104.256 829.363 L82.3114 829.363 L82.3114 825.428 Q84.9734 822.673 89.5567 818.044 Q94.1632 813.391 95.3437 812.048 Q97.5891 809.525 98.4687 807.789 Q99.3715 806.03 99.3715 804.34 Q99.3715 801.585 97.4271 799.849 Q95.5058 798.113 92.4039 798.113 Q90.2049 798.113 87.7512 798.877 Q85.3206 799.641 82.5429 801.192 L82.5429 796.47 Q85.3669 795.335 87.8206 794.757 Q90.2743 794.178 92.3113 794.178 Q97.6817 794.178 100.876 796.863 Q104.071 799.548 104.071 804.039 Q104.071 806.169 103.26 808.09 Q102.473 809.988 100.367 812.581 Q99.7882 813.252 96.6863 816.469 Q93.5845 819.664 87.9364 825.428 Z\" fill=\"#000000\" fill-rule=\"nonzero\" fill-opacity=\"1\" /><path clip-path=\"url(#clip190)\" d=\"M124.07 797.882 Q120.459 797.882 118.631 801.446 Q116.825 804.988 116.825 812.118 Q116.825 819.224 118.631 822.789 Q120.459 826.331 124.07 826.331 Q127.705 826.331 129.51 822.789 Q131.339 819.224 131.339 812.118 Q131.339 804.988 129.51 801.446 Q127.705 797.882 124.07 797.882 M124.07 794.178 Q129.881 794.178 132.936 798.784 Q136.015 803.368 136.015 812.118 Q136.015 820.844 132.936 825.451 Q129.881 830.034 124.07 830.034 Q118.26 830.034 115.182 825.451 Q112.126 820.844 112.126 812.118 Q112.126 803.368 115.182 798.784 Q118.26 794.178 124.07 794.178 Z\" fill=\"#000000\" fill-rule=\"nonzero\" fill-opacity=\"1\" /><path clip-path=\"url(#clip190)\" d=\"M154.232 797.882 Q150.621 797.882 148.793 801.446 Q146.987 804.988 146.987 812.118 Q146.987 819.224 148.793 822.789 Q150.621 826.331 154.232 826.331 Q157.867 826.331 159.672 822.789 Q161.501 819.224 161.501 812.118 Q161.501 804.988 159.672 801.446 Q157.867 797.882 154.232 797.882 M154.232 794.178 Q160.042 794.178 163.098 798.784 Q166.177 803.368 166.177 812.118 Q166.177 820.844 163.098 825.451 Q160.042 830.034 154.232 830.034 Q148.422 830.034 145.343 825.451 Q142.288 820.844 142.288 812.118 Q142.288 803.368 145.343 798.784 Q148.422 794.178 154.232 794.178 Z\" fill=\"#000000\" fill-rule=\"nonzero\" fill-opacity=\"1\" /><path clip-path=\"url(#clip190)\" d=\"M66.5939 528.692 L54.7884 547.141 L66.5939 547.141 L66.5939 528.692 M65.367 524.618 L71.2466 524.618 L71.2466 547.141 L76.1772 547.141 L76.1772 551.03 L71.2466 551.03 L71.2466 559.178 L66.5939 559.178 L66.5939 551.03 L50.9921 551.03 L50.9921 546.516 L65.367 524.618 Z\" fill=\"#000000\" fill-rule=\"nonzero\" fill-opacity=\"1\" /><path clip-path=\"url(#clip190)\" d=\"M83.9549 524.618 L102.311 524.618 L102.311 528.553 L88.2373 528.553 L88.2373 537.025 Q89.2558 536.678 90.2743 536.516 Q91.2928 536.331 92.3113 536.331 Q98.0984 536.331 101.478 539.502 Q104.858 542.673 104.858 548.09 Q104.858 553.669 101.385 556.77 Q97.9132 559.849 91.5938 559.849 Q89.4178 559.849 87.1493 559.479 Q84.904 559.108 82.4966 558.368 L82.4966 553.669 Q84.5799 554.803 86.8021 555.358 Q89.0243 555.914 91.5012 555.914 Q95.5058 555.914 97.8437 553.807 Q100.182 551.701 100.182 548.09 Q100.182 544.479 97.8437 542.372 Q95.5058 540.266 91.5012 540.266 Q89.6262 540.266 87.7512 540.683 Q85.8993 541.099 83.9549 541.979 L83.9549 524.618 Z\" fill=\"#000000\" fill-rule=\"nonzero\" fill-opacity=\"1\" /><path clip-path=\"url(#clip190)\" d=\"M124.07 527.697 Q120.459 527.697 118.631 531.261 Q116.825 534.803 116.825 541.933 Q116.825 549.039 118.631 552.604 Q120.459 556.145 124.07 556.145 Q127.705 556.145 129.51 552.604 Q131.339 549.039 131.339 541.933 Q131.339 534.803 129.51 531.261 Q127.705 527.697 124.07 527.697 M124.07 523.993 Q129.881 523.993 132.936 528.599 Q136.015 533.183 136.015 541.933 Q136.015 550.659 132.936 555.266 Q129.881 559.849 124.07 559.849 Q118.26 559.849 115.182 555.266 Q112.126 550.659 112.126 541.933 Q112.126 533.183 115.182 528.599 Q118.26 523.993 124.07 523.993 Z\" fill=\"#000000\" fill-rule=\"nonzero\" fill-opacity=\"1\" /><path clip-path=\"url(#clip190)\" d=\"M154.232 527.697 Q150.621 527.697 148.793 531.261 Q146.987 534.803 146.987 541.933 Q146.987 549.039 148.793 552.604 Q150.621 556.145 154.232 556.145 Q157.867 556.145 159.672 552.604 Q161.501 549.039 161.501 541.933 Q161.501 534.803 159.672 531.261 Q157.867 527.697 154.232 527.697 M154.232 523.993 Q160.042 523.993 163.098 528.599 Q166.177 533.183 166.177 541.933 Q166.177 550.659 163.098 555.266 Q160.042 559.849 154.232 559.849 Q148.422 559.849 145.343 555.266 Q142.288 550.659 142.288 541.933 Q142.288 533.183 145.343 528.599 Q148.422 523.993 154.232 523.993 Z\" fill=\"#000000\" fill-rule=\"nonzero\" fill-opacity=\"1\" /><path clip-path=\"url(#clip190)\" d=\"M66.5939 258.507 L54.7884 276.956 L66.5939 276.956 L66.5939 258.507 M65.367 254.433 L71.2466 254.433 L71.2466 276.956 L76.1772 276.956 L76.1772 280.845 L71.2466 280.845 L71.2466 288.993 L66.5939 288.993 L66.5939 280.845 L50.9921 280.845 L50.9921 276.331 L65.367 254.433 Z\" fill=\"#000000\" fill-rule=\"nonzero\" fill-opacity=\"1\" /><path clip-path=\"url(#clip190)\" d=\"M93.9086 272.581 Q90.5752 272.581 88.654 274.363 Q86.7558 276.146 86.7558 279.271 Q86.7558 282.396 88.654 284.178 Q90.5752 285.96 93.9086 285.96 Q97.2419 285.96 99.1632 284.178 Q101.084 282.372 101.084 279.271 Q101.084 276.146 99.1632 274.363 Q97.265 272.581 93.9086 272.581 M89.2327 270.59 Q86.2234 269.849 84.5336 267.789 Q82.867 265.729 82.867 262.766 Q82.867 258.623 85.8068 256.215 Q88.7697 253.808 93.9086 253.808 Q99.0706 253.808 102.01 256.215 Q104.95 258.623 104.95 262.766 Q104.95 265.729 103.26 267.789 Q101.594 269.849 98.6076 270.59 Q101.987 271.377 103.862 273.669 Q105.76 275.96 105.76 279.271 Q105.76 284.294 102.682 286.979 Q99.6261 289.664 93.9086 289.664 Q88.191 289.664 85.1123 286.979 Q82.0568 284.294 82.0568 279.271 Q82.0568 275.96 83.9549 273.669 Q85.8531 271.377 89.2327 270.59 M87.5197 263.206 Q87.5197 265.891 89.1864 267.396 Q90.8762 268.9 93.9086 268.9 Q96.9178 268.9 98.6076 267.396 Q100.321 265.891 100.321 263.206 Q100.321 260.521 98.6076 259.016 Q96.9178 257.511 93.9086 257.511 Q90.8762 257.511 89.1864 259.016 Q87.5197 260.521 87.5197 263.206 Z\" fill=\"#000000\" fill-rule=\"nonzero\" fill-opacity=\"1\" /><path clip-path=\"url(#clip190)\" d=\"M124.07 257.511 Q120.459 257.511 118.631 261.076 Q116.825 264.618 116.825 271.747 Q116.825 278.854 118.631 282.419 Q120.459 285.96 124.07 285.96 Q127.705 285.96 129.51 282.419 Q131.339 278.854 131.339 271.747 Q131.339 264.618 129.51 261.076 Q127.705 257.511 124.07 257.511 M124.07 253.808 Q129.881 253.808 132.936 258.414 Q136.015 262.998 136.015 271.747 Q136.015 280.474 132.936 285.081 Q129.881 289.664 124.07 289.664 Q118.26 289.664 115.182 285.081 Q112.126 280.474 112.126 271.747 Q112.126 262.998 115.182 258.414 Q118.26 253.808 124.07 253.808 Z\" fill=\"#000000\" fill-rule=\"nonzero\" fill-opacity=\"1\" /><path clip-path=\"url(#clip190)\" d=\"M154.232 257.511 Q150.621 257.511 148.793 261.076 Q146.987 264.618 146.987 271.747 Q146.987 278.854 148.793 282.419 Q150.621 285.96 154.232 285.96 Q157.867 285.96 159.672 282.419 Q161.501 278.854 161.501 271.747 Q161.501 264.618 159.672 261.076 Q157.867 257.511 154.232 257.511 M154.232 253.808 Q160.042 253.808 163.098 258.414 Q166.177 262.998 166.177 271.747 Q166.177 280.474 163.098 285.081 Q160.042 289.664 154.232 289.664 Q148.422 289.664 145.343 285.081 Q142.288 280.474 142.288 271.747 Q142.288 262.998 145.343 258.414 Q148.422 253.808 154.232 253.808 Z\" fill=\"#000000\" fill-rule=\"nonzero\" fill-opacity=\"1\" /><polyline clip-path=\"url(#clip192)\" style=\"stroke:#009af9; stroke-linecap:round; stroke-linejoin:round; stroke-width:4; stroke-opacity:1; fill:none\" points=\"263.042,1384.24 347.577,1239.16 432.113,1118.76 516.648,1013.82 601.184,915.463 685.719,822.694 770.254,730.843 854.79,656.574 939.325,584.968 1023.86,516.285 1108.4,450.049 1192.93,389.243 1277.47,330.478 1362,279.846 1446.54,234.131 1531.07,190.45 1615.61,151.952 1700.14,123.984 1784.68,99.0195 1869.21,86.1857 1953.75,86.1857 2038.28,86.1857 2122.82,86.1857 2207.36,86.1857 2291.89,86.1857 \"/>\n",
       "<path clip-path=\"url(#clip190)\" d=\"M273.863 196.789 L715.679 196.789 L715.679 93.1086 L273.863 93.1086  Z\" fill=\"#ffffff\" fill-rule=\"evenodd\" fill-opacity=\"1\"/>\n",
       "<polyline clip-path=\"url(#clip190)\" style=\"stroke:#000000; stroke-linecap:round; stroke-linejoin:round; stroke-width:4; stroke-opacity:1; fill:none\" points=\"273.863,196.789 715.679,196.789 715.679,93.1086 273.863,93.1086 273.863,196.789 \"/>\n",
       "<polyline clip-path=\"url(#clip190)\" style=\"stroke:#009af9; stroke-linecap:round; stroke-linejoin:round; stroke-width:4; stroke-opacity:1; fill:none\" points=\"297.758,144.949 441.13,144.949 \"/>\n",
       "<path clip-path=\"url(#clip190)\" d=\"M476.923 139.289 Q473.497 139.289 471.507 141.974 Q469.516 144.636 469.516 149.289 Q469.516 153.942 471.484 156.627 Q473.474 159.289 476.923 159.289 Q480.326 159.289 482.317 156.604 Q484.308 153.918 484.308 149.289 Q484.308 144.682 482.317 141.997 Q480.326 139.289 476.923 139.289 M476.923 135.678 Q482.479 135.678 485.65 139.289 Q488.821 142.9 488.821 149.289 Q488.821 155.655 485.65 159.289 Q482.479 162.9 476.923 162.9 Q471.345 162.9 468.173 159.289 Q465.025 155.655 465.025 149.289 Q465.025 142.9 468.173 139.289 Q471.345 135.678 476.923 135.678 Z\" fill=\"#000000\" fill-rule=\"nonzero\" fill-opacity=\"1\" /><path clip-path=\"url(#clip190)\" d=\"M514.493 149.289 Q514.493 144.59 512.548 141.928 Q510.627 139.243 507.247 139.243 Q503.868 139.243 501.923 141.928 Q500.002 144.59 500.002 149.289 Q500.002 153.988 501.923 156.673 Q503.868 159.335 507.247 159.335 Q510.627 159.335 512.548 156.673 Q514.493 153.988 514.493 149.289 M500.002 140.238 Q501.345 137.923 503.382 136.812 Q505.442 135.678 508.289 135.678 Q513.011 135.678 515.951 139.428 Q518.914 143.178 518.914 149.289 Q518.914 155.4 515.951 159.15 Q513.011 162.9 508.289 162.9 Q505.442 162.9 503.382 161.789 Q501.345 160.655 500.002 158.34 L500.002 162.229 L495.72 162.229 L495.72 126.21 L500.002 126.21 L500.002 140.238 Z\" fill=\"#000000\" fill-rule=\"nonzero\" fill-opacity=\"1\" /><path clip-path=\"url(#clip190)\" d=\"M525.974 136.303 L530.233 136.303 L530.233 162.692 Q530.233 167.645 528.335 169.867 Q526.46 172.09 522.27 172.09 L520.65 172.09 L520.65 168.479 L521.784 168.479 Q524.215 168.479 525.094 167.344 Q525.974 166.233 525.974 162.692 L525.974 136.303 M525.974 126.21 L530.233 126.21 L530.233 131.604 L525.974 131.604 L525.974 126.21 Z\" fill=\"#000000\" fill-rule=\"nonzero\" fill-opacity=\"1\" /><path clip-path=\"url(#clip190)\" d=\"M539.747 156.349 L544.631 156.349 L544.631 162.229 L539.747 162.229 L539.747 156.349 Z\" fill=\"#000000\" fill-rule=\"nonzero\" fill-opacity=\"1\" /><path clip-path=\"url(#clip190)\" d=\"M566.228 136.303 L570.742 136.303 L578.844 158.062 L586.946 136.303 L591.46 136.303 L581.738 162.229 L575.951 162.229 L566.228 136.303 Z\" fill=\"#000000\" fill-rule=\"nonzero\" fill-opacity=\"1\" /><path clip-path=\"url(#clip190)\" d=\"M609.122 149.196 Q603.96 149.196 601.969 150.377 Q599.978 151.557 599.978 154.405 Q599.978 156.673 601.46 158.016 Q602.964 159.335 605.534 159.335 Q609.075 159.335 611.205 156.835 Q613.358 154.312 613.358 150.145 L613.358 149.196 L609.122 149.196 M617.617 147.437 L617.617 162.229 L613.358 162.229 L613.358 158.293 Q611.899 160.655 609.724 161.789 Q607.548 162.9 604.4 162.9 Q600.418 162.9 598.057 160.678 Q595.719 158.432 595.719 154.682 Q595.719 150.307 598.636 148.085 Q601.575 145.863 607.386 145.863 L613.358 145.863 L613.358 145.446 Q613.358 142.507 611.413 140.909 Q609.492 139.289 605.997 139.289 Q603.775 139.289 601.668 139.821 Q599.562 140.354 597.617 141.419 L597.617 137.483 Q599.955 136.581 602.154 136.141 Q604.353 135.678 606.437 135.678 Q612.062 135.678 614.839 138.594 Q617.617 141.511 617.617 147.437 Z\" fill=\"#000000\" fill-rule=\"nonzero\" fill-opacity=\"1\" /><path clip-path=\"url(#clip190)\" d=\"M626.39 126.21 L630.649 126.21 L630.649 162.229 L626.39 162.229 L626.39 126.21 Z\" fill=\"#000000\" fill-rule=\"nonzero\" fill-opacity=\"1\" /><path clip-path=\"url(#clip190)\" d=\"M639.122 151.997 L639.122 136.303 L643.381 136.303 L643.381 151.835 Q643.381 155.516 644.816 157.368 Q646.251 159.196 649.122 159.196 Q652.571 159.196 654.561 156.997 Q656.575 154.798 656.575 151.002 L656.575 136.303 L660.834 136.303 L660.834 162.229 L656.575 162.229 L656.575 158.247 Q655.024 160.608 652.964 161.766 Q650.927 162.9 648.219 162.9 Q643.751 162.9 641.436 160.122 Q639.122 157.344 639.122 151.997 M649.839 135.678 L649.839 135.678 Z\" fill=\"#000000\" fill-rule=\"nonzero\" fill-opacity=\"1\" /><path clip-path=\"url(#clip190)\" d=\"M691.783 148.201 L691.783 150.284 L672.2 150.284 Q672.478 154.682 674.839 156.997 Q677.223 159.289 681.459 159.289 Q683.913 159.289 686.205 158.687 Q688.519 158.085 690.788 156.881 L690.788 160.909 Q688.496 161.881 686.089 162.391 Q683.682 162.9 681.205 162.9 Q675.001 162.9 671.367 159.289 Q667.756 155.678 667.756 149.52 Q667.756 143.155 671.182 139.428 Q674.631 135.678 680.464 135.678 Q685.695 135.678 688.728 139.057 Q691.783 142.414 691.783 148.201 M687.524 146.951 Q687.478 143.456 685.556 141.372 Q683.658 139.289 680.51 139.289 Q676.945 139.289 674.793 141.303 Q672.663 143.317 672.339 146.974 L687.524 146.951 Z\" fill=\"#000000\" fill-rule=\"nonzero\" fill-opacity=\"1\" /></svg>\n"
      ],
      "text/html": [
       "<?xml version=\"1.0\" encoding=\"utf-8\"?>\n",
       "<svg xmlns=\"http://www.w3.org/2000/svg\" xmlns:xlink=\"http://www.w3.org/1999/xlink\" width=\"600\" height=\"400\" viewBox=\"0 0 2400 1600\">\n",
       "<defs>\n",
       "  <clipPath id=\"clip240\">\n",
       "    <rect x=\"0\" y=\"0\" width=\"2400\" height=\"1600\"/>\n",
       "  </clipPath>\n",
       "</defs>\n",
       "<path clip-path=\"url(#clip240)\" d=\"M0 1600 L2400 1600 L2400 0 L0 0  Z\" fill=\"#ffffff\" fill-rule=\"evenodd\" fill-opacity=\"1\"/>\n",
       "<defs>\n",
       "  <clipPath id=\"clip241\">\n",
       "    <rect x=\"480\" y=\"0\" width=\"1681\" height=\"1600\"/>\n",
       "  </clipPath>\n",
       "</defs>\n",
       "<path clip-path=\"url(#clip240)\" d=\"M202.177 1423.18 L2352.76 1423.18 L2352.76 47.2441 L202.177 47.2441  Z\" fill=\"#ffffff\" fill-rule=\"evenodd\" fill-opacity=\"1\"/>\n",
       "<defs>\n",
       "  <clipPath id=\"clip242\">\n",
       "    <rect x=\"202\" y=\"47\" width=\"2152\" height=\"1377\"/>\n",
       "  </clipPath>\n",
       "</defs>\n",
       "<polyline clip-path=\"url(#clip242)\" style=\"stroke:#000000; stroke-linecap:round; stroke-linejoin:round; stroke-width:2; stroke-opacity:0.1; fill:none\" points=\"601.184,1423.18 601.184,47.2441 \"/>\n",
       "<polyline clip-path=\"url(#clip242)\" style=\"stroke:#000000; stroke-linecap:round; stroke-linejoin:round; stroke-width:2; stroke-opacity:0.1; fill:none\" points=\"1023.86,1423.18 1023.86,47.2441 \"/>\n",
       "<polyline clip-path=\"url(#clip242)\" style=\"stroke:#000000; stroke-linecap:round; stroke-linejoin:round; stroke-width:2; stroke-opacity:0.1; fill:none\" points=\"1446.54,1423.18 1446.54,47.2441 \"/>\n",
       "<polyline clip-path=\"url(#clip242)\" style=\"stroke:#000000; stroke-linecap:round; stroke-linejoin:round; stroke-width:2; stroke-opacity:0.1; fill:none\" points=\"1869.21,1423.18 1869.21,47.2441 \"/>\n",
       "<polyline clip-path=\"url(#clip242)\" style=\"stroke:#000000; stroke-linecap:round; stroke-linejoin:round; stroke-width:2; stroke-opacity:0.1; fill:none\" points=\"2291.89,1423.18 2291.89,47.2441 \"/>\n",
       "<polyline clip-path=\"url(#clip240)\" style=\"stroke:#000000; stroke-linecap:round; stroke-linejoin:round; stroke-width:4; stroke-opacity:1; fill:none\" points=\"202.177,1423.18 2352.76,1423.18 \"/>\n",
       "<polyline clip-path=\"url(#clip240)\" style=\"stroke:#000000; stroke-linecap:round; stroke-linejoin:round; stroke-width:4; stroke-opacity:1; fill:none\" points=\"601.184,1423.18 601.184,1404.28 \"/>\n",
       "<polyline clip-path=\"url(#clip240)\" style=\"stroke:#000000; stroke-linecap:round; stroke-linejoin:round; stroke-width:4; stroke-opacity:1; fill:none\" points=\"1023.86,1423.18 1023.86,1404.28 \"/>\n",
       "<polyline clip-path=\"url(#clip240)\" style=\"stroke:#000000; stroke-linecap:round; stroke-linejoin:round; stroke-width:4; stroke-opacity:1; fill:none\" points=\"1446.54,1423.18 1446.54,1404.28 \"/>\n",
       "<polyline clip-path=\"url(#clip240)\" style=\"stroke:#000000; stroke-linecap:round; stroke-linejoin:round; stroke-width:4; stroke-opacity:1; fill:none\" points=\"1869.21,1423.18 1869.21,1404.28 \"/>\n",
       "<polyline clip-path=\"url(#clip240)\" style=\"stroke:#000000; stroke-linecap:round; stroke-linejoin:round; stroke-width:4; stroke-opacity:1; fill:none\" points=\"2291.89,1423.18 2291.89,1404.28 \"/>\n",
       "<path clip-path=\"url(#clip240)\" d=\"M591.461 1451.02 L609.818 1451.02 L609.818 1454.96 L595.744 1454.96 L595.744 1463.43 Q596.762 1463.08 597.781 1462.92 Q598.799 1462.73 599.818 1462.73 Q605.605 1462.73 608.984 1465.9 Q612.364 1469.08 612.364 1474.49 Q612.364 1480.07 608.892 1483.17 Q605.42 1486.25 599.1 1486.25 Q596.924 1486.25 594.656 1485.88 Q592.41 1485.51 590.003 1484.77 L590.003 1480.07 Q592.086 1481.2 594.309 1481.76 Q596.531 1482.32 599.008 1482.32 Q603.012 1482.32 605.35 1480.21 Q607.688 1478.1 607.688 1474.49 Q607.688 1470.88 605.35 1468.77 Q603.012 1466.67 599.008 1466.67 Q597.133 1466.67 595.258 1467.08 Q593.406 1467.5 591.461 1468.38 L591.461 1451.02 Z\" fill=\"#000000\" fill-rule=\"nonzero\" fill-opacity=\"1\" /><path clip-path=\"url(#clip240)\" d=\"M998.548 1481.64 L1006.19 1481.64 L1006.19 1455.28 L997.877 1456.95 L997.877 1452.69 L1006.14 1451.02 L1010.82 1451.02 L1010.82 1481.64 L1018.46 1481.64 L1018.46 1485.58 L998.548 1485.58 L998.548 1481.64 Z\" fill=\"#000000\" fill-rule=\"nonzero\" fill-opacity=\"1\" /><path clip-path=\"url(#clip240)\" d=\"M1037.9 1454.1 Q1034.29 1454.1 1032.46 1457.66 Q1030.65 1461.2 1030.65 1468.33 Q1030.65 1475.44 1032.46 1479.01 Q1034.29 1482.55 1037.9 1482.55 Q1041.53 1482.55 1043.34 1479.01 Q1045.17 1475.44 1045.17 1468.33 Q1045.17 1461.2 1043.34 1457.66 Q1041.53 1454.1 1037.9 1454.1 M1037.9 1450.39 Q1043.71 1450.39 1046.77 1455 Q1049.84 1459.58 1049.84 1468.33 Q1049.84 1477.06 1046.77 1481.67 Q1043.71 1486.25 1037.9 1486.25 Q1032.09 1486.25 1029.01 1481.67 Q1025.96 1477.06 1025.96 1468.33 Q1025.96 1459.58 1029.01 1455 Q1032.09 1450.39 1037.9 1450.39 Z\" fill=\"#000000\" fill-rule=\"nonzero\" fill-opacity=\"1\" /><path clip-path=\"url(#clip240)\" d=\"M1421.72 1481.64 L1429.36 1481.64 L1429.36 1455.28 L1421.05 1456.95 L1421.05 1452.69 L1429.31 1451.02 L1433.99 1451.02 L1433.99 1481.64 L1441.63 1481.64 L1441.63 1485.58 L1421.72 1485.58 L1421.72 1481.64 Z\" fill=\"#000000\" fill-rule=\"nonzero\" fill-opacity=\"1\" /><path clip-path=\"url(#clip240)\" d=\"M1451.12 1451.02 L1469.48 1451.02 L1469.48 1454.96 L1455.4 1454.96 L1455.4 1463.43 Q1456.42 1463.08 1457.44 1462.92 Q1458.46 1462.73 1459.48 1462.73 Q1465.26 1462.73 1468.64 1465.9 Q1472.02 1469.08 1472.02 1474.49 Q1472.02 1480.07 1468.55 1483.17 Q1465.08 1486.25 1458.76 1486.25 Q1456.58 1486.25 1454.31 1485.88 Q1452.07 1485.51 1449.66 1484.77 L1449.66 1480.07 Q1451.75 1481.2 1453.97 1481.76 Q1456.19 1482.32 1458.67 1482.32 Q1462.67 1482.32 1465.01 1480.21 Q1467.35 1478.1 1467.35 1474.49 Q1467.35 1470.88 1465.01 1468.77 Q1462.67 1466.67 1458.67 1466.67 Q1456.79 1466.67 1454.92 1467.08 Q1453.06 1467.5 1451.12 1468.38 L1451.12 1451.02 Z\" fill=\"#000000\" fill-rule=\"nonzero\" fill-opacity=\"1\" /><path clip-path=\"url(#clip240)\" d=\"M1847.99 1481.64 L1864.31 1481.64 L1864.31 1485.58 L1842.36 1485.58 L1842.36 1481.64 Q1845.02 1478.89 1849.61 1474.26 Q1854.21 1469.61 1855.39 1468.27 Q1857.64 1465.74 1858.52 1464.01 Q1859.42 1462.25 1859.42 1460.56 Q1859.42 1457.8 1857.48 1456.07 Q1855.56 1454.33 1852.45 1454.33 Q1850.26 1454.33 1847.8 1455.09 Q1845.37 1455.86 1842.59 1457.41 L1842.59 1452.69 Q1845.42 1451.55 1847.87 1450.97 Q1850.32 1450.39 1852.36 1450.39 Q1857.73 1450.39 1860.93 1453.08 Q1864.12 1455.77 1864.12 1460.26 Q1864.12 1462.39 1863.31 1464.31 Q1862.52 1466.2 1860.42 1468.8 Q1859.84 1469.47 1856.74 1472.69 Q1853.64 1475.88 1847.99 1481.64 Z\" fill=\"#000000\" fill-rule=\"nonzero\" fill-opacity=\"1\" /><path clip-path=\"url(#clip240)\" d=\"M1884.12 1454.1 Q1880.51 1454.1 1878.68 1457.66 Q1876.88 1461.2 1876.88 1468.33 Q1876.88 1475.44 1878.68 1479.01 Q1880.51 1482.55 1884.12 1482.55 Q1887.76 1482.55 1889.56 1479.01 Q1891.39 1475.44 1891.39 1468.33 Q1891.39 1461.2 1889.56 1457.66 Q1887.76 1454.1 1884.12 1454.1 M1884.12 1450.39 Q1889.93 1450.39 1892.99 1455 Q1896.07 1459.58 1896.07 1468.33 Q1896.07 1477.06 1892.99 1481.67 Q1889.93 1486.25 1884.12 1486.25 Q1878.31 1486.25 1875.23 1481.67 Q1872.18 1477.06 1872.18 1468.33 Q1872.18 1459.58 1875.23 1455 Q1878.31 1450.39 1884.12 1450.39 Z\" fill=\"#000000\" fill-rule=\"nonzero\" fill-opacity=\"1\" /><path clip-path=\"url(#clip240)\" d=\"M2271.16 1481.64 L2287.48 1481.64 L2287.48 1485.58 L2265.54 1485.58 L2265.54 1481.64 Q2268.2 1478.89 2272.78 1474.26 Q2277.39 1469.61 2278.57 1468.27 Q2280.81 1465.74 2281.69 1464.01 Q2282.6 1462.25 2282.6 1460.56 Q2282.6 1457.8 2280.65 1456.07 Q2278.73 1454.33 2275.63 1454.33 Q2273.43 1454.33 2270.98 1455.09 Q2268.55 1455.86 2265.77 1457.41 L2265.77 1452.69 Q2268.59 1451.55 2271.05 1450.97 Q2273.5 1450.39 2275.54 1450.39 Q2280.91 1450.39 2284.1 1453.08 Q2287.3 1455.77 2287.3 1460.26 Q2287.3 1462.39 2286.49 1464.31 Q2285.7 1466.2 2283.59 1468.8 Q2283.01 1469.47 2279.91 1472.69 Q2276.81 1475.88 2271.16 1481.64 Z\" fill=\"#000000\" fill-rule=\"nonzero\" fill-opacity=\"1\" /><path clip-path=\"url(#clip240)\" d=\"M2297.34 1451.02 L2315.7 1451.02 L2315.7 1454.96 L2301.62 1454.96 L2301.62 1463.43 Q2302.64 1463.08 2303.66 1462.92 Q2304.68 1462.73 2305.7 1462.73 Q2311.49 1462.73 2314.86 1465.9 Q2318.24 1469.08 2318.24 1474.49 Q2318.24 1480.07 2314.77 1483.17 Q2311.3 1486.25 2304.98 1486.25 Q2302.8 1486.25 2300.54 1485.88 Q2298.29 1485.51 2295.88 1484.77 L2295.88 1480.07 Q2297.97 1481.2 2300.19 1481.76 Q2302.41 1482.32 2304.89 1482.32 Q2308.89 1482.32 2311.23 1480.21 Q2313.57 1478.1 2313.57 1474.49 Q2313.57 1470.88 2311.23 1468.77 Q2308.89 1466.67 2304.89 1466.67 Q2303.01 1466.67 2301.14 1467.08 Q2299.29 1467.5 2297.34 1468.38 L2297.34 1451.02 Z\" fill=\"#000000\" fill-rule=\"nonzero\" fill-opacity=\"1\" /><path clip-path=\"url(#clip240)\" d=\"M1262.68 1568.04 L1262.68 1520.52 L1292.25 1520.52 L1292.25 1525.93 L1269.11 1525.93 L1269.11 1568.04 L1262.68 1568.04 Z\" fill=\"#000000\" fill-rule=\"nonzero\" fill-opacity=\"1\" /><polyline clip-path=\"url(#clip242)\" style=\"stroke:#000000; stroke-linecap:round; stroke-linejoin:round; stroke-width:2; stroke-opacity:0.1; fill:none\" points=\"202.177,1352.45 2352.76,1352.45 \"/>\n",
       "<polyline clip-path=\"url(#clip242)\" style=\"stroke:#000000; stroke-linecap:round; stroke-linejoin:round; stroke-width:2; stroke-opacity:0.1; fill:none\" points=\"202.177,1082.27 2352.76,1082.27 \"/>\n",
       "<polyline clip-path=\"url(#clip242)\" style=\"stroke:#000000; stroke-linecap:round; stroke-linejoin:round; stroke-width:2; stroke-opacity:0.1; fill:none\" points=\"202.177,812.083 2352.76,812.083 \"/>\n",
       "<polyline clip-path=\"url(#clip242)\" style=\"stroke:#000000; stroke-linecap:round; stroke-linejoin:round; stroke-width:2; stroke-opacity:0.1; fill:none\" points=\"202.177,541.898 2352.76,541.898 \"/>\n",
       "<polyline clip-path=\"url(#clip242)\" style=\"stroke:#000000; stroke-linecap:round; stroke-linejoin:round; stroke-width:2; stroke-opacity:0.1; fill:none\" points=\"202.177,271.713 2352.76,271.713 \"/>\n",
       "<polyline clip-path=\"url(#clip240)\" style=\"stroke:#000000; stroke-linecap:round; stroke-linejoin:round; stroke-width:4; stroke-opacity:1; fill:none\" points=\"202.177,1423.18 202.177,47.2441 \"/>\n",
       "<polyline clip-path=\"url(#clip240)\" style=\"stroke:#000000; stroke-linecap:round; stroke-linejoin:round; stroke-width:4; stroke-opacity:1; fill:none\" points=\"202.177,1352.45 221.074,1352.45 \"/>\n",
       "<polyline clip-path=\"url(#clip240)\" style=\"stroke:#000000; stroke-linecap:round; stroke-linejoin:round; stroke-width:4; stroke-opacity:1; fill:none\" points=\"202.177,1082.27 221.074,1082.27 \"/>\n",
       "<polyline clip-path=\"url(#clip240)\" style=\"stroke:#000000; stroke-linecap:round; stroke-linejoin:round; stroke-width:4; stroke-opacity:1; fill:none\" points=\"202.177,812.083 221.074,812.083 \"/>\n",
       "<polyline clip-path=\"url(#clip240)\" style=\"stroke:#000000; stroke-linecap:round; stroke-linejoin:round; stroke-width:4; stroke-opacity:1; fill:none\" points=\"202.177,541.898 221.074,541.898 \"/>\n",
       "<polyline clip-path=\"url(#clip240)\" style=\"stroke:#000000; stroke-linecap:round; stroke-linejoin:round; stroke-width:4; stroke-opacity:1; fill:none\" points=\"202.177,271.713 221.074,271.713 \"/>\n",
       "<path clip-path=\"url(#clip240)\" d=\"M67.9133 1351.1 Q71.2698 1351.82 73.1448 1354.09 Q75.0429 1356.35 75.0429 1359.69 Q75.0429 1364.8 71.5244 1367.6 Q68.0059 1370.4 61.5245 1370.4 Q59.3486 1370.4 57.0338 1369.96 Q54.7421 1369.55 52.2884 1368.69 L52.2884 1364.18 Q54.2328 1365.31 56.5477 1365.89 Q58.8625 1366.47 61.3856 1366.47 Q65.7837 1366.47 68.0754 1364.73 Q70.3902 1363 70.3902 1359.69 Q70.3902 1356.63 68.2374 1354.92 Q66.1078 1353.18 62.2884 1353.18 L58.2606 1353.18 L58.2606 1349.34 L62.4735 1349.34 Q65.9226 1349.34 67.7513 1347.97 Q69.58 1346.59 69.58 1343.99 Q69.58 1341.33 67.6819 1339.92 Q65.8069 1338.48 62.2884 1338.48 Q60.3671 1338.48 58.168 1338.9 Q55.969 1339.32 53.3301 1340.2 L53.3301 1336.03 Q55.9921 1335.29 58.3069 1334.92 Q60.6449 1334.55 62.705 1334.55 Q68.0291 1334.55 71.1309 1336.98 Q74.2327 1339.39 74.2327 1343.51 Q74.2327 1346.38 72.5892 1348.37 Q70.9457 1350.34 67.9133 1351.1 Z\" fill=\"#000000\" fill-rule=\"nonzero\" fill-opacity=\"1\" /><path clip-path=\"url(#clip240)\" d=\"M94.4873 1350.59 Q91.3391 1350.59 89.4873 1352.74 Q87.6586 1354.9 87.6586 1358.65 Q87.6586 1362.37 89.4873 1364.55 Q91.3391 1366.7 94.4873 1366.7 Q97.6354 1366.7 99.4641 1364.55 Q101.316 1362.37 101.316 1358.65 Q101.316 1354.9 99.4641 1352.74 Q97.6354 1350.59 94.4873 1350.59 M103.77 1335.94 L103.77 1340.2 Q102.01 1339.36 100.205 1338.92 Q98.4224 1338.48 96.6632 1338.48 Q92.0336 1338.48 89.5799 1341.61 Q87.1493 1344.73 86.8021 1351.05 Q88.1679 1349.04 90.228 1347.97 Q92.2882 1346.89 94.765 1346.89 Q99.9733 1346.89 102.983 1350.06 Q106.015 1353.21 106.015 1358.65 Q106.015 1363.97 102.867 1367.19 Q99.7187 1370.4 94.4873 1370.4 Q88.4919 1370.4 85.3206 1365.82 Q82.1494 1361.21 82.1494 1352.49 Q82.1494 1344.29 86.0382 1339.43 Q89.9271 1334.55 96.478 1334.55 Q98.2372 1334.55 100.02 1334.9 Q101.825 1335.24 103.77 1335.94 Z\" fill=\"#000000\" fill-rule=\"nonzero\" fill-opacity=\"1\" /><path clip-path=\"url(#clip240)\" d=\"M124.07 1338.25 Q120.459 1338.25 118.631 1341.82 Q116.825 1345.36 116.825 1352.49 Q116.825 1359.59 118.631 1363.16 Q120.459 1366.7 124.07 1366.7 Q127.705 1366.7 129.51 1363.16 Q131.339 1359.59 131.339 1352.49 Q131.339 1345.36 129.51 1341.82 Q127.705 1338.25 124.07 1338.25 M124.07 1334.55 Q129.881 1334.55 132.936 1339.15 Q136.015 1343.74 136.015 1352.49 Q136.015 1361.21 132.936 1365.82 Q129.881 1370.4 124.07 1370.4 Q118.26 1370.4 115.182 1365.82 Q112.126 1361.21 112.126 1352.49 Q112.126 1343.74 115.182 1339.15 Q118.26 1334.55 124.07 1334.55 Z\" fill=\"#000000\" fill-rule=\"nonzero\" fill-opacity=\"1\" /><path clip-path=\"url(#clip240)\" d=\"M154.232 1338.25 Q150.621 1338.25 148.793 1341.82 Q146.987 1345.36 146.987 1352.49 Q146.987 1359.59 148.793 1363.16 Q150.621 1366.7 154.232 1366.7 Q157.867 1366.7 159.672 1363.16 Q161.501 1359.59 161.501 1352.49 Q161.501 1345.36 159.672 1341.82 Q157.867 1338.25 154.232 1338.25 M154.232 1334.55 Q160.042 1334.55 163.098 1339.15 Q166.177 1343.74 166.177 1352.49 Q166.177 1361.21 163.098 1365.82 Q160.042 1370.4 154.232 1370.4 Q148.422 1370.4 145.343 1365.82 Q142.288 1361.21 142.288 1352.49 Q142.288 1343.74 145.343 1339.15 Q148.422 1334.55 154.232 1334.55 Z\" fill=\"#000000\" fill-rule=\"nonzero\" fill-opacity=\"1\" /><path clip-path=\"url(#clip240)\" d=\"M67.9133 1080.91 Q71.2698 1081.63 73.1448 1083.9 Q75.0429 1086.17 75.0429 1089.5 Q75.0429 1094.62 71.5244 1097.42 Q68.0059 1100.22 61.5245 1100.22 Q59.3486 1100.22 57.0338 1099.78 Q54.7421 1099.36 52.2884 1098.51 L52.2884 1093.99 Q54.2328 1095.13 56.5477 1095.71 Q58.8625 1096.28 61.3856 1096.28 Q65.7837 1096.28 68.0754 1094.55 Q70.3902 1092.81 70.3902 1089.5 Q70.3902 1086.45 68.2374 1084.73 Q66.1078 1083 62.2884 1083 L58.2606 1083 L58.2606 1079.15 L62.4735 1079.15 Q65.9226 1079.15 67.7513 1077.79 Q69.58 1076.4 69.58 1073.81 Q69.58 1071.15 67.6819 1069.73 Q65.8069 1068.3 62.2884 1068.3 Q60.3671 1068.3 58.168 1068.71 Q55.969 1069.13 53.3301 1070.01 L53.3301 1065.84 Q55.9921 1065.1 58.3069 1064.73 Q60.6449 1064.36 62.705 1064.36 Q68.0291 1064.36 71.1309 1066.79 Q74.2327 1069.2 74.2327 1073.32 Q74.2327 1076.19 72.5892 1078.18 Q70.9457 1080.15 67.9133 1080.91 Z\" fill=\"#000000\" fill-rule=\"nonzero\" fill-opacity=\"1\" /><path clip-path=\"url(#clip240)\" d=\"M84.0475 1098.83 L84.0475 1094.57 Q85.8068 1095.4 87.6123 1095.84 Q89.4178 1096.28 91.1539 1096.28 Q95.7836 1096.28 98.2141 1093.18 Q100.668 1090.06 101.015 1083.71 Q99.6724 1085.71 97.6122 1086.77 Q95.5521 1087.84 93.0521 1087.84 Q87.8669 1087.84 84.8345 1084.71 Q81.8253 1081.56 81.8253 1076.12 Q81.8253 1070.8 84.9734 1067.58 Q88.1216 1064.36 93.353 1064.36 Q99.3483 1064.36 102.496 1068.97 Q105.668 1073.55 105.668 1082.3 Q105.668 1090.47 101.779 1095.36 Q97.9132 1100.22 91.3623 1100.22 Q89.603 1100.22 87.7975 1099.87 Q85.9919 1099.52 84.0475 1098.83 M93.353 1084.18 Q96.5011 1084.18 98.3298 1082.02 Q100.182 1079.87 100.182 1076.12 Q100.182 1072.4 98.3298 1070.24 Q96.5011 1068.07 93.353 1068.07 Q90.2049 1068.07 88.353 1070.24 Q86.5243 1072.4 86.5243 1076.12 Q86.5243 1079.87 88.353 1082.02 Q90.2049 1084.18 93.353 1084.18 Z\" fill=\"#000000\" fill-rule=\"nonzero\" fill-opacity=\"1\" /><path clip-path=\"url(#clip240)\" d=\"M124.07 1068.07 Q120.459 1068.07 118.631 1071.63 Q116.825 1075.17 116.825 1082.3 Q116.825 1089.41 118.631 1092.97 Q120.459 1096.52 124.07 1096.52 Q127.705 1096.52 129.51 1092.97 Q131.339 1089.41 131.339 1082.3 Q131.339 1075.17 129.51 1071.63 Q127.705 1068.07 124.07 1068.07 M124.07 1064.36 Q129.881 1064.36 132.936 1068.97 Q136.015 1073.55 136.015 1082.3 Q136.015 1091.03 132.936 1095.64 Q129.881 1100.22 124.07 1100.22 Q118.26 1100.22 115.182 1095.64 Q112.126 1091.03 112.126 1082.3 Q112.126 1073.55 115.182 1068.97 Q118.26 1064.36 124.07 1064.36 Z\" fill=\"#000000\" fill-rule=\"nonzero\" fill-opacity=\"1\" /><path clip-path=\"url(#clip240)\" d=\"M154.232 1068.07 Q150.621 1068.07 148.793 1071.63 Q146.987 1075.17 146.987 1082.3 Q146.987 1089.41 148.793 1092.97 Q150.621 1096.52 154.232 1096.52 Q157.867 1096.52 159.672 1092.97 Q161.501 1089.41 161.501 1082.3 Q161.501 1075.17 159.672 1071.63 Q157.867 1068.07 154.232 1068.07 M154.232 1064.36 Q160.042 1064.36 163.098 1068.97 Q166.177 1073.55 166.177 1082.3 Q166.177 1091.03 163.098 1095.64 Q160.042 1100.22 154.232 1100.22 Q148.422 1100.22 145.343 1095.64 Q142.288 1091.03 142.288 1082.3 Q142.288 1073.55 145.343 1068.97 Q148.422 1064.36 154.232 1064.36 Z\" fill=\"#000000\" fill-rule=\"nonzero\" fill-opacity=\"1\" /><path clip-path=\"url(#clip240)\" d=\"M66.5939 798.877 L54.7884 817.326 L66.5939 817.326 L66.5939 798.877 M65.367 794.803 L71.2466 794.803 L71.2466 817.326 L76.1772 817.326 L76.1772 821.215 L71.2466 821.215 L71.2466 829.363 L66.5939 829.363 L66.5939 821.215 L50.9921 821.215 L50.9921 816.701 L65.367 794.803 Z\" fill=\"#000000\" fill-rule=\"nonzero\" fill-opacity=\"1\" /><path clip-path=\"url(#clip240)\" d=\"M87.9364 825.428 L104.256 825.428 L104.256 829.363 L82.3114 829.363 L82.3114 825.428 Q84.9734 822.673 89.5567 818.044 Q94.1632 813.391 95.3437 812.048 Q97.5891 809.525 98.4687 807.789 Q99.3715 806.03 99.3715 804.34 Q99.3715 801.585 97.4271 799.849 Q95.5058 798.113 92.4039 798.113 Q90.2049 798.113 87.7512 798.877 Q85.3206 799.641 82.5429 801.192 L82.5429 796.47 Q85.3669 795.335 87.8206 794.757 Q90.2743 794.178 92.3113 794.178 Q97.6817 794.178 100.876 796.863 Q104.071 799.548 104.071 804.039 Q104.071 806.169 103.26 808.09 Q102.473 809.988 100.367 812.581 Q99.7882 813.252 96.6863 816.469 Q93.5845 819.664 87.9364 825.428 Z\" fill=\"#000000\" fill-rule=\"nonzero\" fill-opacity=\"1\" /><path clip-path=\"url(#clip240)\" d=\"M124.07 797.882 Q120.459 797.882 118.631 801.446 Q116.825 804.988 116.825 812.118 Q116.825 819.224 118.631 822.789 Q120.459 826.331 124.07 826.331 Q127.705 826.331 129.51 822.789 Q131.339 819.224 131.339 812.118 Q131.339 804.988 129.51 801.446 Q127.705 797.882 124.07 797.882 M124.07 794.178 Q129.881 794.178 132.936 798.784 Q136.015 803.368 136.015 812.118 Q136.015 820.844 132.936 825.451 Q129.881 830.034 124.07 830.034 Q118.26 830.034 115.182 825.451 Q112.126 820.844 112.126 812.118 Q112.126 803.368 115.182 798.784 Q118.26 794.178 124.07 794.178 Z\" fill=\"#000000\" fill-rule=\"nonzero\" fill-opacity=\"1\" /><path clip-path=\"url(#clip240)\" d=\"M154.232 797.882 Q150.621 797.882 148.793 801.446 Q146.987 804.988 146.987 812.118 Q146.987 819.224 148.793 822.789 Q150.621 826.331 154.232 826.331 Q157.867 826.331 159.672 822.789 Q161.501 819.224 161.501 812.118 Q161.501 804.988 159.672 801.446 Q157.867 797.882 154.232 797.882 M154.232 794.178 Q160.042 794.178 163.098 798.784 Q166.177 803.368 166.177 812.118 Q166.177 820.844 163.098 825.451 Q160.042 830.034 154.232 830.034 Q148.422 830.034 145.343 825.451 Q142.288 820.844 142.288 812.118 Q142.288 803.368 145.343 798.784 Q148.422 794.178 154.232 794.178 Z\" fill=\"#000000\" fill-rule=\"nonzero\" fill-opacity=\"1\" /><path clip-path=\"url(#clip240)\" d=\"M66.5939 528.692 L54.7884 547.141 L66.5939 547.141 L66.5939 528.692 M65.367 524.618 L71.2466 524.618 L71.2466 547.141 L76.1772 547.141 L76.1772 551.03 L71.2466 551.03 L71.2466 559.178 L66.5939 559.178 L66.5939 551.03 L50.9921 551.03 L50.9921 546.516 L65.367 524.618 Z\" fill=\"#000000\" fill-rule=\"nonzero\" fill-opacity=\"1\" /><path clip-path=\"url(#clip240)\" d=\"M83.9549 524.618 L102.311 524.618 L102.311 528.553 L88.2373 528.553 L88.2373 537.025 Q89.2558 536.678 90.2743 536.516 Q91.2928 536.331 92.3113 536.331 Q98.0984 536.331 101.478 539.502 Q104.858 542.673 104.858 548.09 Q104.858 553.669 101.385 556.77 Q97.9132 559.849 91.5938 559.849 Q89.4178 559.849 87.1493 559.479 Q84.904 559.108 82.4966 558.368 L82.4966 553.669 Q84.5799 554.803 86.8021 555.358 Q89.0243 555.914 91.5012 555.914 Q95.5058 555.914 97.8437 553.807 Q100.182 551.701 100.182 548.09 Q100.182 544.479 97.8437 542.372 Q95.5058 540.266 91.5012 540.266 Q89.6262 540.266 87.7512 540.683 Q85.8993 541.099 83.9549 541.979 L83.9549 524.618 Z\" fill=\"#000000\" fill-rule=\"nonzero\" fill-opacity=\"1\" /><path clip-path=\"url(#clip240)\" d=\"M124.07 527.697 Q120.459 527.697 118.631 531.261 Q116.825 534.803 116.825 541.933 Q116.825 549.039 118.631 552.604 Q120.459 556.145 124.07 556.145 Q127.705 556.145 129.51 552.604 Q131.339 549.039 131.339 541.933 Q131.339 534.803 129.51 531.261 Q127.705 527.697 124.07 527.697 M124.07 523.993 Q129.881 523.993 132.936 528.599 Q136.015 533.183 136.015 541.933 Q136.015 550.659 132.936 555.266 Q129.881 559.849 124.07 559.849 Q118.26 559.849 115.182 555.266 Q112.126 550.659 112.126 541.933 Q112.126 533.183 115.182 528.599 Q118.26 523.993 124.07 523.993 Z\" fill=\"#000000\" fill-rule=\"nonzero\" fill-opacity=\"1\" /><path clip-path=\"url(#clip240)\" d=\"M154.232 527.697 Q150.621 527.697 148.793 531.261 Q146.987 534.803 146.987 541.933 Q146.987 549.039 148.793 552.604 Q150.621 556.145 154.232 556.145 Q157.867 556.145 159.672 552.604 Q161.501 549.039 161.501 541.933 Q161.501 534.803 159.672 531.261 Q157.867 527.697 154.232 527.697 M154.232 523.993 Q160.042 523.993 163.098 528.599 Q166.177 533.183 166.177 541.933 Q166.177 550.659 163.098 555.266 Q160.042 559.849 154.232 559.849 Q148.422 559.849 145.343 555.266 Q142.288 550.659 142.288 541.933 Q142.288 533.183 145.343 528.599 Q148.422 523.993 154.232 523.993 Z\" fill=\"#000000\" fill-rule=\"nonzero\" fill-opacity=\"1\" /><path clip-path=\"url(#clip240)\" d=\"M66.5939 258.507 L54.7884 276.956 L66.5939 276.956 L66.5939 258.507 M65.367 254.433 L71.2466 254.433 L71.2466 276.956 L76.1772 276.956 L76.1772 280.845 L71.2466 280.845 L71.2466 288.993 L66.5939 288.993 L66.5939 280.845 L50.9921 280.845 L50.9921 276.331 L65.367 254.433 Z\" fill=\"#000000\" fill-rule=\"nonzero\" fill-opacity=\"1\" /><path clip-path=\"url(#clip240)\" d=\"M93.9086 272.581 Q90.5752 272.581 88.654 274.363 Q86.7558 276.146 86.7558 279.271 Q86.7558 282.396 88.654 284.178 Q90.5752 285.96 93.9086 285.96 Q97.2419 285.96 99.1632 284.178 Q101.084 282.372 101.084 279.271 Q101.084 276.146 99.1632 274.363 Q97.265 272.581 93.9086 272.581 M89.2327 270.59 Q86.2234 269.849 84.5336 267.789 Q82.867 265.729 82.867 262.766 Q82.867 258.623 85.8068 256.215 Q88.7697 253.808 93.9086 253.808 Q99.0706 253.808 102.01 256.215 Q104.95 258.623 104.95 262.766 Q104.95 265.729 103.26 267.789 Q101.594 269.849 98.6076 270.59 Q101.987 271.377 103.862 273.669 Q105.76 275.96 105.76 279.271 Q105.76 284.294 102.682 286.979 Q99.6261 289.664 93.9086 289.664 Q88.191 289.664 85.1123 286.979 Q82.0568 284.294 82.0568 279.271 Q82.0568 275.96 83.9549 273.669 Q85.8531 271.377 89.2327 270.59 M87.5197 263.206 Q87.5197 265.891 89.1864 267.396 Q90.8762 268.9 93.9086 268.9 Q96.9178 268.9 98.6076 267.396 Q100.321 265.891 100.321 263.206 Q100.321 260.521 98.6076 259.016 Q96.9178 257.511 93.9086 257.511 Q90.8762 257.511 89.1864 259.016 Q87.5197 260.521 87.5197 263.206 Z\" fill=\"#000000\" fill-rule=\"nonzero\" fill-opacity=\"1\" /><path clip-path=\"url(#clip240)\" d=\"M124.07 257.511 Q120.459 257.511 118.631 261.076 Q116.825 264.618 116.825 271.747 Q116.825 278.854 118.631 282.419 Q120.459 285.96 124.07 285.96 Q127.705 285.96 129.51 282.419 Q131.339 278.854 131.339 271.747 Q131.339 264.618 129.51 261.076 Q127.705 257.511 124.07 257.511 M124.07 253.808 Q129.881 253.808 132.936 258.414 Q136.015 262.998 136.015 271.747 Q136.015 280.474 132.936 285.081 Q129.881 289.664 124.07 289.664 Q118.26 289.664 115.182 285.081 Q112.126 280.474 112.126 271.747 Q112.126 262.998 115.182 258.414 Q118.26 253.808 124.07 253.808 Z\" fill=\"#000000\" fill-rule=\"nonzero\" fill-opacity=\"1\" /><path clip-path=\"url(#clip240)\" d=\"M154.232 257.511 Q150.621 257.511 148.793 261.076 Q146.987 264.618 146.987 271.747 Q146.987 278.854 148.793 282.419 Q150.621 285.96 154.232 285.96 Q157.867 285.96 159.672 282.419 Q161.501 278.854 161.501 271.747 Q161.501 264.618 159.672 261.076 Q157.867 257.511 154.232 257.511 M154.232 253.808 Q160.042 253.808 163.098 258.414 Q166.177 262.998 166.177 271.747 Q166.177 280.474 163.098 285.081 Q160.042 289.664 154.232 289.664 Q148.422 289.664 145.343 285.081 Q142.288 280.474 142.288 271.747 Q142.288 262.998 145.343 258.414 Q148.422 253.808 154.232 253.808 Z\" fill=\"#000000\" fill-rule=\"nonzero\" fill-opacity=\"1\" /><polyline clip-path=\"url(#clip242)\" style=\"stroke:#009af9; stroke-linecap:round; stroke-linejoin:round; stroke-width:4; stroke-opacity:1; fill:none\" points=\"263.042,1384.24 347.577,1239.16 432.113,1118.76 516.648,1013.82 601.184,915.463 685.719,822.694 770.254,730.843 854.79,656.574 939.325,584.968 1023.86,516.285 1108.4,450.049 1192.93,389.243 1277.47,330.478 1362,279.846 1446.54,234.131 1531.07,190.45 1615.61,151.952 1700.14,123.984 1784.68,99.0195 1869.21,86.1857 1953.75,86.1857 2038.28,86.1857 2122.82,86.1857 2207.36,86.1857 2291.89,86.1857 \"/>\n",
       "<path clip-path=\"url(#clip240)\" d=\"M273.863 196.789 L715.679 196.789 L715.679 93.1086 L273.863 93.1086  Z\" fill=\"#ffffff\" fill-rule=\"evenodd\" fill-opacity=\"1\"/>\n",
       "<polyline clip-path=\"url(#clip240)\" style=\"stroke:#000000; stroke-linecap:round; stroke-linejoin:round; stroke-width:4; stroke-opacity:1; fill:none\" points=\"273.863,196.789 715.679,196.789 715.679,93.1086 273.863,93.1086 273.863,196.789 \"/>\n",
       "<polyline clip-path=\"url(#clip240)\" style=\"stroke:#009af9; stroke-linecap:round; stroke-linejoin:round; stroke-width:4; stroke-opacity:1; fill:none\" points=\"297.758,144.949 441.13,144.949 \"/>\n",
       "<path clip-path=\"url(#clip240)\" d=\"M476.923 139.289 Q473.497 139.289 471.507 141.974 Q469.516 144.636 469.516 149.289 Q469.516 153.942 471.484 156.627 Q473.474 159.289 476.923 159.289 Q480.326 159.289 482.317 156.604 Q484.308 153.918 484.308 149.289 Q484.308 144.682 482.317 141.997 Q480.326 139.289 476.923 139.289 M476.923 135.678 Q482.479 135.678 485.65 139.289 Q488.821 142.9 488.821 149.289 Q488.821 155.655 485.65 159.289 Q482.479 162.9 476.923 162.9 Q471.345 162.9 468.173 159.289 Q465.025 155.655 465.025 149.289 Q465.025 142.9 468.173 139.289 Q471.345 135.678 476.923 135.678 Z\" fill=\"#000000\" fill-rule=\"nonzero\" fill-opacity=\"1\" /><path clip-path=\"url(#clip240)\" d=\"M514.493 149.289 Q514.493 144.59 512.548 141.928 Q510.627 139.243 507.247 139.243 Q503.868 139.243 501.923 141.928 Q500.002 144.59 500.002 149.289 Q500.002 153.988 501.923 156.673 Q503.868 159.335 507.247 159.335 Q510.627 159.335 512.548 156.673 Q514.493 153.988 514.493 149.289 M500.002 140.238 Q501.345 137.923 503.382 136.812 Q505.442 135.678 508.289 135.678 Q513.011 135.678 515.951 139.428 Q518.914 143.178 518.914 149.289 Q518.914 155.4 515.951 159.15 Q513.011 162.9 508.289 162.9 Q505.442 162.9 503.382 161.789 Q501.345 160.655 500.002 158.34 L500.002 162.229 L495.72 162.229 L495.72 126.21 L500.002 126.21 L500.002 140.238 Z\" fill=\"#000000\" fill-rule=\"nonzero\" fill-opacity=\"1\" /><path clip-path=\"url(#clip240)\" d=\"M525.974 136.303 L530.233 136.303 L530.233 162.692 Q530.233 167.645 528.335 169.867 Q526.46 172.09 522.27 172.09 L520.65 172.09 L520.65 168.479 L521.784 168.479 Q524.215 168.479 525.094 167.344 Q525.974 166.233 525.974 162.692 L525.974 136.303 M525.974 126.21 L530.233 126.21 L530.233 131.604 L525.974 131.604 L525.974 126.21 Z\" fill=\"#000000\" fill-rule=\"nonzero\" fill-opacity=\"1\" /><path clip-path=\"url(#clip240)\" d=\"M539.747 156.349 L544.631 156.349 L544.631 162.229 L539.747 162.229 L539.747 156.349 Z\" fill=\"#000000\" fill-rule=\"nonzero\" fill-opacity=\"1\" /><path clip-path=\"url(#clip240)\" d=\"M566.228 136.303 L570.742 136.303 L578.844 158.062 L586.946 136.303 L591.46 136.303 L581.738 162.229 L575.951 162.229 L566.228 136.303 Z\" fill=\"#000000\" fill-rule=\"nonzero\" fill-opacity=\"1\" /><path clip-path=\"url(#clip240)\" d=\"M609.122 149.196 Q603.96 149.196 601.969 150.377 Q599.978 151.557 599.978 154.405 Q599.978 156.673 601.46 158.016 Q602.964 159.335 605.534 159.335 Q609.075 159.335 611.205 156.835 Q613.358 154.312 613.358 150.145 L613.358 149.196 L609.122 149.196 M617.617 147.437 L617.617 162.229 L613.358 162.229 L613.358 158.293 Q611.899 160.655 609.724 161.789 Q607.548 162.9 604.4 162.9 Q600.418 162.9 598.057 160.678 Q595.719 158.432 595.719 154.682 Q595.719 150.307 598.636 148.085 Q601.575 145.863 607.386 145.863 L613.358 145.863 L613.358 145.446 Q613.358 142.507 611.413 140.909 Q609.492 139.289 605.997 139.289 Q603.775 139.289 601.668 139.821 Q599.562 140.354 597.617 141.419 L597.617 137.483 Q599.955 136.581 602.154 136.141 Q604.353 135.678 606.437 135.678 Q612.062 135.678 614.839 138.594 Q617.617 141.511 617.617 147.437 Z\" fill=\"#000000\" fill-rule=\"nonzero\" fill-opacity=\"1\" /><path clip-path=\"url(#clip240)\" d=\"M626.39 126.21 L630.649 126.21 L630.649 162.229 L626.39 162.229 L626.39 126.21 Z\" fill=\"#000000\" fill-rule=\"nonzero\" fill-opacity=\"1\" /><path clip-path=\"url(#clip240)\" d=\"M639.122 151.997 L639.122 136.303 L643.381 136.303 L643.381 151.835 Q643.381 155.516 644.816 157.368 Q646.251 159.196 649.122 159.196 Q652.571 159.196 654.561 156.997 Q656.575 154.798 656.575 151.002 L656.575 136.303 L660.834 136.303 L660.834 162.229 L656.575 162.229 L656.575 158.247 Q655.024 160.608 652.964 161.766 Q650.927 162.9 648.219 162.9 Q643.751 162.9 641.436 160.122 Q639.122 157.344 639.122 151.997 M649.839 135.678 L649.839 135.678 Z\" fill=\"#000000\" fill-rule=\"nonzero\" fill-opacity=\"1\" /><path clip-path=\"url(#clip240)\" d=\"M691.783 148.201 L691.783 150.284 L672.2 150.284 Q672.478 154.682 674.839 156.997 Q677.223 159.289 681.459 159.289 Q683.913 159.289 686.205 158.687 Q688.519 158.085 690.788 156.881 L690.788 160.909 Q688.496 161.881 686.089 162.391 Q683.682 162.9 681.205 162.9 Q675.001 162.9 671.367 159.289 Q667.756 155.678 667.756 149.52 Q667.756 143.155 671.182 139.428 Q674.631 135.678 680.464 135.678 Q685.695 135.678 688.728 139.057 Q691.783 142.414 691.783 148.201 M687.524 146.951 Q687.478 143.456 685.556 141.372 Q683.658 139.289 680.51 139.289 Q676.945 139.289 674.793 141.303 Q672.663 143.317 672.339 146.974 L687.524 146.951 Z\" fill=\"#000000\" fill-rule=\"nonzero\" fill-opacity=\"1\" /></svg>\n"
      ]
     },
     "metadata": {},
     "output_type": "display_data"
    }
   ],
   "source": [
    "UB_k = []\n",
    "for i in 1:25\n",
    "    ⋅, ⋅, UB = ccg_decomposition(instance, max_iter = 5, Γ = i,)\n",
    "    push!(UB_k, UB)\n",
    "end\n",
    "\n",
    "plot(UB_k, \n",
    "    label = \"obj. value\",\n",
    "    xlabel = \"Γ\")"
   ]
  }
 ],
 "metadata": {
  "kernelspec": {
   "display_name": "Julia 1.9.0",
   "language": "julia",
   "name": "julia-1.9"
  },
  "language_info": {
   "file_extension": ".jl",
   "mimetype": "application/julia",
   "name": "julia",
   "version": "1.9.0"
  },
  "orig_nbformat": 4
 },
 "nbformat": 4,
 "nbformat_minor": 2
}
