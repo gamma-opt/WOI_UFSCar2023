{
 "cells": [
  {
   "cell_type": "markdown",
   "metadata": {},
   "source": [
    "# Example 3 - Sample Average Approximation"
   ]
  },
  {
   "cell_type": "code",
   "execution_count": 1,
   "metadata": {},
   "outputs": [
    {
     "name": "stdout",
     "output_type": "stream",
     "text": [
      "Set parameter Username\n",
      "Academic license - for non-commercial use only - expires 2023-10-03\n"
     ]
    }
   ],
   "source": [
    "# Loading required packages\n",
    "using JuMP\n",
    "using Gurobi\n",
    "const GRB_ENV = Gurobi.Env()\n",
    "myGurobi = ()->Gurobi.Optimizer(GRB_ENV)\n",
    "using LinearAlgebra\n",
    "using Plots\n",
    "using Statistics\n",
    "using Distributions\n",
    "using Random"
   ]
  },
  {
   "cell_type": "markdown",
   "metadata": {},
   "source": [
    "We consider a lot-sizing problem under demand uncertainty. Let\n",
    "- $I$ - set of suppliers\n",
    "- $J$ - set of clients\n",
    "- $T$ - set of time periods\n",
    "- $C_{i}$ - unit capacity cost for supplier $i \\in I$\n",
    "- $H_{i}$ - unit storage cost for supplier $i \\in I$\n",
    "- $M_{i}$ - unit production cost for supplier $i \\in I$\n",
    "- $D_{s,j,t}$ - scenario $s \\in S$ demand for client $j \\in J$ and period $t \\in T$\n",
    "- $Q_{j}$ - unit cost for unfulfilled demand at client $j \\in J$\n",
    "- $F_{i,j}$ - unit cost for supplier $i \\in I$ fulfilling client $j \\in J$\n",
    "- $x_i$ - capacity per supplier $i \\in I$ \n",
    "- $p_{s,i,t}$ -units produced per supplier $i \\in I$, period $t \\in T$, and scenario $s \\in S$ \n",
    "- $k_{s,i,t}$ - units stored in each supplier $i \\in I$, in period $t \\in T$, and scenario $s \\in S$\n",
    "- $e_{s,i,j,t}$ - units transported from supplier $i \\in I$ to client $j \\in J$ in period $t \\in T$, and scenario $s \\in S$\n",
    "- $u_{s, j, t}$ - unfulfilled demand per client $j \\in J$, in period $t \\in T$, and scenario $s \\in S$\n",
    "\n",
    "Our problem can be formulated as:\n",
    "\n",
    "\\begin{align*}\n",
    "    \\min_{x,k,p,e,u \\ge 0}~& \\sum_{i \\in I} C_i x_i + \\sum_{s \\in S} + P_s\\left( \\sum_{i \\in I, t \\in T} (H_i k_{s,i,t} + M_{i} p_{s,i,t}) + \\sum_{i \\in I, j \\in J, t \\in T} F_{i,j}e_{s,i,j,t} + \\sum_{j \\in J, t \\in T} Q_{j}u_{s,j,t} \\right) \\\\\n",
    "    \\text{s.t.:~} & p_{s,i,t} \\le x_{i}, \\ \\forall s \\in S, i \\in I, t \\in T \\\\\n",
    "    & p_{s,i,t} + k_{s,i,t-1} = \\sum_{j \\in J}e_{s,i,j,t}  + k_{s,i,t}, \\ \\forall s \\in S, i \\in I, j \\in J, t \\in T \\\\\n",
    "    & \\sum_{i \\in I} e_{s,i,j,t} = D_{s,j,t} - u{s,j,t}, \\ \\forall s \\in S, j \\in J, t \\in T.\n",
    "\\end{align*}"
   ]
  },
  {
   "cell_type": "markdown",
   "metadata": {},
   "source": [
    "We define some auxiliary structures to aid moving data between problems. The function `unroll` simply \"opens\" the structure `Instance` so we can avoid adding `Instance.` before oour parameters"
   ]
  },
  {
   "cell_type": "code",
   "execution_count": 2,
   "metadata": {},
   "outputs": [
    {
     "data": {
      "text/plain": [
       "unroll (generic function with 1 method)"
      ]
     },
     "metadata": {},
     "output_type": "display_data"
    }
   ],
   "source": [
    "#= \n",
    "These structures will ease the passing of the specific instance for the functions \n",
    "that generate and solve the optimization model.\n",
    "=#\n",
    "mutable struct Instance\n",
    "    nI     # Number of suppliers      \n",
    "    nJ     # Number of clients\n",
    "    nT     # Number of periods\n",
    "    I      # Supplier range\n",
    "    J      # Client range\n",
    "    T      # Periods range\n",
    "    C      # Unit capacity costs per supplier\n",
    "    H      # Unit storage cost per supplier\n",
    "    M      # Production cost per supplier\n",
    "    D      # Client demands in all periods\n",
    "    Q      # Unit costs of unfulfilled demand\n",
    "    F      # Unit costs to fulfil demands \n",
    "end\n",
    "\n",
    "mutable struct ScenarioTree\n",
    "    D      # Random demand \n",
    "    P      # Probabaility \n",
    "end\n",
    "\n",
    "function unroll(Instance)\n",
    "    I = Instance.I\n",
    "    J = Instance.J\n",
    "    T = Instance.T \n",
    "    C = Instance.C\n",
    "    H = Instance.H\n",
    "    M = Instance.M\n",
    "    Q = Instance.Q\n",
    "    F = Instance.F\n",
    "    return I, J, T, C, H, M, Q, F\n",
    "end    "
   ]
  },
  {
   "cell_type": "markdown",
   "metadata": {},
   "source": [
    "The function `create_scenario` generates a given of demand scenarios. Notice some characteristics of them:\n",
    "- They all have the same probabiliy $\\frac{1}{nS}$\n",
    "- The scenarios are first-order auto regressive series, sampled for all time periods\n",
    "- "
   ]
  },
  {
   "cell_type": "code",
   "execution_count": 3,
   "metadata": {},
   "outputs": [],
   "source": [
    "# Scenario generation\n",
    "function create_scenarios(ins::Instance, nS)\n",
    "\n",
    "    ## Renaming for making the implementation clearer\n",
    "    nJ = ins.nJ\n",
    "    nT = ins.nT\n",
    "    J = ins.J\n",
    "    T = ins.T \n",
    "    D = ins.D\n",
    "    \n",
    "    S  = 1:nS                 # scenario set\n",
    "    P = repeat([1/nS],nS )   # scenario probability\n",
    "\n",
    "    ## d_sto: Stochastic demand\n",
    "    D_sto = zeros(nS, size(D)[1], size(D)[2])    \n",
    "\n",
    "    ## Creating the Monte Carlo simulation\n",
    "    μ = 0.10                            # Expected demand growth\n",
    "    σ = 0.05                            # Max variability\n",
    "    ϵ = randn(nS,nJ,nT)                 # This is the variability, following a standard normal \n",
    "\n",
    "    ## Assigning stochastic values\n",
    "    for s in S\n",
    "        D_sto[s,:,1] = D[:,1]\n",
    "        for j in J\n",
    "            for t in T[T.>1]\n",
    "                D_sto[s,j,t] =  (1 + μ + σ * ϵ[s,j,t]) * D_sto[s,j,t-1]\n",
    "            end\n",
    "        end\n",
    "    end\n",
    "    return ScenarioTree(D_sto, P)\n",
    "end;\n"
   ]
  },
  {
   "cell_type": "code",
   "execution_count": 4,
   "metadata": {},
   "outputs": [],
   "source": [
    "# Create problem data\n",
    "## Problem data\n",
    "nI = 15                                # Number of suppliers      \n",
    "nJ = 15                                # Number of demand points\n",
    "nT = 10                                # Number of periods\n",
    "I = 1:nI                               # Supplier range\n",
    "J = 1:nJ                               # Demand points range\n",
    "T = 1:nT                               # Periods range\n",
    "\n",
    "## Generate random data for the problem\n",
    "C = rand(400:1000, nI)                 # Unit capacity costs per supplier\n",
    "H = rand(1:2, nI)                      # Unit storage cost per supplier\n",
    "M = rand(20:40, nI)                    # Production cost per supplier\n",
    "D = repeat(rand(100:250, nJ),1,nT)     # Client demands in all periods\n",
    "D = (D'.*[1.05^(t-1) for t in 1:nT])'  # Adding a trend to demand\n",
    "Q = rand(250:500, nJ)                  # Unit costs of unfulfilled demand\n",
    "F = rand(6:30, (nI,nJ))                # Unit costs to fulfill demands\n",
    "\n",
    "# This packages the problem instance information into a single structure.\n",
    "ins = Instance(nI, nJ, nT, I, J, T, C, H, M, D, Q, F);"
   ]
  },
  {
   "cell_type": "markdown",
   "metadata": {},
   "source": [
    "$\\eta$ is our reference sample, which we will use for out-of-sample testing, reducing and approximating via SAA. In out case, it plays the role of the *truthful* stochastic process."
   ]
  },
  {
   "cell_type": "code",
   "execution_count": 5,
   "metadata": {},
   "outputs": [],
   "source": [
    "η = create_scenarios(ins, 1000);"
   ]
  },
  {
   "cell_type": "markdown",
   "metadata": {},
   "source": [
    "Let's have a look at some of our scenarios"
   ]
  },
  {
   "cell_type": "code",
   "execution_count": 6,
   "metadata": {},
   "outputs": [
    {
     "ename": "UndefVarError",
     "evalue": "UndefVarError: `i` not defined",
     "output_type": "error",
     "traceback": [
      "UndefVarError: `i` not defined\n",
      "\n",
      "Stacktrace:\n",
      " [1] top-level scope\n",
      "   @ ~/Dropbox (Aalto)/Aalto/Courses/Optimisation under Uncertainty/2023/notebooks/lecture_2/prod_plan_SAA.ipynb:6"
     ]
    }
   ],
   "source": [
    "# Plotting the scenarios for a single locatiom\n",
    "j = 5   # selected location for plotting\n",
    "nS = 50 # number of samples to visualise \n",
    "\n",
    "# Creating empty plot\n",
    "plot(\n",
    "    xlabel = \"Time periods\",\n",
    "    ylabel = \"Demand\",  \n",
    "    title = \"Demand - Location $(i) ($(50) scenarios)\",\n",
    ")\n",
    "\n",
    "# Including each demand series in the plot\n",
    "for s in 1:nS                               \n",
    "    plot!(η.D[s,j,:], label = \"\")\n",
    "end\n",
    "\n",
    "# Plotting the expected demand \n",
    "plot!([mean(η.D[:,j,t]) for t in T], \n",
    "    lw = 2,          # line weight\n",
    "    ls = :dash,      # line stroke\n",
    "    color = :black, \n",
    "    label = \"scen. avg.\"\n",
    ")"
   ]
  },
  {
   "cell_type": "markdown",
   "metadata": {},
   "source": [
    "The functions `generate_stochastic(ins, ξ)` and `solve_stochastic(model; verbose=true)` are meant to separate the process of generating and solving the model."
   ]
  },
  {
   "cell_type": "code",
   "execution_count": 7,
   "metadata": {},
   "outputs": [],
   "source": [
    "#=\n",
    "generate_stochastic(ins, ξ): \n",
    "inputs:\n",
    "    1. ins: data instance (::Instance)\n",
    "    2. ξ: scenario tree (::ScenTree)\n",
    "output:\n",
    "    1. 2SSP model (::JuMP)\n",
    "=#\n",
    "function generate_stochastic(ins, ξ)\n",
    "\n",
    "    # Renaming for making the implementation clearer    \n",
    "    I, J, T, C, H, M, Q, F = unroll(ins)\n",
    "    \n",
    "    D_sto = ξ.D\n",
    "    P = ξ.P\n",
    "    nS = length(P)   # total of scenarios in ξ\n",
    "    S = 1:nS          # set of scenarios \n",
    "\n",
    "    model = Model(myGurobi)      \n",
    "\n",
    "    # Variables\n",
    "    @variable(model, x[i ∈ I] ≥ 0)                          # Capacity per supplier (independent on the scenarios realisation)\n",
    "    @variable(model, p[s ∈ S, i ∈ I, t ∈ T] ≥ 0)            # Units produced per supplier i, per period t, and scenario sc\n",
    "    @variable(model, k[s ∈ S, i ∈ I, t ∈ T] ≥ 0)            # Units stored in each supplier i, period t, and scenario sc\n",
    "    @variable(model, e[s ∈ S, i ∈ I, j ∈ J, t in T] ≥ 0)    # Units transported from supplier i to demand point j at period t and scenario sc\n",
    "    @variable(model, u[s ∈ S, j ∈ J, t ∈ T] ≥ 0)            # Unfulfilled demand per demand point j, period t, and scenario sc\n",
    "\n",
    "    # Objective: Minimize the total first-stage + second-stage costs over all scenarios\n",
    "    @objective(model, Min,\n",
    "      sum(C[i] * x[i] for i in I) +\n",
    "      sum(P[s] * H[i] * k[s,i,t] for s in S, t in T, i in I) + \n",
    "      sum(P[s] * M[i] * p[s,i,t] for s in S, t in T, i in I) +\n",
    "      sum(P[s] * F[i,j] * e[s,i,j,t] for s in S, t in T, i in I, j in J) + \n",
    "      sum(P[s] * Q[j] * u[s,j,t] for s in S, t in T, j in J) \n",
    "    )\n",
    "\n",
    "    # Constraints\n",
    "    #Capacity limit for each supplier i in each period t\n",
    "    @constraint(model, Cap[s in S, i in I, t in T], p[s,i,t] <= x[i])\n",
    "    # Supply balance constraint\n",
    "    # (T=1): First period do not count with previous stocks\n",
    "    @constraint(model, SupBal1[s in S, i in I, t in [1]], p[s,i,t] == sum(e[s,i,j,t] for j in J) + k[s,i,t])\n",
    "    # (T>1): All periods but the first are balanced with the storage levels decided in the previous periods\n",
    "    @constraint(model, SupBal2[s in S, i in I, t in T[T.>1]], p[s,i,t] + k[s,i,t-1] == sum(e[s,i,j,t] for j in J) + k[s,i,t])\n",
    "    # Demand balance constraint (u[j,s] is unfulfilled demand of client j in scenario s)\n",
    "    @constraint(model, DemBal[s in S, j in J, t in T], sum(e[s,i,j,t] for i in I) == D_sto[s,j,t] - u[s,j,t])\n",
    "    \n",
    "    return(model)\n",
    "end\n",
    "\n",
    "#=\n",
    "solve_stochastic(model; verbose=true):\n",
    "- inputs\n",
    "    1. model: the 2SSP model\n",
    "    2. verbose: hide solver log\n",
    "-outputs\n",
    "    1. x_val: first-stage solution\n",
    "    2. obj: objective function value\n",
    "=#\n",
    "\n",
    "function solve_stochastic(model; verbose=true)\n",
    "    if verbose \n",
    "        println(\"Solving stochastic model...\")    \n",
    "    else\n",
    "        set_silent(model)                      # Omit solver log\n",
    "    end\n",
    "    optimize!(model)                           # Solve the problem\n",
    "\n",
    "    status = termination_status(model)         # Solution status\n",
    "    \n",
    "    if verbose \n",
    "        println(status)                        # Print status\n",
    "    end\n",
    "    \n",
    "    x_val = Array(value.(model[:x]))\n",
    "    obj = objective_value(model)\n",
    "    # Returns first-stage solution and objective value\n",
    "    return (x_val, obj)\n",
    "end;    "
   ]
  },
  {
   "cell_type": "markdown",
   "metadata": {},
   "source": [
    "These are important auxiliary functions. \n",
    "- `sample_scenarios(η, N)` generate `N` random samples from `η`. The sampling is purely Monte Carlo-like. We simply the positions and take the first `N` elements\n",
    "- `calculate_ci(x; conf_level=0.95)` calculates confidence intervals given a vector of realisations of `x`. It assumes a default confidence level of 95%."
   ]
  },
  {
   "cell_type": "code",
   "execution_count": 8,
   "metadata": {},
   "outputs": [],
   "source": [
    "#=\n",
    "sample_scenarios(η, N):\n",
    "- inputs \n",
    "    1. η: original full length (discrete stochastic process)\n",
    "    2. N: desired number of sample_scenarios\n",
    "- output\n",
    "    1. ScenarioTree(D_aux, P_aux):\" a scenario tree ξ of size N    \n",
    "=#\n",
    "function sample_scenarios(η, N)\n",
    "    nS = length(η.P)\n",
    "    sample = shuffle([ones(N); zeros(nS-N)])\n",
    "    \n",
    "    P_aux = repeat([1/N], N)\n",
    "    D_aux = zeros(N, size(η.D[1,:,:])[1], size(η.D[1,:,:])[2])\n",
    "    m = 1\n",
    "    for s in 1:nS\n",
    "        if sample[s] > 0.0\n",
    "            D_aux[m,:,:] .= η.D[s,:,:]\n",
    "            m += 1\n",
    "        end\n",
    "    end    \n",
    "    return ScenarioTree(D_aux, P_aux)\n",
    "end;   \n",
    "\n",
    "#=\n",
    "calculate_ci(x; α=0.95):\n",
    "- inputs \n",
    "    1. x: observations of random variable x::Vector\n",
    "    2. conf_level=0.95: desired confidence level 1 - α\n",
    "- output\n",
    "    1. low: confidence interval lower bound\n",
    "    2. high: confidence interval upper bound  \n",
    "=#\n",
    "function calculate_ci(x; conf_level=0.95)\n",
    "    α = (1 - conf_level)\n",
    "    z = quantile(Normal(), 1 - α/2)\n",
    "    SE = std(x)/sqrt(length(x))\n",
    "    low, high = mean(x) .+ [-1, 1] * z * SE\n",
    "    return low, high\n",
    "end;"
   ]
  },
  {
   "cell_type": "markdown",
   "metadata": {},
   "source": [
    "## Calculating SAA lower bound\n",
    "\n",
    "To calculate the approximation for the lower bound $L_N^M$, we must:\n",
    "1. Define scenario tree sizes $N$ and the number of repetitions $M$\n",
    "2. Solve each of the $m \\in M$ subproblems and obtain $\\hat{z}^m_N$\n",
    "3. Calculate the bound:\n",
    "\\begin{equation*}\n",
    "\tL_N^M = \\frac{1}{M} \\sum_{m=1}^M \\hat{z}^m_N.\n",
    "\\end{equation*}\n",
    "\n",
    "Notice that we also keep track of the solutions we obtain for each subproblem $m \\in M$"
   ]
  },
  {
   "cell_type": "code",
   "execution_count": 9,
   "metadata": {},
   "outputs": [
    {
     "name": "stdout",
     "output_type": "stream",
     "text": [
      "Solving problem m = 5 of 20\n"
     ]
    },
    {
     "name": "stdout",
     "output_type": "stream",
     "text": [
      "Solving problem m = 10 of 20\n"
     ]
    },
    {
     "name": "stdout",
     "output_type": "stream",
     "text": [
      "Solving problem m = 15 of 20\n"
     ]
    },
    {
     "name": "stdout",
     "output_type": "stream",
     "text": [
      "Solving problem m = 20 of 20\n"
     ]
    },
    {
     "name": "stdout",
     "output_type": "stream",
     "text": [
      "lower bound = 3.545185375523547e6\n",
      "relative deviation = 0.93722828452451%\n",
      "CI = "
     ]
    },
    {
     "name": "stdout",
     "output_type": "stream",
     "text": [
      "(3.530623496157252e6, 3.559747254889842e6)\n"
     ]
    }
   ],
   "source": [
    "N = 10\n",
    "M = 20\n",
    "\n",
    "# Main SAA lower bound loop\n",
    "solutions = []\n",
    "bounds = []\n",
    "for m = 1:M\n",
    "    if mod(m, 5) == 0\n",
    "        println(\"Solving problem m = $(m) of $(M)\")\n",
    "    end    \n",
    "    ξ = sample_scenarios(η, N)\n",
    "    model = generate_stochastic(ins, ξ)\n",
    "    (x, obj) = solve_stochastic(model, verbose=false)\n",
    "    push!(solutions, x)\n",
    "    push!(bounds, obj)   \n",
    "end \n",
    "\n",
    "println(\"lower bound = \", mean(bounds))\n",
    "println(\"relative deviation = \", sqrt(var(bounds, corrected=true))/mean(bounds) * 100, \"%\")\n",
    "println(\"CI = \", calculate_ci(bounds))"
   ]
  },
  {
   "cell_type": "markdown",
   "metadata": {},
   "source": [
    "## Calculating SAA upper bound\n",
    "\n",
    "To calculate the upper bound, it will be useful to have a version of our model that we can submit a first-stage solution to be evaluated for a given scenario $s \\in S$. This is the purpose of `generate_scenario_fixed(ins, D_s, x_solution)`."
   ]
  },
  {
   "cell_type": "code",
   "execution_count": 10,
   "metadata": {},
   "outputs": [],
   "source": [
    "#=\n",
    "generate_scenario_fixed(ins, D_s, x_solution):\n",
    "- inputs\n",
    "  1. ins: data instance (::Instance)\n",
    "  2. D_s: a single demand scenario\n",
    "  3. x_solution: the solution to be evaluated\n",
    "- outputs\n",
    "  1. model: a deterministic single-scenario model (::JuMP)\n",
    "=#\n",
    "function generate_scenario_fixed(ins, D_s, x_solution)\n",
    "    \n",
    "    # Renaming for making the implementation clearer    \n",
    "    I, J, T, C, H, M, Q, F = unroll(ins)\n",
    "    \n",
    "    model = Model(myGurobi)      \n",
    "\n",
    "    # Variables\n",
    "    @variable(model, x[i in I] >= 0)                    # Capacity per supplier (independent on the scenarios realisation)\n",
    "    @variable(model, p[i in I, t in T] >= 0)            # Units produced per supplier i, per period t, and scenario sc\n",
    "    @variable(model, k[i in I, t in T] >= 0)            # Units stored in each supplier i, period t, and scenario sc\n",
    "    @variable(model, e[i in I, j in J, t in T] >= 0)    # Units transported from supplier i to demand point j at period t and scenario sc\n",
    "    @variable(model, u[j in J, t in T] >= 0)            # Unfulfilled demand per demand point j, period t, and scenario sc\n",
    "\n",
    "    # Objective: Minimize the total first-stage + second-stage costs over all scenarios\n",
    "    @objective(model, Min,\n",
    "      sum(C[i] * x[i] for i in I) +\n",
    "      sum(H[i] * k[i,t] for t in T, i in I) + \n",
    "      sum(M[i] * p[i,t] for t in T, i in I) +\n",
    "      sum(F[i,j] * e[i,j,t] for t in T, i in I, j in J) + \n",
    "      sum(Q[j] * u[j,t] for t in T, j in J) \n",
    "    )\n",
    "\n",
    "    # Constraints\n",
    "    # Capacity limit for each supplier i in each period t\n",
    "    @constraint(model, Cap[i in I, t in T], p[i,t] <= x[i])\n",
    "\n",
    "    # Supply balance constraint\n",
    "    # (T=1): First period do not count with previous stocks\n",
    "    @constraint(model, SupBal1[i in I, t in [1]], p[i,t] == sum(e[i,j,t] for j in J) + k[i,t])\n",
    "    # (T>1): All periods but the first are balanced with the storage levels decided in the previous periods\n",
    "    @constraint(model, SupBal2[i in I, t in T; t > 1], p[i,t] + k[i,t-1] == sum(e[i,j,t] for j in J) + k[i,t])\n",
    "    # Demand balance constraint (u[j,s] is unfulfilled demand of client j in scenario s)\n",
    "    @constraint(model, DemBal[j in J, t in T], sum(e[i,j,t] for i in I) == D_s[j,t] - u[j,t])\n",
    "    # Fix first-stage solution to be x_solution\n",
    "    @constraint(model, Fix1stStage[i in I], x[i] == x_solution[i])\n",
    "    \n",
    "    return(model)\n",
    "end;"
   ]
  },
  {
   "cell_type": "markdown",
   "metadata": {},
   "source": [
    "To calculate the approximation for the upper bound $\\check{z}_{\\overline{N}}^t$ we proceed by:\n",
    "1. Choose a solution $\\hat{x}^{m'}_N$ among the $|M|$ (potentially) distinct solutions\n",
    "2. Evaluate each of the $t \\in T$ subproblems using $\\overline{N}$ scenarios, obtaining  \n",
    "\\begin{equation*}\n",
    "\t\\check{z}_{\\overline{N}}^t = \\frac{1}{\\overline{N}} \\sum_{n=1}^{\\overline{N}} F(\\hat{x}^{m'}_N, \\xi_n^t)\n",
    "\\end{equation*}\n",
    "3. Calculate the upper bound estimate using\n",
    "\\begin{equation*}\n",
    "\tU_{\\overline{N}}^T = \\frac{1}{T} \\sum_{t=1}^T \\check{z}_{\\overline{N}}^t.\n",
    "\\end{equation*}\n",
    "\n",
    "We will, however, proceed slightly differently. Since we have two-stage problem, we can alternatively calculate the upper bound againts $\\eta$. Thus, our estimate becomes\n",
    "\\begin{equation*}\n",
    "\tU_\\eta = \\frac{1}{|\\eta|} \\sum_{s=1}^{|\\eta|} F(\\hat{x}^{m'}_N, \\eta_s).\n",
    "\\end{equation*}\n",
    "\n",
    "Notice how similar this is to the idea of evaluating the scenario tree $\\xi_N^{m'}$.\n",
    "\n",
    "\n",
    "\n"
   ]
  },
  {
   "cell_type": "code",
   "execution_count": 11,
   "metadata": {},
   "outputs": [
    {
     "name": "stdout",
     "output_type": "stream",
     "text": [
      "Evaluating solution 4:\n"
     ]
    },
    {
     "name": "stdout",
     "output_type": "stream",
     "text": [
      "Solved 50 scenarios out of 1000\n"
     ]
    },
    {
     "name": "stdout",
     "output_type": "stream",
     "text": [
      "Solved 100 scenarios out of 1000\n"
     ]
    },
    {
     "name": "stdout",
     "output_type": "stream",
     "text": [
      "Solved 150 scenarios out of 1000\n"
     ]
    },
    {
     "name": "stdout",
     "output_type": "stream",
     "text": [
      "Solved 200 scenarios out of 1000\n"
     ]
    },
    {
     "name": "stdout",
     "output_type": "stream",
     "text": [
      "Solved 250 scenarios out of 1000\n"
     ]
    },
    {
     "name": "stdout",
     "output_type": "stream",
     "text": [
      "Solved 300 scenarios out of 1000\n"
     ]
    },
    {
     "name": "stdout",
     "output_type": "stream",
     "text": [
      "Solved 350 scenarios out of 1000\n"
     ]
    },
    {
     "name": "stdout",
     "output_type": "stream",
     "text": [
      "Solved 400 scenarios out of 1000\n"
     ]
    },
    {
     "name": "stdout",
     "output_type": "stream",
     "text": [
      "Solved 450 scenarios out of 1000\n"
     ]
    },
    {
     "name": "stdout",
     "output_type": "stream",
     "text": [
      "Solved 500 scenarios out of 1000\n"
     ]
    },
    {
     "name": "stdout",
     "output_type": "stream",
     "text": [
      "Solved 550 scenarios out of 1000\n"
     ]
    },
    {
     "name": "stdout",
     "output_type": "stream",
     "text": [
      "Solved 600 scenarios out of 1000\n"
     ]
    },
    {
     "name": "stdout",
     "output_type": "stream",
     "text": [
      "Solved 650 scenarios out of 1000\n"
     ]
    },
    {
     "name": "stdout",
     "output_type": "stream",
     "text": [
      "Solved 700 scenarios out of 1000\n"
     ]
    },
    {
     "name": "stdout",
     "output_type": "stream",
     "text": [
      "Solved 750 scenarios out of 1000\n"
     ]
    },
    {
     "name": "stdout",
     "output_type": "stream",
     "text": [
      "Solved 800 scenarios out of 1000\n"
     ]
    },
    {
     "name": "stdout",
     "output_type": "stream",
     "text": [
      "Solved 850 scenarios out of 1000\n"
     ]
    },
    {
     "name": "stdout",
     "output_type": "stream",
     "text": [
      "Solved 900 scenarios out of 1000\n"
     ]
    },
    {
     "name": "stdout",
     "output_type": "stream",
     "text": [
      "Solved 950 scenarios out of 1000\n"
     ]
    },
    {
     "name": "stdout",
     "output_type": "stream",
     "text": [
      "Solved 1000 scenarios out of 1000\n"
     ]
    }
   ],
   "source": [
    "nObservations = length(η.P)\n",
    "scen_costs = zeros(nObservations)\n",
    "\n",
    "# We choose our candidate solution by simply picking that with maximum LB\n",
    "LB, candidate = findmax(bounds)\n",
    "\n",
    "println(\"Evaluating solution $(candidate):\")\n",
    "for scenario in 1:nObservations\n",
    "    if mod(scenario, 50) == 0  && scenario > 1 \n",
    "      # print every 50 iterations\n",
    "      println(\"Solved $(scenario) scenarios out of $(nObservations)\") \n",
    "    end  \n",
    "    model = generate_scenario_fixed(ins, η.D[scenario,:,:], solutions[candidate])\n",
    "    ⋅, obj = solve_stochastic(model, verbose=false)\n",
    "    scen_costs[scenario] = obj\n",
    "end    "
   ]
  },
  {
   "cell_type": "markdown",
   "metadata": {},
   "source": [
    "We are ready to calculate our upper bound estimate."
   ]
  },
  {
   "cell_type": "code",
   "execution_count": 12,
   "metadata": {},
   "outputs": [
    {
     "name": "stdout",
     "output_type": "stream",
     "text": [
      "upper bound = 3.5779297564799073e6\n",
      "relative deviation = 1.4370326544371501%\n",
      "CI = (3.5747430171670853e6, 3.5811164957927293e6)\n",
      "gap = -0.7533706643121024%\n"
     ]
    }
   ],
   "source": [
    "UB = mean(scen_costs)\n",
    "println(\"upper bound = \",UB)\n",
    "println(\"relative deviation = \",sqrt(var(scen_costs, corrected=true))/mean(scen_costs) * 100, \"%\")\n",
    "println(\"CI = \",calculate_ci(scen_costs))\n",
    "println(\"gap = \",100 * (UB - LB)/UB, \"%\") "
   ]
  },
  {
   "cell_type": "markdown",
   "metadata": {},
   "source": [
    "We can experiment with the sample size $N$ to see the effect on the estimated bound. As expected, the bound gradually increases as we increase the sample size."
   ]
  },
  {
   "cell_type": "markdown",
   "metadata": {},
   "source": []
  },
  {
   "cell_type": "code",
   "execution_count": 14,
   "metadata": {},
   "outputs": [
    {
     "name": "stdout",
     "output_type": "stream",
     "text": [
      "Calculating N = 10\n"
     ]
    },
    {
     "name": "stdout",
     "output_type": "stream",
     "text": [
      "   Solving problem m = 5 of 20\n"
     ]
    },
    {
     "name": "stdout",
     "output_type": "stream",
     "text": [
      "   Solving problem m = 10 of 20\n"
     ]
    },
    {
     "name": "stdout",
     "output_type": "stream",
     "text": [
      "   Solving problem m = 15 of 20\n"
     ]
    },
    {
     "name": "stdout",
     "output_type": "stream",
     "text": [
      "   Solving problem m = 20 of 20\n"
     ]
    },
    {
     "name": "stdout",
     "output_type": "stream",
     "text": [
      "Calculating N = 20\n"
     ]
    },
    {
     "name": "stdout",
     "output_type": "stream",
     "text": [
      "   Solving problem m = 5 of 20\n"
     ]
    },
    {
     "name": "stdout",
     "output_type": "stream",
     "text": [
      "   Solving problem m = 10 of 20\n"
     ]
    },
    {
     "name": "stdout",
     "output_type": "stream",
     "text": [
      "   Solving problem m = 15 of 20\n"
     ]
    },
    {
     "name": "stdout",
     "output_type": "stream",
     "text": [
      "   Solving problem m = 20 of 20\n"
     ]
    },
    {
     "name": "stdout",
     "output_type": "stream",
     "text": [
      "Calculating N = 50\n"
     ]
    },
    {
     "name": "stdout",
     "output_type": "stream",
     "text": [
      "   Solving problem m = 5 of 20\n"
     ]
    },
    {
     "name": "stdout",
     "output_type": "stream",
     "text": [
      "   Solving problem m = 10 of 20\n"
     ]
    },
    {
     "name": "stdout",
     "output_type": "stream",
     "text": [
      "   Solving problem m = 15 of 20\n"
     ]
    },
    {
     "name": "stdout",
     "output_type": "stream",
     "text": [
      "   Solving problem m = 20 of 20\n"
     ]
    },
    {
     "name": "stdout",
     "output_type": "stream",
     "text": [
      "Calculating N = 100\n"
     ]
    },
    {
     "name": "stdout",
     "output_type": "stream",
     "text": [
      "   Solving problem m = 5 of 20\n"
     ]
    },
    {
     "name": "stdout",
     "output_type": "stream",
     "text": [
      "   Solving problem m = 10 of 20\n"
     ]
    },
    {
     "name": "stdout",
     "output_type": "stream",
     "text": [
      "   Solving problem m = 15 of 20\n"
     ]
    },
    {
     "name": "stdout",
     "output_type": "stream",
     "text": [
      "   Solving problem m = 20 of 20\n"
     ]
    },
    {
     "name": "stdout",
     "output_type": "stream",
     "text": [
      "Calculating N = 200\n"
     ]
    },
    {
     "name": "stdout",
     "output_type": "stream",
     "text": [
      "   Solving problem m = 5 of 20\n"
     ]
    },
    {
     "name": "stdout",
     "output_type": "stream",
     "text": [
      "   Solving problem m = 10 of 20\n"
     ]
    },
    {
     "name": "stdout",
     "output_type": "stream",
     "text": [
      "   Solving problem m = 15 of 20\n"
     ]
    },
    {
     "name": "stdout",
     "output_type": "stream",
     "text": [
      "   Solving problem m = 20 of 20\n"
     ]
    }
   ],
   "source": [
    "N_values = [10,20,50,100,200]\n",
    "M = 20\n",
    "\n",
    "lower_bound = []\n",
    "relative_deviation = []\n",
    "\n",
    "for N in N_values\n",
    "    # Main SAA lower bound loop\n",
    "    solutions = []\n",
    "    bounds = []\n",
    "    println(\"Calculating N = $(N)\")\n",
    "    for m = 1:M\n",
    "        if mod(m, 5) == 0\n",
    "            println(\"   Solving problem m = $(m) of $(M)\")\n",
    "        end    \n",
    "        ξ = sample_scenarios(η, N)\n",
    "        model = generate_stochastic(ins, ξ)\n",
    "        (x, obj) = solve_stochastic(model, verbose=false)\n",
    "        push!(solutions, x)\n",
    "        push!(bounds, obj)   \n",
    "    end \n",
    "\n",
    "    push!(lower_bound, mean(bounds))\n",
    "    push!(relative_deviation, sqrt(var(bounds, corrected=true))/mean(bounds) * 100)\n",
    "end    "
   ]
  },
  {
   "cell_type": "code",
   "execution_count": 15,
   "metadata": {},
   "outputs": [
    {
     "data": {
      "image/png": "[encoded data removed]",
      "image/svg+xml": [
       "<?xml version=\"1.0\" encoding=\"utf-8\"?>\n",
       "<svg xmlns=\"http://www.w3.org/2000/svg\" xmlns:xlink=\"http://www.w3.org/1999/xlink\" width=\"600\" height=\"400\" viewBox=\"0 0 2400 1600\">\n",
       "<defs>\n",
       "  <clipPath id=\"clip230\">\n",
       "    <rect x=\"0\" y=\"0\" width=\"2400\" height=\"1600\"/>\n",
       "  </clipPath>\n",
       "</defs>\n",
       "<path clip-path=\"url(#clip230)\" d=\"M0 1600 L2400 1600 L2400 0 L0 0  Z\" fill=\"#ffffff\" fill-rule=\"evenodd\" fill-opacity=\"1\"/>\n",
       "<defs>\n",
       "  <clipPath id=\"clip231\">\n",
       "    <rect x=\"480\" y=\"0\" width=\"1681\" height=\"1600\"/>\n",
       "  </clipPath>\n",
       "</defs>\n",
       "<path clip-path=\"url(#clip230)\" d=\"M291.366 1486.45 L2352.76 1486.45 L2352.76 47.2441 L291.366 47.2441  Z\" fill=\"#ffffff\" fill-rule=\"evenodd\" fill-opacity=\"1\"/>\n",
       "<defs>\n",
       "  <clipPath id=\"clip232\">\n",
       "    <rect x=\"291\" y=\"47\" width=\"2062\" height=\"1440\"/>\n",
       "  </clipPath>\n",
       "</defs>\n",
       "<polyline clip-path=\"url(#clip232)\" style=\"stroke:#000000; stroke-linecap:round; stroke-linejoin:round; stroke-width:2; stroke-opacity:0.1; fill:none\" points=\"759.119,1486.45 759.119,47.2441 \"/>\n",
       "<polyline clip-path=\"url(#clip232)\" style=\"stroke:#000000; stroke-linecap:round; stroke-linejoin:round; stroke-width:2; stroke-opacity:0.1; fill:none\" points=\"1270.88,1486.45 1270.88,47.2441 \"/>\n",
       "<polyline clip-path=\"url(#clip232)\" style=\"stroke:#000000; stroke-linecap:round; stroke-linejoin:round; stroke-width:2; stroke-opacity:0.1; fill:none\" points=\"1782.65,1486.45 1782.65,47.2441 \"/>\n",
       "<polyline clip-path=\"url(#clip232)\" style=\"stroke:#000000; stroke-linecap:round; stroke-linejoin:round; stroke-width:2; stroke-opacity:0.1; fill:none\" points=\"2294.41,1486.45 2294.41,47.2441 \"/>\n",
       "<polyline clip-path=\"url(#clip230)\" style=\"stroke:#000000; stroke-linecap:round; stroke-linejoin:round; stroke-width:4; stroke-opacity:1; fill:none\" points=\"291.366,1486.45 2352.76,1486.45 \"/>\n",
       "<polyline clip-path=\"url(#clip230)\" style=\"stroke:#000000; stroke-linecap:round; stroke-linejoin:round; stroke-width:4; stroke-opacity:1; fill:none\" points=\"759.119,1486.45 759.119,1467.55 \"/>\n",
       "<polyline clip-path=\"url(#clip230)\" style=\"stroke:#000000; stroke-linecap:round; stroke-linejoin:round; stroke-width:4; stroke-opacity:1; fill:none\" points=\"1270.88,1486.45 1270.88,1467.55 \"/>\n",
       "<polyline clip-path=\"url(#clip230)\" style=\"stroke:#000000; stroke-linecap:round; stroke-linejoin:round; stroke-width:4; stroke-opacity:1; fill:none\" points=\"1782.65,1486.45 1782.65,1467.55 \"/>\n",
       "<polyline clip-path=\"url(#clip230)\" style=\"stroke:#000000; stroke-linecap:round; stroke-linejoin:round; stroke-width:4; stroke-opacity:1; fill:none\" points=\"2294.41,1486.45 2294.41,1467.55 \"/>\n",
       "<path clip-path=\"url(#clip230)\" d=\"M733.819 1514.29 L752.175 1514.29 L752.175 1518.22 L738.101 1518.22 L738.101 1526.7 Q739.119 1526.35 740.138 1526.19 Q741.156 1526 742.175 1526 Q747.962 1526 751.342 1529.17 Q754.721 1532.34 754.721 1537.76 Q754.721 1543.34 751.249 1546.44 Q747.777 1549.52 741.457 1549.52 Q739.281 1549.52 737.013 1549.15 Q734.768 1548.78 732.36 1548.04 L732.36 1543.34 Q734.444 1544.47 736.666 1545.03 Q738.888 1545.58 741.365 1545.58 Q745.369 1545.58 747.707 1543.48 Q750.045 1541.37 750.045 1537.76 Q750.045 1534.15 747.707 1532.04 Q745.369 1529.94 741.365 1529.94 Q739.49 1529.94 737.615 1530.35 Q735.763 1530.77 733.819 1531.65 L733.819 1514.29 Z\" fill=\"#000000\" fill-rule=\"nonzero\" fill-opacity=\"1\" /><path clip-path=\"url(#clip230)\" d=\"M773.934 1517.37 Q770.323 1517.37 768.494 1520.93 Q766.689 1524.47 766.689 1531.6 Q766.689 1538.71 768.494 1542.27 Q770.323 1545.82 773.934 1545.82 Q777.568 1545.82 779.374 1542.27 Q781.203 1538.71 781.203 1531.6 Q781.203 1524.47 779.374 1520.93 Q777.568 1517.37 773.934 1517.37 M773.934 1513.66 Q779.744 1513.66 782.8 1518.27 Q785.878 1522.85 785.878 1531.6 Q785.878 1540.33 782.8 1544.94 Q779.744 1549.52 773.934 1549.52 Q768.124 1549.52 765.045 1544.94 Q761.99 1540.33 761.99 1531.6 Q761.99 1522.85 765.045 1518.27 Q768.124 1513.66 773.934 1513.66 Z\" fill=\"#000000\" fill-rule=\"nonzero\" fill-opacity=\"1\" /><path clip-path=\"url(#clip230)\" d=\"M1230.49 1544.91 L1238.13 1544.91 L1238.13 1518.55 L1229.82 1520.21 L1229.82 1515.95 L1238.08 1514.29 L1242.76 1514.29 L1242.76 1544.91 L1250.4 1544.91 L1250.4 1548.85 L1230.49 1548.85 L1230.49 1544.91 Z\" fill=\"#000000\" fill-rule=\"nonzero\" fill-opacity=\"1\" /><path clip-path=\"url(#clip230)\" d=\"M1269.84 1517.37 Q1266.23 1517.37 1264.4 1520.93 Q1262.6 1524.47 1262.6 1531.6 Q1262.6 1538.71 1264.4 1542.27 Q1266.23 1545.82 1269.84 1545.82 Q1273.48 1545.82 1275.28 1542.27 Q1277.11 1538.71 1277.11 1531.6 Q1277.11 1524.47 1275.28 1520.93 Q1273.48 1517.37 1269.84 1517.37 M1269.84 1513.66 Q1275.65 1513.66 1278.71 1518.27 Q1281.79 1522.85 1281.79 1531.6 Q1281.79 1540.33 1278.71 1544.94 Q1275.65 1549.52 1269.84 1549.52 Q1264.03 1549.52 1260.95 1544.94 Q1257.9 1540.33 1257.9 1531.6 Q1257.9 1522.85 1260.95 1518.27 Q1264.03 1513.66 1269.84 1513.66 Z\" fill=\"#000000\" fill-rule=\"nonzero\" fill-opacity=\"1\" /><path clip-path=\"url(#clip230)\" d=\"M1300 1517.37 Q1296.39 1517.37 1294.56 1520.93 Q1292.76 1524.47 1292.76 1531.6 Q1292.76 1538.71 1294.56 1542.27 Q1296.39 1545.82 1300 1545.82 Q1303.64 1545.82 1305.44 1542.27 Q1307.27 1538.71 1307.27 1531.6 Q1307.27 1524.47 1305.44 1520.93 Q1303.64 1517.37 1300 1517.37 M1300 1513.66 Q1305.81 1513.66 1308.87 1518.27 Q1311.95 1522.85 1311.95 1531.6 Q1311.95 1540.33 1308.87 1544.94 Q1305.81 1549.52 1300 1549.52 Q1294.19 1549.52 1291.12 1544.94 Q1288.06 1540.33 1288.06 1531.6 Q1288.06 1522.85 1291.12 1518.27 Q1294.19 1513.66 1300 1513.66 Z\" fill=\"#000000\" fill-rule=\"nonzero\" fill-opacity=\"1\" /><path clip-path=\"url(#clip230)\" d=\"M1742.26 1544.91 L1749.9 1544.91 L1749.9 1518.55 L1741.58 1520.21 L1741.58 1515.95 L1749.85 1514.29 L1754.52 1514.29 L1754.52 1544.91 L1762.16 1544.91 L1762.16 1548.85 L1742.26 1548.85 L1742.26 1544.91 Z\" fill=\"#000000\" fill-rule=\"nonzero\" fill-opacity=\"1\" /><path clip-path=\"url(#clip230)\" d=\"M1771.65 1514.29 L1790.01 1514.29 L1790.01 1518.22 L1775.94 1518.22 L1775.94 1526.7 Q1776.96 1526.35 1777.97 1526.19 Q1778.99 1526 1780.01 1526 Q1785.8 1526 1789.18 1529.17 Q1792.56 1532.34 1792.56 1537.76 Q1792.56 1543.34 1789.08 1546.44 Q1785.61 1549.52 1779.29 1549.52 Q1777.12 1549.52 1774.85 1549.15 Q1772.6 1548.78 1770.2 1548.04 L1770.2 1543.34 Q1772.28 1544.47 1774.5 1545.03 Q1776.72 1545.58 1779.2 1545.58 Q1783.21 1545.58 1785.54 1543.48 Q1787.88 1541.37 1787.88 1537.76 Q1787.88 1534.15 1785.54 1532.04 Q1783.21 1529.94 1779.2 1529.94 Q1777.33 1529.94 1775.45 1530.35 Q1773.6 1530.77 1771.65 1531.65 L1771.65 1514.29 Z\" fill=\"#000000\" fill-rule=\"nonzero\" fill-opacity=\"1\" /><path clip-path=\"url(#clip230)\" d=\"M1811.77 1517.37 Q1808.16 1517.37 1806.33 1520.93 Q1804.52 1524.47 1804.52 1531.6 Q1804.52 1538.71 1806.33 1542.27 Q1808.16 1545.82 1811.77 1545.82 Q1815.4 1545.82 1817.21 1542.27 Q1819.04 1538.71 1819.04 1531.6 Q1819.04 1524.47 1817.21 1520.93 Q1815.4 1517.37 1811.77 1517.37 M1811.77 1513.66 Q1817.58 1513.66 1820.64 1518.27 Q1823.71 1522.85 1823.71 1531.6 Q1823.71 1540.33 1820.64 1544.94 Q1817.58 1549.52 1811.77 1549.52 Q1805.96 1549.52 1802.88 1544.94 Q1799.83 1540.33 1799.83 1531.6 Q1799.83 1522.85 1802.88 1518.27 Q1805.96 1513.66 1811.77 1513.66 Z\" fill=\"#000000\" fill-rule=\"nonzero\" fill-opacity=\"1\" /><path clip-path=\"url(#clip230)\" d=\"M2258.11 1544.91 L2274.43 1544.91 L2274.43 1548.85 L2252.48 1548.85 L2252.48 1544.91 Q2255.14 1542.16 2259.73 1537.53 Q2264.33 1532.88 2265.51 1531.53 Q2267.76 1529.01 2268.64 1527.27 Q2269.54 1525.51 2269.54 1523.82 Q2269.54 1521.07 2267.6 1519.33 Q2265.68 1517.6 2262.57 1517.6 Q2260.38 1517.6 2257.92 1518.36 Q2255.49 1519.13 2252.71 1520.68 L2252.71 1515.95 Q2255.54 1514.82 2257.99 1514.24 Q2260.44 1513.66 2262.48 1513.66 Q2267.85 1513.66 2271.05 1516.35 Q2274.24 1519.03 2274.24 1523.52 Q2274.24 1525.65 2273.43 1527.57 Q2272.64 1529.47 2270.54 1532.07 Q2269.96 1532.74 2266.86 1535.95 Q2263.76 1539.15 2258.11 1544.91 Z\" fill=\"#000000\" fill-rule=\"nonzero\" fill-opacity=\"1\" /><path clip-path=\"url(#clip230)\" d=\"M2294.24 1517.37 Q2290.63 1517.37 2288.8 1520.93 Q2287 1524.47 2287 1531.6 Q2287 1538.71 2288.8 1542.27 Q2290.63 1545.82 2294.24 1545.82 Q2297.88 1545.82 2299.68 1542.27 Q2301.51 1538.71 2301.51 1531.6 Q2301.51 1524.47 2299.68 1520.93 Q2297.88 1517.37 2294.24 1517.37 M2294.24 1513.66 Q2300.05 1513.66 2303.11 1518.27 Q2306.19 1522.85 2306.19 1531.6 Q2306.19 1540.33 2303.11 1544.94 Q2300.05 1549.52 2294.24 1549.52 Q2288.43 1549.52 2285.35 1544.94 Q2282.3 1540.33 2282.3 1531.6 Q2282.3 1522.85 2285.35 1518.27 Q2288.43 1513.66 2294.24 1513.66 Z\" fill=\"#000000\" fill-rule=\"nonzero\" fill-opacity=\"1\" /><path clip-path=\"url(#clip230)\" d=\"M2324.4 1517.37 Q2320.79 1517.37 2318.96 1520.93 Q2317.16 1524.47 2317.16 1531.6 Q2317.16 1538.71 2318.96 1542.27 Q2320.79 1545.82 2324.4 1545.82 Q2328.04 1545.82 2329.84 1542.27 Q2331.67 1538.71 2331.67 1531.6 Q2331.67 1524.47 2329.84 1520.93 Q2328.04 1517.37 2324.4 1517.37 M2324.4 1513.66 Q2330.21 1513.66 2333.27 1518.27 Q2336.35 1522.85 2336.35 1531.6 Q2336.35 1540.33 2333.27 1544.94 Q2330.21 1549.52 2324.4 1549.52 Q2318.59 1549.52 2315.51 1544.94 Q2312.46 1540.33 2312.46 1531.6 Q2312.46 1522.85 2315.51 1518.27 Q2318.59 1513.66 2324.4 1513.66 Z\" fill=\"#000000\" fill-rule=\"nonzero\" fill-opacity=\"1\" /><polyline clip-path=\"url(#clip232)\" style=\"stroke:#000000; stroke-linecap:round; stroke-linejoin:round; stroke-width:2; stroke-opacity:0.1; fill:none\" points=\"291.366,1427.27 2352.76,1427.27 \"/>\n",
       "<polyline clip-path=\"url(#clip232)\" style=\"stroke:#000000; stroke-linecap:round; stroke-linejoin:round; stroke-width:2; stroke-opacity:0.1; fill:none\" points=\"291.366,1194.33 2352.76,1194.33 \"/>\n",
       "<polyline clip-path=\"url(#clip232)\" style=\"stroke:#000000; stroke-linecap:round; stroke-linejoin:round; stroke-width:2; stroke-opacity:0.1; fill:none\" points=\"291.366,961.388 2352.76,961.388 \"/>\n",
       "<polyline clip-path=\"url(#clip232)\" style=\"stroke:#000000; stroke-linecap:round; stroke-linejoin:round; stroke-width:2; stroke-opacity:0.1; fill:none\" points=\"291.366,728.448 2352.76,728.448 \"/>\n",
       "<polyline clip-path=\"url(#clip232)\" style=\"stroke:#000000; stroke-linecap:round; stroke-linejoin:round; stroke-width:2; stroke-opacity:0.1; fill:none\" points=\"291.366,495.508 2352.76,495.508 \"/>\n",
       "<polyline clip-path=\"url(#clip232)\" style=\"stroke:#000000; stroke-linecap:round; stroke-linejoin:round; stroke-width:2; stroke-opacity:0.1; fill:none\" points=\"291.366,262.568 2352.76,262.568 \"/>\n",
       "<polyline clip-path=\"url(#clip230)\" style=\"stroke:#000000; stroke-linecap:round; stroke-linejoin:round; stroke-width:4; stroke-opacity:1; fill:none\" points=\"291.366,1486.45 291.366,47.2441 \"/>\n",
       "<polyline clip-path=\"url(#clip230)\" style=\"stroke:#000000; stroke-linecap:round; stroke-linejoin:round; stroke-width:4; stroke-opacity:1; fill:none\" points=\"291.366,1427.27 310.264,1427.27 \"/>\n",
       "<polyline clip-path=\"url(#clip230)\" style=\"stroke:#000000; stroke-linecap:round; stroke-linejoin:round; stroke-width:4; stroke-opacity:1; fill:none\" points=\"291.366,1194.33 310.264,1194.33 \"/>\n",
       "<polyline clip-path=\"url(#clip230)\" style=\"stroke:#000000; stroke-linecap:round; stroke-linejoin:round; stroke-width:4; stroke-opacity:1; fill:none\" points=\"291.366,961.388 310.264,961.388 \"/>\n",
       "<polyline clip-path=\"url(#clip230)\" style=\"stroke:#000000; stroke-linecap:round; stroke-linejoin:round; stroke-width:4; stroke-opacity:1; fill:none\" points=\"291.366,728.448 310.264,728.448 \"/>\n",
       "<polyline clip-path=\"url(#clip230)\" style=\"stroke:#000000; stroke-linecap:round; stroke-linejoin:round; stroke-width:4; stroke-opacity:1; fill:none\" points=\"291.366,495.508 310.264,495.508 \"/>\n",
       "<polyline clip-path=\"url(#clip230)\" style=\"stroke:#000000; stroke-linecap:round; stroke-linejoin:round; stroke-width:4; stroke-opacity:1; fill:none\" points=\"291.366,262.568 310.264,262.568 \"/>\n",
       "<path clip-path=\"url(#clip230)\" d=\"M66.617 1425.91 Q69.9735 1426.63 71.8485 1428.9 Q73.7466 1431.17 73.7466 1434.5 Q73.7466 1439.62 70.2281 1442.42 Q66.7096 1445.22 60.2282 1445.22 Q58.0523 1445.22 55.7375 1444.78 Q53.4458 1444.36 50.9921 1443.51 L50.9921 1438.99 Q52.9366 1440.13 55.2514 1440.71 Q57.5662 1441.28 60.0893 1441.28 Q64.4874 1441.28 66.7791 1439.55 Q69.0939 1437.81 69.0939 1434.5 Q69.0939 1431.45 66.9411 1429.73 Q64.8115 1428 60.9921 1428 L56.9643 1428 L56.9643 1424.16 L61.1773 1424.16 Q64.6263 1424.16 66.455 1422.79 Q68.2837 1421.4 68.2837 1418.81 Q68.2837 1416.15 66.3856 1414.73 Q64.5106 1413.3 60.9921 1413.3 Q59.0708 1413.3 56.8717 1413.72 Q54.6727 1414.13 52.0338 1415.01 L52.0338 1410.85 Q54.6958 1410.1 57.0106 1409.73 Q59.3486 1409.36 61.4087 1409.36 Q66.7328 1409.36 69.8346 1411.79 Q72.9365 1414.2 72.9365 1418.32 Q72.9365 1421.19 71.2929 1423.18 Q69.6494 1425.15 66.617 1425.91 Z\" fill=\"#000000\" fill-rule=\"nonzero\" fill-opacity=\"1\" /><path clip-path=\"url(#clip230)\" d=\"M82.6586 1409.99 L101.015 1409.99 L101.015 1413.92 L86.941 1413.92 L86.941 1422.4 Q87.9595 1422.05 88.978 1421.89 Q89.9965 1421.7 91.0151 1421.7 Q96.8021 1421.7 100.182 1424.87 Q103.561 1428.04 103.561 1433.46 Q103.561 1439.04 100.089 1442.14 Q96.6169 1445.22 90.2975 1445.22 Q88.1216 1445.22 85.8531 1444.85 Q83.6077 1444.48 81.2003 1443.74 L81.2003 1439.04 Q83.2836 1440.17 85.5058 1440.73 Q87.728 1441.28 90.2049 1441.28 Q94.2095 1441.28 96.5474 1439.18 Q98.8854 1437.07 98.8854 1433.46 Q98.8854 1429.85 96.5474 1427.74 Q94.2095 1425.64 90.2049 1425.64 Q88.3299 1425.64 86.4549 1426.05 Q84.6031 1426.47 82.6586 1427.35 L82.6586 1409.99 Z\" fill=\"#000000\" fill-rule=\"nonzero\" fill-opacity=\"1\" /><path clip-path=\"url(#clip230)\" d=\"M112.82 1409.99 L131.177 1409.99 L131.177 1413.92 L117.103 1413.92 L117.103 1422.4 Q118.121 1422.05 119.14 1421.89 Q120.158 1421.7 121.177 1421.7 Q126.964 1421.7 130.344 1424.87 Q133.723 1428.04 133.723 1433.46 Q133.723 1439.04 130.251 1442.14 Q126.779 1445.22 120.459 1445.22 Q118.283 1445.22 116.015 1444.85 Q113.77 1444.48 111.362 1443.74 L111.362 1439.04 Q113.445 1440.17 115.668 1440.73 Q117.89 1441.28 120.367 1441.28 Q124.371 1441.28 126.709 1439.18 Q129.047 1437.07 129.047 1433.46 Q129.047 1429.85 126.709 1427.74 Q124.371 1425.64 120.367 1425.64 Q118.492 1425.64 116.617 1426.05 Q114.765 1426.47 112.82 1427.35 L112.82 1409.99 Z\" fill=\"#000000\" fill-rule=\"nonzero\" fill-opacity=\"1\" /><path clip-path=\"url(#clip230)\" d=\"M143.746 1440.61 L151.385 1440.61 L151.385 1414.25 L143.075 1415.91 L143.075 1411.66 L151.339 1409.99 L156.015 1409.99 L156.015 1440.61 L163.654 1440.61 L163.654 1444.55 L143.746 1444.55 L143.746 1440.61 Z\" fill=\"#000000\" fill-rule=\"nonzero\" fill-opacity=\"1\" /><path clip-path=\"url(#clip230)\" d=\"M173.144 1409.99 L191.501 1409.99 L191.501 1413.92 L177.427 1413.92 L177.427 1422.4 Q178.445 1422.05 179.464 1421.89 Q180.482 1421.7 181.501 1421.7 Q187.288 1421.7 190.667 1424.87 Q194.047 1428.04 194.047 1433.46 Q194.047 1439.04 190.575 1442.14 Q187.103 1445.22 180.783 1445.22 Q178.607 1445.22 176.339 1444.85 Q174.093 1444.48 171.686 1443.74 L171.686 1439.04 Q173.769 1440.17 175.991 1440.73 Q178.214 1441.28 180.691 1441.28 Q184.695 1441.28 187.033 1439.18 Q189.371 1437.07 189.371 1433.46 Q189.371 1429.85 187.033 1427.74 Q184.695 1425.64 180.691 1425.64 Q178.816 1425.64 176.941 1426.05 Q175.089 1426.47 173.144 1427.35 L173.144 1409.99 Z\" fill=\"#000000\" fill-rule=\"nonzero\" fill-opacity=\"1\" /><path clip-path=\"url(#clip230)\" d=\"M213.26 1413.07 Q209.649 1413.07 207.82 1416.63 Q206.014 1420.17 206.014 1427.3 Q206.014 1434.41 207.82 1437.97 Q209.649 1441.52 213.26 1441.52 Q216.894 1441.52 218.7 1437.97 Q220.528 1434.41 220.528 1427.3 Q220.528 1420.17 218.7 1416.63 Q216.894 1413.07 213.26 1413.07 M213.26 1409.36 Q219.07 1409.36 222.125 1413.97 Q225.204 1418.55 225.204 1427.3 Q225.204 1436.03 222.125 1440.64 Q219.07 1445.22 213.26 1445.22 Q207.45 1445.22 204.371 1440.64 Q201.315 1436.03 201.315 1427.3 Q201.315 1418.55 204.371 1413.97 Q207.45 1409.36 213.26 1409.36 Z\" fill=\"#000000\" fill-rule=\"nonzero\" fill-opacity=\"1\" /><path clip-path=\"url(#clip230)\" d=\"M243.422 1413.07 Q239.811 1413.07 237.982 1416.63 Q236.176 1420.17 236.176 1427.3 Q236.176 1434.41 237.982 1437.97 Q239.811 1441.52 243.422 1441.52 Q247.056 1441.52 248.861 1437.97 Q250.69 1434.41 250.69 1427.3 Q250.69 1420.17 248.861 1416.63 Q247.056 1413.07 243.422 1413.07 M243.422 1409.36 Q249.232 1409.36 252.287 1413.97 Q255.366 1418.55 255.366 1427.3 Q255.366 1436.03 252.287 1440.64 Q249.232 1445.22 243.422 1445.22 Q237.611 1445.22 234.533 1440.64 Q231.477 1436.03 231.477 1427.3 Q231.477 1418.55 234.533 1413.97 Q237.611 1409.36 243.422 1409.36 Z\" fill=\"#000000\" fill-rule=\"nonzero\" fill-opacity=\"1\" /><path clip-path=\"url(#clip230)\" d=\"M66.617 1192.97 Q69.9735 1193.69 71.8485 1195.96 Q73.7466 1198.23 73.7466 1201.56 Q73.7466 1206.68 70.2281 1209.48 Q66.7096 1212.28 60.2282 1212.28 Q58.0523 1212.28 55.7375 1211.84 Q53.4458 1211.42 50.9921 1210.57 L50.9921 1206.05 Q52.9366 1207.19 55.2514 1207.77 Q57.5662 1208.34 60.0893 1208.34 Q64.4874 1208.34 66.7791 1206.61 Q69.0939 1204.87 69.0939 1201.56 Q69.0939 1198.51 66.9411 1196.79 Q64.8115 1195.06 60.9921 1195.06 L56.9643 1195.06 L56.9643 1191.22 L61.1773 1191.22 Q64.6263 1191.22 66.455 1189.85 Q68.2837 1188.46 68.2837 1185.87 Q68.2837 1183.21 66.3856 1181.79 Q64.5106 1180.36 60.9921 1180.36 Q59.0708 1180.36 56.8717 1180.78 Q54.6727 1181.19 52.0338 1182.07 L52.0338 1177.9 Q54.6958 1177.16 57.0106 1176.79 Q59.3486 1176.42 61.4087 1176.42 Q66.7328 1176.42 69.8346 1178.85 Q72.9365 1181.26 72.9365 1185.38 Q72.9365 1188.25 71.2929 1190.24 Q69.6494 1192.21 66.617 1192.97 Z\" fill=\"#000000\" fill-rule=\"nonzero\" fill-opacity=\"1\" /><path clip-path=\"url(#clip230)\" d=\"M82.6586 1177.05 L101.015 1177.05 L101.015 1180.98 L86.941 1180.98 L86.941 1189.46 Q87.9595 1189.11 88.978 1188.95 Q89.9965 1188.76 91.0151 1188.76 Q96.8021 1188.76 100.182 1191.93 Q103.561 1195.1 103.561 1200.52 Q103.561 1206.1 100.089 1209.2 Q96.6169 1212.28 90.2975 1212.28 Q88.1216 1212.28 85.8531 1211.91 Q83.6077 1211.54 81.2003 1210.8 L81.2003 1206.1 Q83.2836 1207.23 85.5058 1207.79 Q87.728 1208.34 90.2049 1208.34 Q94.2095 1208.34 96.5474 1206.24 Q98.8854 1204.13 98.8854 1200.52 Q98.8854 1196.91 96.5474 1194.8 Q94.2095 1192.7 90.2049 1192.7 Q88.3299 1192.7 86.4549 1193.11 Q84.6031 1193.53 82.6586 1194.41 L82.6586 1177.05 Z\" fill=\"#000000\" fill-rule=\"nonzero\" fill-opacity=\"1\" /><path clip-path=\"url(#clip230)\" d=\"M112.82 1177.05 L131.177 1177.05 L131.177 1180.98 L117.103 1180.98 L117.103 1189.46 Q118.121 1189.11 119.14 1188.95 Q120.158 1188.76 121.177 1188.76 Q126.964 1188.76 130.344 1191.93 Q133.723 1195.1 133.723 1200.52 Q133.723 1206.1 130.251 1209.2 Q126.779 1212.28 120.459 1212.28 Q118.283 1212.28 116.015 1211.91 Q113.77 1211.54 111.362 1210.8 L111.362 1206.1 Q113.445 1207.23 115.668 1207.79 Q117.89 1208.34 120.367 1208.34 Q124.371 1208.34 126.709 1206.24 Q129.047 1204.13 129.047 1200.52 Q129.047 1196.91 126.709 1194.8 Q124.371 1192.7 120.367 1192.7 Q118.492 1192.7 116.617 1193.11 Q114.765 1193.53 112.82 1194.41 L112.82 1177.05 Z\" fill=\"#000000\" fill-rule=\"nonzero\" fill-opacity=\"1\" /><path clip-path=\"url(#clip230)\" d=\"M146.964 1207.67 L163.283 1207.67 L163.283 1211.61 L141.339 1211.61 L141.339 1207.67 Q144.001 1204.92 148.584 1200.29 Q153.191 1195.64 154.371 1194.29 Q156.617 1191.77 157.496 1190.03 Q158.399 1188.28 158.399 1186.59 Q158.399 1183.83 156.455 1182.09 Q154.533 1180.36 151.431 1180.36 Q149.232 1180.36 146.779 1181.12 Q144.348 1181.89 141.57 1183.44 L141.57 1178.72 Q144.394 1177.58 146.848 1177 Q149.302 1176.42 151.339 1176.42 Q156.709 1176.42 159.904 1179.11 Q163.098 1181.79 163.098 1186.28 Q163.098 1188.41 162.288 1190.34 Q161.501 1192.23 159.394 1194.83 Q158.816 1195.5 155.714 1198.72 Q152.612 1201.91 146.964 1207.67 Z\" fill=\"#000000\" fill-rule=\"nonzero\" fill-opacity=\"1\" /><path clip-path=\"url(#clip230)\" d=\"M183.098 1180.13 Q179.487 1180.13 177.658 1183.69 Q175.853 1187.23 175.853 1194.36 Q175.853 1201.47 177.658 1205.03 Q179.487 1208.58 183.098 1208.58 Q186.732 1208.58 188.538 1205.03 Q190.366 1201.47 190.366 1194.36 Q190.366 1187.23 188.538 1183.69 Q186.732 1180.13 183.098 1180.13 M183.098 1176.42 Q188.908 1176.42 191.964 1181.03 Q195.042 1185.61 195.042 1194.36 Q195.042 1203.09 191.964 1207.7 Q188.908 1212.28 183.098 1212.28 Q177.288 1212.28 174.209 1207.7 Q171.154 1203.09 171.154 1194.36 Q171.154 1185.61 174.209 1181.03 Q177.288 1176.42 183.098 1176.42 Z\" fill=\"#000000\" fill-rule=\"nonzero\" fill-opacity=\"1\" /><path clip-path=\"url(#clip230)\" d=\"M213.26 1180.13 Q209.649 1180.13 207.82 1183.69 Q206.014 1187.23 206.014 1194.36 Q206.014 1201.47 207.82 1205.03 Q209.649 1208.58 213.26 1208.58 Q216.894 1208.58 218.7 1205.03 Q220.528 1201.47 220.528 1194.36 Q220.528 1187.23 218.7 1183.69 Q216.894 1180.13 213.26 1180.13 M213.26 1176.42 Q219.07 1176.42 222.125 1181.03 Q225.204 1185.61 225.204 1194.36 Q225.204 1203.09 222.125 1207.7 Q219.07 1212.28 213.26 1212.28 Q207.45 1212.28 204.371 1207.7 Q201.315 1203.09 201.315 1194.36 Q201.315 1185.61 204.371 1181.03 Q207.45 1176.42 213.26 1176.42 Z\" fill=\"#000000\" fill-rule=\"nonzero\" fill-opacity=\"1\" /><path clip-path=\"url(#clip230)\" d=\"M243.422 1180.13 Q239.811 1180.13 237.982 1183.69 Q236.176 1187.23 236.176 1194.36 Q236.176 1201.47 237.982 1205.03 Q239.811 1208.58 243.422 1208.58 Q247.056 1208.58 248.861 1205.03 Q250.69 1201.47 250.69 1194.36 Q250.69 1187.23 248.861 1183.69 Q247.056 1180.13 243.422 1180.13 M243.422 1176.42 Q249.232 1176.42 252.287 1181.03 Q255.366 1185.61 255.366 1194.36 Q255.366 1203.09 252.287 1207.7 Q249.232 1212.28 243.422 1212.28 Q237.611 1212.28 234.533 1207.7 Q231.477 1203.09 231.477 1194.36 Q231.477 1185.61 234.533 1181.03 Q237.611 1176.42 243.422 1176.42 Z\" fill=\"#000000\" fill-rule=\"nonzero\" fill-opacity=\"1\" /><path clip-path=\"url(#clip230)\" d=\"M66.617 960.034 Q69.9735 960.752 71.8485 963.02 Q73.7466 965.289 73.7466 968.622 Q73.7466 973.738 70.2281 976.539 Q66.7096 979.34 60.2282 979.34 Q58.0523 979.34 55.7375 978.9 Q53.4458 978.483 50.9921 977.627 L50.9921 973.113 Q52.9366 974.247 55.2514 974.826 Q57.5662 975.404 60.0893 975.404 Q64.4874 975.404 66.7791 973.668 Q69.0939 971.932 69.0939 968.622 Q69.0939 965.566 66.9411 963.854 Q64.8115 962.117 60.9921 962.117 L56.9643 962.117 L56.9643 958.275 L61.1773 958.275 Q64.6263 958.275 66.455 956.909 Q68.2837 955.52 68.2837 952.928 Q68.2837 950.266 66.3856 948.854 Q64.5106 947.418 60.9921 947.418 Q59.0708 947.418 56.8717 947.835 Q54.6727 948.252 52.0338 949.131 L52.0338 944.965 Q54.6958 944.224 57.0106 943.854 Q59.3486 943.483 61.4087 943.483 Q66.7328 943.483 69.8346 945.914 Q72.9365 948.321 72.9365 952.442 Q72.9365 955.312 71.2929 957.303 Q69.6494 959.27 66.617 960.034 Z\" fill=\"#000000\" fill-rule=\"nonzero\" fill-opacity=\"1\" /><path clip-path=\"url(#clip230)\" d=\"M82.6586 944.108 L101.015 944.108 L101.015 948.043 L86.941 948.043 L86.941 956.516 Q87.9595 956.168 88.978 956.006 Q89.9965 955.821 91.0151 955.821 Q96.8021 955.821 100.182 958.992 Q103.561 962.164 103.561 967.58 Q103.561 973.159 100.089 976.261 Q96.6169 979.34 90.2975 979.34 Q88.1216 979.34 85.8531 978.969 Q83.6077 978.599 81.2003 977.858 L81.2003 973.159 Q83.2836 974.293 85.5058 974.849 Q87.728 975.404 90.2049 975.404 Q94.2095 975.404 96.5474 973.298 Q98.8854 971.191 98.8854 967.58 Q98.8854 963.969 96.5474 961.863 Q94.2095 959.756 90.2049 959.756 Q88.3299 959.756 86.4549 960.173 Q84.6031 960.59 82.6586 961.469 L82.6586 944.108 Z\" fill=\"#000000\" fill-rule=\"nonzero\" fill-opacity=\"1\" /><path clip-path=\"url(#clip230)\" d=\"M112.82 944.108 L131.177 944.108 L131.177 948.043 L117.103 948.043 L117.103 956.516 Q118.121 956.168 119.14 956.006 Q120.158 955.821 121.177 955.821 Q126.964 955.821 130.344 958.992 Q133.723 962.164 133.723 967.58 Q133.723 973.159 130.251 976.261 Q126.779 979.34 120.459 979.34 Q118.283 979.34 116.015 978.969 Q113.77 978.599 111.362 977.858 L111.362 973.159 Q113.445 974.293 115.668 974.849 Q117.89 975.404 120.367 975.404 Q124.371 975.404 126.709 973.298 Q129.047 971.191 129.047 967.58 Q129.047 963.969 126.709 961.863 Q124.371 959.756 120.367 959.756 Q118.492 959.756 116.617 960.173 Q114.765 960.59 112.82 961.469 L112.82 944.108 Z\" fill=\"#000000\" fill-rule=\"nonzero\" fill-opacity=\"1\" /><path clip-path=\"url(#clip230)\" d=\"M146.964 974.733 L163.283 974.733 L163.283 978.668 L141.339 978.668 L141.339 974.733 Q144.001 971.978 148.584 967.349 Q153.191 962.696 154.371 961.354 Q156.617 958.83 157.496 957.094 Q158.399 955.335 158.399 953.645 Q158.399 950.891 156.455 949.155 Q154.533 947.418 151.431 947.418 Q149.232 947.418 146.779 948.182 Q144.348 948.946 141.57 950.497 L141.57 945.775 Q144.394 944.641 146.848 944.062 Q149.302 943.483 151.339 943.483 Q156.709 943.483 159.904 946.168 Q163.098 948.854 163.098 953.344 Q163.098 955.474 162.288 957.395 Q161.501 959.293 159.394 961.886 Q158.816 962.557 155.714 965.775 Q152.612 968.969 146.964 974.733 Z\" fill=\"#000000\" fill-rule=\"nonzero\" fill-opacity=\"1\" /><path clip-path=\"url(#clip230)\" d=\"M173.144 944.108 L191.501 944.108 L191.501 948.043 L177.427 948.043 L177.427 956.516 Q178.445 956.168 179.464 956.006 Q180.482 955.821 181.501 955.821 Q187.288 955.821 190.667 958.992 Q194.047 962.164 194.047 967.58 Q194.047 973.159 190.575 976.261 Q187.103 979.34 180.783 979.34 Q178.607 979.34 176.339 978.969 Q174.093 978.599 171.686 977.858 L171.686 973.159 Q173.769 974.293 175.991 974.849 Q178.214 975.404 180.691 975.404 Q184.695 975.404 187.033 973.298 Q189.371 971.191 189.371 967.58 Q189.371 963.969 187.033 961.863 Q184.695 959.756 180.691 959.756 Q178.816 959.756 176.941 960.173 Q175.089 960.59 173.144 961.469 L173.144 944.108 Z\" fill=\"#000000\" fill-rule=\"nonzero\" fill-opacity=\"1\" /><path clip-path=\"url(#clip230)\" d=\"M213.26 947.187 Q209.649 947.187 207.82 950.752 Q206.014 954.293 206.014 961.423 Q206.014 968.529 207.82 972.094 Q209.649 975.636 213.26 975.636 Q216.894 975.636 218.7 972.094 Q220.528 968.529 220.528 961.423 Q220.528 954.293 218.7 950.752 Q216.894 947.187 213.26 947.187 M213.26 943.483 Q219.07 943.483 222.125 948.09 Q225.204 952.673 225.204 961.423 Q225.204 970.15 222.125 974.756 Q219.07 979.34 213.26 979.34 Q207.45 979.34 204.371 974.756 Q201.315 970.15 201.315 961.423 Q201.315 952.673 204.371 948.09 Q207.45 943.483 213.26 943.483 Z\" fill=\"#000000\" fill-rule=\"nonzero\" fill-opacity=\"1\" /><path clip-path=\"url(#clip230)\" d=\"M243.422 947.187 Q239.811 947.187 237.982 950.752 Q236.176 954.293 236.176 961.423 Q236.176 968.529 237.982 972.094 Q239.811 975.636 243.422 975.636 Q247.056 975.636 248.861 972.094 Q250.69 968.529 250.69 961.423 Q250.69 954.293 248.861 950.752 Q247.056 947.187 243.422 947.187 M243.422 943.483 Q249.232 943.483 252.287 948.09 Q255.366 952.673 255.366 961.423 Q255.366 970.15 252.287 974.756 Q249.232 979.34 243.422 979.34 Q237.611 979.34 234.533 974.756 Q231.477 970.15 231.477 961.423 Q231.477 952.673 234.533 948.09 Q237.611 943.483 243.422 943.483 Z\" fill=\"#000000\" fill-rule=\"nonzero\" fill-opacity=\"1\" /><path clip-path=\"url(#clip230)\" d=\"M66.617 727.094 Q69.9735 727.811 71.8485 730.08 Q73.7466 732.348 73.7466 735.682 Q73.7466 740.798 70.2281 743.598 Q66.7096 746.399 60.2282 746.399 Q58.0523 746.399 55.7375 745.96 Q53.4458 745.543 50.9921 744.686 L50.9921 740.173 Q52.9366 741.307 55.2514 741.885 Q57.5662 742.464 60.0893 742.464 Q64.4874 742.464 66.7791 740.728 Q69.0939 738.992 69.0939 735.682 Q69.0939 732.626 66.9411 730.913 Q64.8115 729.177 60.9921 729.177 L56.9643 729.177 L56.9643 725.335 L61.1773 725.335 Q64.6263 725.335 66.455 723.969 Q68.2837 722.58 68.2837 719.987 Q68.2837 717.325 66.3856 715.913 Q64.5106 714.478 60.9921 714.478 Q59.0708 714.478 56.8717 714.895 Q54.6727 715.312 52.0338 716.191 L52.0338 712.025 Q54.6958 711.284 57.0106 710.913 Q59.3486 710.543 61.4087 710.543 Q66.7328 710.543 69.8346 712.974 Q72.9365 715.381 72.9365 719.501 Q72.9365 722.372 71.2929 724.362 Q69.6494 726.33 66.617 727.094 Z\" fill=\"#000000\" fill-rule=\"nonzero\" fill-opacity=\"1\" /><path clip-path=\"url(#clip230)\" d=\"M82.6586 711.168 L101.015 711.168 L101.015 715.103 L86.941 715.103 L86.941 723.575 Q87.9595 723.228 88.978 723.066 Q89.9965 722.881 91.0151 722.881 Q96.8021 722.881 100.182 726.052 Q103.561 729.224 103.561 734.64 Q103.561 740.219 100.089 743.321 Q96.6169 746.399 90.2975 746.399 Q88.1216 746.399 85.8531 746.029 Q83.6077 745.659 81.2003 744.918 L81.2003 740.219 Q83.2836 741.353 85.5058 741.909 Q87.728 742.464 90.2049 742.464 Q94.2095 742.464 96.5474 740.358 Q98.8854 738.251 98.8854 734.64 Q98.8854 731.029 96.5474 728.923 Q94.2095 726.816 90.2049 726.816 Q88.3299 726.816 86.4549 727.233 Q84.6031 727.649 82.6586 728.529 L82.6586 711.168 Z\" fill=\"#000000\" fill-rule=\"nonzero\" fill-opacity=\"1\" /><path clip-path=\"url(#clip230)\" d=\"M112.82 711.168 L131.177 711.168 L131.177 715.103 L117.103 715.103 L117.103 723.575 Q118.121 723.228 119.14 723.066 Q120.158 722.881 121.177 722.881 Q126.964 722.881 130.344 726.052 Q133.723 729.224 133.723 734.64 Q133.723 740.219 130.251 743.321 Q126.779 746.399 120.459 746.399 Q118.283 746.399 116.015 746.029 Q113.77 745.659 111.362 744.918 L111.362 740.219 Q113.445 741.353 115.668 741.909 Q117.89 742.464 120.367 742.464 Q124.371 742.464 126.709 740.358 Q129.047 738.251 129.047 734.64 Q129.047 731.029 126.709 728.923 Q124.371 726.816 120.367 726.816 Q118.492 726.816 116.617 727.233 Q114.765 727.649 112.82 728.529 L112.82 711.168 Z\" fill=\"#000000\" fill-rule=\"nonzero\" fill-opacity=\"1\" /><path clip-path=\"url(#clip230)\" d=\"M157.103 727.094 Q160.459 727.811 162.334 730.08 Q164.232 732.348 164.232 735.682 Q164.232 740.798 160.714 743.598 Q157.195 746.399 150.714 746.399 Q148.538 746.399 146.223 745.96 Q143.931 745.543 141.478 744.686 L141.478 740.173 Q143.422 741.307 145.737 741.885 Q148.052 742.464 150.575 742.464 Q154.973 742.464 157.265 740.728 Q159.58 738.992 159.58 735.682 Q159.58 732.626 157.427 730.913 Q155.297 729.177 151.478 729.177 L147.45 729.177 L147.45 725.335 L151.663 725.335 Q155.112 725.335 156.941 723.969 Q158.769 722.58 158.769 719.987 Q158.769 717.325 156.871 715.913 Q154.996 714.478 151.478 714.478 Q149.556 714.478 147.357 714.895 Q145.158 715.312 142.519 716.191 L142.519 712.025 Q145.181 711.284 147.496 710.913 Q149.834 710.543 151.894 710.543 Q157.218 710.543 160.32 712.974 Q163.422 715.381 163.422 719.501 Q163.422 722.372 161.779 724.362 Q160.135 726.33 157.103 727.094 Z\" fill=\"#000000\" fill-rule=\"nonzero\" fill-opacity=\"1\" /><path clip-path=\"url(#clip230)\" d=\"M183.098 714.247 Q179.487 714.247 177.658 717.812 Q175.853 721.353 175.853 728.483 Q175.853 735.589 177.658 739.154 Q179.487 742.696 183.098 742.696 Q186.732 742.696 188.538 739.154 Q190.366 735.589 190.366 728.483 Q190.366 721.353 188.538 717.812 Q186.732 714.247 183.098 714.247 M183.098 710.543 Q188.908 710.543 191.964 715.15 Q195.042 719.733 195.042 728.483 Q195.042 737.21 191.964 741.816 Q188.908 746.399 183.098 746.399 Q177.288 746.399 174.209 741.816 Q171.154 737.21 171.154 728.483 Q171.154 719.733 174.209 715.15 Q177.288 710.543 183.098 710.543 Z\" fill=\"#000000\" fill-rule=\"nonzero\" fill-opacity=\"1\" /><path clip-path=\"url(#clip230)\" d=\"M213.26 714.247 Q209.649 714.247 207.82 717.812 Q206.014 721.353 206.014 728.483 Q206.014 735.589 207.82 739.154 Q209.649 742.696 213.26 742.696 Q216.894 742.696 218.7 739.154 Q220.528 735.589 220.528 728.483 Q220.528 721.353 218.7 717.812 Q216.894 714.247 213.26 714.247 M213.26 710.543 Q219.07 710.543 222.125 715.15 Q225.204 719.733 225.204 728.483 Q225.204 737.21 222.125 741.816 Q219.07 746.399 213.26 746.399 Q207.45 746.399 204.371 741.816 Q201.315 737.21 201.315 728.483 Q201.315 719.733 204.371 715.15 Q207.45 710.543 213.26 710.543 Z\" fill=\"#000000\" fill-rule=\"nonzero\" fill-opacity=\"1\" /><path clip-path=\"url(#clip230)\" d=\"M243.422 714.247 Q239.811 714.247 237.982 717.812 Q236.176 721.353 236.176 728.483 Q236.176 735.589 237.982 739.154 Q239.811 742.696 243.422 742.696 Q247.056 742.696 248.861 739.154 Q250.69 735.589 250.69 728.483 Q250.69 721.353 248.861 717.812 Q247.056 714.247 243.422 714.247 M243.422 710.543 Q249.232 710.543 252.287 715.15 Q255.366 719.733 255.366 728.483 Q255.366 737.21 252.287 741.816 Q249.232 746.399 243.422 746.399 Q237.611 746.399 234.533 741.816 Q231.477 737.21 231.477 728.483 Q231.477 719.733 234.533 715.15 Q237.611 710.543 243.422 710.543 Z\" fill=\"#000000\" fill-rule=\"nonzero\" fill-opacity=\"1\" /><path clip-path=\"url(#clip230)\" d=\"M66.617 494.154 Q69.9735 494.871 71.8485 497.14 Q73.7466 499.408 73.7466 502.742 Q73.7466 507.857 70.2281 510.658 Q66.7096 513.459 60.2282 513.459 Q58.0523 513.459 55.7375 513.019 Q53.4458 512.603 50.9921 511.746 L50.9921 507.232 Q52.9366 508.367 55.2514 508.945 Q57.5662 509.524 60.0893 509.524 Q64.4874 509.524 66.7791 507.788 Q69.0939 506.052 69.0939 502.742 Q69.0939 499.686 66.9411 497.973 Q64.8115 496.237 60.9921 496.237 L56.9643 496.237 L56.9643 492.394 L61.1773 492.394 Q64.6263 492.394 66.455 491.029 Q68.2837 489.64 68.2837 487.047 Q68.2837 484.385 66.3856 482.973 Q64.5106 481.538 60.9921 481.538 Q59.0708 481.538 56.8717 481.955 Q54.6727 482.371 52.0338 483.251 L52.0338 479.084 Q54.6958 478.344 57.0106 477.973 Q59.3486 477.603 61.4087 477.603 Q66.7328 477.603 69.8346 480.033 Q72.9365 482.441 72.9365 486.561 Q72.9365 489.431 71.2929 491.422 Q69.6494 493.39 66.617 494.154 Z\" fill=\"#000000\" fill-rule=\"nonzero\" fill-opacity=\"1\" /><path clip-path=\"url(#clip230)\" d=\"M82.6586 478.228 L101.015 478.228 L101.015 482.163 L86.941 482.163 L86.941 490.635 Q87.9595 490.288 88.978 490.126 Q89.9965 489.941 91.0151 489.941 Q96.8021 489.941 100.182 493.112 Q103.561 496.283 103.561 501.7 Q103.561 507.279 100.089 510.38 Q96.6169 513.459 90.2975 513.459 Q88.1216 513.459 85.8531 513.089 Q83.6077 512.718 81.2003 511.978 L81.2003 507.279 Q83.2836 508.413 85.5058 508.968 Q87.728 509.524 90.2049 509.524 Q94.2095 509.524 96.5474 507.418 Q98.8854 505.311 98.8854 501.7 Q98.8854 498.089 96.5474 495.982 Q94.2095 493.876 90.2049 493.876 Q88.3299 493.876 86.4549 494.293 Q84.6031 494.709 82.6586 495.589 L82.6586 478.228 Z\" fill=\"#000000\" fill-rule=\"nonzero\" fill-opacity=\"1\" /><path clip-path=\"url(#clip230)\" d=\"M112.82 478.228 L131.177 478.228 L131.177 482.163 L117.103 482.163 L117.103 490.635 Q118.121 490.288 119.14 490.126 Q120.158 489.941 121.177 489.941 Q126.964 489.941 130.344 493.112 Q133.723 496.283 133.723 501.7 Q133.723 507.279 130.251 510.38 Q126.779 513.459 120.459 513.459 Q118.283 513.459 116.015 513.089 Q113.77 512.718 111.362 511.978 L111.362 507.279 Q113.445 508.413 115.668 508.968 Q117.89 509.524 120.367 509.524 Q124.371 509.524 126.709 507.418 Q129.047 505.311 129.047 501.7 Q129.047 498.089 126.709 495.982 Q124.371 493.876 120.367 493.876 Q118.492 493.876 116.617 494.293 Q114.765 494.709 112.82 495.589 L112.82 478.228 Z\" fill=\"#000000\" fill-rule=\"nonzero\" fill-opacity=\"1\" /><path clip-path=\"url(#clip230)\" d=\"M157.103 494.154 Q160.459 494.871 162.334 497.14 Q164.232 499.408 164.232 502.742 Q164.232 507.857 160.714 510.658 Q157.195 513.459 150.714 513.459 Q148.538 513.459 146.223 513.019 Q143.931 512.603 141.478 511.746 L141.478 507.232 Q143.422 508.367 145.737 508.945 Q148.052 509.524 150.575 509.524 Q154.973 509.524 157.265 507.788 Q159.58 506.052 159.58 502.742 Q159.58 499.686 157.427 497.973 Q155.297 496.237 151.478 496.237 L147.45 496.237 L147.45 492.394 L151.663 492.394 Q155.112 492.394 156.941 491.029 Q158.769 489.64 158.769 487.047 Q158.769 484.385 156.871 482.973 Q154.996 481.538 151.478 481.538 Q149.556 481.538 147.357 481.955 Q145.158 482.371 142.519 483.251 L142.519 479.084 Q145.181 478.344 147.496 477.973 Q149.834 477.603 151.894 477.603 Q157.218 477.603 160.32 480.033 Q163.422 482.441 163.422 486.561 Q163.422 489.431 161.779 491.422 Q160.135 493.39 157.103 494.154 Z\" fill=\"#000000\" fill-rule=\"nonzero\" fill-opacity=\"1\" /><path clip-path=\"url(#clip230)\" d=\"M173.144 478.228 L191.501 478.228 L191.501 482.163 L177.427 482.163 L177.427 490.635 Q178.445 490.288 179.464 490.126 Q180.482 489.941 181.501 489.941 Q187.288 489.941 190.667 493.112 Q194.047 496.283 194.047 501.7 Q194.047 507.279 190.575 510.38 Q187.103 513.459 180.783 513.459 Q178.607 513.459 176.339 513.089 Q174.093 512.718 171.686 511.978 L171.686 507.279 Q173.769 508.413 175.991 508.968 Q178.214 509.524 180.691 509.524 Q184.695 509.524 187.033 507.418 Q189.371 505.311 189.371 501.7 Q189.371 498.089 187.033 495.982 Q184.695 493.876 180.691 493.876 Q178.816 493.876 176.941 494.293 Q175.089 494.709 173.144 495.589 L173.144 478.228 Z\" fill=\"#000000\" fill-rule=\"nonzero\" fill-opacity=\"1\" /><path clip-path=\"url(#clip230)\" d=\"M213.26 481.307 Q209.649 481.307 207.82 484.871 Q206.014 488.413 206.014 495.543 Q206.014 502.649 207.82 506.214 Q209.649 509.755 213.26 509.755 Q216.894 509.755 218.7 506.214 Q220.528 502.649 220.528 495.543 Q220.528 488.413 218.7 484.871 Q216.894 481.307 213.26 481.307 M213.26 477.603 Q219.07 477.603 222.125 482.209 Q225.204 486.793 225.204 495.543 Q225.204 504.269 222.125 508.876 Q219.07 513.459 213.26 513.459 Q207.45 513.459 204.371 508.876 Q201.315 504.269 201.315 495.543 Q201.315 486.793 204.371 482.209 Q207.45 477.603 213.26 477.603 Z\" fill=\"#000000\" fill-rule=\"nonzero\" fill-opacity=\"1\" /><path clip-path=\"url(#clip230)\" d=\"M243.422 481.307 Q239.811 481.307 237.982 484.871 Q236.176 488.413 236.176 495.543 Q236.176 502.649 237.982 506.214 Q239.811 509.755 243.422 509.755 Q247.056 509.755 248.861 506.214 Q250.69 502.649 250.69 495.543 Q250.69 488.413 248.861 484.871 Q247.056 481.307 243.422 481.307 M243.422 477.603 Q249.232 477.603 252.287 482.209 Q255.366 486.793 255.366 495.543 Q255.366 504.269 252.287 508.876 Q249.232 513.459 243.422 513.459 Q237.611 513.459 234.533 508.876 Q231.477 504.269 231.477 495.543 Q231.477 486.793 234.533 482.209 Q237.611 477.603 243.422 477.603 Z\" fill=\"#000000\" fill-rule=\"nonzero\" fill-opacity=\"1\" /><path clip-path=\"url(#clip230)\" d=\"M66.617 261.213 Q69.9735 261.931 71.8485 264.2 Q73.7466 266.468 73.7466 269.801 Q73.7466 274.917 70.2281 277.718 Q66.7096 280.519 60.2282 280.519 Q58.0523 280.519 55.7375 280.079 Q53.4458 279.662 50.9921 278.806 L50.9921 274.292 Q52.9366 275.426 55.2514 276.005 Q57.5662 276.584 60.0893 276.584 Q64.4874 276.584 66.7791 274.848 Q69.0939 273.112 69.0939 269.801 Q69.0939 266.746 66.9411 265.033 Q64.8115 263.297 60.9921 263.297 L56.9643 263.297 L56.9643 259.454 L61.1773 259.454 Q64.6263 259.454 66.455 258.088 Q68.2837 256.7 68.2837 254.107 Q68.2837 251.445 66.3856 250.033 Q64.5106 248.598 60.9921 248.598 Q59.0708 248.598 56.8717 249.014 Q54.6727 249.431 52.0338 250.311 L52.0338 246.144 Q54.6958 245.403 57.0106 245.033 Q59.3486 244.663 61.4087 244.663 Q66.7328 244.663 69.8346 247.093 Q72.9365 249.501 72.9365 253.621 Q72.9365 256.491 71.2929 258.482 Q69.6494 260.45 66.617 261.213 Z\" fill=\"#000000\" fill-rule=\"nonzero\" fill-opacity=\"1\" /><path clip-path=\"url(#clip230)\" d=\"M82.6586 245.288 L101.015 245.288 L101.015 249.223 L86.941 249.223 L86.941 257.695 Q87.9595 257.348 88.978 257.186 Q89.9965 257.001 91.0151 257.001 Q96.8021 257.001 100.182 260.172 Q103.561 263.343 103.561 268.76 Q103.561 274.338 100.089 277.44 Q96.6169 280.519 90.2975 280.519 Q88.1216 280.519 85.8531 280.149 Q83.6077 279.778 81.2003 279.037 L81.2003 274.338 Q83.2836 275.473 85.5058 276.028 Q87.728 276.584 90.2049 276.584 Q94.2095 276.584 96.5474 274.477 Q98.8854 272.371 98.8854 268.76 Q98.8854 265.149 96.5474 263.042 Q94.2095 260.936 90.2049 260.936 Q88.3299 260.936 86.4549 261.352 Q84.6031 261.769 82.6586 262.649 L82.6586 245.288 Z\" fill=\"#000000\" fill-rule=\"nonzero\" fill-opacity=\"1\" /><path clip-path=\"url(#clip230)\" d=\"M112.82 245.288 L131.177 245.288 L131.177 249.223 L117.103 249.223 L117.103 257.695 Q118.121 257.348 119.14 257.186 Q120.158 257.001 121.177 257.001 Q126.964 257.001 130.344 260.172 Q133.723 263.343 133.723 268.76 Q133.723 274.338 130.251 277.44 Q126.779 280.519 120.459 280.519 Q118.283 280.519 116.015 280.149 Q113.77 279.778 111.362 279.037 L111.362 274.338 Q113.445 275.473 115.668 276.028 Q117.89 276.584 120.367 276.584 Q124.371 276.584 126.709 274.477 Q129.047 272.371 129.047 268.76 Q129.047 265.149 126.709 263.042 Q124.371 260.936 120.367 260.936 Q118.492 260.936 116.617 261.352 Q114.765 261.769 112.82 262.649 L112.82 245.288 Z\" fill=\"#000000\" fill-rule=\"nonzero\" fill-opacity=\"1\" /><path clip-path=\"url(#clip230)\" d=\"M155.783 249.362 L143.978 267.811 L155.783 267.811 L155.783 249.362 M154.556 245.288 L160.436 245.288 L160.436 267.811 L165.367 267.811 L165.367 271.7 L160.436 271.7 L160.436 279.848 L155.783 279.848 L155.783 271.7 L140.181 271.7 L140.181 267.186 L154.556 245.288 Z\" fill=\"#000000\" fill-rule=\"nonzero\" fill-opacity=\"1\" /><path clip-path=\"url(#clip230)\" d=\"M183.098 248.366 Q179.487 248.366 177.658 251.931 Q175.853 255.473 175.853 262.602 Q175.853 269.709 177.658 273.274 Q179.487 276.815 183.098 276.815 Q186.732 276.815 188.538 273.274 Q190.366 269.709 190.366 262.602 Q190.366 255.473 188.538 251.931 Q186.732 248.366 183.098 248.366 M183.098 244.663 Q188.908 244.663 191.964 249.269 Q195.042 253.852 195.042 262.602 Q195.042 271.329 191.964 275.936 Q188.908 280.519 183.098 280.519 Q177.288 280.519 174.209 275.936 Q171.154 271.329 171.154 262.602 Q171.154 253.852 174.209 249.269 Q177.288 244.663 183.098 244.663 Z\" fill=\"#000000\" fill-rule=\"nonzero\" fill-opacity=\"1\" /><path clip-path=\"url(#clip230)\" d=\"M213.26 248.366 Q209.649 248.366 207.82 251.931 Q206.014 255.473 206.014 262.602 Q206.014 269.709 207.82 273.274 Q209.649 276.815 213.26 276.815 Q216.894 276.815 218.7 273.274 Q220.528 269.709 220.528 262.602 Q220.528 255.473 218.7 251.931 Q216.894 248.366 213.26 248.366 M213.26 244.663 Q219.07 244.663 222.125 249.269 Q225.204 253.852 225.204 262.602 Q225.204 271.329 222.125 275.936 Q219.07 280.519 213.26 280.519 Q207.45 280.519 204.371 275.936 Q201.315 271.329 201.315 262.602 Q201.315 253.852 204.371 249.269 Q207.45 244.663 213.26 244.663 Z\" fill=\"#000000\" fill-rule=\"nonzero\" fill-opacity=\"1\" /><path clip-path=\"url(#clip230)\" d=\"M243.422 248.366 Q239.811 248.366 237.982 251.931 Q236.176 255.473 236.176 262.602 Q236.176 269.709 237.982 273.274 Q239.811 276.815 243.422 276.815 Q247.056 276.815 248.861 273.274 Q250.69 269.709 250.69 262.602 Q250.69 255.473 248.861 251.931 Q247.056 248.366 243.422 248.366 M243.422 244.663 Q249.232 244.663 252.287 249.269 Q255.366 253.852 255.366 262.602 Q255.366 271.329 252.287 275.936 Q249.232 280.519 243.422 280.519 Q237.611 280.519 234.533 275.936 Q231.477 271.329 231.477 262.602 Q231.477 253.852 234.533 249.269 Q237.611 244.663 243.422 244.663 Z\" fill=\"#000000\" fill-rule=\"nonzero\" fill-opacity=\"1\" /><circle clip-path=\"url(#clip232)\" cx=\"349.707\" cy=\"1217.22\" r=\"14.4\" fill=\"#009af9\" fill-rule=\"evenodd\" fill-opacity=\"1\" stroke=\"#000000\" stroke-opacity=\"1\" stroke-width=\"3.2\"/>\n",
       "<circle clip-path=\"url(#clip232)\" cx=\"452.06\" cy=\"1445.72\" r=\"14.4\" fill=\"#009af9\" fill-rule=\"evenodd\" fill-opacity=\"1\" stroke=\"#000000\" stroke-opacity=\"1\" stroke-width=\"3.2\"/>\n",
       "<circle clip-path=\"url(#clip232)\" cx=\"759.119\" cy=\"283.268\" r=\"14.4\" fill=\"#009af9\" fill-rule=\"evenodd\" fill-opacity=\"1\" stroke=\"#000000\" stroke-opacity=\"1\" stroke-width=\"3.2\"/>\n",
       "<circle clip-path=\"url(#clip232)\" cx=\"1270.88\" cy=\"87.9763\" r=\"14.4\" fill=\"#009af9\" fill-rule=\"evenodd\" fill-opacity=\"1\" stroke=\"#000000\" stroke-opacity=\"1\" stroke-width=\"3.2\"/>\n",
       "<circle clip-path=\"url(#clip232)\" cx=\"2294.41\" cy=\"113.242\" r=\"14.4\" fill=\"#009af9\" fill-rule=\"evenodd\" fill-opacity=\"1\" stroke=\"#000000\" stroke-opacity=\"1\" stroke-width=\"3.2\"/>\n",
       "<path clip-path=\"url(#clip230)\" d=\"M2025.47 1438.47 L2284.04 1438.47 L2284.04 1334.79 L2025.47 1334.79  Z\" fill=\"#ffffff\" fill-rule=\"evenodd\" fill-opacity=\"1\"/>\n",
       "<polyline clip-path=\"url(#clip230)\" style=\"stroke:#000000; stroke-linecap:round; stroke-linejoin:round; stroke-width:4; stroke-opacity:1; fill:none\" points=\"2025.47,1438.47 2284.04,1438.47 2284.04,1334.79 2025.47,1334.79 2025.47,1438.47 \"/>\n",
       "<circle clip-path=\"url(#clip230)\" cx=\"2117.09\" cy=\"1386.63\" r=\"20.48\" fill=\"#009af9\" fill-rule=\"evenodd\" fill-opacity=\"1\" stroke=\"#000000\" stroke-opacity=\"1\" stroke-width=\"4.55111\"/>\n",
       "<path clip-path=\"url(#clip230)\" d=\"M2222.55 1406.32 Q2220.75 1410.95 2219.03 1412.36 Q2217.32 1413.78 2214.45 1413.78 L2211.05 1413.78 L2211.05 1410.21 L2213.55 1410.21 Q2215.31 1410.21 2216.28 1409.38 Q2217.25 1408.54 2218.43 1405.44 L2219.19 1403.5 L2208.71 1377.99 L2213.22 1377.99 L2221.32 1398.27 L2229.43 1377.99 L2233.94 1377.99 L2222.55 1406.32 Z\" fill=\"#000000\" fill-rule=\"nonzero\" fill-opacity=\"1\" /><path clip-path=\"url(#clip230)\" d=\"M2241.23 1399.98 L2248.87 1399.98 L2248.87 1373.61 L2240.56 1375.28 L2240.56 1371.02 L2248.82 1369.35 L2253.5 1369.35 L2253.5 1399.98 L2261.14 1399.98 L2261.14 1403.91 L2241.23 1403.91 L2241.23 1399.98 Z\" fill=\"#000000\" fill-rule=\"nonzero\" fill-opacity=\"1\" /></svg>\n"
      ],
      "text/html": [
       "<?xml version=\"1.0\" encoding=\"utf-8\"?>\n",
       "<svg xmlns=\"http://www.w3.org/2000/svg\" xmlns:xlink=\"http://www.w3.org/1999/xlink\" width=\"600\" height=\"400\" viewBox=\"0 0 2400 1600\">\n",
       "<defs>\n",
       "  <clipPath id=\"clip280\">\n",
       "    <rect x=\"0\" y=\"0\" width=\"2400\" height=\"1600\"/>\n",
       "  </clipPath>\n",
       "</defs>\n",
       "<path clip-path=\"url(#clip280)\" d=\"M0 1600 L2400 1600 L2400 0 L0 0  Z\" fill=\"#ffffff\" fill-rule=\"evenodd\" fill-opacity=\"1\"/>\n",
       "<defs>\n",
       "  <clipPath id=\"clip281\">\n",
       "    <rect x=\"480\" y=\"0\" width=\"1681\" height=\"1600\"/>\n",
       "  </clipPath>\n",
       "</defs>\n",
       "<path clip-path=\"url(#clip280)\" d=\"M291.366 1486.45 L2352.76 1486.45 L2352.76 47.2441 L291.366 47.2441  Z\" fill=\"#ffffff\" fill-rule=\"evenodd\" fill-opacity=\"1\"/>\n",
       "<defs>\n",
       "  <clipPath id=\"clip282\">\n",
       "    <rect x=\"291\" y=\"47\" width=\"2062\" height=\"1440\"/>\n",
       "  </clipPath>\n",
       "</defs>\n",
       "<polyline clip-path=\"url(#clip282)\" style=\"stroke:#000000; stroke-linecap:round; stroke-linejoin:round; stroke-width:2; stroke-opacity:0.1; fill:none\" points=\"759.119,1486.45 759.119,47.2441 \"/>\n",
       "<polyline clip-path=\"url(#clip282)\" style=\"stroke:#000000; stroke-linecap:round; stroke-linejoin:round; stroke-width:2; stroke-opacity:0.1; fill:none\" points=\"1270.88,1486.45 1270.88,47.2441 \"/>\n",
       "<polyline clip-path=\"url(#clip282)\" style=\"stroke:#000000; stroke-linecap:round; stroke-linejoin:round; stroke-width:2; stroke-opacity:0.1; fill:none\" points=\"1782.65,1486.45 1782.65,47.2441 \"/>\n",
       "<polyline clip-path=\"url(#clip282)\" style=\"stroke:#000000; stroke-linecap:round; stroke-linejoin:round; stroke-width:2; stroke-opacity:0.1; fill:none\" points=\"2294.41,1486.45 2294.41,47.2441 \"/>\n",
       "<polyline clip-path=\"url(#clip280)\" style=\"stroke:#000000; stroke-linecap:round; stroke-linejoin:round; stroke-width:4; stroke-opacity:1; fill:none\" points=\"291.366,1486.45 2352.76,1486.45 \"/>\n",
       "<polyline clip-path=\"url(#clip280)\" style=\"stroke:#000000; stroke-linecap:round; stroke-linejoin:round; stroke-width:4; stroke-opacity:1; fill:none\" points=\"759.119,1486.45 759.119,1467.55 \"/>\n",
       "<polyline clip-path=\"url(#clip280)\" style=\"stroke:#000000; stroke-linecap:round; stroke-linejoin:round; stroke-width:4; stroke-opacity:1; fill:none\" points=\"1270.88,1486.45 1270.88,1467.55 \"/>\n",
       "<polyline clip-path=\"url(#clip280)\" style=\"stroke:#000000; stroke-linecap:round; stroke-linejoin:round; stroke-width:4; stroke-opacity:1; fill:none\" points=\"1782.65,1486.45 1782.65,1467.55 \"/>\n",
       "<polyline clip-path=\"url(#clip280)\" style=\"stroke:#000000; stroke-linecap:round; stroke-linejoin:round; stroke-width:4; stroke-opacity:1; fill:none\" points=\"2294.41,1486.45 2294.41,1467.55 \"/>\n",
       "<path clip-path=\"url(#clip280)\" d=\"M733.819 1514.29 L752.175 1514.29 L752.175 1518.22 L738.101 1518.22 L738.101 1526.7 Q739.119 1526.35 740.138 1526.19 Q741.156 1526 742.175 1526 Q747.962 1526 751.342 1529.17 Q754.721 1532.34 754.721 1537.76 Q754.721 1543.34 751.249 1546.44 Q747.777 1549.52 741.457 1549.52 Q739.281 1549.52 737.013 1549.15 Q734.768 1548.78 732.36 1548.04 L732.36 1543.34 Q734.444 1544.47 736.666 1545.03 Q738.888 1545.58 741.365 1545.58 Q745.369 1545.58 747.707 1543.48 Q750.045 1541.37 750.045 1537.76 Q750.045 1534.15 747.707 1532.04 Q745.369 1529.94 741.365 1529.94 Q739.49 1529.94 737.615 1530.35 Q735.763 1530.77 733.819 1531.65 L733.819 1514.29 Z\" fill=\"#000000\" fill-rule=\"nonzero\" fill-opacity=\"1\" /><path clip-path=\"url(#clip280)\" d=\"M773.934 1517.37 Q770.323 1517.37 768.494 1520.93 Q766.689 1524.47 766.689 1531.6 Q766.689 1538.71 768.494 1542.27 Q770.323 1545.82 773.934 1545.82 Q777.568 1545.82 779.374 1542.27 Q781.203 1538.71 781.203 1531.6 Q781.203 1524.47 779.374 1520.93 Q777.568 1517.37 773.934 1517.37 M773.934 1513.66 Q779.744 1513.66 782.8 1518.27 Q785.878 1522.85 785.878 1531.6 Q785.878 1540.33 782.8 1544.94 Q779.744 1549.52 773.934 1549.52 Q768.124 1549.52 765.045 1544.94 Q761.99 1540.33 761.99 1531.6 Q761.99 1522.85 765.045 1518.27 Q768.124 1513.66 773.934 1513.66 Z\" fill=\"#000000\" fill-rule=\"nonzero\" fill-opacity=\"1\" /><path clip-path=\"url(#clip280)\" d=\"M1230.49 1544.91 L1238.13 1544.91 L1238.13 1518.55 L1229.82 1520.21 L1229.82 1515.95 L1238.08 1514.29 L1242.76 1514.29 L1242.76 1544.91 L1250.4 1544.91 L1250.4 1548.85 L1230.49 1548.85 L1230.49 1544.91 Z\" fill=\"#000000\" fill-rule=\"nonzero\" fill-opacity=\"1\" /><path clip-path=\"url(#clip280)\" d=\"M1269.84 1517.37 Q1266.23 1517.37 1264.4 1520.93 Q1262.6 1524.47 1262.6 1531.6 Q1262.6 1538.71 1264.4 1542.27 Q1266.23 1545.82 1269.84 1545.82 Q1273.48 1545.82 1275.28 1542.27 Q1277.11 1538.71 1277.11 1531.6 Q1277.11 1524.47 1275.28 1520.93 Q1273.48 1517.37 1269.84 1517.37 M1269.84 1513.66 Q1275.65 1513.66 1278.71 1518.27 Q1281.79 1522.85 1281.79 1531.6 Q1281.79 1540.33 1278.71 1544.94 Q1275.65 1549.52 1269.84 1549.52 Q1264.03 1549.52 1260.95 1544.94 Q1257.9 1540.33 1257.9 1531.6 Q1257.9 1522.85 1260.95 1518.27 Q1264.03 1513.66 1269.84 1513.66 Z\" fill=\"#000000\" fill-rule=\"nonzero\" fill-opacity=\"1\" /><path clip-path=\"url(#clip280)\" d=\"M1300 1517.37 Q1296.39 1517.37 1294.56 1520.93 Q1292.76 1524.47 1292.76 1531.6 Q1292.76 1538.71 1294.56 1542.27 Q1296.39 1545.82 1300 1545.82 Q1303.64 1545.82 1305.44 1542.27 Q1307.27 1538.71 1307.27 1531.6 Q1307.27 1524.47 1305.44 1520.93 Q1303.64 1517.37 1300 1517.37 M1300 1513.66 Q1305.81 1513.66 1308.87 1518.27 Q1311.95 1522.85 1311.95 1531.6 Q1311.95 1540.33 1308.87 1544.94 Q1305.81 1549.52 1300 1549.52 Q1294.19 1549.52 1291.12 1544.94 Q1288.06 1540.33 1288.06 1531.6 Q1288.06 1522.85 1291.12 1518.27 Q1294.19 1513.66 1300 1513.66 Z\" fill=\"#000000\" fill-rule=\"nonzero\" fill-opacity=\"1\" /><path clip-path=\"url(#clip280)\" d=\"M1742.26 1544.91 L1749.9 1544.91 L1749.9 1518.55 L1741.58 1520.21 L1741.58 1515.95 L1749.85 1514.29 L1754.52 1514.29 L1754.52 1544.91 L1762.16 1544.91 L1762.16 1548.85 L1742.26 1548.85 L1742.26 1544.91 Z\" fill=\"#000000\" fill-rule=\"nonzero\" fill-opacity=\"1\" /><path clip-path=\"url(#clip280)\" d=\"M1771.65 1514.29 L1790.01 1514.29 L1790.01 1518.22 L1775.94 1518.22 L1775.94 1526.7 Q1776.96 1526.35 1777.97 1526.19 Q1778.99 1526 1780.01 1526 Q1785.8 1526 1789.18 1529.17 Q1792.56 1532.34 1792.56 1537.76 Q1792.56 1543.34 1789.08 1546.44 Q1785.61 1549.52 1779.29 1549.52 Q1777.12 1549.52 1774.85 1549.15 Q1772.6 1548.78 1770.2 1548.04 L1770.2 1543.34 Q1772.28 1544.47 1774.5 1545.03 Q1776.72 1545.58 1779.2 1545.58 Q1783.21 1545.58 1785.54 1543.48 Q1787.88 1541.37 1787.88 1537.76 Q1787.88 1534.15 1785.54 1532.04 Q1783.21 1529.94 1779.2 1529.94 Q1777.33 1529.94 1775.45 1530.35 Q1773.6 1530.77 1771.65 1531.65 L1771.65 1514.29 Z\" fill=\"#000000\" fill-rule=\"nonzero\" fill-opacity=\"1\" /><path clip-path=\"url(#clip280)\" d=\"M1811.77 1517.37 Q1808.16 1517.37 1806.33 1520.93 Q1804.52 1524.47 1804.52 1531.6 Q1804.52 1538.71 1806.33 1542.27 Q1808.16 1545.82 1811.77 1545.82 Q1815.4 1545.82 1817.21 1542.27 Q1819.04 1538.71 1819.04 1531.6 Q1819.04 1524.47 1817.21 1520.93 Q1815.4 1517.37 1811.77 1517.37 M1811.77 1513.66 Q1817.58 1513.66 1820.64 1518.27 Q1823.71 1522.85 1823.71 1531.6 Q1823.71 1540.33 1820.64 1544.94 Q1817.58 1549.52 1811.77 1549.52 Q1805.96 1549.52 1802.88 1544.94 Q1799.83 1540.33 1799.83 1531.6 Q1799.83 1522.85 1802.88 1518.27 Q1805.96 1513.66 1811.77 1513.66 Z\" fill=\"#000000\" fill-rule=\"nonzero\" fill-opacity=\"1\" /><path clip-path=\"url(#clip280)\" d=\"M2258.11 1544.91 L2274.43 1544.91 L2274.43 1548.85 L2252.48 1548.85 L2252.48 1544.91 Q2255.14 1542.16 2259.73 1537.53 Q2264.33 1532.88 2265.51 1531.53 Q2267.76 1529.01 2268.64 1527.27 Q2269.54 1525.51 2269.54 1523.82 Q2269.54 1521.07 2267.6 1519.33 Q2265.68 1517.6 2262.57 1517.6 Q2260.38 1517.6 2257.92 1518.36 Q2255.49 1519.13 2252.71 1520.68 L2252.71 1515.95 Q2255.54 1514.82 2257.99 1514.24 Q2260.44 1513.66 2262.48 1513.66 Q2267.85 1513.66 2271.05 1516.35 Q2274.24 1519.03 2274.24 1523.52 Q2274.24 1525.65 2273.43 1527.57 Q2272.64 1529.47 2270.54 1532.07 Q2269.96 1532.74 2266.86 1535.95 Q2263.76 1539.15 2258.11 1544.91 Z\" fill=\"#000000\" fill-rule=\"nonzero\" fill-opacity=\"1\" /><path clip-path=\"url(#clip280)\" d=\"M2294.24 1517.37 Q2290.63 1517.37 2288.8 1520.93 Q2287 1524.47 2287 1531.6 Q2287 1538.71 2288.8 1542.27 Q2290.63 1545.82 2294.24 1545.82 Q2297.88 1545.82 2299.68 1542.27 Q2301.51 1538.71 2301.51 1531.6 Q2301.51 1524.47 2299.68 1520.93 Q2297.88 1517.37 2294.24 1517.37 M2294.24 1513.66 Q2300.05 1513.66 2303.11 1518.27 Q2306.19 1522.85 2306.19 1531.6 Q2306.19 1540.33 2303.11 1544.94 Q2300.05 1549.52 2294.24 1549.52 Q2288.43 1549.52 2285.35 1544.94 Q2282.3 1540.33 2282.3 1531.6 Q2282.3 1522.85 2285.35 1518.27 Q2288.43 1513.66 2294.24 1513.66 Z\" fill=\"#000000\" fill-rule=\"nonzero\" fill-opacity=\"1\" /><path clip-path=\"url(#clip280)\" d=\"M2324.4 1517.37 Q2320.79 1517.37 2318.96 1520.93 Q2317.16 1524.47 2317.16 1531.6 Q2317.16 1538.71 2318.96 1542.27 Q2320.79 1545.82 2324.4 1545.82 Q2328.04 1545.82 2329.84 1542.27 Q2331.67 1538.71 2331.67 1531.6 Q2331.67 1524.47 2329.84 1520.93 Q2328.04 1517.37 2324.4 1517.37 M2324.4 1513.66 Q2330.21 1513.66 2333.27 1518.27 Q2336.35 1522.85 2336.35 1531.6 Q2336.35 1540.33 2333.27 1544.94 Q2330.21 1549.52 2324.4 1549.52 Q2318.59 1549.52 2315.51 1544.94 Q2312.46 1540.33 2312.46 1531.6 Q2312.46 1522.85 2315.51 1518.27 Q2318.59 1513.66 2324.4 1513.66 Z\" fill=\"#000000\" fill-rule=\"nonzero\" fill-opacity=\"1\" /><polyline clip-path=\"url(#clip282)\" style=\"stroke:#000000; stroke-linecap:round; stroke-linejoin:round; stroke-width:2; stroke-opacity:0.1; fill:none\" points=\"291.366,1427.27 2352.76,1427.27 \"/>\n",
       "<polyline clip-path=\"url(#clip282)\" style=\"stroke:#000000; stroke-linecap:round; stroke-linejoin:round; stroke-width:2; stroke-opacity:0.1; fill:none\" points=\"291.366,1194.33 2352.76,1194.33 \"/>\n",
       "<polyline clip-path=\"url(#clip282)\" style=\"stroke:#000000; stroke-linecap:round; stroke-linejoin:round; stroke-width:2; stroke-opacity:0.1; fill:none\" points=\"291.366,961.388 2352.76,961.388 \"/>\n",
       "<polyline clip-path=\"url(#clip282)\" style=\"stroke:#000000; stroke-linecap:round; stroke-linejoin:round; stroke-width:2; stroke-opacity:0.1; fill:none\" points=\"291.366,728.448 2352.76,728.448 \"/>\n",
       "<polyline clip-path=\"url(#clip282)\" style=\"stroke:#000000; stroke-linecap:round; stroke-linejoin:round; stroke-width:2; stroke-opacity:0.1; fill:none\" points=\"291.366,495.508 2352.76,495.508 \"/>\n",
       "<polyline clip-path=\"url(#clip282)\" style=\"stroke:#000000; stroke-linecap:round; stroke-linejoin:round; stroke-width:2; stroke-opacity:0.1; fill:none\" points=\"291.366,262.568 2352.76,262.568 \"/>\n",
       "<polyline clip-path=\"url(#clip280)\" style=\"stroke:#000000; stroke-linecap:round; stroke-linejoin:round; stroke-width:4; stroke-opacity:1; fill:none\" points=\"291.366,1486.45 291.366,47.2441 \"/>\n",
       "<polyline clip-path=\"url(#clip280)\" style=\"stroke:#000000; stroke-linecap:round; stroke-linejoin:round; stroke-width:4; stroke-opacity:1; fill:none\" points=\"291.366,1427.27 310.264,1427.27 \"/>\n",
       "<polyline clip-path=\"url(#clip280)\" style=\"stroke:#000000; stroke-linecap:round; stroke-linejoin:round; stroke-width:4; stroke-opacity:1; fill:none\" points=\"291.366,1194.33 310.264,1194.33 \"/>\n",
       "<polyline clip-path=\"url(#clip280)\" style=\"stroke:#000000; stroke-linecap:round; stroke-linejoin:round; stroke-width:4; stroke-opacity:1; fill:none\" points=\"291.366,961.388 310.264,961.388 \"/>\n",
       "<polyline clip-path=\"url(#clip280)\" style=\"stroke:#000000; stroke-linecap:round; stroke-linejoin:round; stroke-width:4; stroke-opacity:1; fill:none\" points=\"291.366,728.448 310.264,728.448 \"/>\n",
       "<polyline clip-path=\"url(#clip280)\" style=\"stroke:#000000; stroke-linecap:round; stroke-linejoin:round; stroke-width:4; stroke-opacity:1; fill:none\" points=\"291.366,495.508 310.264,495.508 \"/>\n",
       "<polyline clip-path=\"url(#clip280)\" style=\"stroke:#000000; stroke-linecap:round; stroke-linejoin:round; stroke-width:4; stroke-opacity:1; fill:none\" points=\"291.366,262.568 310.264,262.568 \"/>\n",
       "<path clip-path=\"url(#clip280)\" d=\"M66.617 1425.91 Q69.9735 1426.63 71.8485 1428.9 Q73.7466 1431.17 73.7466 1434.5 Q73.7466 1439.62 70.2281 1442.42 Q66.7096 1445.22 60.2282 1445.22 Q58.0523 1445.22 55.7375 1444.78 Q53.4458 1444.36 50.9921 1443.51 L50.9921 1438.99 Q52.9366 1440.13 55.2514 1440.71 Q57.5662 1441.28 60.0893 1441.28 Q64.4874 1441.28 66.7791 1439.55 Q69.0939 1437.81 69.0939 1434.5 Q69.0939 1431.45 66.9411 1429.73 Q64.8115 1428 60.9921 1428 L56.9643 1428 L56.9643 1424.16 L61.1773 1424.16 Q64.6263 1424.16 66.455 1422.79 Q68.2837 1421.4 68.2837 1418.81 Q68.2837 1416.15 66.3856 1414.73 Q64.5106 1413.3 60.9921 1413.3 Q59.0708 1413.3 56.8717 1413.72 Q54.6727 1414.13 52.0338 1415.01 L52.0338 1410.85 Q54.6958 1410.1 57.0106 1409.73 Q59.3486 1409.36 61.4087 1409.36 Q66.7328 1409.36 69.8346 1411.79 Q72.9365 1414.2 72.9365 1418.32 Q72.9365 1421.19 71.2929 1423.18 Q69.6494 1425.15 66.617 1425.91 Z\" fill=\"#000000\" fill-rule=\"nonzero\" fill-opacity=\"1\" /><path clip-path=\"url(#clip280)\" d=\"M82.6586 1409.99 L101.015 1409.99 L101.015 1413.92 L86.941 1413.92 L86.941 1422.4 Q87.9595 1422.05 88.978 1421.89 Q89.9965 1421.7 91.0151 1421.7 Q96.8021 1421.7 100.182 1424.87 Q103.561 1428.04 103.561 1433.46 Q103.561 1439.04 100.089 1442.14 Q96.6169 1445.22 90.2975 1445.22 Q88.1216 1445.22 85.8531 1444.85 Q83.6077 1444.48 81.2003 1443.74 L81.2003 1439.04 Q83.2836 1440.17 85.5058 1440.73 Q87.728 1441.28 90.2049 1441.28 Q94.2095 1441.28 96.5474 1439.18 Q98.8854 1437.07 98.8854 1433.46 Q98.8854 1429.85 96.5474 1427.74 Q94.2095 1425.64 90.2049 1425.64 Q88.3299 1425.64 86.4549 1426.05 Q84.6031 1426.47 82.6586 1427.35 L82.6586 1409.99 Z\" fill=\"#000000\" fill-rule=\"nonzero\" fill-opacity=\"1\" /><path clip-path=\"url(#clip280)\" d=\"M112.82 1409.99 L131.177 1409.99 L131.177 1413.92 L117.103 1413.92 L117.103 1422.4 Q118.121 1422.05 119.14 1421.89 Q120.158 1421.7 121.177 1421.7 Q126.964 1421.7 130.344 1424.87 Q133.723 1428.04 133.723 1433.46 Q133.723 1439.04 130.251 1442.14 Q126.779 1445.22 120.459 1445.22 Q118.283 1445.22 116.015 1444.85 Q113.77 1444.48 111.362 1443.74 L111.362 1439.04 Q113.445 1440.17 115.668 1440.73 Q117.89 1441.28 120.367 1441.28 Q124.371 1441.28 126.709 1439.18 Q129.047 1437.07 129.047 1433.46 Q129.047 1429.85 126.709 1427.74 Q124.371 1425.64 120.367 1425.64 Q118.492 1425.64 116.617 1426.05 Q114.765 1426.47 112.82 1427.35 L112.82 1409.99 Z\" fill=\"#000000\" fill-rule=\"nonzero\" fill-opacity=\"1\" /><path clip-path=\"url(#clip280)\" d=\"M143.746 1440.61 L151.385 1440.61 L151.385 1414.25 L143.075 1415.91 L143.075 1411.66 L151.339 1409.99 L156.015 1409.99 L156.015 1440.61 L163.654 1440.61 L163.654 1444.55 L143.746 1444.55 L143.746 1440.61 Z\" fill=\"#000000\" fill-rule=\"nonzero\" fill-opacity=\"1\" /><path clip-path=\"url(#clip280)\" d=\"M173.144 1409.99 L191.501 1409.99 L191.501 1413.92 L177.427 1413.92 L177.427 1422.4 Q178.445 1422.05 179.464 1421.89 Q180.482 1421.7 181.501 1421.7 Q187.288 1421.7 190.667 1424.87 Q194.047 1428.04 194.047 1433.46 Q194.047 1439.04 190.575 1442.14 Q187.103 1445.22 180.783 1445.22 Q178.607 1445.22 176.339 1444.85 Q174.093 1444.48 171.686 1443.74 L171.686 1439.04 Q173.769 1440.17 175.991 1440.73 Q178.214 1441.28 180.691 1441.28 Q184.695 1441.28 187.033 1439.18 Q189.371 1437.07 189.371 1433.46 Q189.371 1429.85 187.033 1427.74 Q184.695 1425.64 180.691 1425.64 Q178.816 1425.64 176.941 1426.05 Q175.089 1426.47 173.144 1427.35 L173.144 1409.99 Z\" fill=\"#000000\" fill-rule=\"nonzero\" fill-opacity=\"1\" /><path clip-path=\"url(#clip280)\" d=\"M213.26 1413.07 Q209.649 1413.07 207.82 1416.63 Q206.014 1420.17 206.014 1427.3 Q206.014 1434.41 207.82 1437.97 Q209.649 1441.52 213.26 1441.52 Q216.894 1441.52 218.7 1437.97 Q220.528 1434.41 220.528 1427.3 Q220.528 1420.17 218.7 1416.63 Q216.894 1413.07 213.26 1413.07 M213.26 1409.36 Q219.07 1409.36 222.125 1413.97 Q225.204 1418.55 225.204 1427.3 Q225.204 1436.03 222.125 1440.64 Q219.07 1445.22 213.26 1445.22 Q207.45 1445.22 204.371 1440.64 Q201.315 1436.03 201.315 1427.3 Q201.315 1418.55 204.371 1413.97 Q207.45 1409.36 213.26 1409.36 Z\" fill=\"#000000\" fill-rule=\"nonzero\" fill-opacity=\"1\" /><path clip-path=\"url(#clip280)\" d=\"M243.422 1413.07 Q239.811 1413.07 237.982 1416.63 Q236.176 1420.17 236.176 1427.3 Q236.176 1434.41 237.982 1437.97 Q239.811 1441.52 243.422 1441.52 Q247.056 1441.52 248.861 1437.97 Q250.69 1434.41 250.69 1427.3 Q250.69 1420.17 248.861 1416.63 Q247.056 1413.07 243.422 1413.07 M243.422 1409.36 Q249.232 1409.36 252.287 1413.97 Q255.366 1418.55 255.366 1427.3 Q255.366 1436.03 252.287 1440.64 Q249.232 1445.22 243.422 1445.22 Q237.611 1445.22 234.533 1440.64 Q231.477 1436.03 231.477 1427.3 Q231.477 1418.55 234.533 1413.97 Q237.611 1409.36 243.422 1409.36 Z\" fill=\"#000000\" fill-rule=\"nonzero\" fill-opacity=\"1\" /><path clip-path=\"url(#clip280)\" d=\"M66.617 1192.97 Q69.9735 1193.69 71.8485 1195.96 Q73.7466 1198.23 73.7466 1201.56 Q73.7466 1206.68 70.2281 1209.48 Q66.7096 1212.28 60.2282 1212.28 Q58.0523 1212.28 55.7375 1211.84 Q53.4458 1211.42 50.9921 1210.57 L50.9921 1206.05 Q52.9366 1207.19 55.2514 1207.77 Q57.5662 1208.34 60.0893 1208.34 Q64.4874 1208.34 66.7791 1206.61 Q69.0939 1204.87 69.0939 1201.56 Q69.0939 1198.51 66.9411 1196.79 Q64.8115 1195.06 60.9921 1195.06 L56.9643 1195.06 L56.9643 1191.22 L61.1773 1191.22 Q64.6263 1191.22 66.455 1189.85 Q68.2837 1188.46 68.2837 1185.87 Q68.2837 1183.21 66.3856 1181.79 Q64.5106 1180.36 60.9921 1180.36 Q59.0708 1180.36 56.8717 1180.78 Q54.6727 1181.19 52.0338 1182.07 L52.0338 1177.9 Q54.6958 1177.16 57.0106 1176.79 Q59.3486 1176.42 61.4087 1176.42 Q66.7328 1176.42 69.8346 1178.85 Q72.9365 1181.26 72.9365 1185.38 Q72.9365 1188.25 71.2929 1190.24 Q69.6494 1192.21 66.617 1192.97 Z\" fill=\"#000000\" fill-rule=\"nonzero\" fill-opacity=\"1\" /><path clip-path=\"url(#clip280)\" d=\"M82.6586 1177.05 L101.015 1177.05 L101.015 1180.98 L86.941 1180.98 L86.941 1189.46 Q87.9595 1189.11 88.978 1188.95 Q89.9965 1188.76 91.0151 1188.76 Q96.8021 1188.76 100.182 1191.93 Q103.561 1195.1 103.561 1200.52 Q103.561 1206.1 100.089 1209.2 Q96.6169 1212.28 90.2975 1212.28 Q88.1216 1212.28 85.8531 1211.91 Q83.6077 1211.54 81.2003 1210.8 L81.2003 1206.1 Q83.2836 1207.23 85.5058 1207.79 Q87.728 1208.34 90.2049 1208.34 Q94.2095 1208.34 96.5474 1206.24 Q98.8854 1204.13 98.8854 1200.52 Q98.8854 1196.91 96.5474 1194.8 Q94.2095 1192.7 90.2049 1192.7 Q88.3299 1192.7 86.4549 1193.11 Q84.6031 1193.53 82.6586 1194.41 L82.6586 1177.05 Z\" fill=\"#000000\" fill-rule=\"nonzero\" fill-opacity=\"1\" /><path clip-path=\"url(#clip280)\" d=\"M112.82 1177.05 L131.177 1177.05 L131.177 1180.98 L117.103 1180.98 L117.103 1189.46 Q118.121 1189.11 119.14 1188.95 Q120.158 1188.76 121.177 1188.76 Q126.964 1188.76 130.344 1191.93 Q133.723 1195.1 133.723 1200.52 Q133.723 1206.1 130.251 1209.2 Q126.779 1212.28 120.459 1212.28 Q118.283 1212.28 116.015 1211.91 Q113.77 1211.54 111.362 1210.8 L111.362 1206.1 Q113.445 1207.23 115.668 1207.79 Q117.89 1208.34 120.367 1208.34 Q124.371 1208.34 126.709 1206.24 Q129.047 1204.13 129.047 1200.52 Q129.047 1196.91 126.709 1194.8 Q124.371 1192.7 120.367 1192.7 Q118.492 1192.7 116.617 1193.11 Q114.765 1193.53 112.82 1194.41 L112.82 1177.05 Z\" fill=\"#000000\" fill-rule=\"nonzero\" fill-opacity=\"1\" /><path clip-path=\"url(#clip280)\" d=\"M146.964 1207.67 L163.283 1207.67 L163.283 1211.61 L141.339 1211.61 L141.339 1207.67 Q144.001 1204.92 148.584 1200.29 Q153.191 1195.64 154.371 1194.29 Q156.617 1191.77 157.496 1190.03 Q158.399 1188.28 158.399 1186.59 Q158.399 1183.83 156.455 1182.09 Q154.533 1180.36 151.431 1180.36 Q149.232 1180.36 146.779 1181.12 Q144.348 1181.89 141.57 1183.44 L141.57 1178.72 Q144.394 1177.58 146.848 1177 Q149.302 1176.42 151.339 1176.42 Q156.709 1176.42 159.904 1179.11 Q163.098 1181.79 163.098 1186.28 Q163.098 1188.41 162.288 1190.34 Q161.501 1192.23 159.394 1194.83 Q158.816 1195.5 155.714 1198.72 Q152.612 1201.91 146.964 1207.67 Z\" fill=\"#000000\" fill-rule=\"nonzero\" fill-opacity=\"1\" /><path clip-path=\"url(#clip280)\" d=\"M183.098 1180.13 Q179.487 1180.13 177.658 1183.69 Q175.853 1187.23 175.853 1194.36 Q175.853 1201.47 177.658 1205.03 Q179.487 1208.58 183.098 1208.58 Q186.732 1208.58 188.538 1205.03 Q190.366 1201.47 190.366 1194.36 Q190.366 1187.23 188.538 1183.69 Q186.732 1180.13 183.098 1180.13 M183.098 1176.42 Q188.908 1176.42 191.964 1181.03 Q195.042 1185.61 195.042 1194.36 Q195.042 1203.09 191.964 1207.7 Q188.908 1212.28 183.098 1212.28 Q177.288 1212.28 174.209 1207.7 Q171.154 1203.09 171.154 1194.36 Q171.154 1185.61 174.209 1181.03 Q177.288 1176.42 183.098 1176.42 Z\" fill=\"#000000\" fill-rule=\"nonzero\" fill-opacity=\"1\" /><path clip-path=\"url(#clip280)\" d=\"M213.26 1180.13 Q209.649 1180.13 207.82 1183.69 Q206.014 1187.23 206.014 1194.36 Q206.014 1201.47 207.82 1205.03 Q209.649 1208.58 213.26 1208.58 Q216.894 1208.58 218.7 1205.03 Q220.528 1201.47 220.528 1194.36 Q220.528 1187.23 218.7 1183.69 Q216.894 1180.13 213.26 1180.13 M213.26 1176.42 Q219.07 1176.42 222.125 1181.03 Q225.204 1185.61 225.204 1194.36 Q225.204 1203.09 222.125 1207.7 Q219.07 1212.28 213.26 1212.28 Q207.45 1212.28 204.371 1207.7 Q201.315 1203.09 201.315 1194.36 Q201.315 1185.61 204.371 1181.03 Q207.45 1176.42 213.26 1176.42 Z\" fill=\"#000000\" fill-rule=\"nonzero\" fill-opacity=\"1\" /><path clip-path=\"url(#clip280)\" d=\"M243.422 1180.13 Q239.811 1180.13 237.982 1183.69 Q236.176 1187.23 236.176 1194.36 Q236.176 1201.47 237.982 1205.03 Q239.811 1208.58 243.422 1208.58 Q247.056 1208.58 248.861 1205.03 Q250.69 1201.47 250.69 1194.36 Q250.69 1187.23 248.861 1183.69 Q247.056 1180.13 243.422 1180.13 M243.422 1176.42 Q249.232 1176.42 252.287 1181.03 Q255.366 1185.61 255.366 1194.36 Q255.366 1203.09 252.287 1207.7 Q249.232 1212.28 243.422 1212.28 Q237.611 1212.28 234.533 1207.7 Q231.477 1203.09 231.477 1194.36 Q231.477 1185.61 234.533 1181.03 Q237.611 1176.42 243.422 1176.42 Z\" fill=\"#000000\" fill-rule=\"nonzero\" fill-opacity=\"1\" /><path clip-path=\"url(#clip280)\" d=\"M66.617 960.034 Q69.9735 960.752 71.8485 963.02 Q73.7466 965.289 73.7466 968.622 Q73.7466 973.738 70.2281 976.539 Q66.7096 979.34 60.2282 979.34 Q58.0523 979.34 55.7375 978.9 Q53.4458 978.483 50.9921 977.627 L50.9921 973.113 Q52.9366 974.247 55.2514 974.826 Q57.5662 975.404 60.0893 975.404 Q64.4874 975.404 66.7791 973.668 Q69.0939 971.932 69.0939 968.622 Q69.0939 965.566 66.9411 963.854 Q64.8115 962.117 60.9921 962.117 L56.9643 962.117 L56.9643 958.275 L61.1773 958.275 Q64.6263 958.275 66.455 956.909 Q68.2837 955.52 68.2837 952.928 Q68.2837 950.266 66.3856 948.854 Q64.5106 947.418 60.9921 947.418 Q59.0708 947.418 56.8717 947.835 Q54.6727 948.252 52.0338 949.131 L52.0338 944.965 Q54.6958 944.224 57.0106 943.854 Q59.3486 943.483 61.4087 943.483 Q66.7328 943.483 69.8346 945.914 Q72.9365 948.321 72.9365 952.442 Q72.9365 955.312 71.2929 957.303 Q69.6494 959.27 66.617 960.034 Z\" fill=\"#000000\" fill-rule=\"nonzero\" fill-opacity=\"1\" /><path clip-path=\"url(#clip280)\" d=\"M82.6586 944.108 L101.015 944.108 L101.015 948.043 L86.941 948.043 L86.941 956.516 Q87.9595 956.168 88.978 956.006 Q89.9965 955.821 91.0151 955.821 Q96.8021 955.821 100.182 958.992 Q103.561 962.164 103.561 967.58 Q103.561 973.159 100.089 976.261 Q96.6169 979.34 90.2975 979.34 Q88.1216 979.34 85.8531 978.969 Q83.6077 978.599 81.2003 977.858 L81.2003 973.159 Q83.2836 974.293 85.5058 974.849 Q87.728 975.404 90.2049 975.404 Q94.2095 975.404 96.5474 973.298 Q98.8854 971.191 98.8854 967.58 Q98.8854 963.969 96.5474 961.863 Q94.2095 959.756 90.2049 959.756 Q88.3299 959.756 86.4549 960.173 Q84.6031 960.59 82.6586 961.469 L82.6586 944.108 Z\" fill=\"#000000\" fill-rule=\"nonzero\" fill-opacity=\"1\" /><path clip-path=\"url(#clip280)\" d=\"M112.82 944.108 L131.177 944.108 L131.177 948.043 L117.103 948.043 L117.103 956.516 Q118.121 956.168 119.14 956.006 Q120.158 955.821 121.177 955.821 Q126.964 955.821 130.344 958.992 Q133.723 962.164 133.723 967.58 Q133.723 973.159 130.251 976.261 Q126.779 979.34 120.459 979.34 Q118.283 979.34 116.015 978.969 Q113.77 978.599 111.362 977.858 L111.362 973.159 Q113.445 974.293 115.668 974.849 Q117.89 975.404 120.367 975.404 Q124.371 975.404 126.709 973.298 Q129.047 971.191 129.047 967.58 Q129.047 963.969 126.709 961.863 Q124.371 959.756 120.367 959.756 Q118.492 959.756 116.617 960.173 Q114.765 960.59 112.82 961.469 L112.82 944.108 Z\" fill=\"#000000\" fill-rule=\"nonzero\" fill-opacity=\"1\" /><path clip-path=\"url(#clip280)\" d=\"M146.964 974.733 L163.283 974.733 L163.283 978.668 L141.339 978.668 L141.339 974.733 Q144.001 971.978 148.584 967.349 Q153.191 962.696 154.371 961.354 Q156.617 958.83 157.496 957.094 Q158.399 955.335 158.399 953.645 Q158.399 950.891 156.455 949.155 Q154.533 947.418 151.431 947.418 Q149.232 947.418 146.779 948.182 Q144.348 948.946 141.57 950.497 L141.57 945.775 Q144.394 944.641 146.848 944.062 Q149.302 943.483 151.339 943.483 Q156.709 943.483 159.904 946.168 Q163.098 948.854 163.098 953.344 Q163.098 955.474 162.288 957.395 Q161.501 959.293 159.394 961.886 Q158.816 962.557 155.714 965.775 Q152.612 968.969 146.964 974.733 Z\" fill=\"#000000\" fill-rule=\"nonzero\" fill-opacity=\"1\" /><path clip-path=\"url(#clip280)\" d=\"M173.144 944.108 L191.501 944.108 L191.501 948.043 L177.427 948.043 L177.427 956.516 Q178.445 956.168 179.464 956.006 Q180.482 955.821 181.501 955.821 Q187.288 955.821 190.667 958.992 Q194.047 962.164 194.047 967.58 Q194.047 973.159 190.575 976.261 Q187.103 979.34 180.783 979.34 Q178.607 979.34 176.339 978.969 Q174.093 978.599 171.686 977.858 L171.686 973.159 Q173.769 974.293 175.991 974.849 Q178.214 975.404 180.691 975.404 Q184.695 975.404 187.033 973.298 Q189.371 971.191 189.371 967.58 Q189.371 963.969 187.033 961.863 Q184.695 959.756 180.691 959.756 Q178.816 959.756 176.941 960.173 Q175.089 960.59 173.144 961.469 L173.144 944.108 Z\" fill=\"#000000\" fill-rule=\"nonzero\" fill-opacity=\"1\" /><path clip-path=\"url(#clip280)\" d=\"M213.26 947.187 Q209.649 947.187 207.82 950.752 Q206.014 954.293 206.014 961.423 Q206.014 968.529 207.82 972.094 Q209.649 975.636 213.26 975.636 Q216.894 975.636 218.7 972.094 Q220.528 968.529 220.528 961.423 Q220.528 954.293 218.7 950.752 Q216.894 947.187 213.26 947.187 M213.26 943.483 Q219.07 943.483 222.125 948.09 Q225.204 952.673 225.204 961.423 Q225.204 970.15 222.125 974.756 Q219.07 979.34 213.26 979.34 Q207.45 979.34 204.371 974.756 Q201.315 970.15 201.315 961.423 Q201.315 952.673 204.371 948.09 Q207.45 943.483 213.26 943.483 Z\" fill=\"#000000\" fill-rule=\"nonzero\" fill-opacity=\"1\" /><path clip-path=\"url(#clip280)\" d=\"M243.422 947.187 Q239.811 947.187 237.982 950.752 Q236.176 954.293 236.176 961.423 Q236.176 968.529 237.982 972.094 Q239.811 975.636 243.422 975.636 Q247.056 975.636 248.861 972.094 Q250.69 968.529 250.69 961.423 Q250.69 954.293 248.861 950.752 Q247.056 947.187 243.422 947.187 M243.422 943.483 Q249.232 943.483 252.287 948.09 Q255.366 952.673 255.366 961.423 Q255.366 970.15 252.287 974.756 Q249.232 979.34 243.422 979.34 Q237.611 979.34 234.533 974.756 Q231.477 970.15 231.477 961.423 Q231.477 952.673 234.533 948.09 Q237.611 943.483 243.422 943.483 Z\" fill=\"#000000\" fill-rule=\"nonzero\" fill-opacity=\"1\" /><path clip-path=\"url(#clip280)\" d=\"M66.617 727.094 Q69.9735 727.811 71.8485 730.08 Q73.7466 732.348 73.7466 735.682 Q73.7466 740.798 70.2281 743.598 Q66.7096 746.399 60.2282 746.399 Q58.0523 746.399 55.7375 745.96 Q53.4458 745.543 50.9921 744.686 L50.9921 740.173 Q52.9366 741.307 55.2514 741.885 Q57.5662 742.464 60.0893 742.464 Q64.4874 742.464 66.7791 740.728 Q69.0939 738.992 69.0939 735.682 Q69.0939 732.626 66.9411 730.913 Q64.8115 729.177 60.9921 729.177 L56.9643 729.177 L56.9643 725.335 L61.1773 725.335 Q64.6263 725.335 66.455 723.969 Q68.2837 722.58 68.2837 719.987 Q68.2837 717.325 66.3856 715.913 Q64.5106 714.478 60.9921 714.478 Q59.0708 714.478 56.8717 714.895 Q54.6727 715.312 52.0338 716.191 L52.0338 712.025 Q54.6958 711.284 57.0106 710.913 Q59.3486 710.543 61.4087 710.543 Q66.7328 710.543 69.8346 712.974 Q72.9365 715.381 72.9365 719.501 Q72.9365 722.372 71.2929 724.362 Q69.6494 726.33 66.617 727.094 Z\" fill=\"#000000\" fill-rule=\"nonzero\" fill-opacity=\"1\" /><path clip-path=\"url(#clip280)\" d=\"M82.6586 711.168 L101.015 711.168 L101.015 715.103 L86.941 715.103 L86.941 723.575 Q87.9595 723.228 88.978 723.066 Q89.9965 722.881 91.0151 722.881 Q96.8021 722.881 100.182 726.052 Q103.561 729.224 103.561 734.64 Q103.561 740.219 100.089 743.321 Q96.6169 746.399 90.2975 746.399 Q88.1216 746.399 85.8531 746.029 Q83.6077 745.659 81.2003 744.918 L81.2003 740.219 Q83.2836 741.353 85.5058 741.909 Q87.728 742.464 90.2049 742.464 Q94.2095 742.464 96.5474 740.358 Q98.8854 738.251 98.8854 734.64 Q98.8854 731.029 96.5474 728.923 Q94.2095 726.816 90.2049 726.816 Q88.3299 726.816 86.4549 727.233 Q84.6031 727.649 82.6586 728.529 L82.6586 711.168 Z\" fill=\"#000000\" fill-rule=\"nonzero\" fill-opacity=\"1\" /><path clip-path=\"url(#clip280)\" d=\"M112.82 711.168 L131.177 711.168 L131.177 715.103 L117.103 715.103 L117.103 723.575 Q118.121 723.228 119.14 723.066 Q120.158 722.881 121.177 722.881 Q126.964 722.881 130.344 726.052 Q133.723 729.224 133.723 734.64 Q133.723 740.219 130.251 743.321 Q126.779 746.399 120.459 746.399 Q118.283 746.399 116.015 746.029 Q113.77 745.659 111.362 744.918 L111.362 740.219 Q113.445 741.353 115.668 741.909 Q117.89 742.464 120.367 742.464 Q124.371 742.464 126.709 740.358 Q129.047 738.251 129.047 734.64 Q129.047 731.029 126.709 728.923 Q124.371 726.816 120.367 726.816 Q118.492 726.816 116.617 727.233 Q114.765 727.649 112.82 728.529 L112.82 711.168 Z\" fill=\"#000000\" fill-rule=\"nonzero\" fill-opacity=\"1\" /><path clip-path=\"url(#clip280)\" d=\"M157.103 727.094 Q160.459 727.811 162.334 730.08 Q164.232 732.348 164.232 735.682 Q164.232 740.798 160.714 743.598 Q157.195 746.399 150.714 746.399 Q148.538 746.399 146.223 745.96 Q143.931 745.543 141.478 744.686 L141.478 740.173 Q143.422 741.307 145.737 741.885 Q148.052 742.464 150.575 742.464 Q154.973 742.464 157.265 740.728 Q159.58 738.992 159.58 735.682 Q159.58 732.626 157.427 730.913 Q155.297 729.177 151.478 729.177 L147.45 729.177 L147.45 725.335 L151.663 725.335 Q155.112 725.335 156.941 723.969 Q158.769 722.58 158.769 719.987 Q158.769 717.325 156.871 715.913 Q154.996 714.478 151.478 714.478 Q149.556 714.478 147.357 714.895 Q145.158 715.312 142.519 716.191 L142.519 712.025 Q145.181 711.284 147.496 710.913 Q149.834 710.543 151.894 710.543 Q157.218 710.543 160.32 712.974 Q163.422 715.381 163.422 719.501 Q163.422 722.372 161.779 724.362 Q160.135 726.33 157.103 727.094 Z\" fill=\"#000000\" fill-rule=\"nonzero\" fill-opacity=\"1\" /><path clip-path=\"url(#clip280)\" d=\"M183.098 714.247 Q179.487 714.247 177.658 717.812 Q175.853 721.353 175.853 728.483 Q175.853 735.589 177.658 739.154 Q179.487 742.696 183.098 742.696 Q186.732 742.696 188.538 739.154 Q190.366 735.589 190.366 728.483 Q190.366 721.353 188.538 717.812 Q186.732 714.247 183.098 714.247 M183.098 710.543 Q188.908 710.543 191.964 715.15 Q195.042 719.733 195.042 728.483 Q195.042 737.21 191.964 741.816 Q188.908 746.399 183.098 746.399 Q177.288 746.399 174.209 741.816 Q171.154 737.21 171.154 728.483 Q171.154 719.733 174.209 715.15 Q177.288 710.543 183.098 710.543 Z\" fill=\"#000000\" fill-rule=\"nonzero\" fill-opacity=\"1\" /><path clip-path=\"url(#clip280)\" d=\"M213.26 714.247 Q209.649 714.247 207.82 717.812 Q206.014 721.353 206.014 728.483 Q206.014 735.589 207.82 739.154 Q209.649 742.696 213.26 742.696 Q216.894 742.696 218.7 739.154 Q220.528 735.589 220.528 728.483 Q220.528 721.353 218.7 717.812 Q216.894 714.247 213.26 714.247 M213.26 710.543 Q219.07 710.543 222.125 715.15 Q225.204 719.733 225.204 728.483 Q225.204 737.21 222.125 741.816 Q219.07 746.399 213.26 746.399 Q207.45 746.399 204.371 741.816 Q201.315 737.21 201.315 728.483 Q201.315 719.733 204.371 715.15 Q207.45 710.543 213.26 710.543 Z\" fill=\"#000000\" fill-rule=\"nonzero\" fill-opacity=\"1\" /><path clip-path=\"url(#clip280)\" d=\"M243.422 714.247 Q239.811 714.247 237.982 717.812 Q236.176 721.353 236.176 728.483 Q236.176 735.589 237.982 739.154 Q239.811 742.696 243.422 742.696 Q247.056 742.696 248.861 739.154 Q250.69 735.589 250.69 728.483 Q250.69 721.353 248.861 717.812 Q247.056 714.247 243.422 714.247 M243.422 710.543 Q249.232 710.543 252.287 715.15 Q255.366 719.733 255.366 728.483 Q255.366 737.21 252.287 741.816 Q249.232 746.399 243.422 746.399 Q237.611 746.399 234.533 741.816 Q231.477 737.21 231.477 728.483 Q231.477 719.733 234.533 715.15 Q237.611 710.543 243.422 710.543 Z\" fill=\"#000000\" fill-rule=\"nonzero\" fill-opacity=\"1\" /><path clip-path=\"url(#clip280)\" d=\"M66.617 494.154 Q69.9735 494.871 71.8485 497.14 Q73.7466 499.408 73.7466 502.742 Q73.7466 507.857 70.2281 510.658 Q66.7096 513.459 60.2282 513.459 Q58.0523 513.459 55.7375 513.019 Q53.4458 512.603 50.9921 511.746 L50.9921 507.232 Q52.9366 508.367 55.2514 508.945 Q57.5662 509.524 60.0893 509.524 Q64.4874 509.524 66.7791 507.788 Q69.0939 506.052 69.0939 502.742 Q69.0939 499.686 66.9411 497.973 Q64.8115 496.237 60.9921 496.237 L56.9643 496.237 L56.9643 492.394 L61.1773 492.394 Q64.6263 492.394 66.455 491.029 Q68.2837 489.64 68.2837 487.047 Q68.2837 484.385 66.3856 482.973 Q64.5106 481.538 60.9921 481.538 Q59.0708 481.538 56.8717 481.955 Q54.6727 482.371 52.0338 483.251 L52.0338 479.084 Q54.6958 478.344 57.0106 477.973 Q59.3486 477.603 61.4087 477.603 Q66.7328 477.603 69.8346 480.033 Q72.9365 482.441 72.9365 486.561 Q72.9365 489.431 71.2929 491.422 Q69.6494 493.39 66.617 494.154 Z\" fill=\"#000000\" fill-rule=\"nonzero\" fill-opacity=\"1\" /><path clip-path=\"url(#clip280)\" d=\"M82.6586 478.228 L101.015 478.228 L101.015 482.163 L86.941 482.163 L86.941 490.635 Q87.9595 490.288 88.978 490.126 Q89.9965 489.941 91.0151 489.941 Q96.8021 489.941 100.182 493.112 Q103.561 496.283 103.561 501.7 Q103.561 507.279 100.089 510.38 Q96.6169 513.459 90.2975 513.459 Q88.1216 513.459 85.8531 513.089 Q83.6077 512.718 81.2003 511.978 L81.2003 507.279 Q83.2836 508.413 85.5058 508.968 Q87.728 509.524 90.2049 509.524 Q94.2095 509.524 96.5474 507.418 Q98.8854 505.311 98.8854 501.7 Q98.8854 498.089 96.5474 495.982 Q94.2095 493.876 90.2049 493.876 Q88.3299 493.876 86.4549 494.293 Q84.6031 494.709 82.6586 495.589 L82.6586 478.228 Z\" fill=\"#000000\" fill-rule=\"nonzero\" fill-opacity=\"1\" /><path clip-path=\"url(#clip280)\" d=\"M112.82 478.228 L131.177 478.228 L131.177 482.163 L117.103 482.163 L117.103 490.635 Q118.121 490.288 119.14 490.126 Q120.158 489.941 121.177 489.941 Q126.964 489.941 130.344 493.112 Q133.723 496.283 133.723 501.7 Q133.723 507.279 130.251 510.38 Q126.779 513.459 120.459 513.459 Q118.283 513.459 116.015 513.089 Q113.77 512.718 111.362 511.978 L111.362 507.279 Q113.445 508.413 115.668 508.968 Q117.89 509.524 120.367 509.524 Q124.371 509.524 126.709 507.418 Q129.047 505.311 129.047 501.7 Q129.047 498.089 126.709 495.982 Q124.371 493.876 120.367 493.876 Q118.492 493.876 116.617 494.293 Q114.765 494.709 112.82 495.589 L112.82 478.228 Z\" fill=\"#000000\" fill-rule=\"nonzero\" fill-opacity=\"1\" /><path clip-path=\"url(#clip280)\" d=\"M157.103 494.154 Q160.459 494.871 162.334 497.14 Q164.232 499.408 164.232 502.742 Q164.232 507.857 160.714 510.658 Q157.195 513.459 150.714 513.459 Q148.538 513.459 146.223 513.019 Q143.931 512.603 141.478 511.746 L141.478 507.232 Q143.422 508.367 145.737 508.945 Q148.052 509.524 150.575 509.524 Q154.973 509.524 157.265 507.788 Q159.58 506.052 159.58 502.742 Q159.58 499.686 157.427 497.973 Q155.297 496.237 151.478 496.237 L147.45 496.237 L147.45 492.394 L151.663 492.394 Q155.112 492.394 156.941 491.029 Q158.769 489.64 158.769 487.047 Q158.769 484.385 156.871 482.973 Q154.996 481.538 151.478 481.538 Q149.556 481.538 147.357 481.955 Q145.158 482.371 142.519 483.251 L142.519 479.084 Q145.181 478.344 147.496 477.973 Q149.834 477.603 151.894 477.603 Q157.218 477.603 160.32 480.033 Q163.422 482.441 163.422 486.561 Q163.422 489.431 161.779 491.422 Q160.135 493.39 157.103 494.154 Z\" fill=\"#000000\" fill-rule=\"nonzero\" fill-opacity=\"1\" /><path clip-path=\"url(#clip280)\" d=\"M173.144 478.228 L191.501 478.228 L191.501 482.163 L177.427 482.163 L177.427 490.635 Q178.445 490.288 179.464 490.126 Q180.482 489.941 181.501 489.941 Q187.288 489.941 190.667 493.112 Q194.047 496.283 194.047 501.7 Q194.047 507.279 190.575 510.38 Q187.103 513.459 180.783 513.459 Q178.607 513.459 176.339 513.089 Q174.093 512.718 171.686 511.978 L171.686 507.279 Q173.769 508.413 175.991 508.968 Q178.214 509.524 180.691 509.524 Q184.695 509.524 187.033 507.418 Q189.371 505.311 189.371 501.7 Q189.371 498.089 187.033 495.982 Q184.695 493.876 180.691 493.876 Q178.816 493.876 176.941 494.293 Q175.089 494.709 173.144 495.589 L173.144 478.228 Z\" fill=\"#000000\" fill-rule=\"nonzero\" fill-opacity=\"1\" /><path clip-path=\"url(#clip280)\" d=\"M213.26 481.307 Q209.649 481.307 207.82 484.871 Q206.014 488.413 206.014 495.543 Q206.014 502.649 207.82 506.214 Q209.649 509.755 213.26 509.755 Q216.894 509.755 218.7 506.214 Q220.528 502.649 220.528 495.543 Q220.528 488.413 218.7 484.871 Q216.894 481.307 213.26 481.307 M213.26 477.603 Q219.07 477.603 222.125 482.209 Q225.204 486.793 225.204 495.543 Q225.204 504.269 222.125 508.876 Q219.07 513.459 213.26 513.459 Q207.45 513.459 204.371 508.876 Q201.315 504.269 201.315 495.543 Q201.315 486.793 204.371 482.209 Q207.45 477.603 213.26 477.603 Z\" fill=\"#000000\" fill-rule=\"nonzero\" fill-opacity=\"1\" /><path clip-path=\"url(#clip280)\" d=\"M243.422 481.307 Q239.811 481.307 237.982 484.871 Q236.176 488.413 236.176 495.543 Q236.176 502.649 237.982 506.214 Q239.811 509.755 243.422 509.755 Q247.056 509.755 248.861 506.214 Q250.69 502.649 250.69 495.543 Q250.69 488.413 248.861 484.871 Q247.056 481.307 243.422 481.307 M243.422 477.603 Q249.232 477.603 252.287 482.209 Q255.366 486.793 255.366 495.543 Q255.366 504.269 252.287 508.876 Q249.232 513.459 243.422 513.459 Q237.611 513.459 234.533 508.876 Q231.477 504.269 231.477 495.543 Q231.477 486.793 234.533 482.209 Q237.611 477.603 243.422 477.603 Z\" fill=\"#000000\" fill-rule=\"nonzero\" fill-opacity=\"1\" /><path clip-path=\"url(#clip280)\" d=\"M66.617 261.213 Q69.9735 261.931 71.8485 264.2 Q73.7466 266.468 73.7466 269.801 Q73.7466 274.917 70.2281 277.718 Q66.7096 280.519 60.2282 280.519 Q58.0523 280.519 55.7375 280.079 Q53.4458 279.662 50.9921 278.806 L50.9921 274.292 Q52.9366 275.426 55.2514 276.005 Q57.5662 276.584 60.0893 276.584 Q64.4874 276.584 66.7791 274.848 Q69.0939 273.112 69.0939 269.801 Q69.0939 266.746 66.9411 265.033 Q64.8115 263.297 60.9921 263.297 L56.9643 263.297 L56.9643 259.454 L61.1773 259.454 Q64.6263 259.454 66.455 258.088 Q68.2837 256.7 68.2837 254.107 Q68.2837 251.445 66.3856 250.033 Q64.5106 248.598 60.9921 248.598 Q59.0708 248.598 56.8717 249.014 Q54.6727 249.431 52.0338 250.311 L52.0338 246.144 Q54.6958 245.403 57.0106 245.033 Q59.3486 244.663 61.4087 244.663 Q66.7328 244.663 69.8346 247.093 Q72.9365 249.501 72.9365 253.621 Q72.9365 256.491 71.2929 258.482 Q69.6494 260.45 66.617 261.213 Z\" fill=\"#000000\" fill-rule=\"nonzero\" fill-opacity=\"1\" /><path clip-path=\"url(#clip280)\" d=\"M82.6586 245.288 L101.015 245.288 L101.015 249.223 L86.941 249.223 L86.941 257.695 Q87.9595 257.348 88.978 257.186 Q89.9965 257.001 91.0151 257.001 Q96.8021 257.001 100.182 260.172 Q103.561 263.343 103.561 268.76 Q103.561 274.338 100.089 277.44 Q96.6169 280.519 90.2975 280.519 Q88.1216 280.519 85.8531 280.149 Q83.6077 279.778 81.2003 279.037 L81.2003 274.338 Q83.2836 275.473 85.5058 276.028 Q87.728 276.584 90.2049 276.584 Q94.2095 276.584 96.5474 274.477 Q98.8854 272.371 98.8854 268.76 Q98.8854 265.149 96.5474 263.042 Q94.2095 260.936 90.2049 260.936 Q88.3299 260.936 86.4549 261.352 Q84.6031 261.769 82.6586 262.649 L82.6586 245.288 Z\" fill=\"#000000\" fill-rule=\"nonzero\" fill-opacity=\"1\" /><path clip-path=\"url(#clip280)\" d=\"M112.82 245.288 L131.177 245.288 L131.177 249.223 L117.103 249.223 L117.103 257.695 Q118.121 257.348 119.14 257.186 Q120.158 257.001 121.177 257.001 Q126.964 257.001 130.344 260.172 Q133.723 263.343 133.723 268.76 Q133.723 274.338 130.251 277.44 Q126.779 280.519 120.459 280.519 Q118.283 280.519 116.015 280.149 Q113.77 279.778 111.362 279.037 L111.362 274.338 Q113.445 275.473 115.668 276.028 Q117.89 276.584 120.367 276.584 Q124.371 276.584 126.709 274.477 Q129.047 272.371 129.047 268.76 Q129.047 265.149 126.709 263.042 Q124.371 260.936 120.367 260.936 Q118.492 260.936 116.617 261.352 Q114.765 261.769 112.82 262.649 L112.82 245.288 Z\" fill=\"#000000\" fill-rule=\"nonzero\" fill-opacity=\"1\" /><path clip-path=\"url(#clip280)\" d=\"M155.783 249.362 L143.978 267.811 L155.783 267.811 L155.783 249.362 M154.556 245.288 L160.436 245.288 L160.436 267.811 L165.367 267.811 L165.367 271.7 L160.436 271.7 L160.436 279.848 L155.783 279.848 L155.783 271.7 L140.181 271.7 L140.181 267.186 L154.556 245.288 Z\" fill=\"#000000\" fill-rule=\"nonzero\" fill-opacity=\"1\" /><path clip-path=\"url(#clip280)\" d=\"M183.098 248.366 Q179.487 248.366 177.658 251.931 Q175.853 255.473 175.853 262.602 Q175.853 269.709 177.658 273.274 Q179.487 276.815 183.098 276.815 Q186.732 276.815 188.538 273.274 Q190.366 269.709 190.366 262.602 Q190.366 255.473 188.538 251.931 Q186.732 248.366 183.098 248.366 M183.098 244.663 Q188.908 244.663 191.964 249.269 Q195.042 253.852 195.042 262.602 Q195.042 271.329 191.964 275.936 Q188.908 280.519 183.098 280.519 Q177.288 280.519 174.209 275.936 Q171.154 271.329 171.154 262.602 Q171.154 253.852 174.209 249.269 Q177.288 244.663 183.098 244.663 Z\" fill=\"#000000\" fill-rule=\"nonzero\" fill-opacity=\"1\" /><path clip-path=\"url(#clip280)\" d=\"M213.26 248.366 Q209.649 248.366 207.82 251.931 Q206.014 255.473 206.014 262.602 Q206.014 269.709 207.82 273.274 Q209.649 276.815 213.26 276.815 Q216.894 276.815 218.7 273.274 Q220.528 269.709 220.528 262.602 Q220.528 255.473 218.7 251.931 Q216.894 248.366 213.26 248.366 M213.26 244.663 Q219.07 244.663 222.125 249.269 Q225.204 253.852 225.204 262.602 Q225.204 271.329 222.125 275.936 Q219.07 280.519 213.26 280.519 Q207.45 280.519 204.371 275.936 Q201.315 271.329 201.315 262.602 Q201.315 253.852 204.371 249.269 Q207.45 244.663 213.26 244.663 Z\" fill=\"#000000\" fill-rule=\"nonzero\" fill-opacity=\"1\" /><path clip-path=\"url(#clip280)\" d=\"M243.422 248.366 Q239.811 248.366 237.982 251.931 Q236.176 255.473 236.176 262.602 Q236.176 269.709 237.982 273.274 Q239.811 276.815 243.422 276.815 Q247.056 276.815 248.861 273.274 Q250.69 269.709 250.69 262.602 Q250.69 255.473 248.861 251.931 Q247.056 248.366 243.422 248.366 M243.422 244.663 Q249.232 244.663 252.287 249.269 Q255.366 253.852 255.366 262.602 Q255.366 271.329 252.287 275.936 Q249.232 280.519 243.422 280.519 Q237.611 280.519 234.533 275.936 Q231.477 271.329 231.477 262.602 Q231.477 253.852 234.533 249.269 Q237.611 244.663 243.422 244.663 Z\" fill=\"#000000\" fill-rule=\"nonzero\" fill-opacity=\"1\" /><circle clip-path=\"url(#clip282)\" cx=\"349.707\" cy=\"1217.22\" r=\"14.4\" fill=\"#009af9\" fill-rule=\"evenodd\" fill-opacity=\"1\" stroke=\"#000000\" stroke-opacity=\"1\" stroke-width=\"3.2\"/>\n",
       "<circle clip-path=\"url(#clip282)\" cx=\"452.06\" cy=\"1445.72\" r=\"14.4\" fill=\"#009af9\" fill-rule=\"evenodd\" fill-opacity=\"1\" stroke=\"#000000\" stroke-opacity=\"1\" stroke-width=\"3.2\"/>\n",
       "<circle clip-path=\"url(#clip282)\" cx=\"759.119\" cy=\"283.268\" r=\"14.4\" fill=\"#009af9\" fill-rule=\"evenodd\" fill-opacity=\"1\" stroke=\"#000000\" stroke-opacity=\"1\" stroke-width=\"3.2\"/>\n",
       "<circle clip-path=\"url(#clip282)\" cx=\"1270.88\" cy=\"87.9763\" r=\"14.4\" fill=\"#009af9\" fill-rule=\"evenodd\" fill-opacity=\"1\" stroke=\"#000000\" stroke-opacity=\"1\" stroke-width=\"3.2\"/>\n",
       "<circle clip-path=\"url(#clip282)\" cx=\"2294.41\" cy=\"113.242\" r=\"14.4\" fill=\"#009af9\" fill-rule=\"evenodd\" fill-opacity=\"1\" stroke=\"#000000\" stroke-opacity=\"1\" stroke-width=\"3.2\"/>\n",
       "<path clip-path=\"url(#clip280)\" d=\"M2025.47 1438.47 L2284.04 1438.47 L2284.04 1334.79 L2025.47 1334.79  Z\" fill=\"#ffffff\" fill-rule=\"evenodd\" fill-opacity=\"1\"/>\n",
       "<polyline clip-path=\"url(#clip280)\" style=\"stroke:#000000; stroke-linecap:round; stroke-linejoin:round; stroke-width:4; stroke-opacity:1; fill:none\" points=\"2025.47,1438.47 2284.04,1438.47 2284.04,1334.79 2025.47,1334.79 2025.47,1438.47 \"/>\n",
       "<circle clip-path=\"url(#clip280)\" cx=\"2117.09\" cy=\"1386.63\" r=\"20.48\" fill=\"#009af9\" fill-rule=\"evenodd\" fill-opacity=\"1\" stroke=\"#000000\" stroke-opacity=\"1\" stroke-width=\"4.55111\"/>\n",
       "<path clip-path=\"url(#clip280)\" d=\"M2222.55 1406.32 Q2220.75 1410.95 2219.03 1412.36 Q2217.32 1413.78 2214.45 1413.78 L2211.05 1413.78 L2211.05 1410.21 L2213.55 1410.21 Q2215.31 1410.21 2216.28 1409.38 Q2217.25 1408.54 2218.43 1405.44 L2219.19 1403.5 L2208.71 1377.99 L2213.22 1377.99 L2221.32 1398.27 L2229.43 1377.99 L2233.94 1377.99 L2222.55 1406.32 Z\" fill=\"#000000\" fill-rule=\"nonzero\" fill-opacity=\"1\" /><path clip-path=\"url(#clip280)\" d=\"M2241.23 1399.98 L2248.87 1399.98 L2248.87 1373.61 L2240.56 1375.28 L2240.56 1371.02 L2248.82 1369.35 L2253.5 1369.35 L2253.5 1399.98 L2261.14 1399.98 L2261.14 1403.91 L2241.23 1403.91 L2241.23 1399.98 Z\" fill=\"#000000\" fill-rule=\"nonzero\" fill-opacity=\"1\" /></svg>\n"
      ]
     },
     "metadata": {},
     "output_type": "display_data"
    }
   ],
   "source": [
    "scatter(N_values, lower_bound)"
   ]
  },
  {
   "cell_type": "code",
   "execution_count": 16,
   "metadata": {},
   "outputs": [],
   "source": []
  }
 ],
 "metadata": {
  "kernelspec": {
   "display_name": "Julia 1.9.0",
   "language": "julia",
   "name": "julia-1.9"
  },
  "language_info": {
   "file_extension": ".jl",
   "mimetype": "application/julia",
   "name": "julia",
   "version": "1.9.0"
  },
  "orig_nbformat": 4
 },
 "nbformat": 4,
 "nbformat_minor": 2
}
