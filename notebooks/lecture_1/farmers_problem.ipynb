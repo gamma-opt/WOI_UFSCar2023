{
 "cells": [
  {
   "cell_type": "markdown",
   "id": "ff4f0fbd",
   "metadata": {},
   "source": [
    "# Example 1 - The farmer's problem\n",
    "\n",
    "Recall the farmers problems, who is trying to determine what is the best land allocation for her crops given the uncertainty in the production yield.\n"
   ]
  },
  {
   "cell_type": "code",
   "execution_count": 16,
   "id": "5c38ba25-8e4a-449e-94bb-37c1f1d1cfdf",
   "metadata": {},
   "outputs": [],
   "source": [
    "# Loading the packages we need\n",
    "using JuMP \n",
    "using Gurobi"
   ]
  },
  {
   "cell_type": "markdown",
   "id": "5c3d9318",
   "metadata": {},
   "source": [
    "The deterministic data for the problem is as below:"
   ]
  },
  {
   "cell_type": "code",
   "execution_count": null,
   "id": "a6e9eca2-b024-4145-9ceb-e4f635278536",
   "metadata": {},
   "outputs": [],
   "source": [
    "max_area = 500.0;\n",
    "crops = [:wheat, :corn, :sugar_beet];\n",
    "plant_cost = Dict(\n",
    "    :wheat      => 150.0,\n",
    "    :corn       => 230.0,\n",
    "    :sugar_beet => 260.0\n",
    ");\n",
    "min_qt = Dict(\n",
    "    :wheat      => 200.0,\n",
    "    :corn       => 240.0,\n",
    "    :sugar_beet => 0.0\n",
    ");\n",
    "\n",
    "quota_max = Dict(\n",
    "    :wheat      => 200000, # This is large enough to not limit production\n",
    "    :corn       => 200000, \n",
    "    :sugar_beet => 6000.0\n",
    ");\n",
    "\n",
    "sell_quota = Dict(\n",
    "    :wheat      => 170.0,\n",
    "    :corn       => 150.0,\n",
    "    :sugar_beet => 36.0\n",
    ");\n",
    "\n",
    "sell_above = Dict(\n",
    "    :wheat      => 0.0,\n",
    "    :corn       => 0.0,\n",
    "    :sugar_beet => 10.0\n",
    ");\n",
    "\n",
    "buy_price = Dict(\n",
    "    :wheat      => 238.0,\n",
    "    :corn       => 210.0,\n",
    "    :sugar_beet => 1000.0\n",
    ");\n",
    "\n",
    "mean_yield = Dict(\n",
    "    :wheat      => 2.5,\n",
    "    :corn       => 3.0,\n",
    "    :sugar_beet => 20.0\n",
    ");"
   ]
  },
  {
   "cell_type": "markdown",
   "id": "56f67c14",
   "metadata": {},
   "source": [
    "The deterministic model has the following formulation:\n",
    "\n",
    "Let $I=\\{1:\\text{wheat}, 2:\\text{corn}, 3:\\text{sugar beets}\\}$. Then\n",
    "- $x_i$\t- acres devoted to $i$\n",
    "- $y_i$ - tons of $i$ purchased, $i \\in I \\setminus \\{3\\}$\n",
    "- $w_i$ - tons of $i$ sold, $i \\in I \\cup \\{4\\}$, $\\{4: \\text{sugar beets (over quota)}\\}$.\n",
    "\t\n",
    "The farmer's problem is:\n",
    "\n",
    "\\begin{align*}\n",
    "    \\min & 150x_1 + 230 x_2 + 260 x_3 + 238 y_1 + 210 y_2 \\\\ & - 170 w_1 - 150 w_2 - 36 w_3 - 10w_4 \\\\\n",
    "    \\text{s.t.:~} & x_1 + x_2 + x_3 \\le 500 \\\\\n",
    "    & 2.5x_1 + y_1 - w_1 \\ge 200 \\\\\n",
    "    & 3 x_2 + y_2 - w_2 \\ge 240 \\\\\n",
    "    & w_3 + w_4 \\le 20x_3 \\\\\n",
    "    & w_3 \\le 6000 \\\\\n",
    "    & x_i \\ge 0, i \\in I; y_i \\ge 0, i \\in I \\setminus \\{3\\}; w_i \\ge 0, i \\in I \\cup \\{4\\}.\n",
    "\\end{align*}\n"
   ]
  },
  {
   "cell_type": "code",
   "execution_count": null,
   "id": "65ded54c-99f9-4d5f-b272-02aa8b2809e8",
   "metadata": {},
   "outputs": [],
   "source": [
    "fm_mean = Model(Gurobi.Optimizer)\n",
    "\n",
    "@variable(fm_mean, x[c ∈ crops] ≥ 0)     # Planted area per crop\n",
    "@variable(fm_mean, y[c ∈ crops] ≥ 0)     # Quantity sold below the quota\n",
    "@variable(fm_mean, w[c ∈ crops] ≥ 0)     # Quantity sold above the quota (restricted by the max quota)\n",
    "@variable(fm_mean, z[c ∈ crops] ≥ 0)     # Quantity bought\n",
    "\n",
    "@constraint(fm_mean, sum(x[c] for c ∈ crops) ≤ max_area)   \n",
    "@constraint(fm_mean, [c ∈ crops], x[c] * mean_yield[c] + z[c] - y[c] - w[c] ≥  min_qt[c])                                                            \n",
    "@constraint(fm_mean, [c ∈ crops], y[c] ≤ quota_max[c])    \n",
    "\n",
    "@expression(fm_mean, cost_det, sum(plant_cost[c] * x[c] for c ∈ crops))\n",
    "@expression(fm_mean, cost_sto, sum((buy_price[c] * z[c] - sell_quota[c]*y[c] - sell_above[c] * w[c]) for c ∈ crops))       \n",
    "\n",
    "@objective(fm_mean, Min, cost_det + cost_sto);"
   ]
  },
  {
   "cell_type": "markdown",
   "id": "80313927",
   "metadata": {},
   "source": [
    "We can check the mode to see if we got it right."
   ]
  },
  {
   "cell_type": "code",
   "execution_count": null,
   "id": "a173ae93",
   "metadata": {},
   "outputs": [],
   "source": [
    "# Checking the model\n",
    "print(fm_mean)"
   ]
  },
  {
   "cell_type": "markdown",
   "id": "1fedf5e7",
   "metadata": {},
   "source": [
    "We can then optimise the model"
   ]
  },
  {
   "cell_type": "code",
   "execution_count": null,
   "id": "d1b0b69d-78df-406e-847a-8a81779fb162",
   "metadata": {},
   "outputs": [],
   "source": [
    "optimize!(fm_mean);"
   ]
  },
  {
   "cell_type": "code",
   "execution_count": null,
   "id": "a683985a-b679-4a8a-a0af-e02d8f74eb82",
   "metadata": {},
   "outputs": [],
   "source": [
    "sol_plant_mean = round.(value.(x),digits=2)                 # Areas planted\n",
    "sol_bought_mean = round.(value.(z),digits=2)                # Quantities bought\n",
    "sol_sold_bq_mean = round.(value.(y),digits=2)               # Sold below quota\n",
    "sol_sold_aq_mean = round.(value.(w),digits=2)               # Sold above quota\n",
    "obj_mean = objective_value(fm_mean)\n",
    "\n",
    "println(\"crops = \", crops)\n",
    "println(\"sol_plant_mean = \",[sol_plant_mean[c] for c in crops])\n",
    "println(\"sol_bought_mean = \",[sol_bought_mean[c] for c in crops])\n",
    "println(\"sol_sold_bq_mean = \",[sol_sold_bq_mean[c] for c in crops])\n",
    "println(\"sol_sold_aq_mean = \",[sol_sold_aq_mean[c] for c in crops])\n",
    "println(\"obj = \", obj_mean)"
   ]
  },
  {
   "cell_type": "markdown",
   "id": "ef03ab7f",
   "metadata": {},
   "source": [
    "Let us now generate the scenarios for the yields. We assume that all scenarios have the same probability 1/3 with `:good` being +20% above and `:bad` being 20% below the `:mean` scenario.  "
   ]
  },
  {
   "cell_type": "code",
   "execution_count": null,
   "id": "034cb0e5-c49b-4e7d-b273-9cf6a620ba32",
   "metadata": {},
   "outputs": [],
   "source": [
    "scenarios = [:good, :mean, :bad];\n",
    "yield_sto = Dict(\n",
    "    :good => 1.2,\n",
    "    :mean => 1,\n",
    "    :bad  => 0.8\n",
    ")\n",
    "\n",
    "prob = Dict(\n",
    "    :good => 1/3,\n",
    "    :mean => 1/3,\n",
    "    :bad  => 1/3\n",
    ");"
   ]
  },
  {
   "cell_type": "markdown",
   "id": "9ea21e7a",
   "metadata": {},
   "source": [
    "We can adapt the formulation accordingly. Notice the new set/ indices refering to the scenarios. Also, the variables are now indexed by `s in scenario` accordingly."
   ]
  },
  {
   "cell_type": "code",
   "execution_count": null,
   "id": "91aeefc0-6d7b-47d0-ac1f-762d87ec2bd2",
   "metadata": {},
   "outputs": [],
   "source": [
    "fm = Model(Gurobi.Optimizer)\n",
    "@variable(fm, x[c ∈ crops] ≥ 0)                                              \n",
    "@constraint(fm, sum(x[c] for c ∈ crops) ≤ max_area)                           \n",
    "@expression(fm, first_cost, sum(plant_cost[c] * x[c] for c ∈ crops))             \n",
    "\n",
    "@variable(fm, y[c ∈ crops, s ∈ scenarios] ≥ 0)                                \n",
    "@variable(fm, w[c ∈ crops, s ∈ scenarios] ≥ 0)                                \n",
    "@variable(fm, z[c ∈ crops, s ∈ scenarios] ≥ 0)                               \n",
    "\n",
    "@constraint(fm, [c ∈ crops, s ∈ scenarios],                                   \n",
    "    x[c] * (mean_yield[c] * yield_sto[s]) + z[c,s] - y[c,s] - w[c,s] ≥ min_qt[c]\n",
    ")                                                                \n",
    "@constraint(fm, [c ∈ crops,s ∈ scenarios], y[c,s] ≤ quota_max[c])                                                   \n",
    "\n",
    "@expression(fm, second_cost[s ∈ scenarios],\n",
    "            sum(buy_price[c] * z[c,s] - sell_quota[c] * y[c,s] - sell_above[c] * w[c,s] \n",
    "                for c ∈ crops)\n",
    ")\n",
    "\n",
    "@objective(fm, Min, first_cost + sum(prob[s] * second_cost[s] for s ∈ scenarios));\n"
   ]
  },
  {
   "cell_type": "code",
   "execution_count": null,
   "id": "5adbd75c",
   "metadata": {},
   "outputs": [],
   "source": [
    "# Checking the model\n",
    "print(fm)"
   ]
  },
  {
   "cell_type": "code",
   "execution_count": null,
   "id": "c8be5147-3aea-4493-91f9-d4f7c817157f",
   "metadata": {},
   "outputs": [],
   "source": [
    "optimize!(fm);"
   ]
  },
  {
   "cell_type": "code",
   "execution_count": null,
   "id": "736245d2-ee9b-4715-a120-423355011188",
   "metadata": {},
   "outputs": [],
   "source": [
    "sol_plant = round.(value.(x),digits=2)          # Areas planted\n",
    "sol_bought = round.(value.(z),digits=2)         # Quantities bought\n",
    "sol_sold_bq = round.(value.(y),digits=2)        # Sold below quota\n",
    "sol_sold_aq = round.(value.(w),digits=2);       # Sold above quota\n",
    "obj = objective_value(fm)\n",
    "\n",
    "println(\"sol_plant = \", [sol_plant[c] for c in crops])\n",
    "println(\"obj = \", obj)\n",
    "for s in scenarios\n",
    "    println(\"scenario: \", s)\n",
    "    println(\"   crops = \", crops)\n",
    "    println(\"   sol_bought = \", [sol_bought[c,s] for c in crops])\n",
    "    println(\"   sol_sold_bq = \", [sol_sold_bq[c,s] for c in crops])\n",
    "    println(\"   sol_sold_aq = \",[sol_sold_aq[c,s] for c in crops])\n",
    "end    "
   ]
  },
  {
   "cell_type": "markdown",
   "id": "87c7243b-a8ca-4ea9-829a-37e9eda06dc7",
   "metadata": {},
   "source": [
    "## Value of stochastic solution\n",
    "\n",
    "To calculate the value of stochastic solution, we need to compare the \n",
    "1. performance between the solution we obtain considering only one scenario (`:mean` scenario in our case), \n",
    "$z^{\\text{EV}} = \\mathbb{E}_\\xi\\left[F(x(\\overline{\\xi}), \\xi)\\right],$ where $x(\\overline{\\xi}) = \\argmin_x F(x, \\overline{\\xi})$ and $\\overline{\\xi}$ is the `:mean` scenario;\n",
    "2. and that of the stochastic model.\n",
    "\n",
    "For (1), we can simply add a constraint to the stochastic model that forces the first-stage solution to be the same of model with the average scenario only."
   ]
  },
  {
   "cell_type": "code",
   "execution_count": null,
   "id": "e18ecdec-2bc3-4e5b-ba3a-9aded5f7eb45",
   "metadata": {},
   "outputs": [],
   "source": [
    "# Forms the EEV problem\n",
    "@constraint(fm, [c in crops], x[c] == sol_plant_mean[c]);  \n",
    "optimize!(fm);\n",
    "\n",
    "println(\"EEV value = \", objective_value(fm))\n",
    "println(\"VSS = \", obj - objective_value(fm))"
   ]
  },
  {
   "cell_type": "markdown",
   "id": "2d2baa16-67a4-4d1b-a04c-53a543e990cc",
   "metadata": {},
   "source": [
    "## Expected Value of Perfect Information\n",
    "\n",
    "To calculate the EVPI, we need to calculate the fully anticipative solution, meaninn that we need to calculate\n",
    "\\begin{equation*}\n",
    "    z^{\\text{WS}} = \\mathbb{E}_\\xi\\left[ \\min_x \\{F(x,\\xi)\\} \\right] = \\mathbb{E}_\\xi\\left[F(x(\\xi), \\xi)\\right],\n",
    "\\end{equation*}\n",
    "\n",
    "This consists of calculating the optimal solution for each scenario, and then take the expected value.\n",
    "\n",
    "Firest, let us solve again our stochastic model to refresh it to its original form:"
   ]
  },
  {
   "cell_type": "code",
   "execution_count": null,
   "id": "726eaa92-f17e-4c3e-a4c5-022494bac8f0",
   "metadata": {},
   "outputs": [],
   "source": [
    "# Restart the 2SSP model (C&P from above)\n",
    "fm = Model(Gurobi.Optimizer)\n",
    "set_silent(fm)\n",
    "@variable(fm, x[c ∈ crops] ≥ 0)                                              \n",
    "@constraint(fm, sum(x[c] for c ∈ crops) ≤ max_area)                           \n",
    "@expression(fm, first_cost, sum(plant_cost[c] * x[c] for c ∈ crops))             \n",
    "\n",
    "@variable(fm, y[c ∈ crops, s ∈ scenarios] ≥ 0)                                \n",
    "@variable(fm, w[c ∈ crops, s ∈ scenarios] ≥ 0)                                \n",
    "@variable(fm, z[c ∈ crops, s ∈ scenarios] ≥ 0)                               \n",
    "\n",
    "@constraint(fm, [c ∈ crops, s ∈ scenarios],                                   \n",
    "    x[c] * (mean_yield[c] * yield_sto[s]) + z[c,s] - y[c,s] - w[c,s] ≥ min_qt[c]\n",
    ")                                                                \n",
    "@constraint(fm, [c ∈ crops,s ∈ scenarios], y[c,s] ≤ quota_max[c])                                                   \n",
    "\n",
    "@expression(fm, second_cost[s ∈ scenarios],\n",
    "            sum(buy_price[c] * z[c,s] - sell_quota[c] * y[c,s] - sell_above[c] * w[c,s] \n",
    "                for c ∈ crops)\n",
    ")\n",
    "\n",
    "@objective(fm, Min, first_cost + sum(prob[s] * second_cost[s] for s ∈ scenarios));"
   ]
  },
  {
   "cell_type": "code",
   "execution_count": null,
   "id": "cce63180-bd57-478b-b4e8-e4108c4b6512",
   "metadata": {},
   "outputs": [],
   "source": [
    "optimize!(fm);\n",
    "obj = objective_value(fm)"
   ]
  },
  {
   "cell_type": "markdown",
   "id": "dd4458c5",
   "metadata": {},
   "source": [
    "Our trick to calculate the WS solution is to use an auxiliary probability vector `aux_prob` that we can \"mess with\". \n",
    "\n",
    "That means, we first zero the dictionary containing the probability and then, for each scenario, we set that scenario to have probability 1. We then accumulate the value in the `WS` auxiliary variable, multiplied by the original probability."
   ]
  },
  {
   "cell_type": "code",
   "execution_count": null,
   "id": "40e9fb73-b02a-403e-8bb8-bd41916137d9",
   "metadata": {},
   "outputs": [],
   "source": [
    "# Calculating WS\n",
    "aux_prob = copy(prob)\n",
    "WS = 0.0\n",
    "\n",
    "for (key, value) in aux_prob\n",
    "    aux_prob[key] = 0\n",
    "end\n",
    "\n",
    "for (key, value) in prob\n",
    "    aux_prob[key] = 1\n",
    "    @objective(fm, Min, first_cost + sum(aux_prob[s] * second_cost[s] for s in scenarios))\n",
    "    optimize!(fm)\n",
    "    WS += prob[key] * objective_value(fm)\n",
    "    aux_prob[key] = 0\n",
    "end\n",
    "\n",
    "println(\"The WS value is: \", WS)\n",
    "println(\"EVPI is: \", WS - obj)"
   ]
  }
 ],
 "metadata": {
  "kernelspec": {
   "display_name": "Julia 1.9.0",
   "language": "julia",
   "name": "julia-1.9"
  },
  "language_info": {
   "file_extension": ".jl",
   "mimetype": "application/julia",
   "name": "julia",
   "version": "1.9.0"
  }
 },
 "nbformat": 4,
 "nbformat_minor": 5
}
