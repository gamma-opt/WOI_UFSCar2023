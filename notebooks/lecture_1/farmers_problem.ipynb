{
 "cells": [
  {
   "cell_type": "markdown",
   "id": "ff4f0fbd",
   "metadata": {},
   "source": [
    "# Example 1 - The farmer's problem\n",
    "\n",
    "Recall the farmers problems, who is trying to determine what is the best land allocation for her crops given the uncertainty in the production yield.\n"
   ]
  },
  {
   "cell_type": "code",
   "execution_count": 16,
   "id": "5c38ba25-8e4a-449e-94bb-37c1f1d1cfdf",
   "metadata": {},
   "outputs": [],
   "source": [
    "# Loading the packages we need\n",
    "using JuMP \n",
    "using Gurobi"
   ]
  },
  {
   "cell_type": "markdown",
   "id": "5c3d9318",
   "metadata": {},
   "source": [
    "The deterministic data for the problem is as below:"
   ]
  },
  {
   "cell_type": "code",
   "execution_count": 17,
   "id": "a6e9eca2-b024-4145-9ceb-e4f635278536",
   "metadata": {},
   "outputs": [],
   "source": [
    "max_area = 500.0;\n",
    "crops = [:wheat, :corn, :sugar_beet];\n",
    "plant_cost = Dict(\n",
    "    :wheat      => 150.0,\n",
    "    :corn       => 230.0,\n",
    "    :sugar_beet => 260.0\n",
    ");\n",
    "min_qt = Dict(\n",
    "    :wheat      => 200.0,\n",
    "    :corn       => 240.0,\n",
    "    :sugar_beet => 0.0\n",
    ");\n",
    "\n",
    "quota_max = Dict(\n",
    "    :wheat      => 200000, # This is large enough to not limit production\n",
    "    :corn       => 200000, \n",
    "    :sugar_beet => 6000.0\n",
    ");\n",
    "\n",
    "sell_quota = Dict(\n",
    "    :wheat      => 170.0,\n",
    "    :corn       => 150.0,\n",
    "    :sugar_beet => 36.0\n",
    ");\n",
    "\n",
    "sell_above = Dict(\n",
    "    :wheat      => 0.0,\n",
    "    :corn       => 0.0,\n",
    "    :sugar_beet => 10.0\n",
    ");\n",
    "\n",
    "buy_price = Dict(\n",
    "    :wheat      => 238.0,\n",
    "    :corn       => 210.0,\n",
    "    :sugar_beet => 1000.0\n",
    ");\n",
    "\n",
    "mean_yield = Dict(\n",
    "    :wheat      => 2.5,\n",
    "    :corn       => 3.0,\n",
    "    :sugar_beet => 20.0\n",
    ");"
   ]
  },
  {
   "cell_type": "markdown",
   "id": "56f67c14",
   "metadata": {},
   "source": [
    "The deterministic model has the following formulation:\n",
    "\n",
    "Let $I=\\{1:\\text{wheat}, 2:\\text{corn}, 3:\\text{sugar beets}\\}$. Then\n",
    "- $x_i$\t- acres devoted to $i$\n",
    "- $y_i$ - tons of $i$ purchased, $i \\in I \\setminus \\{3\\}$\n",
    "- $w_i$ - tons of $i$ sold, $i \\in I \\cup \\{4\\}$, $\\{4: \\text{sugar beets (over quota)}\\}$.\n",
    "\t\n",
    "The farmer's problem is:\n",
    "\n",
    "\\begin{align*}\n",
    "    \\min & 150x_1 + 230 x_2 + 260 x_3 + 238 y_1 + 210 y_2 \\\\ & - 170 w_1 - 150 w_2 - 36 w_3 - 10w_4 \\\\\n",
    "    \\text{s.t.:~} & x_1 + x_2 + x_3 \\le 500 \\\\\n",
    "    & 2.5x_1 + y_1 - w_1 \\ge 200 \\\\\n",
    "    & 3 x_2 + y_2 - w_2 \\ge 240 \\\\\n",
    "    & w_3 + w_4 \\le 20x_3 \\\\\n",
    "    & w_3 \\le 6000 \\\\\n",
    "    & x_i \\ge 0, i \\in I; y_i \\ge 0, i \\in I \\setminus \\{3\\}; w_i \\ge 0, i \\in I \\cup \\{4\\}.\n",
    "\\end{align*}\n"
   ]
  },
  {
   "cell_type": "code",
   "execution_count": 18,
   "id": "65ded54c-99f9-4d5f-b272-02aa8b2809e8",
   "metadata": {},
   "outputs": [
    {
     "name": "stdout",
     "output_type": "stream",
     "text": [
      "Set parameter Username\n",
      "Academic license - for non-commercial use only - expires 2023-10-03\n"
     ]
    }
   ],
   "source": [
    "fm_mean = Model(Gurobi.Optimizer)\n",
    "\n",
    "@variable(fm_mean, x[c ∈ crops] ≥ 0)     # Planted area per crop\n",
    "@variable(fm_mean, y[c ∈ crops] ≥ 0)     # Quantity sold below the quota\n",
    "@variable(fm_mean, w[c ∈ crops] ≥ 0)     # Quantity sold above the quota (restricted by the max quota)\n",
    "@variable(fm_mean, z[c ∈ crops] ≥ 0)     # Quantity bought\n",
    "\n",
    "@constraint(fm_mean, sum(x[c] for c ∈ crops) ≤ max_area)   \n",
    "@constraint(fm_mean, [c ∈ crops], x[c] * mean_yield[c] + z[c] - y[c] - w[c] ≥  min_qt[c])                                                            \n",
    "@constraint(fm_mean, [c ∈ crops], y[c] ≤ quota_max[c])    \n",
    "\n",
    "@expression(fm_mean, cost_det, sum(plant_cost[c] * x[c] for c ∈ crops))\n",
    "@expression(fm_mean, cost_sto, sum((buy_price[c] * z[c] - sell_quota[c]*y[c] - sell_above[c] * w[c]) for c ∈ crops))       \n",
    "\n",
    "@objective(fm_mean, Min, cost_det + cost_sto);"
   ]
  },
  {
   "cell_type": "markdown",
   "id": "80313927",
   "metadata": {},
   "source": [
    "We can check the mode to see if we got it right."
   ]
  },
  {
   "cell_type": "code",
   "execution_count": 19,
   "id": "a173ae93",
   "metadata": {},
   "outputs": [
    {
     "name": "stdout",
     "output_type": "stream",
     "text": [
      "Min 150 x[wheat] + 230 x[corn] + 260 x[sugar_beet] + 238 z[wheat] - 170 y[wheat] + 210 z[corn] - 150 y[corn] + 1000 z[sugar_beet] - 36 y[sugar_beet] - 10 w[sugar_beet]\n",
      "Subject to\n",
      " 2.5 x[wheat] - y[wheat] - w[wheat] + z[wheat] ≥ 200.0\n",
      " 3 x[corn] - y[corn] - w[corn] + z[corn] ≥ 240.0\n",
      " 20 x[sugar_beet] - y[sugar_beet] - w[sugar_beet] + z[sugar_beet] ≥ 0.0\n",
      " x[wheat] + x[corn] + x[sugar_beet] ≤ 500.0\n",
      " y[wheat] ≤ 200000.0\n",
      " y[corn] ≤ 200000.0\n",
      " y[sugar_beet] ≤ 6000.0\n",
      " x[wheat] ≥ 0.0\n",
      " x[corn] ≥ 0.0\n",
      " x[sugar_beet] ≥ 0.0\n",
      " y[wheat] ≥ 0.0\n",
      " y[corn] ≥ 0.0\n",
      " y[sugar_beet] ≥ 0.0\n",
      " w[wheat] ≥ 0.0\n",
      " w[corn] ≥ 0.0\n",
      " w[sugar_beet] ≥ 0.0\n",
      " z[wheat] ≥ 0.0\n",
      " z[corn] ≥ 0.0\n",
      " z[sugar_beet] ≥ 0.0\n"
     ]
    }
   ],
   "source": [
    "# Checking the model\n",
    "print(fm_mean)"
   ]
  },
  {
   "cell_type": "markdown",
   "id": "1fedf5e7",
   "metadata": {},
   "source": [
    "We can then optimise the model"
   ]
  },
  {
   "cell_type": "code",
   "execution_count": 20,
   "id": "d1b0b69d-78df-406e-847a-8a81779fb162",
   "metadata": {},
   "outputs": [
    {
     "name": "stdout",
     "output_type": "stream",
     "text": [
      "Gurobi Optimizer version 9.5.2 build v9.5.2rc0 (mac64[arm])\n",
      "Thread count: 10 physical cores, 10 logical processors, using up to 10 threads\n",
      "Optimize a model with 7 rows, 12 columns and 18 nonzeros\n",
      "Model fingerprint: 0xec2ba12d\n",
      "Coefficient statistics:\n",
      "  Matrix range     [1e+00, 2e+01]\n",
      "  Objective range  [1e+01, 1e+03]\n",
      "  Bounds range     [0e+00, 0e+00]\n",
      "  RHS range        [2e+02, 2e+05]\n",
      "Presolve removed 3 rows and 2 columns\n",
      "Presolve time: 0.00s\n",
      "Presolved: 4 rows, 10 columns, 13 nonzeros\n",
      "\n",
      "Iteration    Objective       Primal Inf.    Dual Inf.      Time\n",
      "       0   -3.2000000e+32   1.000000e+30   3.200000e+02      0s\n",
      "       3   -1.1860000e+05   0.000000e+00   0.000000e+00      0s\n",
      "\n",
      "Solved in 3 iterations and 0.00 seconds (0.00 work units)\n",
      "Optimal objective -1.186000000e+05\n",
      "\n",
      "User-callback calls 62, time in user-callback 0.00 sec\n"
     ]
    }
   ],
   "source": [
    "optimize!(fm_mean);"
   ]
  },
  {
   "cell_type": "code",
   "execution_count": 21,
   "id": "a683985a-b679-4a8a-a0af-e02d8f74eb82",
   "metadata": {},
   "outputs": [
    {
     "name": "stdout",
     "output_type": "stream",
     "text": [
      "crops = [:wheat, :corn, :sugar_beet]\n",
      "sol_plant_mean = [120.0, 80.0, 300.0]\n",
      "sol_bought_mean = [0.0, 0.0, 0.0]\n"
     ]
    },
    {
     "name": "stdout",
     "output_type": "stream",
     "text": [
      "sol_sold_bq_mean = [100.0, 0.0, 6000.0]\n",
      "sol_sold_aq_mean = [0.0, 0.0, 0.0]\n",
      "obj = -118600.0\n"
     ]
    }
   ],
   "source": [
    "sol_plant_mean = round.(value.(x),digits=2)                 # Areas planted\n",
    "sol_bought_mean = round.(value.(z),digits=2)                # Quantities bought\n",
    "sol_sold_bq_mean = round.(value.(y),digits=2)               # Sold below quota\n",
    "sol_sold_aq_mean = round.(value.(w),digits=2)               # Sold above quota\n",
    "obj_mean = objective_value(fm_mean)\n",
    "\n",
    "println(\"crops = \", crops)\n",
    "println(\"sol_plant_mean = \",[sol_plant_mean[c] for c in crops])\n",
    "println(\"sol_bought_mean = \",[sol_bought_mean[c] for c in crops])\n",
    "println(\"sol_sold_bq_mean = \",[sol_sold_bq_mean[c] for c in crops])\n",
    "println(\"sol_sold_aq_mean = \",[sol_sold_aq_mean[c] for c in crops])\n",
    "println(\"obj = \", obj_mean)"
   ]
  },
  {
   "cell_type": "markdown",
   "id": "ef03ab7f",
   "metadata": {},
   "source": [
    "Let us now generate the scenarios for the yields. We assume that all scenarios have the same probability 1/3 with `:good` being +20% above and `:bad` being 20% below the `:mean` scenario.  "
   ]
  },
  {
   "cell_type": "code",
   "execution_count": 22,
   "id": "034cb0e5-c49b-4e7d-b273-9cf6a620ba32",
   "metadata": {},
   "outputs": [],
   "source": [
    "scenarios = [:good, :mean, :bad];\n",
    "yield_sto = Dict(\n",
    "    :good => 1.2,\n",
    "    :mean => 1,\n",
    "    :bad  => 0.8\n",
    ")\n",
    "\n",
    "prob = Dict(\n",
    "    :good => 1/3,\n",
    "    :mean => 1/3,\n",
    "    :bad  => 1/3\n",
    ");"
   ]
  },
  {
   "cell_type": "markdown",
   "id": "9ea21e7a",
   "metadata": {},
   "source": [
    "We can adapt the formulation accordingly. Notice the new set/ indices refering to the scenarios. Also, the variables are now indexed by `s in scenario` accordingly."
   ]
  },
  {
   "cell_type": "code",
   "execution_count": 23,
   "id": "91aeefc0-6d7b-47d0-ac1f-762d87ec2bd2",
   "metadata": {},
   "outputs": [
    {
     "name": "stdout",
     "output_type": "stream",
     "text": [
      "Set parameter Username\n",
      "Academic license - for non-commercial use only - expires 2023-10-03\n"
     ]
    }
   ],
   "source": [
    "fm = Model(Gurobi.Optimizer)\n",
    "@variable(fm, x[c ∈ crops] ≥ 0)                                              \n",
    "@constraint(fm, sum(x[c] for c ∈ crops) ≤ max_area)                           \n",
    "@expression(fm, first_cost, sum(plant_cost[c] * x[c] for c ∈ crops))             \n",
    "\n",
    "@variable(fm, y[c ∈ crops, s ∈ scenarios] ≥ 0)                                \n",
    "@variable(fm, w[c ∈ crops, s ∈ scenarios] ≥ 0)                                \n",
    "@variable(fm, z[c ∈ crops, s ∈ scenarios] ≥ 0)                               \n",
    "\n",
    "@constraint(fm, [c ∈ crops, s ∈ scenarios],                                   \n",
    "    x[c] * (mean_yield[c] * yield_sto[s]) + z[c,s] - y[c,s] - w[c,s] ≥ min_qt[c]\n",
    ")                                                                \n",
    "@constraint(fm, [c ∈ crops,s ∈ scenarios], y[c,s] ≤ quota_max[c])                                                   \n",
    "\n",
    "@expression(fm, second_cost[s ∈ scenarios],\n",
    "            sum(buy_price[c] * z[c,s] - sell_quota[c] * y[c,s] - sell_above[c] * w[c,s] \n",
    "                for c ∈ crops)\n",
    ")\n",
    "\n",
    "@objective(fm, Min, first_cost + sum(prob[s] * second_cost[s] for s ∈ scenarios));\n"
   ]
  },
  {
   "cell_type": "code",
   "execution_count": 24,
   "id": "5adbd75c",
   "metadata": {},
   "outputs": [
    {
     "name": "stdout",
     "output_type": "stream",
     "text": [
      "Min 150 x[wheat] + 230 x[corn] + 260 x[sugar_beet] + 79.33333333333333 z[wheat,good] - 56.666666666666664 y[wheat,good] + 70 z[corn,good] - 50 y[corn,good] + 333.3333333333333 z[sugar_beet,good] - 12 y[sugar_beet,good] - 3.333333333333333 w[sugar_beet,good] + 79.33333333333333 z[wheat,mean] - 56.666666666666664 y[wheat,mean] + 70 z[corn,mean] - 50 y[corn,mean] + 333.3333333333333 z[sugar_beet,mean] - 12 y[sugar_beet,mean] - 3.333333333333333 w[sugar_beet,mean] + 79.33333333333333 z[wheat,bad] - 56.666666666666664 y[wheat,bad] + 70 z[corn,bad] - 50 y[corn,bad] + 333.3333333333333 z[sugar_beet,bad] - 12 y[sugar_beet,bad] - 3.333333333333333 w[sugar_beet,bad]\n",
      "Subject to\n",
      " 3 x[wheat] - y[wheat,good] - w[wheat,good] + z[wheat,good] ≥ 200.0\n",
      " 3.5999999999999996 x[corn] - y[corn,good] - w[corn,good] + z[corn,good] ≥ 240.0\n",
      " 24 x[sugar_beet] - y[sugar_beet,good] - w[sugar_beet,good] + z[sugar_beet,good] ≥ 0.0\n",
      " 2.5 x[wheat] - y[wheat,mean] - w[wheat,mean] + z[wheat,mean] ≥ 200.0\n",
      " 3 x[corn] - y[corn,mean] - w[corn,mean] + z[corn,mean] ≥ 240.0\n",
      " 20 x[sugar_beet] - y[sugar_beet,mean] - w[sugar_beet,mean] + z[sugar_beet,mean] ≥ 0.0\n",
      " 2 x[wheat] - y[wheat,bad] - w[wheat,bad] + z[wheat,bad] ≥ 200.0\n",
      " 2.4000000000000004 x[corn] - y[corn,bad] - w[corn,bad] + z[corn,bad] ≥ 240.0\n",
      " 16 x[sugar_beet] - y[sugar_beet,bad] - w[sugar_beet,bad] + z[sugar_beet,bad] ≥ 0.0\n",
      " x[wheat] + x[corn] + x[sugar_beet] ≤ 500.0\n",
      " y[wheat,good] ≤ 200000.0\n",
      " y[corn,good] ≤ 200000.0\n",
      " y[sugar_beet,good] ≤ 6000.0\n",
      " y[wheat,mean] ≤ 200000.0\n",
      " y[corn,mean] ≤ 200000.0\n",
      " y[sugar_beet,mean] ≤ 6000.0\n",
      " y[wheat,bad] ≤ 200000.0\n",
      " y[corn,bad] ≤ 200000.0\n",
      " y[sugar_beet,bad] ≤ 6000.0\n",
      " x[wheat] ≥ 0.0\n",
      " x[corn] ≥ 0.0\n",
      " x[sugar_beet] ≥ 0.0\n",
      " y[wheat,good] ≥ 0.0\n",
      " y[corn,good] ≥ 0.0\n",
      " y[sugar_beet,good] ≥ 0.0\n",
      " y[wheat,mean] ≥ 0.0\n",
      " y[corn,mean] ≥ 0.0\n",
      " y[sugar_beet,mean] ≥ 0.0\n",
      " y[wheat,bad] ≥ 0.0\n",
      " y[corn,bad] ≥ 0.0\n",
      " y[sugar_beet,bad] ≥ 0.0\n",
      " w[wheat,good] ≥ 0.0\n",
      " w[corn,good] ≥ 0.0\n",
      " w[sugar_beet,good] ≥ 0.0\n",
      " w[wheat,mean] ≥ 0.0\n",
      " w[corn,mean] ≥ 0.0\n",
      " w[sugar_beet,mean] ≥ 0.0\n",
      " w[wheat,bad] ≥ 0.0\n",
      " w[corn,bad] ≥ 0.0\n",
      " w[sugar_beet,bad] ≥ 0.0\n",
      " z[wheat,good] ≥ 0.0\n",
      " z[corn,good] ≥ 0.0\n",
      " z[sugar_beet,good] ≥ 0.0\n",
      " z[wheat,mean] ≥ 0.0\n",
      " z[corn,mean] ≥ 0.0\n",
      " z[sugar_beet,mean] ≥ 0.0\n",
      " z[wheat,bad] ≥ 0.0\n",
      " z[corn,bad] ≥ 0.0\n",
      " z[sugar_beet,bad] ≥ 0.0\n"
     ]
    }
   ],
   "source": [
    "# Checking the model\n",
    "print(fm)"
   ]
  },
  {
   "cell_type": "code",
   "execution_count": 25,
   "id": "c8be5147-3aea-4493-91f9-d4f7c817157f",
   "metadata": {},
   "outputs": [
    {
     "name": "stdout",
     "output_type": "stream",
     "text": [
      "Gurobi Optimizer version 9.5.2 build v9.5.2rc0 (mac64[arm])\n",
      "Thread count: 10 physical cores, 10 logical processors, using up to 10 threads\n",
      "Optimize a model with 19 rows, 30 columns and 48 nonzeros\n",
      "Model fingerprint: 0x05721d1e\n",
      "Coefficient statistics:\n",
      "  Matrix range     [1e+00, 2e+01]\n",
      "  Objective range  [3e+00, 3e+02]\n",
      "  Bounds range     [0e+00, 0e+00]\n",
      "  RHS range        [2e+02, 2e+05]\n",
      "Presolve removed 9 rows and 6 columns\n",
      "Presolve time: 0.00s\n",
      "Presolved: 10 rows, 24 columns, 33 nonzeros\n",
      "\n",
      "Iteration    Objective       Primal Inf.    Dual Inf.      Time\n",
      "       0   -3.2000000e+32   3.000000e+30   3.200000e+02      0s\n",
      "      14   -1.0839000e+05   0.000000e+00   0.000000e+00      0s\n",
      "\n",
      "Solved in 14 iterations and 0.00 seconds (0.00 work units)\n",
      "Optimal objective -1.083900000e+05\n",
      "\n",
      "User-callback calls 73, time in user-callback 0.00 sec\n"
     ]
    }
   ],
   "source": [
    "optimize!(fm);"
   ]
  },
  {
   "cell_type": "code",
   "execution_count": 26,
   "id": "736245d2-ee9b-4715-a120-423355011188",
   "metadata": {},
   "outputs": [
    {
     "name": "stdout",
     "output_type": "stream",
     "text": [
      "sol_plant = [170.0, 80.0, 250.0]\n",
      "obj = -108390.0\n",
      "scenario: good\n",
      "   crops = [:wheat, :corn, :sugar_beet]\n",
      "   sol_bought = [0.0, 0.0, 0.0]\n"
     ]
    },
    {
     "name": "stdout",
     "output_type": "stream",
     "text": [
      "   sol_sold_bq = [310.0, 48.0, 6000.0]\n",
      "   sol_sold_aq = [0.0, 0.0, 0.0]\n",
      "scenario: mean\n",
      "   crops = [:wheat, :corn, :sugar_beet]\n",
      "   sol_bought = [0.0, 0.0, 0.0]\n",
      "   sol_sold_bq = [225.0, 0.0, 5000.0]\n",
      "   sol_sold_aq = [0.0, 0.0, 0.0]\n",
      "scenario: bad\n",
      "   crops = [:wheat, :corn, :sugar_beet]\n",
      "   sol_bought = [0.0, 48.0, 0.0]\n",
      "   sol_sold_bq = [140.0, 0.0, 4000.0]\n",
      "   sol_sold_aq = [0.0, 0.0, 0.0]\n"
     ]
    }
   ],
   "source": [
    "sol_plant = round.(value.(x),digits=2)          # Areas planted\n",
    "sol_bought = round.(value.(z),digits=2)         # Quantities bought\n",
    "sol_sold_bq = round.(value.(y),digits=2)        # Sold below quota\n",
    "sol_sold_aq = round.(value.(w),digits=2);       # Sold above quota\n",
    "obj = objective_value(fm)\n",
    "\n",
    "println(\"sol_plant = \", [sol_plant[c] for c in crops])\n",
    "println(\"obj = \", obj)\n",
    "for s in scenarios\n",
    "    println(\"scenario: \", s)\n",
    "    println(\"   crops = \", crops)\n",
    "    println(\"   sol_bought = \", [sol_bought[c,s] for c in crops])\n",
    "    println(\"   sol_sold_bq = \", [sol_sold_bq[c,s] for c in crops])\n",
    "    println(\"   sol_sold_aq = \",[sol_sold_aq[c,s] for c in crops])\n",
    "end    "
   ]
  },
  {
   "cell_type": "markdown",
   "id": "87c7243b-a8ca-4ea9-829a-37e9eda06dc7",
   "metadata": {},
   "source": [
    "## Value of stochastic solution\n",
    "\n",
    "To calculate the value of stochastic solution, we need to compare the \n",
    "1. performance between the solution we obtain considering only one scenario (`:mean` scenario in our case), \n",
    "$z^{\\text{EV}} = \\mathbb{E}_\\xi\\left[F(x(\\overline{\\xi}), \\xi)\\right],$ where $x(\\overline{\\xi}) = \\argmin_x F(x, \\overline{\\xi})$ and $\\overline{\\xi}$ is the `:mean` scenario;\n",
    "2. and that of the stochastic model.\n",
    "\n",
    "For (1), we can simply add a constraint to the stochastic model that forces the first-stage solution to be the same of model with the average scenario only."
   ]
  },
  {
   "cell_type": "code",
   "execution_count": 27,
   "id": "e18ecdec-2bc3-4e5b-ba3a-9aded5f7eb45",
   "metadata": {},
   "outputs": [
    {
     "name": "stdout",
     "output_type": "stream",
     "text": [
      "Gurobi Optimizer version 9.5.2 build v9.5.2rc0 (mac64[arm])\n",
      "Thread count: 10 physical cores, 10 logical processors, using up to 10 threads\n",
      "Optimize a model with 22 rows, 30 columns and 51 nonzeros\n",
      "Coefficient statistics:\n",
      "  Matrix range     [1e+00, 2e+01]\n",
      "  Objective range  [3e+00, 3e+02]\n",
      "  Bounds range     [0e+00, 0e+00]\n",
      "  RHS range        [8e+01, 2e+05]\n",
      "Iteration    Objective       Primal Inf.    Dual Inf.      Time\n",
      "       0   -1.0839000e+05   2.500000e+02   0.000000e+00      0s\n",
      "       1   -1.0724000e+05   0.000000e+00   0.000000e+00      0s\n",
      "\n",
      "Solved in 1 iterations and 0.00 seconds (0.00 work units)\n",
      "Optimal objective -1.072400000e+05\n",
      "\n",
      "User-callback calls 18, time in user-callback 0.00 sec\n",
      "EEV value = -107240.0\n",
      "VSS = -1150.0\n"
     ]
    }
   ],
   "source": [
    "# Forms the EEV problem\n",
    "@constraint(fm, [c in crops], x[c] == sol_plant_mean[c]);  \n",
    "optimize!(fm);\n",
    "\n",
    "println(\"EEV value = \", objective_value(fm))\n",
    "println(\"VSS = \", obj - objective_value(fm))"
   ]
  },
  {
   "cell_type": "markdown",
   "id": "2d2baa16-67a4-4d1b-a04c-53a543e990cc",
   "metadata": {},
   "source": [
    "## Expected Value of Perfect Information\n",
    "\n",
    "To calculate the EVPI, we need to calculate the fully anticipative solution, meaninn that we need to calculate\n",
    "\\begin{equation*}\n",
    "    z^{\\text{WS}} = \\mathbb{E}_\\xi\\left[ \\min_x \\{F(x,\\xi)\\} \\right] = \\mathbb{E}_\\xi\\left[F(x(\\xi), \\xi)\\right],\n",
    "\\end{equation*}\n",
    "\n",
    "This consists of calculating the optimal solution for each scenario, and then take the expected value.\n",
    "\n",
    "Firest, let us solve again our stochastic model to refresh it to its original form:"
   ]
  },
  {
   "cell_type": "code",
   "execution_count": 28,
   "id": "726eaa92-f17e-4c3e-a4c5-022494bac8f0",
   "metadata": {},
   "outputs": [
    {
     "name": "stdout",
     "output_type": "stream",
     "text": [
      "Set parameter Username\n",
      "Academic license - for non-commercial use only - expires 2023-10-03\n"
     ]
    }
   ],
   "source": [
    "# Restart the 2SSP model (C&P from above)\n",
    "fm = Model(Gurobi.Optimizer)\n",
    "set_silent(fm)\n",
    "@variable(fm, x[c ∈ crops] ≥ 0)                                              \n",
    "@constraint(fm, sum(x[c] for c ∈ crops) ≤ max_area)                           \n",
    "@expression(fm, first_cost, sum(plant_cost[c] * x[c] for c ∈ crops))             \n",
    "\n",
    "@variable(fm, y[c ∈ crops, s ∈ scenarios] ≥ 0)                                \n",
    "@variable(fm, w[c ∈ crops, s ∈ scenarios] ≥ 0)                                \n",
    "@variable(fm, z[c ∈ crops, s ∈ scenarios] ≥ 0)                               \n",
    "\n",
    "@constraint(fm, [c ∈ crops, s ∈ scenarios],                                   \n",
    "    x[c] * (mean_yield[c] * yield_sto[s]) + z[c,s] - y[c,s] - w[c,s] ≥ min_qt[c]\n",
    ")                                                                \n",
    "@constraint(fm, [c ∈ crops,s ∈ scenarios], y[c,s] ≤ quota_max[c])                                                   \n",
    "\n",
    "@expression(fm, second_cost[s ∈ scenarios],\n",
    "            sum(buy_price[c] * z[c,s] - sell_quota[c] * y[c,s] - sell_above[c] * w[c,s] \n",
    "                for c ∈ crops)\n",
    ")\n",
    "\n",
    "@objective(fm, Min, first_cost + sum(prob[s] * second_cost[s] for s ∈ scenarios));"
   ]
  },
  {
   "cell_type": "code",
   "execution_count": 29,
   "id": "cce63180-bd57-478b-b4e8-e4108c4b6512",
   "metadata": {},
   "outputs": [
    {
     "data": {
      "text/plain": [
       "-108390.0"
      ]
     },
     "metadata": {},
     "output_type": "display_data"
    }
   ],
   "source": [
    "optimize!(fm);\n",
    "obj = objective_value(fm)"
   ]
  },
  {
   "cell_type": "markdown",
   "id": "dd4458c5",
   "metadata": {},
   "source": [
    "Our trick to calculate the WS solution is to use an auxiliary probability vector `aux_prob` that we can \"mess with\". \n",
    "\n",
    "That means, we first zero the dictionary containing the probability and then, for each scenario, we set that scenario to have probability 1. We then accumulate the value in the `WS` auxiliary variable, multiplied by the original probability."
   ]
  },
  {
   "cell_type": "code",
   "execution_count": 30,
   "id": "40e9fb73-b02a-403e-8bb8-bd41916137d9",
   "metadata": {},
   "outputs": [
    {
     "name": "stdout",
     "output_type": "stream",
     "text": [
      "The WS value is: -115405.55555555555\n",
      "EVPI is: -7015.5555555555475\n"
     ]
    }
   ],
   "source": [
    "# Calculating WS\n",
    "aux_prob = copy(prob)\n",
    "WS = 0.0\n",
    "\n",
    "for (key, value) in aux_prob\n",
    "    aux_prob[key] = 0\n",
    "end\n",
    "\n",
    "for (key, value) in prob\n",
    "    aux_prob[key] = 1\n",
    "    @objective(fm, Min, first_cost + sum(aux_prob[s] * second_cost[s] for s in scenarios))\n",
    "    optimize!(fm)\n",
    "    WS += prob[key] * objective_value(fm)\n",
    "    aux_prob[key] = 0\n",
    "end\n",
    "\n",
    "println(\"The WS value is: \", WS)\n",
    "println(\"EVPI is: \", WS - obj)"
   ]
  }
 ],
 "metadata": {
  "kernelspec": {
   "display_name": "Julia 1.9.0",
   "language": "julia",
   "name": "julia-1.9"
  },
  "language_info": {
   "file_extension": ".jl",
   "mimetype": "application/julia",
   "name": "julia",
   "version": "1.9.0"
  }
 },
 "nbformat": 4,
 "nbformat_minor": 5
}
